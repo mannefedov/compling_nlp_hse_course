{
 "cells": [
  {
   "cell_type": "markdown",
   "id": "1dba7c0d",
   "metadata": {},
   "source": [
    "# Домашнее задание № 9"
   ]
  },
  {
   "cell_type": "markdown",
   "id": "6581cfb3",
   "metadata": {},
   "source": [
    "### Задание 1 (5 баллов).\n",
    "Это задание основано на этой тетрадке - https://github.com/mannefedov/compling_nlp_hse_course/blob/master/notebooks/transfer_learning_hg/Fine_tunining_pretrained_LMs.ipynb\n",
    "\n",
    "Дообучите 3 предобученных модели на тех же данных, что и в семинаре. Сравните качество и выберите лучшую. \n",
    "Модели должны отличаться друг от друга не только параметрами ru/en/multilingual, base/large, cased/uncased. Все три выбранные модели должны работать лучше, чем бейзлайн без дообучения (т.е. если модель не работает, попробуйте другую).\n"
   ]
  },
  {
   "cell_type": "code",
   "execution_count": null,
   "id": "09ab0a3a",
   "metadata": {},
   "outputs": [],
   "source": []
  },
  {
   "cell_type": "markdown",
   "id": "76f21d5e",
   "metadata": {},
   "source": [
    "### Задание 2 (5 баллов).\n",
    "\n",
    "Это задание основано на этой тетрадке - https://github.com/mannefedov/compling_nlp_hse_course/blob/master/notebooks/gpt/gpt.ipynb\n",
    "\n",
    "Попробуйте дообучать GPT на каком-то другом тексте (можете попробовать любые стихи или какие-то специфичные вещи вроде анекдотов или репа). \n",
    "Попробуйте разные методы и параметры генерации (beam search, температура, top_k и тп). Сохраните в тетрадке несколько хороших сгенерированных текстов. \n",
    "\n",
    "Можете использовать другую модель.\n"
   ]
  },
  {
   "cell_type": "code",
   "execution_count": null,
   "id": "2444e3fe",
   "metadata": {},
   "outputs": [],
   "source": []
  }
 ],
 "metadata": {
  "kernelspec": {
   "display_name": "Python 3 (ipykernel)",
   "language": "python",
   "name": "python3"
  },
  "language_info": {
   "codemirror_mode": {
    "name": "ipython",
    "version": 3
   },
   "file_extension": ".py",
   "mimetype": "text/x-python",
   "name": "python",
   "nbconvert_exporter": "python",
   "pygments_lexer": "ipython3",
   "version": "3.9.16"
  }
 },
 "nbformat": 4,
 "nbformat_minor": 5
}
