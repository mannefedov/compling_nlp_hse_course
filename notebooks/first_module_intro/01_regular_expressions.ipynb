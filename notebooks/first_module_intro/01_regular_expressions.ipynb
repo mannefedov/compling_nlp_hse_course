{
 "cells": [
  {
   "cell_type": "markdown",
   "id": "763dbc2d",
   "metadata": {},
   "source": [
    "### Регулярные выражения"
   ]
  },
  {
   "cell_type": "markdown",
   "id": "e053d5b4",
   "metadata": {},
   "source": [
    "Начать логичнее всего с регулярных выражений. Это один из самых полезных инструментов, который пригождается практически всегда и везде. А иногда регулярок хватает, чтобы решить всю задачу от начала и до конца.\n",
    "\n",
    "Регулярные выражения - это огромная и технически сложная штука, но для 99% случаев хватает знания самых базовых вещей. Давайте их разберем."
   ]
  },
  {
   "cell_type": "markdown",
   "id": "9e7b6c0f",
   "metadata": {},
   "source": [
    "В питоне есть встроенная библиотека для работы с регулярками - **re**"
   ]
  },
  {
   "cell_type": "code",
   "execution_count": 3,
   "id": "fd61238b",
   "metadata": {},
   "outputs": [],
   "source": [
    "import re"
   ]
  },
  {
   "cell_type": "markdown",
   "id": "691a3183",
   "metadata": {},
   "source": [
    "У **re** несколько основных функций:    \n",
    "  -  **re.findall** (возвращает все совпадения списком),   \n",
    "  -  **re.match** (сравнивает паттерн со строкой с начала),  \n",
    "  -  **re.search** (ищет во всей строке совпадения с паттерном),  \n",
    "  -  **re.sub** (заменяет в строке совпадения с паттерном на что-то еще),  \n",
    "  -  **re.split** (делит строку по совпадению с паттерном)"
   ]
  },
  {
   "cell_type": "markdown",
   "id": "0ef4b4cb",
   "metadata": {},
   "source": [
    "Паттерн - это само регулярное выражение. В нем на специальном языке описывается то, что мы хотим найти в строке. Понятнее будет на примерах."
   ]
  },
  {
   "cell_type": "code",
   "execution_count": 4,
   "id": "c35d90c7",
   "metadata": {},
   "outputs": [],
   "source": [
    "# возьмем любой текст\n",
    "text = \"ДАННОЕ СООБЩЕНИЕ (МАТЕРИАЛ) СОЗДАНО И (ИЛИ) РАСПРОСТРАНЕНО \"\\\n",
    "       \"ИНОСТРАННЫМ СРЕДСТВОМ МАССОВОЙ ИНФОРМАЦИИ, ВЫПОЛНЯЮЩИМ \"\\\n",
    "       \"ФУНКЦИИ ИНОСТРАННОГО АГЕНТА, И (ИЛИ) РОССИЙСКИМ ЮРИДИЧЕСКИМ ЛИЦОМ, \"\\\n",
    "       \"ВЫПОЛНЯЮЩИМ ФУНКЦИИ ИНОСТРАННОГО АГЕНТА\""
   ]
  },
  {
   "cell_type": "markdown",
   "id": "6f42c1dc",
   "metadata": {},
   "source": [
    "Самый простой паттерн - подстрока, которую мы хотим найти. Например, мы хотим найти все заглавные буквы Ф, тогда паттерном будет просто \"Ф\""
   ]
  },
  {
   "cell_type": "code",
   "execution_count": 15,
   "id": "b941e81d",
   "metadata": {
    "scrolled": true
   },
   "outputs": [
    {
     "name": "stdout",
     "output_type": "stream",
     "text": [
      "CPU times: user 22 µs, sys: 1 µs, total: 23 µs\n",
      "Wall time: 28.8 µs\n"
     ]
    },
    {
     "data": {
      "text/plain": [
       "['Ф', 'Ф', 'Ф']"
      ]
     },
     "execution_count": 15,
     "metadata": {},
     "output_type": "execute_result"
    }
   ],
   "source": [
    "# в строке 3 Ф\n",
    "# findall возвращает результат списком\n",
    "re.findall('Ф', text)"
   ]
  },
  {
   "cell_type": "markdown",
   "id": "ce62e37d",
   "metadata": {},
   "source": [
    "Регистр важен, поэтому \"ф\" не даст результатов"
   ]
  },
  {
   "cell_type": "code",
   "execution_count": 13,
   "id": "225fd6d2",
   "metadata": {},
   "outputs": [
    {
     "data": {
      "text/plain": [
       "[]"
      ]
     },
     "execution_count": 13,
     "metadata": {},
     "output_type": "execute_result"
    }
   ],
   "source": [
    "re.findall('ф', text)"
   ]
  },
  {
   "cell_type": "markdown",
   "id": "11521257",
   "metadata": {},
   "source": [
    "Попробуем заменить все буквы О на а"
   ]
  },
  {
   "cell_type": "code",
   "execution_count": 14,
   "id": "bb66d3d8",
   "metadata": {},
   "outputs": [
    {
     "data": {
      "text/plain": [
       "'ДАННаЕ СааБЩЕНИЕ (МАТЕРИАЛ) СаЗДАНа И (ИЛИ) РАСПРаСТРАНЕНа ИНаСТРАННЫМ СРЕДСТВаМ МАССаВаЙ ИНФаРМАЦИИ, ВЫПаЛНЯЮЩИМ ФУНКЦИИ ИНаСТРАННаГа АГЕНТА, И (ИЛИ) РаССИЙСКИМ ЮРИДИЧЕСКИМ ЛИЦаМ, ВЫПаЛНЯЮЩИМ ФУНКЦИИ ИНаСТРАННаГа АГЕНТА'"
      ]
     },
     "execution_count": 14,
     "metadata": {},
     "output_type": "execute_result"
    }
   ],
   "source": [
    "re.sub('О', 'а', text)"
   ]
  },
  {
   "cell_type": "markdown",
   "id": "29123811",
   "metadata": {},
   "source": [
    "Но такие операции с единичными символами можно сделать и без дополнительных библиотек, просто используя базовый функционал питона. И зачастую это будет даже быстрее."
   ]
  },
  {
   "cell_type": "code",
   "execution_count": 18,
   "id": "8723edcc",
   "metadata": {},
   "outputs": [
    {
     "data": {
      "text/plain": [
       "['Ф', 'Ф', 'Ф']"
      ]
     },
     "execution_count": 18,
     "metadata": {},
     "output_type": "execute_result"
    }
   ],
   "source": [
    "# пример поиска умоминаний\n",
    "[t for t in text if t == 'Ф']"
   ]
  },
  {
   "cell_type": "code",
   "execution_count": 19,
   "id": "829af0fa",
   "metadata": {},
   "outputs": [
    {
     "data": {
      "text/plain": [
       "'ДАННаЕ СааБЩЕНИЕ (МАТЕРИАЛ) СаЗДАНа И (ИЛИ) РАСПРаСТРАНЕНа ИНаСТРАННЫМ СРЕДСТВаМ МАССаВаЙ ИНФаРМАЦИИ, ВЫПаЛНЯЮЩИМ ФУНКЦИИ ИНаСТРАННаГа АГЕНТА, И (ИЛИ) РаССИЙСКИМ ЮРИДИЧЕСКИМ ЛИЦаМ, ВЫПаЛНЯЮЩИМ ФУНКЦИИ ИНаСТРАННаГа АГЕНТА'"
      ]
     },
     "execution_count": 19,
     "metadata": {},
     "output_type": "execute_result"
    }
   ],
   "source": [
    "# пример замены\n",
    "text.replace(\"О\", \"а\")"
   ]
  },
  {
   "cell_type": "markdown",
   "id": "0a4b65c1",
   "metadata": {},
   "source": [
    "### Перечисления"
   ]
  },
  {
   "cell_type": "markdown",
   "id": "d240967c",
   "metadata": {},
   "source": [
    "Но вот когда количество символов для матчинга увеличивается, код на голом питоне становится очень громоздким. Регулярные выражения позволяют задавать перечисления гораздно эффективнее. Базовые оператор перечисления это квадратные скобки `[]`"
   ]
  },
  {
   "cell_type": "code",
   "execution_count": 17,
   "id": "bd7d09f7",
   "metadata": {},
   "outputs": [
    {
     "data": {
      "text/plain": [
       "['Ф', 'Ц', 'Ф', 'Ц', 'Ц', 'Ф', 'Ц']"
      ]
     },
     "execution_count": 17,
     "metadata": {},
     "output_type": "execute_result"
    }
   ],
   "source": [
    "re.findall(\"[ФЦ]\", text) # матчим и большую и маленькую"
   ]
  },
  {
   "cell_type": "markdown",
   "id": "9d449d1e",
   "metadata": {},
   "source": [
    "Внутри квадратных скобок также действует особенный синтаксис, который заточен на перечисления. Например, можно использовать интервалы, чтобы не перечислять, например, все буквы нужного алфавита или все цифры\n",
    "\n",
    "Основные интервалы:\n",
    " - \\[а-яА-ЯЁё\\] - все русские буквы (заглавные и маленькие)\n",
    " - \\[a-zА-Z\\] - все английские буквы (заглавные и маленькие)\n",
    " - \\[0-9\\] все цифры"
   ]
  },
  {
   "cell_type": "code",
   "execution_count": 36,
   "id": "48f64335",
   "metadata": {
    "scrolled": true
   },
   "outputs": [
    {
     "data": {
      "text/plain": [
       "['Д',\n",
       " 'А',\n",
       " 'Н',\n",
       " 'Н',\n",
       " 'О',\n",
       " 'Е',\n",
       " 'С',\n",
       " 'О',\n",
       " 'О',\n",
       " 'Б',\n",
       " 'Щ',\n",
       " 'Е',\n",
       " 'Н',\n",
       " 'И',\n",
       " 'Е',\n",
       " 'М',\n",
       " 'А',\n",
       " 'Т',\n",
       " 'Е',\n",
       " 'Р',\n",
       " 'И',\n",
       " 'А',\n",
       " 'Л',\n",
       " 'С',\n",
       " 'О',\n",
       " 'З',\n",
       " 'Д',\n",
       " 'А',\n",
       " 'Н',\n",
       " 'О',\n",
       " 'И',\n",
       " 'И',\n",
       " 'Л',\n",
       " 'И',\n",
       " 'Р',\n",
       " 'А',\n",
       " 'С',\n",
       " 'П',\n",
       " 'Р',\n",
       " 'О',\n",
       " 'С',\n",
       " 'Т',\n",
       " 'Р',\n",
       " 'А',\n",
       " 'Н',\n",
       " 'Е',\n",
       " 'Н',\n",
       " 'О',\n",
       " 'И',\n",
       " 'Н',\n",
       " 'О',\n",
       " 'С',\n",
       " 'Т',\n",
       " 'Р',\n",
       " 'А',\n",
       " 'Н',\n",
       " 'Н',\n",
       " 'Ы',\n",
       " 'М',\n",
       " 'С',\n",
       " 'Р',\n",
       " 'Е',\n",
       " 'Д',\n",
       " 'С',\n",
       " 'Т',\n",
       " 'В',\n",
       " 'О',\n",
       " 'М',\n",
       " 'М',\n",
       " 'А',\n",
       " 'С',\n",
       " 'С',\n",
       " 'О',\n",
       " 'В',\n",
       " 'О',\n",
       " 'Й',\n",
       " 'И',\n",
       " 'Н',\n",
       " 'Ф',\n",
       " 'О',\n",
       " 'Р',\n",
       " 'М',\n",
       " 'А',\n",
       " 'Ц',\n",
       " 'И',\n",
       " 'И',\n",
       " 'В',\n",
       " 'Ы',\n",
       " 'П',\n",
       " 'О',\n",
       " 'Л',\n",
       " 'Н',\n",
       " 'Я',\n",
       " 'Ю',\n",
       " 'Щ',\n",
       " 'И',\n",
       " 'М',\n",
       " 'Ф',\n",
       " 'У',\n",
       " 'Н',\n",
       " 'К',\n",
       " 'Ц',\n",
       " 'И',\n",
       " 'И',\n",
       " 'И',\n",
       " 'Н',\n",
       " 'О',\n",
       " 'С',\n",
       " 'Т',\n",
       " 'Р',\n",
       " 'А',\n",
       " 'Н',\n",
       " 'Н',\n",
       " 'О',\n",
       " 'Г',\n",
       " 'О',\n",
       " 'А',\n",
       " 'Г',\n",
       " 'Е',\n",
       " 'Н',\n",
       " 'Т',\n",
       " 'А',\n",
       " 'И',\n",
       " 'И',\n",
       " 'Л',\n",
       " 'И',\n",
       " 'Р',\n",
       " 'О',\n",
       " 'С',\n",
       " 'С',\n",
       " 'И',\n",
       " 'Й',\n",
       " 'С',\n",
       " 'К',\n",
       " 'И',\n",
       " 'М',\n",
       " 'Ю',\n",
       " 'Р',\n",
       " 'И',\n",
       " 'Д',\n",
       " 'И',\n",
       " 'Ч',\n",
       " 'Е',\n",
       " 'С',\n",
       " 'К',\n",
       " 'И',\n",
       " 'М',\n",
       " 'Л',\n",
       " 'И',\n",
       " 'Ц',\n",
       " 'О',\n",
       " 'М',\n",
       " 'В',\n",
       " 'Ы',\n",
       " 'П',\n",
       " 'О',\n",
       " 'Л',\n",
       " 'Н',\n",
       " 'Я',\n",
       " 'Ю',\n",
       " 'Щ',\n",
       " 'И',\n",
       " 'М',\n",
       " 'Ф',\n",
       " 'У',\n",
       " 'Н',\n",
       " 'К',\n",
       " 'Ц',\n",
       " 'И',\n",
       " 'И',\n",
       " 'И',\n",
       " 'Н',\n",
       " 'О',\n",
       " 'С',\n",
       " 'Т',\n",
       " 'Р',\n",
       " 'А',\n",
       " 'Н',\n",
       " 'Н',\n",
       " 'О',\n",
       " 'Г',\n",
       " 'О',\n",
       " 'А',\n",
       " 'Г',\n",
       " 'Е',\n",
       " 'Н',\n",
       " 'Т',\n",
       " 'А']"
      ]
     },
     "execution_count": 36,
     "metadata": {},
     "output_type": "execute_result"
    }
   ],
   "source": [
    "# такой интервал сматчит почти все кроме пробелов и скобок\n",
    "re.findall('[А-Я]', text)"
   ]
  },
  {
   "cell_type": "code",
   "execution_count": 38,
   "id": "69da7dbf",
   "metadata": {},
   "outputs": [
    {
     "data": {
      "text/plain": [
       "[]"
      ]
     },
     "execution_count": 38,
     "metadata": {},
     "output_type": "execute_result"
    }
   ],
   "source": [
    "# а такой не сматчит ничего потому что все написано капсом\n",
    "re.findall('[а-я]', text)"
   ]
  },
  {
   "cell_type": "markdown",
   "id": "9ef47657",
   "metadata": {},
   "source": [
    "Почему нужно задавать интервалы для заглавных букв и прописных отдельно? Почему нельзя просто написать `[А-я]` ? На самом деле можно и для русского это даже будет работать точно также как и `[А-Яа-я]`"
   ]
  },
  {
   "cell_type": "code",
   "execution_count": 42,
   "id": "69d993ab",
   "metadata": {
    "scrolled": true
   },
   "outputs": [
    {
     "data": {
      "text/plain": [
       "True"
      ]
     },
     "execution_count": 42,
     "metadata": {},
     "output_type": "execute_result"
    }
   ],
   "source": [
    "re.sub(\"[А-Яа-я]\", '', text) == re.sub(\"[А-я]\", '', text)"
   ]
  },
  {
   "cell_type": "markdown",
   "id": "6c2b5215",
   "metadata": {},
   "source": [
    "Но важно понимать почему! \n",
    "\n",
    "Такие интервалы считаются по таблице юникода. Эта таблица - это стандартизированный маппинг между кодировкой и конкретным символом. Про него еще можно думать как про список в питоне - это просто линейная последовательность символов, где индекс это кодировка. Соответственно, такие интервалы работают просто как слайс этого списка - `[A-Z]` означает все символы с индексами от индекса символа A и до индекса символа Z. Заглавные и прописные символы русского алфавита идут сразу друг за другом, поэтому интервал выше работает. А вот между заглавными и прописными символами латиницы есть другие символы, поэтому интервал `[A-z]` будет матчить символы, которые вы не будете ожидать"
   ]
  },
  {
   "cell_type": "code",
   "execution_count": 45,
   "id": "03209bb8",
   "metadata": {},
   "outputs": [
    {
     "data": {
      "text/plain": [
       "'   ,   ! []'"
      ]
     },
     "execution_count": 45,
     "metadata": {},
     "output_type": "execute_result"
    }
   ],
   "source": [
    "# эти символы идут между Z и a - \"[\\]^_`\"\n",
    "re.sub(\"[A-Za-z]\", '', \"Some text in English, just to demonstrate! [quote]\") "
   ]
  },
  {
   "cell_type": "code",
   "execution_count": 47,
   "id": "41c843f7",
   "metadata": {},
   "outputs": [
    {
     "data": {
      "text/plain": [
       "'   ,   ! '"
      ]
     },
     "execution_count": 47,
     "metadata": {},
     "output_type": "execute_result"
    }
   ],
   "source": [
    "# поэтому вот такой интервал сматчит и квадратные скобки!\n",
    "re.sub(\"[A-z]\", '', \"Some text in English, just to demonstrate! [quote]\") "
   ]
  },
  {
   "cell_type": "code",
   "execution_count": 48,
   "id": "61e59c53",
   "metadata": {
    "scrolled": true
   },
   "outputs": [
    {
     "ename": "error",
     "evalue": "bad character range z-A at position 1",
     "output_type": "error",
     "traceback": [
      "\u001b[0;31m---------------------------------------------------------------------------\u001b[0m",
      "\u001b[0;31merror\u001b[0m                                     Traceback (most recent call last)",
      "Cell \u001b[0;32mIn [48], line 2\u001b[0m\n\u001b[1;32m      1\u001b[0m \u001b[38;5;66;03m# поэтому вот такой интервал сматчит и квадратные скобки!\u001b[39;00m\n\u001b[0;32m----> 2\u001b[0m \u001b[43mre\u001b[49m\u001b[38;5;241;43m.\u001b[39;49m\u001b[43msub\u001b[49m\u001b[43m(\u001b[49m\u001b[38;5;124;43m\"\u001b[39;49m\u001b[38;5;124;43m[z-A]\u001b[39;49m\u001b[38;5;124;43m\"\u001b[39;49m\u001b[43m,\u001b[49m\u001b[43m \u001b[49m\u001b[38;5;124;43m'\u001b[39;49m\u001b[38;5;124;43m'\u001b[39;49m\u001b[43m,\u001b[49m\u001b[43m \u001b[49m\u001b[38;5;124;43m\"\u001b[39;49m\u001b[38;5;124;43mSome text in English, just to demonstrate! [quote]\u001b[39;49m\u001b[38;5;124;43m\"\u001b[39;49m\u001b[43m)\u001b[49m \n",
      "File \u001b[0;32m~/miniforge3/envs/tf2/lib/python3.9/re.py:210\u001b[0m, in \u001b[0;36msub\u001b[0;34m(pattern, repl, string, count, flags)\u001b[0m\n\u001b[1;32m    203\u001b[0m \u001b[38;5;28;01mdef\u001b[39;00m \u001b[38;5;21msub\u001b[39m(pattern, repl, string, count\u001b[38;5;241m=\u001b[39m\u001b[38;5;241m0\u001b[39m, flags\u001b[38;5;241m=\u001b[39m\u001b[38;5;241m0\u001b[39m):\n\u001b[1;32m    204\u001b[0m     \u001b[38;5;124;03m\"\"\"Return the string obtained by replacing the leftmost\u001b[39;00m\n\u001b[1;32m    205\u001b[0m \u001b[38;5;124;03m    non-overlapping occurrences of the pattern in string by the\u001b[39;00m\n\u001b[1;32m    206\u001b[0m \u001b[38;5;124;03m    replacement repl.  repl can be either a string or a callable;\u001b[39;00m\n\u001b[1;32m    207\u001b[0m \u001b[38;5;124;03m    if a string, backslash escapes in it are processed.  If it is\u001b[39;00m\n\u001b[1;32m    208\u001b[0m \u001b[38;5;124;03m    a callable, it's passed the Match object and must return\u001b[39;00m\n\u001b[1;32m    209\u001b[0m \u001b[38;5;124;03m    a replacement string to be used.\"\"\"\u001b[39;00m\n\u001b[0;32m--> 210\u001b[0m     \u001b[38;5;28;01mreturn\u001b[39;00m \u001b[43m_compile\u001b[49m\u001b[43m(\u001b[49m\u001b[43mpattern\u001b[49m\u001b[43m,\u001b[49m\u001b[43m \u001b[49m\u001b[43mflags\u001b[49m\u001b[43m)\u001b[49m\u001b[38;5;241m.\u001b[39msub(repl, string, count)\n",
      "File \u001b[0;32m~/miniforge3/envs/tf2/lib/python3.9/re.py:304\u001b[0m, in \u001b[0;36m_compile\u001b[0;34m(pattern, flags)\u001b[0m\n\u001b[1;32m    302\u001b[0m \u001b[38;5;28;01mif\u001b[39;00m \u001b[38;5;129;01mnot\u001b[39;00m sre_compile\u001b[38;5;241m.\u001b[39misstring(pattern):\n\u001b[1;32m    303\u001b[0m     \u001b[38;5;28;01mraise\u001b[39;00m \u001b[38;5;167;01mTypeError\u001b[39;00m(\u001b[38;5;124m\"\u001b[39m\u001b[38;5;124mfirst argument must be string or compiled pattern\u001b[39m\u001b[38;5;124m\"\u001b[39m)\n\u001b[0;32m--> 304\u001b[0m p \u001b[38;5;241m=\u001b[39m \u001b[43msre_compile\u001b[49m\u001b[38;5;241;43m.\u001b[39;49m\u001b[43mcompile\u001b[49m\u001b[43m(\u001b[49m\u001b[43mpattern\u001b[49m\u001b[43m,\u001b[49m\u001b[43m \u001b[49m\u001b[43mflags\u001b[49m\u001b[43m)\u001b[49m\n\u001b[1;32m    305\u001b[0m \u001b[38;5;28;01mif\u001b[39;00m \u001b[38;5;129;01mnot\u001b[39;00m (flags \u001b[38;5;241m&\u001b[39m DEBUG):\n\u001b[1;32m    306\u001b[0m     \u001b[38;5;28;01mif\u001b[39;00m \u001b[38;5;28mlen\u001b[39m(_cache) \u001b[38;5;241m>\u001b[39m\u001b[38;5;241m=\u001b[39m _MAXCACHE:\n\u001b[1;32m    307\u001b[0m         \u001b[38;5;66;03m# Drop the oldest item\u001b[39;00m\n",
      "File \u001b[0;32m~/miniforge3/envs/tf2/lib/python3.9/sre_compile.py:788\u001b[0m, in \u001b[0;36mcompile\u001b[0;34m(p, flags)\u001b[0m\n\u001b[1;32m    786\u001b[0m \u001b[38;5;28;01mif\u001b[39;00m isstring(p):\n\u001b[1;32m    787\u001b[0m     pattern \u001b[38;5;241m=\u001b[39m p\n\u001b[0;32m--> 788\u001b[0m     p \u001b[38;5;241m=\u001b[39m \u001b[43msre_parse\u001b[49m\u001b[38;5;241;43m.\u001b[39;49m\u001b[43mparse\u001b[49m\u001b[43m(\u001b[49m\u001b[43mp\u001b[49m\u001b[43m,\u001b[49m\u001b[43m \u001b[49m\u001b[43mflags\u001b[49m\u001b[43m)\u001b[49m\n\u001b[1;32m    789\u001b[0m \u001b[38;5;28;01melse\u001b[39;00m:\n\u001b[1;32m    790\u001b[0m     pattern \u001b[38;5;241m=\u001b[39m \u001b[38;5;28;01mNone\u001b[39;00m\n",
      "File \u001b[0;32m~/miniforge3/envs/tf2/lib/python3.9/sre_parse.py:955\u001b[0m, in \u001b[0;36mparse\u001b[0;34m(str, flags, state)\u001b[0m\n\u001b[1;32m    952\u001b[0m state\u001b[38;5;241m.\u001b[39mstr \u001b[38;5;241m=\u001b[39m \u001b[38;5;28mstr\u001b[39m\n\u001b[1;32m    954\u001b[0m \u001b[38;5;28;01mtry\u001b[39;00m:\n\u001b[0;32m--> 955\u001b[0m     p \u001b[38;5;241m=\u001b[39m \u001b[43m_parse_sub\u001b[49m\u001b[43m(\u001b[49m\u001b[43msource\u001b[49m\u001b[43m,\u001b[49m\u001b[43m \u001b[49m\u001b[43mstate\u001b[49m\u001b[43m,\u001b[49m\u001b[43m \u001b[49m\u001b[43mflags\u001b[49m\u001b[43m \u001b[49m\u001b[38;5;241;43m&\u001b[39;49m\u001b[43m \u001b[49m\u001b[43mSRE_FLAG_VERBOSE\u001b[49m\u001b[43m,\u001b[49m\u001b[43m \u001b[49m\u001b[38;5;241;43m0\u001b[39;49m\u001b[43m)\u001b[49m\n\u001b[1;32m    956\u001b[0m \u001b[38;5;28;01mexcept\u001b[39;00m Verbose:\n\u001b[1;32m    957\u001b[0m     \u001b[38;5;66;03m# the VERBOSE flag was switched on inside the pattern.  to be\u001b[39;00m\n\u001b[1;32m    958\u001b[0m     \u001b[38;5;66;03m# on the safe side, we'll parse the whole thing again...\u001b[39;00m\n\u001b[1;32m    959\u001b[0m     state \u001b[38;5;241m=\u001b[39m State()\n",
      "File \u001b[0;32m~/miniforge3/envs/tf2/lib/python3.9/sre_parse.py:444\u001b[0m, in \u001b[0;36m_parse_sub\u001b[0;34m(source, state, verbose, nested)\u001b[0m\n\u001b[1;32m    442\u001b[0m start \u001b[38;5;241m=\u001b[39m source\u001b[38;5;241m.\u001b[39mtell()\n\u001b[1;32m    443\u001b[0m \u001b[38;5;28;01mwhile\u001b[39;00m \u001b[38;5;28;01mTrue\u001b[39;00m:\n\u001b[0;32m--> 444\u001b[0m     itemsappend(\u001b[43m_parse\u001b[49m\u001b[43m(\u001b[49m\u001b[43msource\u001b[49m\u001b[43m,\u001b[49m\u001b[43m \u001b[49m\u001b[43mstate\u001b[49m\u001b[43m,\u001b[49m\u001b[43m \u001b[49m\u001b[43mverbose\u001b[49m\u001b[43m,\u001b[49m\u001b[43m \u001b[49m\u001b[43mnested\u001b[49m\u001b[43m \u001b[49m\u001b[38;5;241;43m+\u001b[39;49m\u001b[43m \u001b[49m\u001b[38;5;241;43m1\u001b[39;49m\u001b[43m,\u001b[49m\n\u001b[1;32m    445\u001b[0m \u001b[43m                       \u001b[49m\u001b[38;5;129;43;01mnot\u001b[39;49;00m\u001b[43m \u001b[49m\u001b[43mnested\u001b[49m\u001b[43m \u001b[49m\u001b[38;5;129;43;01mand\u001b[39;49;00m\u001b[43m \u001b[49m\u001b[38;5;129;43;01mnot\u001b[39;49;00m\u001b[43m \u001b[49m\u001b[43mitems\u001b[49m\u001b[43m)\u001b[49m)\n\u001b[1;32m    446\u001b[0m     \u001b[38;5;28;01mif\u001b[39;00m \u001b[38;5;129;01mnot\u001b[39;00m sourcematch(\u001b[38;5;124m\"\u001b[39m\u001b[38;5;124m|\u001b[39m\u001b[38;5;124m\"\u001b[39m):\n\u001b[1;32m    447\u001b[0m         \u001b[38;5;28;01mbreak\u001b[39;00m\n",
      "File \u001b[0;32m~/miniforge3/envs/tf2/lib/python3.9/sre_parse.py:599\u001b[0m, in \u001b[0;36m_parse\u001b[0;34m(source, state, verbose, nested, first)\u001b[0m\n\u001b[1;32m    597\u001b[0m     \u001b[38;5;28;01mif\u001b[39;00m hi \u001b[38;5;241m<\u001b[39m lo:\n\u001b[1;32m    598\u001b[0m         msg \u001b[38;5;241m=\u001b[39m \u001b[38;5;124m\"\u001b[39m\u001b[38;5;124mbad character range \u001b[39m\u001b[38;5;132;01m%s\u001b[39;00m\u001b[38;5;124m-\u001b[39m\u001b[38;5;132;01m%s\u001b[39;00m\u001b[38;5;124m\"\u001b[39m \u001b[38;5;241m%\u001b[39m (this, that)\n\u001b[0;32m--> 599\u001b[0m         \u001b[38;5;28;01mraise\u001b[39;00m source\u001b[38;5;241m.\u001b[39merror(msg, \u001b[38;5;28mlen\u001b[39m(this) \u001b[38;5;241m+\u001b[39m \u001b[38;5;241m1\u001b[39m \u001b[38;5;241m+\u001b[39m \u001b[38;5;28mlen\u001b[39m(that))\n\u001b[1;32m    600\u001b[0m     setappend((RANGE, (lo, hi)))\n\u001b[1;32m    601\u001b[0m \u001b[38;5;28;01melse\u001b[39;00m:\n",
      "\u001b[0;31merror\u001b[0m: bad character range z-A at position 1"
     ]
    }
   ],
   "source": [
    "# а вот такое не сработает вообще, потому что z идет после A\n",
    "re.sub(\"[z-A]\", '', \"Some text in English, just to demonstrate! [quote]\") "
   ]
  },
  {
   "cell_type": "markdown",
   "id": "ce0e7b80",
   "metadata": {},
   "source": [
    "По этой же причине `Ёё` нужно добавлять отдельно. Большая Ё стоит до кириллицы, а ё немного позже. \n",
    "\n",
    "Посмотреть таблицу юникода можно, например, тут - https://unicode-table.com/ru/ Так вы сможете понять, какие интервалы сработают, а какие нет."
   ]
  },
  {
   "cell_type": "markdown",
   "id": "8af0346d",
   "metadata": {},
   "source": [
    "Одна из неприятных возможных ошибок, которые можно допустить с интервалами это - `[A-я]` (од латинской A до киррилической я). Это очень большой интервал, который будет включать очень много лишнего. И при этом сложно увидеть, что A неправильная.\n",
    "\n",
    "\n",
    " "
   ]
  },
  {
   "cell_type": "code",
   "execution_count": null,
   "id": "3f0a367b",
   "metadata": {},
   "outputs": [],
   "source": []
  },
  {
   "cell_type": "markdown",
   "id": "9a27addb",
   "metadata": {},
   "source": [
    "Кроме интервалов в `[]` работает отризание через символ ^. Иногда проще сказать, какие символы не нужно матчить:"
   ]
  },
  {
   "cell_type": "code",
   "execution_count": 49,
   "id": "1201d277",
   "metadata": {
    "scrolled": true
   },
   "outputs": [
    {
     "data": {
      "text/plain": [
       "['А',\n",
       " ' ',\n",
       " 'Б',\n",
       " ' ',\n",
       " '(',\n",
       " 'А',\n",
       " 'А',\n",
       " ')',\n",
       " ' ',\n",
       " 'А',\n",
       " ' ',\n",
       " ' ',\n",
       " '(',\n",
       " ')',\n",
       " ' ',\n",
       " 'А',\n",
       " 'А',\n",
       " ' ',\n",
       " 'А',\n",
       " ' ',\n",
       " 'В',\n",
       " ' ',\n",
       " 'А',\n",
       " 'В',\n",
       " ' ',\n",
       " 'А',\n",
       " ',',\n",
       " ' ',\n",
       " 'В',\n",
       " ' ',\n",
       " ' ',\n",
       " 'А',\n",
       " 'Г',\n",
       " ' ',\n",
       " 'А',\n",
       " 'Г',\n",
       " 'А',\n",
       " ',',\n",
       " ' ',\n",
       " ' ',\n",
       " '(',\n",
       " ')',\n",
       " ' ',\n",
       " ' ',\n",
       " ' ',\n",
       " ',',\n",
       " ' ',\n",
       " 'В',\n",
       " ' ',\n",
       " ' ',\n",
       " 'А',\n",
       " 'Г',\n",
       " ' ',\n",
       " 'А',\n",
       " 'Г',\n",
       " 'А']"
      ]
     },
     "execution_count": 49,
     "metadata": {},
     "output_type": "execute_result"
    }
   ],
   "source": [
    "# матчим все кроме букв от Д до Я\n",
    "re.findall('[^Д-Я]', text)"
   ]
  },
  {
   "cell_type": "markdown",
   "id": "e9edbefd",
   "metadata": {},
   "source": [
    "Есть еще абстрактные операторы, которыми можно указать еще больше вариантов. \n",
    "\n",
    "Основные такие операторы:  \n",
    " - `\\w` `\\W` - любая буква или цифра и любая не буква и не цифра\n",
    " - `\\d` `\\D` - любая цифра и любая не цифра\n",
    " -  `.` - любой символ кроме новой строки\n",
    " - `\\s` - пробельный символ (пробел, таб, новая строка)"
   ]
  },
  {
   "cell_type": "code",
   "execution_count": 29,
   "id": "430026a7",
   "metadata": {
    "scrolled": true
   },
   "outputs": [
    {
     "data": {
      "text/plain": [
       "'  ()   ()     ,    ,  ()   ,    '"
      ]
     },
     "execution_count": 29,
     "metadata": {},
     "output_type": "execute_result"
    }
   ],
   "source": [
    "# останутся только пробелы и знаки препинания\n",
    "re.sub('\\w', '', text)"
   ]
  },
  {
   "cell_type": "code",
   "execution_count": 30,
   "id": "72e6227c",
   "metadata": {},
   "outputs": [
    {
     "data": {
      "text/plain": [
       "'ДАННОЕСООБЩЕНИЕМАТЕРИАЛСОЗДАНОИИЛИРАСПРОСТРАНЕНОИНОСТРАННЫМСРЕДСТВОММАССОВОЙИНФОРМАЦИИВЫПОЛНЯЮЩИМФУНКЦИИИНОСТРАННОГОАГЕНТАИИЛИРОССИЙСКИМЮРИДИЧЕСКИМЛИЦОМВЫПОЛНЯЮЩИМФУНКЦИИИНОСТРАННОГОАГЕНТА'"
      ]
     },
     "execution_count": 30,
     "metadata": {},
     "output_type": "execute_result"
    }
   ],
   "source": [
    "# останутся только буквы\n",
    "re.sub('\\W', '', text)"
   ]
  },
  {
   "cell_type": "code",
   "execution_count": 32,
   "id": "0cbb5e94",
   "metadata": {},
   "outputs": [
    {
     "data": {
      "text/plain": [
       "[]"
      ]
     },
     "execution_count": 32,
     "metadata": {},
     "output_type": "execute_result"
    }
   ],
   "source": [
    "# \\d - цифр нет в строке, поэтому пусто\n",
    "re.findall('\\d', text)"
   ]
  },
  {
   "cell_type": "code",
   "execution_count": 34,
   "id": "078df6fa",
   "metadata": {
    "scrolled": true
   },
   "outputs": [
    {
     "data": {
      "text/plain": [
       "'____________________________________________________________________________________________________________________________________________________________________________________________________________________________'"
      ]
     },
     "execution_count": 34,
     "metadata": {},
     "output_type": "execute_result"
    }
   ],
   "source": [
    "# \\D - матчит любую не цифру, т.е. всю строку\n",
    "re.sub('\\D', '_', text)"
   ]
  },
  {
   "cell_type": "code",
   "execution_count": 38,
   "id": "ec1645d0",
   "metadata": {},
   "outputs": [
    {
     "data": {
      "text/plain": [
       "['ДАННОЕ',\n",
       " 'СООБЩЕНИЕ',\n",
       " '(МАТЕРИАЛ)',\n",
       " 'СОЗДАНО',\n",
       " 'И',\n",
       " '(ИЛИ)',\n",
       " 'РАСПРОСТРАНЕНО',\n",
       " 'ИНОСТРАННЫМ',\n",
       " 'СРЕДСТВОМ',\n",
       " 'МАССОВОЙ',\n",
       " 'ИНФОРМАЦИИ,',\n",
       " 'ВЫПОЛНЯЮЩИМ',\n",
       " 'ФУНКЦИИ',\n",
       " 'ИНОСТРАННОГО',\n",
       " 'АГЕНТА,',\n",
       " 'И',\n",
       " '(ИЛИ)',\n",
       " 'РОССИЙСКИМ',\n",
       " 'ЮРИДИЧЕСКИМ',\n",
       " 'ЛИЦОМ,',\n",
       " 'ВЫПОЛНЯЮЩИМ',\n",
       " 'ФУНКЦИИ',\n",
       " 'ИНОСТРАННОГО',\n",
       " 'АГЕНТА']"
      ]
     },
     "execution_count": 38,
     "metadata": {},
     "output_type": "execute_result"
    }
   ],
   "source": [
    "# \\s - а так можно написать простой токенайзер\n",
    "re.split(\"\\s\",  text)"
   ]
  },
  {
   "cell_type": "code",
   "execution_count": 46,
   "id": "888b8f71",
   "metadata": {},
   "outputs": [
    {
     "data": {
      "text/plain": [
       "'\\n'"
      ]
     },
     "execution_count": 46,
     "metadata": {},
     "output_type": "execute_result"
    }
   ],
   "source": [
    "# добавим к тексту новую строку, видно что все кроме нее сматчилось\n",
    "re.sub(\".\", '', text + '\\n')"
   ]
  },
  {
   "cell_type": "markdown",
   "id": "b0a565cf",
   "metadata": {},
   "source": [
    "Точка в квадратных скобках перестает быть абстрактным символом!"
   ]
  },
  {
   "cell_type": "code",
   "execution_count": 53,
   "id": "2df439ba",
   "metadata": {},
   "outputs": [
    {
     "data": {
      "text/plain": [
       "[]"
      ]
     },
     "execution_count": 53,
     "metadata": {},
     "output_type": "execute_result"
    }
   ],
   "source": [
    "# добавим к тексту новую строку, видно что все кроме нее сматчилось\n",
    "re.findall(\"[.]\", text + '\\n')"
   ]
  },
  {
   "cell_type": "markdown",
   "id": "04412251",
   "metadata": {},
   "source": [
    "### Последовательности"
   ]
  },
  {
   "cell_type": "markdown",
   "id": "7c111811",
   "metadata": {},
   "source": [
    "Чтобы повторить один и тот же символ можно поставить после него + (1 и больше повторений) или \\* (0 и больше повторений)."
   ]
  },
  {
   "cell_type": "code",
   "execution_count": 47,
   "id": "a710e50d",
   "metadata": {},
   "outputs": [
    {
     "data": {
      "text/plain": [
       "['ДАННОЕ',\n",
       " 'СООБЩЕНИЕ',\n",
       " 'МАТЕРИАЛ',\n",
       " 'СОЗДАНО',\n",
       " 'И',\n",
       " 'ИЛИ',\n",
       " 'РАСПРОСТРАНЕНО',\n",
       " 'ИНОСТРАННЫМ',\n",
       " 'СРЕДСТВОМ',\n",
       " 'МАССОВОЙ',\n",
       " 'ИНФОРМАЦИИ',\n",
       " 'ВЫПОЛНЯЮЩИМ',\n",
       " 'ФУНКЦИИ',\n",
       " 'ИНОСТРАННОГО',\n",
       " 'АГЕНТА',\n",
       " 'И',\n",
       " 'ИЛИ',\n",
       " 'РОССИЙСКИМ',\n",
       " 'ЮРИДИЧЕСКИМ',\n",
       " 'ЛИЦОМ',\n",
       " 'ВЫПОЛНЯЮЩИМ',\n",
       " 'ФУНКЦИИ',\n",
       " 'ИНОСТРАННОГО',\n",
       " 'АГЕНТА']"
      ]
     },
     "execution_count": 47,
     "metadata": {},
     "output_type": "execute_result"
    }
   ],
   "source": [
    "# все последовательности букв и цифр\n",
    "re.findall('\\w+', text) "
   ]
  },
  {
   "cell_type": "code",
   "execution_count": 48,
   "id": "82d14eb8",
   "metadata": {},
   "outputs": [
    {
     "data": {
      "text/plain": [
       "['ДАННОЕ',\n",
       " '',\n",
       " 'СООБЩЕНИЕ',\n",
       " '',\n",
       " '',\n",
       " 'МАТЕРИАЛ',\n",
       " '',\n",
       " '',\n",
       " 'СОЗДАНО',\n",
       " '',\n",
       " 'И',\n",
       " '',\n",
       " '',\n",
       " 'ИЛИ',\n",
       " '',\n",
       " '',\n",
       " 'РАСПРОСТРАНЕНО',\n",
       " '',\n",
       " 'ИНОСТРАННЫМ',\n",
       " '',\n",
       " 'СРЕДСТВОМ',\n",
       " '',\n",
       " 'МАССОВОЙ',\n",
       " '',\n",
       " 'ИНФОРМАЦИИ',\n",
       " '',\n",
       " '',\n",
       " 'ВЫПОЛНЯЮЩИМ',\n",
       " '',\n",
       " 'ФУНКЦИИ',\n",
       " '',\n",
       " 'ИНОСТРАННОГО',\n",
       " '',\n",
       " 'АГЕНТА',\n",
       " '',\n",
       " '',\n",
       " 'И',\n",
       " '',\n",
       " '',\n",
       " 'ИЛИ',\n",
       " '',\n",
       " '',\n",
       " 'РОССИЙСКИМ',\n",
       " '',\n",
       " 'ЮРИДИЧЕСКИМ',\n",
       " '',\n",
       " 'ЛИЦОМ',\n",
       " '',\n",
       " '',\n",
       " 'ВЫПОЛНЯЮЩИМ',\n",
       " '',\n",
       " 'ФУНКЦИИ',\n",
       " '',\n",
       " 'ИНОСТРАННОГО',\n",
       " '',\n",
       " 'АГЕНТА',\n",
       " '']"
      ]
     },
     "execution_count": 48,
     "metadata": {},
     "output_type": "execute_result"
    }
   ],
   "source": [
    "# все последовательности букв и цифр \n",
    "# (и пустое место т.к. \\w не обязательный с * и пустая строка удовлетворяет такому паттерну)\n",
    "re.findall('\\w*', text) "
   ]
  },
  {
   "cell_type": "markdown",
   "id": "41a2d0f1",
   "metadata": {},
   "source": [
    "Если символ не обязательный, то можно поставить знак вопроса."
   ]
  },
  {
   "cell_type": "code",
   "execution_count": 49,
   "id": "6076308c",
   "metadata": {},
   "outputs": [
    {
     "data": {
      "text/plain": [
       "['ИНФОРМАЦИИ,', 'АГЕНТА,', 'ЛИЦОМ,']"
      ]
     },
     "execution_count": 49,
     "metadata": {},
     "output_type": "execute_result"
    }
   ],
   "source": [
    "# запятая в конце обязательна\n",
    "re.findall('\\w+,', text)"
   ]
  },
  {
   "cell_type": "code",
   "execution_count": 50,
   "id": "216c797a",
   "metadata": {},
   "outputs": [
    {
     "data": {
      "text/plain": [
       "['ДАННОЕ',\n",
       " 'СООБЩЕНИЕ',\n",
       " 'МАТЕРИАЛ',\n",
       " 'СОЗДАНО',\n",
       " 'И',\n",
       " 'ИЛИ',\n",
       " 'РАСПРОСТРАНЕНО',\n",
       " 'ИНОСТРАННЫМ',\n",
       " 'СРЕДСТВОМ',\n",
       " 'МАССОВОЙ',\n",
       " 'ИНФОРМАЦИИ,',\n",
       " 'ВЫПОЛНЯЮЩИМ',\n",
       " 'ФУНКЦИИ',\n",
       " 'ИНОСТРАННОГО',\n",
       " 'АГЕНТА,',\n",
       " 'И',\n",
       " 'ИЛИ',\n",
       " 'РОССИЙСКИМ',\n",
       " 'ЮРИДИЧЕСКИМ',\n",
       " 'ЛИЦОМ,',\n",
       " 'ВЫПОЛНЯЮЩИМ',\n",
       " 'ФУНКЦИИ',\n",
       " 'ИНОСТРАННОГО',\n",
       " 'АГЕНТА']"
      ]
     },
     "execution_count": 50,
     "metadata": {},
     "output_type": "execute_result"
    }
   ],
   "source": [
    "# необязательна\n",
    "re.findall('\\w+,?', text)"
   ]
  },
  {
   "cell_type": "markdown",
   "id": "50569de9",
   "metadata": {},
   "source": [
    "Вопрос можно совместить с +, чтобы сматчить минимально возможный паттерн."
   ]
  },
  {
   "cell_type": "code",
   "execution_count": 58,
   "id": "05adac6f",
   "metadata": {},
   "outputs": [
    {
     "data": {
      "text/plain": [
       "[' СООБЩЕНИЕ (МАТЕРИАЛ) СОЗДАНО И (ИЛИ) РАСПРОСТРАНЕНО ИНОСТРАННЫМ СРЕДСТВОМ МАССОВОЙ ИНФОРМАЦИИ, ВЫПОЛНЯЮЩИМ ФУНКЦИИ ИНОСТРАННОГО АГЕНТА, И (ИЛИ) РОССИЙСКИМ ЮРИДИЧЕСКИМ ЛИЦОМ, ВЫПОЛНЯЮЩИМ ФУНКЦИИ ИНОСТРАННОГО ']"
      ]
     },
     "execution_count": 58,
     "metadata": {},
     "output_type": "execute_result"
    }
   ],
   "source": [
    "re.findall('\\s.+\\s', text) # матчит все от первого до последнего пробела"
   ]
  },
  {
   "cell_type": "code",
   "execution_count": 59,
   "id": "62f06643",
   "metadata": {},
   "outputs": [
    {
     "data": {
      "text/plain": [
       "[' СООБЩЕНИЕ ',\n",
       " ' СОЗДАНО ',\n",
       " ' (ИЛИ) ',\n",
       " ' ИНОСТРАННЫМ ',\n",
       " ' МАССОВОЙ ',\n",
       " ' ВЫПОЛНЯЮЩИМ ',\n",
       " ' ИНОСТРАННОГО ',\n",
       " ' И ',\n",
       " ' РОССИЙСКИМ ',\n",
       " ' ЛИЦОМ, ',\n",
       " ' ФУНКЦИИ ']"
      ]
     },
     "execution_count": 59,
     "metadata": {},
     "output_type": "execute_result"
    }
   ],
   "source": [
    "re.findall('\\s.+?\\s', text) # матчит все подстроки между пробелами"
   ]
  },
  {
   "cell_type": "markdown",
   "id": "c4e75962",
   "metadata": {},
   "source": [
    "Если нужно указать точное число повторений, можно указать его в фигурных скобках {min, max} (значение макс не включается)"
   ]
  },
  {
   "cell_type": "code",
   "execution_count": 55,
   "id": "46298cce",
   "metadata": {},
   "outputs": [
    {
     "data": {
      "text/plain": [
       "['+79121231232 ', '+79991238899 ']"
      ]
     },
     "execution_count": 55,
     "metadata": {},
     "output_type": "execute_result"
    }
   ],
   "source": [
    "# только валидные номера \n",
    "# \" \" в конце нужно чтобы не матчить частично последний номер\n",
    "re.findall('\\+79\\d{1,9} ', \"+79121231232 +79991238899 +7923111112222211 \") "
   ]
  },
  {
   "cell_type": "markdown",
   "id": "0a0763b8",
   "metadata": {},
   "source": [
    "### Группы"
   ]
  },
  {
   "cell_type": "markdown",
   "id": "ceb9263e",
   "metadata": {},
   "source": [
    "Если нужно выбрать только часть из паттерна, то эту часть можно заключить в скобки"
   ]
  },
  {
   "cell_type": "code",
   "execution_count": 75,
   "id": "abadde28",
   "metadata": {},
   "outputs": [
    {
     "data": {
      "text/plain": [
       "['СООБЩЕНИЕ',\n",
       " 'СОЗДАНО',\n",
       " '(ИЛИ)',\n",
       " 'ИНОСТРАННЫМ',\n",
       " 'МАССОВОЙ',\n",
       " 'ВЫПОЛНЯЮЩИМ',\n",
       " 'ИНОСТРАННОГО',\n",
       " 'И',\n",
       " 'РОССИЙСКИМ',\n",
       " 'ЛИЦОМ,',\n",
       " 'ФУНКЦИИ']"
      ]
     },
     "execution_count": 75,
     "metadata": {},
     "output_type": "execute_result"
    }
   ],
   "source": [
    "re.findall('\\s(.+?)\\s', text) # матчится по пробелам, но выбирается только то, что между пробелов"
   ]
  },
  {
   "cell_type": "markdown",
   "id": "f080e2ab",
   "metadata": {},
   "source": [
    "Вообще скобки - это синтаксис групп и он сильно сложнее, чем просто подвыбор части паттерна. Групп в паттерне может быть много и к ним можно обращаться по индексам"
   ]
  },
  {
   "cell_type": "code",
   "execution_count": 73,
   "id": "1ee43ebd",
   "metadata": {},
   "outputs": [
    {
     "data": {
      "text/plain": [
       "'СООБЩЕНИЕ'"
      ]
     },
     "execution_count": 73,
     "metadata": {},
     "output_type": "execute_result"
    }
   ],
   "source": [
    "m = re.search('\\s(.+?)\\s', text) # в search вот так можно достать то что попало в скобки\n",
    "m.group(1) # в паттерне одна группа и нумерация начинается с 1"
   ]
  },
  {
   "cell_type": "code",
   "execution_count": 67,
   "id": "dd71d7fc",
   "metadata": {},
   "outputs": [
    {
     "name": "stdout",
     "output_type": "stream",
     "text": [
      "1 -  ИНОСТРАННОГО\n",
      "2 -  АГЕНТА\n"
     ]
    }
   ],
   "source": [
    "m = re.search('\\s(ИНО\\w+)\\s(АГ\\w+)', text) # две группы\n",
    "print('1 - ', m.group(1)) # \n",
    "print('2 - ', m.group(2)) "
   ]
  },
  {
   "cell_type": "markdown",
   "id": "151c20d9",
   "metadata": {},
   "source": [
    "Помимо самого матча регулярные выражения еще сохраняют информацию об индексах в изначальной строке и ее можно достать через функцию span. В нее также можно подавать индекс группы"
   ]
  },
  {
   "cell_type": "code",
   "execution_count": 85,
   "id": "7d3cc19b",
   "metadata": {},
   "outputs": [
    {
     "name": "stdout",
     "output_type": "stream",
     "text": [
      "1 -  (122, 134)\n",
      "2 -  (135, 141)\n"
     ]
    }
   ],
   "source": [
    "m = re.search('\\s(ИНО\\w+)\\s(АГ\\w+)', text) # те же две группы\n",
    "print('1 - ', m.span(1),) # спан ИНОСТРАННОГО\n",
    "print('2 - ', m.span(2)) # спан АГЕНТА"
   ]
  },
  {
   "cell_type": "markdown",
   "id": "f2055b98",
   "metadata": {},
   "source": [
    "Можно пойти в строку по этим индексам и убедиться:"
   ]
  },
  {
   "cell_type": "code",
   "execution_count": 88,
   "id": "5d7a9dde",
   "metadata": {},
   "outputs": [
    {
     "data": {
      "text/plain": [
       "('ИНОСТРАННОГО', 'АГЕНТА')"
      ]
     },
     "execution_count": 88,
     "metadata": {},
     "output_type": "execute_result"
    }
   ],
   "source": [
    "text[122:134], text[135:141]"
   ]
  },
  {
   "cell_type": "code",
   "execution_count": null,
   "id": "5032ec86",
   "metadata": {},
   "outputs": [],
   "source": []
  },
  {
   "cell_type": "markdown",
   "id": "b832a508",
   "metadata": {},
   "source": [
    "Еще одна продвинутая фича групп - это то, что к ним можно отсылаться напрямую в паттерне. Например, можно написать вот такой паттерн, чтобы дедуплицировать С в тексте"
   ]
  },
  {
   "cell_type": "code",
   "execution_count": 68,
   "id": "d9ba3fa0",
   "metadata": {},
   "outputs": [
    {
     "data": {
      "text/plain": [
       "'ДАННОЕ СООБЩЕНИЕ (МАТЕРИАЛ) СОЗДАНО И (ИЛИ) РАСПРОСТРАНЕНО ИНОСТРАННЫМ СРЕДСТВОМ МАСОВОЙ ИНФОРМАЦИИ, ВЫПОЛНЯЮЩИМ ФУНКЦИИ ИНОСТРАННОГО АГЕНТА, И (ИЛИ) РОСИЙСКИМ ЮРИДИЧЕСКИМ ЛИЦОМ, ВЫПОЛНЯЮЩИМ ФУНКЦИИ ИНОСТРАННОГО АГЕНТА'"
      ]
     },
     "execution_count": 68,
     "metadata": {},
     "output_type": "execute_result"
    }
   ],
   "source": [
    "re.sub('СС', 'С', text)"
   ]
  },
  {
   "cell_type": "markdown",
   "id": "cac7386c",
   "metadata": {},
   "source": [
    "Но как сделать паттерн, которой дедуплицирует все символы сразу?"
   ]
  },
  {
   "cell_type": "code",
   "execution_count": 71,
   "id": "c17d70f1",
   "metadata": {},
   "outputs": [
    {
     "data": {
      "text/plain": [
       "'ДАНОЕ СОБЩЕНИЕ (МАТЕРИАЛ) СОЗДАНО И (ИЛИ) РАСПРОСТРАНЕНО ИНОСТРАНЫМ СРЕДСТВОМ МАСОВОЙ ИНФОРМАЦИ, ВЫПОЛНЯЮЩИМ ФУНКЦИ ИНОСТРАНОГО АГЕНТА, И (ИЛИ) РОСИЙСКИМ ЮРИДИЧЕСКИМ ЛИЦОМ, ВЫПОЛНЯЮЩИМ ФУНКЦИ ИНОСТРАНОГО АГЕНТА'"
      ]
     },
     "execution_count": 71,
     "metadata": {},
     "output_type": "execute_result"
    }
   ],
   "source": [
    "# \\1 отсылает к первой группе в паттерне\n",
    "# то есть мы матчим любой алфавитный символ и его повторения, а затем заменяем только на первое упоминание\n",
    "re.sub('(\\w)\\\\1+', '\\\\1', text)"
   ]
  },
  {
   "cell_type": "markdown",
   "id": "a71081fa",
   "metadata": {},
   "source": [
    "В питоне обратные слеши интерпретируются как экранирование, поэтому чтобы поставить `\\` в строке нужно написать `\\\\` . Чтобы этого избежать можно добавить к строке `r''`"
   ]
  },
  {
   "cell_type": "code",
   "execution_count": 72,
   "id": "406da5e4",
   "metadata": {},
   "outputs": [
    {
     "data": {
      "text/plain": [
       "'ДАНОЕ СОБЩЕНИЕ (МАТЕРИАЛ) СОЗДАНО И (ИЛИ) РАСПРОСТРАНЕНО ИНОСТРАНЫМ СРЕДСТВОМ МАСОВОЙ ИНФОРМАЦИ, ВЫПОЛНЯЮЩИМ ФУНКЦИ ИНОСТРАНОГО АГЕНТА, И (ИЛИ) РОСИЙСКИМ ЮРИДИЧЕСКИМ ЛИЦОМ, ВЫПОЛНЯЮЩИМ ФУНКЦИ ИНОСТРАНОГО АГЕНТА'"
      ]
     },
     "execution_count": 72,
     "metadata": {},
     "output_type": "execute_result"
    }
   ],
   "source": [
    "re.sub(r'(\\w)\\1+', r'\\1', text)"
   ]
  },
  {
   "cell_type": "code",
   "execution_count": null,
   "id": "15e8df09",
   "metadata": {},
   "outputs": [],
   "source": []
  },
  {
   "cell_type": "markdown",
   "id": "d7ed785e",
   "metadata": {},
   "source": [
    "Иногда скобки вместе с символом | (или) можно использовать для создания паттерна, который выбирает между несколькими последовательностями. \n",
    "В этом случае удобнее выключить функционал групп совсем. Это можно сделать добавив `?:` в начале скобок. Сравните:"
   ]
  },
  {
   "cell_type": "code",
   "execution_count": 84,
   "id": "be016fb7",
   "metadata": {},
   "outputs": [
    {
     "data": {
      "text/plain": [
       "['ФОРМАЦИИ', 'ОСТРАННОГО', 'ОСТРАННОГО']"
      ]
     },
     "execution_count": 84,
     "metadata": {},
     "output_type": "execute_result"
    }
   ],
   "source": [
    "re.findall('ИН(ФОРМАЦИИ|ОСТРАННОГО)', text) # выбирается то что в скобках"
   ]
  },
  {
   "cell_type": "code",
   "execution_count": 85,
   "id": "9fb865a4",
   "metadata": {},
   "outputs": [
    {
     "data": {
      "text/plain": [
       "['ИНФОРМАЦИИ', 'ИНОСТРАННОГО', 'ИНОСТРАННОГО']"
      ]
     },
     "execution_count": 85,
     "metadata": {},
     "output_type": "execute_result"
    }
   ],
   "source": [
    "re.findall('ИН(?:ФОРМАЦИИ|ОСТРАННОГО)', text) # выбирается все"
   ]
  },
  {
   "cell_type": "markdown",
   "id": "e60f1762",
   "metadata": {},
   "source": [
    "Регулярные выражения матчат по строкам (до символа \\n). Поэтому .+ не сматчит все строчки текста целиком. Нужно либо указать \\n как вариант, либо использовать флаг re.DOTALL"
   ]
  },
  {
   "cell_type": "code",
   "execution_count": 90,
   "id": "dbabcf86",
   "metadata": {},
   "outputs": [
    {
     "data": {
      "text/plain": [
       "['1', '2']"
      ]
     },
     "execution_count": 90,
     "metadata": {},
     "output_type": "execute_result"
    }
   ],
   "source": [
    "re.findall('.+', \"1\\n2\") # матч прерывается новой строкой"
   ]
  },
  {
   "cell_type": "code",
   "execution_count": 92,
   "id": "35c69662",
   "metadata": {},
   "outputs": [
    {
     "data": {
      "text/plain": [
       "['1\\n2']"
      ]
     },
     "execution_count": 92,
     "metadata": {},
     "output_type": "execute_result"
    }
   ],
   "source": [
    "re.findall('.+', \"1\\n2\", re.DOTALL) # матчится все от начала до конца вместе с \\n"
   ]
  },
  {
   "cell_type": "code",
   "execution_count": null,
   "id": "2b56c52e",
   "metadata": {},
   "outputs": [],
   "source": []
  },
  {
   "cell_type": "markdown",
   "id": "415da8cb",
   "metadata": {},
   "source": [
    "### Границы\n",
    "\n",
    "При работе со словами часто нужно указать границы матча (от начала стоки, до конца слова и тп). Для этого есть операторы `^` (вне квадратных скобок) - указывает на начало строки и `\\b`, который означает границу слова. "
   ]
  },
  {
   "cell_type": "code",
   "execution_count": 89,
   "id": "4c2909bc",
   "metadata": {},
   "outputs": [
    {
     "data": {
      "text/plain": [
       "'ДАННОЕ СООБЩЕНИЕ (МАТЕРИАЛ) СОЗДАНО И (ИЛИ) РАСПРОСТРАНЕНО ИНОСТРАННЫМ СРЕДСТВОМ МАССОВОЙ ИНФОРМАЦИИ, ВЫПОЛНЯЮЩИМ ФУНКЦИИ ИНОСТРАННОГО АГЕНТА, И (ИЛИ) РОССИЙСКИМ ЮРИДИЧЕСКИМ ЛИЦОМ, ВЫПОЛНЯЮЩИМ ФУНКЦИИ ИНОСТРАННОГО АГЕНТА'"
      ]
     },
     "execution_count": 89,
     "metadata": {},
     "output_type": "execute_result"
    }
   ],
   "source": [
    "text"
   ]
  },
  {
   "cell_type": "code",
   "execution_count": 106,
   "id": "483b91f5",
   "metadata": {},
   "outputs": [
    {
     "data": {
      "text/plain": [
       "<re.Match object; span=(0, 6), match='ДАННОЕ'>"
      ]
     },
     "execution_count": 106,
     "metadata": {},
     "output_type": "execute_result"
    }
   ],
   "source": [
    "re.search('^ДАННОЕ', text) # матчит"
   ]
  },
  {
   "cell_type": "code",
   "execution_count": 105,
   "id": "eb307386",
   "metadata": {},
   "outputs": [],
   "source": [
    "re.search('^СООБЩЕНИЕ', text) # не матчит потому что не в начале строки"
   ]
  },
  {
   "cell_type": "markdown",
   "id": "b33e9e44",
   "metadata": {},
   "source": []
  },
  {
   "cell_type": "code",
   "execution_count": 113,
   "id": "1c360ec0",
   "metadata": {},
   "outputs": [
    {
     "data": {
      "text/plain": [
       "['11', '11', '11', '11', '11', '11', '11', '11']"
      ]
     },
     "execution_count": 113,
     "metadata": {},
     "output_type": "execute_result"
    }
   ],
   "source": [
    "re.findall(r'11', \"1 11 111 1111 $11 _11_ !11! #11 \") # матчит 8 раз в том числе 11 в 1111"
   ]
  },
  {
   "cell_type": "code",
   "execution_count": 116,
   "id": "14996570",
   "metadata": {},
   "outputs": [
    {
     "data": {
      "text/plain": [
       "['11', '11', '11', '11']"
      ]
     },
     "execution_count": 116,
     "metadata": {},
     "output_type": "execute_result"
    }
   ],
   "source": [
    "re.findall(r'\\b11\\b', \"1 11 111 1111 $11 _11_ !11! #11 \") # матчит только 11 $11 _11_ !11! #11 потому что там \n",
    "                                                          # есть границы"
   ]
  },
  {
   "cell_type": "markdown",
   "id": "d930d0c4",
   "metadata": {},
   "source": [
    "Если вам перестанет хватать этого набора или вы запутаетесь, можно посмотреть в более подробную документацию - https://docs.python.org/3/howto/regex.html"
   ]
  },
  {
   "cell_type": "markdown",
   "id": "9eaa260f",
   "metadata": {},
   "source": [
    "Говоря о регуляках, стоит еще упомянуть библиотеку - [regex](https://pypi.org/project/regex/) Это можно сказать re 2.0 - тут есть все, что есть в re, но есть и много дополнительных штук. Вот несколько полезных фичей regex:"
   ]
  },
  {
   "cell_type": "code",
   "execution_count": 73,
   "id": "148f2845",
   "metadata": {},
   "outputs": [],
   "source": [
    "import regex"
   ]
  },
  {
   "cell_type": "markdown",
   "id": "aad089c6",
   "metadata": {},
   "source": [
    "Можно искать с ошибками (это называется fuzzy matching). В фигурных скобках нужно указать вид ошибки и максимальное допустимое количество:\n",
    " - e - любая ошибка\n",
    " - d - удаление \n",
    " - i - вставка\n",
    " - s - замена"
   ]
  },
  {
   "cell_type": "code",
   "execution_count": 74,
   "id": "a3c00023",
   "metadata": {},
   "outputs": [
    {
     "data": {
      "text/plain": [
       "['вобще']"
      ]
     },
     "execution_count": 74,
     "metadata": {},
     "output_type": "execute_result"
    }
   ],
   "source": [
    "regex.findall('(вообще){e<=1}', 'вобще')"
   ]
  },
  {
   "cell_type": "code",
   "execution_count": 75,
   "id": "13ab7150",
   "metadata": {},
   "outputs": [
    {
     "data": {
      "text/plain": [
       "['вобще']"
      ]
     },
     "execution_count": 75,
     "metadata": {},
     "output_type": "execute_result"
    }
   ],
   "source": [
    "regex.findall('(вообще){d<=1}', 'вобще')"
   ]
  },
  {
   "cell_type": "code",
   "execution_count": 76,
   "id": "97af74fd",
   "metadata": {},
   "outputs": [
    {
     "data": {
      "text/plain": [
       "[]"
      ]
     },
     "execution_count": 76,
     "metadata": {},
     "output_type": "execute_result"
    }
   ],
   "source": [
    "regex.findall('(вообще){i<=1}', 'вобще')"
   ]
  },
  {
   "cell_type": "code",
   "execution_count": 77,
   "id": "9a109175",
   "metadata": {},
   "outputs": [
    {
     "data": {
      "text/plain": [
       "['воабще']"
      ]
     },
     "execution_count": 77,
     "metadata": {},
     "output_type": "execute_result"
    }
   ],
   "source": [
    "regex.findall('(вообще){s<=1}', 'воабще')"
   ]
  },
  {
   "cell_type": "markdown",
   "id": "9fb24408",
   "metadata": {},
   "source": [
    "Результат сплита можно вернуть генератором (это полезно если данных очень много)"
   ]
  },
  {
   "cell_type": "code",
   "execution_count": 81,
   "id": "12415c86",
   "metadata": {},
   "outputs": [],
   "source": [
    "tokens = regex.splititer(' +', text)"
   ]
  },
  {
   "cell_type": "code",
   "execution_count": null,
   "id": "3b06a8fe",
   "metadata": {},
   "outputs": [],
   "source": []
  },
  {
   "cell_type": "code",
   "execution_count": 98,
   "id": "a31a55f7",
   "metadata": {},
   "outputs": [
    {
     "data": {
      "text/plain": [
       "'(ИЛИ)'"
      ]
     },
     "execution_count": 98,
     "metadata": {},
     "output_type": "execute_result"
    }
   ],
   "source": [
    "next(tokens)"
   ]
  },
  {
   "cell_type": "markdown",
   "id": "63df78df",
   "metadata": {},
   "source": [
    "Варианты для матчинга последовательностей можно перечислить удобнее"
   ]
  },
  {
   "cell_type": "code",
   "execution_count": 31,
   "id": "df6a46af",
   "metadata": {},
   "outputs": [],
   "source": [
    "option_set = [\"нет\", \"не\", \"он\", 'она']\n",
    "p = regex.compile(r\"\\L<options>\", options=option_set)"
   ]
  },
  {
   "cell_type": "code",
   "execution_count": 67,
   "id": "4a292354",
   "metadata": {
    "scrolled": true
   },
   "outputs": [
    {
     "data": {
      "text/plain": [
       "['не', 'не', 'он', 'не', 'она', 'не', 'он', 'не', 'не', 'не']"
      ]
     },
     "execution_count": 67,
     "metadata": {},
     "output_type": "execute_result"
    }
   ],
   "source": [
    "p.findall(text)[:10]"
   ]
  },
  {
   "cell_type": "markdown",
   "id": "b7265e65",
   "metadata": {},
   "source": [
    "Еще больше фичей regex можно узнать тут - https://pypi.org/project/regex/"
   ]
  },
  {
   "cell_type": "markdown",
   "id": "54d4b7f4",
   "metadata": {},
   "source": [
    "Регуляки очень быстро разрастаются до нечитаемых колбас символов. Если регулярка нужна больше одного раза, то поддерживать ее очень сложно - достаточно пары дней, чтобы забыть контекст и перестать понимать, что вообще происходит и зачем. Для таких случаев можно писать ругялки в многострочном формате и даже с комментариями!\n",
    "\n",
    "\n",
    "Давайте посмотрит как это выглядит. Чтобы это заработало нужно передать доп флаг re.VERBOSE или re.X и потом можно делать пробельные отступы между символами, отступать новые строки и писать комментарии"
   ]
  },
  {
   "cell_type": "code",
   "execution_count": 6,
   "id": "06666518",
   "metadata": {},
   "outputs": [],
   "source": [
    "import re\n",
    "\n",
    "# пример строки, так часто выглядят логи\n",
    "example = \"2024-09-10 14:55:23 INFO Some event occurred\"\n",
    "\n",
    "# эту регуляку еще можно усложнить если добавить другие форматы дат/времени или учитывать что часы могут быть только от 0 до 23, а не любые две цифры рядом\n",
    "pattern = re.compile(r\"\"\"\n",
    "    ^                               # начало строки\n",
    "    (?P<date>\\d{4}-\\d{2}-\\d{2})     # дата в формате YYYY-MM-DD\n",
    "    \\s+                             # один или несколько пробелов\n",
    "    (?P<time>\\d{2}:\\d{2}:\\d{2})     # время в формате HH:MM:SS\n",
    "    \\s+                             # опять пробелы\n",
    "    (?P<level>INFO|DEBUG|ERROR|WARNING) # тип ошибки\n",
    "    \\s+                             # пробелы\n",
    "    (?P<message>[A-Za-z0-9 ]+)      # сообщение ошибки\n",
    "    $                               # конец строки\n",
    "\"\"\", re.VERBOSE)"
   ]
  },
  {
   "cell_type": "code",
   "execution_count": 8,
   "id": "08ec494a",
   "metadata": {},
   "outputs": [
    {
     "name": "stdout",
     "output_type": "stream",
     "text": [
      "Match found!\n",
      "Date: 2024-09-10\n",
      "Time: 14:55:23\n",
      "Level: INFO\n",
      "Message: Some event occurred\n"
     ]
    }
   ],
   "source": [
    "# Еще в регуляке выше заданы группы и каждой приписано имя\n",
    "# в итоге код будет выглядеть очень понятно и читаемо \n",
    "match = pattern.match(example)\n",
    "\n",
    "if match:\n",
    "    print(\"Match found!\")\n",
    "    print(f\"Date: {match.group('date')}\")\n",
    "    print(f\"Time: {match.group('time')}\")\n",
    "    print(f\"Level: {match.group('level')}\")\n",
    "    print(f\"Message: {match.group('message')}\")\n",
    "else:\n",
    "    print(\"No match found\")\n"
   ]
  },
  {
   "cell_type": "code",
   "execution_count": null,
   "id": "f644f534",
   "metadata": {},
   "outputs": [],
   "source": []
  },
  {
   "cell_type": "code",
   "execution_count": null,
   "id": "93ad47cc",
   "metadata": {},
   "outputs": [],
   "source": []
  },
  {
   "cell_type": "markdown",
   "id": "36012b8a",
   "metadata": {},
   "source": [
    "# Контекстно-свободные грамматики\n",
    "\n",
    "Еще одна вещь, про которую стоит рассказать в контексте регулярных выражений - это контексто-свободные грамматики. Стандартные регулярные выражения работают на уровне символов и если нужно матчить что-то из нескольких слов, то сложность сразу выходит из под контроля и даже комментарии тут не помогут. Но можно воспользоваться специальными библиотеками, которые позволяют писать грамматики и матчить более сложные конструкции. В целом, принцип работы и там и там одинаковый, просто грамматики работают на уровне отдельных слов и все отличия вытекают из этого факта (нужна какая-то токенизация, у слов могут быть грамматические формы, которые нужно нормализовать и соответственно появляется зависимость от языка и т.п.)\n",
    "\n",
    "Давайте посмотрим на одну такую библиотеку - она называется yargy. Это открытая библиотека на питоне. "
   ]
  },
  {
   "cell_type": "code",
   "execution_count": 14,
   "id": "570b8f09",
   "metadata": {},
   "outputs": [
    {
     "name": "stdout",
     "output_type": "stream",
     "text": [
      "Collecting yargy\n",
      "  Downloading yargy-0.16.0-py3-none-any.whl (33 kB)\n",
      "Collecting pymorphy2\n",
      "  Using cached pymorphy2-0.9.1-py3-none-any.whl (55 kB)\n",
      "Collecting docopt>=0.6\n",
      "  Using cached docopt-0.6.2.tar.gz (25 kB)\n",
      "  Preparing metadata (setup.py) ... \u001b[?25ldone\n",
      "\u001b[?25hCollecting dawg-python>=0.7.1\n",
      "  Using cached DAWG_Python-0.7.2-py2.py3-none-any.whl (11 kB)\n",
      "Collecting pymorphy2-dicts-ru<3.0,>=2.4\n",
      "  Using cached pymorphy2_dicts_ru-2.4.417127.4579844-py2.py3-none-any.whl (8.2 MB)\n",
      "Installing collected packages: pymorphy2-dicts-ru, docopt, dawg-python, pymorphy2, yargy\n",
      "\u001b[33m  DEPRECATION: docopt is being installed using the legacy 'setup.py install' method, because it does not have a 'pyproject.toml' and the 'wheel' package is not installed. pip 23.1 will enforce this behaviour change. A possible replacement is to enable the '--use-pep517' option. Discussion can be found at https://github.com/pypa/pip/issues/8559\u001b[0m\u001b[33m\n",
      "\u001b[0m  Running setup.py install for docopt ... \u001b[?25ldone\n",
      "\u001b[?25hSuccessfully installed dawg-python-0.7.2 docopt-0.6.2 pymorphy2-0.9.1 pymorphy2-dicts-ru-2.4.417127.4579844 yargy-0.16.0\n",
      "\n",
      "\u001b[1m[\u001b[0m\u001b[34;49mnotice\u001b[0m\u001b[1;39;49m]\u001b[0m\u001b[39;49m A new release of pip available: \u001b[0m\u001b[31;49m22.3.1\u001b[0m\u001b[39;49m -> \u001b[0m\u001b[32;49m24.2\u001b[0m\n",
      "\u001b[1m[\u001b[0m\u001b[34;49mnotice\u001b[0m\u001b[1;39;49m]\u001b[0m\u001b[39;49m To update, run: \u001b[0m\u001b[32;49mpip install --upgrade pip\u001b[0m\n"
     ]
    }
   ],
   "source": [
    "!pip install yargy"
   ]
  },
  {
   "cell_type": "markdown",
   "id": "3c085b36",
   "metadata": {},
   "source": [
    "Одного простого текста для демонстрации тут уже не хватит, поэтому возьмем небольшой датасет объявлений с авито (в частности объявления про приставки)"
   ]
  },
  {
   "cell_type": "code",
   "execution_count": 16,
   "id": "19bb1e5f",
   "metadata": {},
   "outputs": [],
   "source": [
    "import pandas as pd\n",
    "pd.set_option('display.max_colwidth', None)"
   ]
  },
  {
   "cell_type": "markdown",
   "id": "64ff64a7",
   "metadata": {},
   "source": [
    "Посмотрим на данные."
   ]
  },
  {
   "cell_type": "code",
   "execution_count": 17,
   "id": "ee88636c",
   "metadata": {},
   "outputs": [],
   "source": [
    "data = pd.read_csv('../../data/pristavki.csv', header=None, names=['text'])"
   ]
  },
  {
   "cell_type": "code",
   "execution_count": 18,
   "id": "f98cd849",
   "metadata": {},
   "outputs": [
    {
     "data": {
      "text/plain": [
       "(9285, 1)"
      ]
     },
     "execution_count": 18,
     "metadata": {},
     "output_type": "execute_result"
    }
   ],
   "source": [
    "data.shape"
   ]
  },
  {
   "cell_type": "markdown",
   "id": "2a069ca5",
   "metadata": {},
   "source": [
    "Давайте попробуем решить такую проблему: список существующих приставок очень небольшой (по большей части это xbox и playstation и их версии), но в объявлениях люди могут описывать их многими разными способами (xbox, XBOX, иксбокс, X-бокс и тп). Для аналитики или для создания удобных категорий на сайте нам нужно привести все к единому формату (нормализовать названия). Напишем несколько простых грамматик, которые будут матчить Xbox 360, Xbox one, Playstation 1,2,3,4 в специальные объекты со стандартными полями."
   ]
  },
  {
   "cell_type": "code",
   "execution_count": 19,
   "id": "d05c5677",
   "metadata": {},
   "outputs": [],
   "source": [
    "from yargy import Parser, rule, or_\n",
    "from yargy.predicates import in_, in_caseless\n",
    "from yargy.tokenizer import MorphTokenizer\n",
    "from yargy.pipelines import morph_pipeline, caseless_pipeline\n",
    "from yargy.interpretation import fact\n",
    "from IPython.display import display"
   ]
  },
  {
   "cell_type": "markdown",
   "id": "f65d77cc",
   "metadata": {},
   "source": [
    "Для начала определим саму сущность, которую будет извлекать. Сущность будет называться Pristavka и неё будет два атрибута: название и версия. Делается это вот так:"
   ]
  },
  {
   "cell_type": "code",
   "execution_count": 20,
   "id": "96fa476c",
   "metadata": {},
   "outputs": [],
   "source": [
    "\n",
    "Pristavka = fact(\n",
    "    'Pristavka',\n",
    "    ['name', 'model']\n",
    ")"
   ]
  },
  {
   "cell_type": "markdown",
   "id": "33f84a73",
   "metadata": {},
   "source": [
    "(Чуть позже станет понятнее зачем так делать)"
   ]
  },
  {
   "cell_type": "markdown",
   "id": "4ee28cef",
   "metadata": {},
   "source": [
    "Теперь сделаем правило для иксбокса. Просто напишем несколько вариантов написания Xbox и версий.\n",
    "Такой список называется Газзетир. В Yargy его удобно задавать через morph_pipeline. Туда можно написать слова или последовательности, а он их нормализует, чтобы потом сопоставлять с текстом.\n"
   ]
  },
  {
   "cell_type": "markdown",
   "id": "a5a2fc35",
   "metadata": {},
   "source": [
    "В итоге у нас два газзетира. Мы оборачиваем их в правило (rule). Работать это будет примерно как регулярка. "
   ]
  },
  {
   "cell_type": "code",
   "execution_count": 21,
   "id": "8450c871",
   "metadata": {},
   "outputs": [],
   "source": [
    "Xbox = rule(\n",
    "    morph_pipeline(['Xbox', 'X box', \"Иксбокс\"])\n",
    "    .interpretation(Pristavka.name), # то, что сматчиться будет в атрибуте name\n",
    "    morph_pipeline(['360', 'one'])\n",
    "    .interpretation(Pristavka.model)) # то, что сматчиться будет в атрибуте version\n"
   ]
  },
  {
   "cell_type": "markdown",
   "id": "edf63d29",
   "metadata": {},
   "source": [
    "Правило для плейстешена будет аналогичное."
   ]
  },
  {
   "cell_type": "code",
   "execution_count": 22,
   "id": "14e99fca",
   "metadata": {},
   "outputs": [],
   "source": [
    "PS = rule(\n",
    "    morph_pipeline(['Playstation', 'Play station', 'PS']).interpretation(Pristavka.name),\n",
    "    morph_pipeline(['1', '2', '3', '4']).interpretation(Pristavka.model)    \n",
    "    )"
   ]
  },
  {
   "cell_type": "markdown",
   "id": "49174981",
   "metadata": {},
   "source": [
    "Теперь сделаем общее правило, которое будет искать плейстешены или иксбоксы и извлекать их как сущность типа Pristavka."
   ]
  },
  {
   "cell_type": "code",
   "execution_count": 23,
   "id": "3fadd86a",
   "metadata": {},
   "outputs": [],
   "source": [
    "PRISTAVKA = or_(PS, Xbox).interpretation(Pristavka)\n",
    "\n",
    "parser = Parser(PRISTAVKA) # создаем парсер, которым будем проходить по тексту"
   ]
  },
  {
   "cell_type": "markdown",
   "id": "911fd1e0",
   "metadata": {},
   "source": [
    "Попробуем сматчить по текстам."
   ]
  },
  {
   "cell_type": "code",
   "execution_count": 24,
   "id": "01043651",
   "metadata": {},
   "outputs": [],
   "source": [
    "matches = []\n",
    "\n",
    "for sent in data.text[:100]:\n",
    "    for match in parser.findall(sent):\n",
    "        matches.append(match.fact)"
   ]
  },
  {
   "cell_type": "code",
   "execution_count": 25,
   "id": "8c5b02d2",
   "metadata": {},
   "outputs": [
    {
     "name": "stdout",
     "output_type": "stream",
     "text": [
      "PS 3\n",
      "Ps 4\n",
      "PS 1\n",
      "PS 3\n",
      "PlayStation 3\n",
      "PS 3\n",
      "Xbox 360\n",
      "Playstation 3\n",
      "Ps 4\n",
      "ps 2\n"
     ]
    }
   ],
   "source": [
    "for m in matches[:10]:\n",
    "    print(m.name, m.model)"
   ]
  },
  {
   "cell_type": "markdown",
   "id": "cb204d80",
   "metadata": {},
   "source": [
    "У приставок ещё могут быть подификации вроде Slim, X, S и т.д, но не всегда. Чтобы учесть это можно добавить ещё одно правило с .optional() на конце."
   ]
  },
  {
   "cell_type": "code",
   "execution_count": 26,
   "id": "07dd5d61",
   "metadata": {},
   "outputs": [],
   "source": [
    "Pristavka = fact(\n",
    "    'Pristavka',\n",
    "    ['name', 'model','version']\n",
    ")\n",
    "\n",
    "Xbox = rule(\n",
    "    morph_pipeline(['Xbox', 'X box', \"Иксбокс\"]).interpretation(Pristavka.name),\n",
    "    morph_pipeline(['360', 'one']).interpretation(Pristavka.model),\n",
    "    morph_pipeline(['s', 'x', 'e']).interpretation(Pristavka.version).optional()) \n",
    "\n",
    "PS = rule(\n",
    "    morph_pipeline(['Playstation', 'Play station', 'PS']).interpretation(Pristavka.name),\n",
    "    morph_pipeline(['1', '2', '3', '4']).interpretation(Pristavka.model),\n",
    "    morph_pipeline(['Slim', 'SuperSlim', 'слим']).interpretation(Pristavka.version).optional()\n",
    "    )\n",
    "PRISTAVKA = or_(PS, Xbox).interpretation(Pristavka)\n",
    "\n",
    "parser = Parser(PRISTAVKA) # создаем парсер, которым будем проходить по тексту"
   ]
  },
  {
   "cell_type": "code",
   "execution_count": 27,
   "id": "d8969430",
   "metadata": {},
   "outputs": [
    {
     "data": {
      "text/plain": [
       "Pristavka(\n",
       "    name='Playstation',\n",
       "    model='3',\n",
       "    version='slim'\n",
       ")"
      ]
     },
     "execution_count": 27,
     "metadata": {},
     "output_type": "execute_result"
    }
   ],
   "source": [
    "list(parser.findall('Playstation 3 slim'))[0].fact"
   ]
  },
  {
   "cell_type": "code",
   "execution_count": 28,
   "id": "b362fbf2",
   "metadata": {},
   "outputs": [
    {
     "data": {
      "text/plain": [
       "Pristavka(\n",
       "    name='Playstation',\n",
       "    model='3',\n",
       "    version=None\n",
       ")"
      ]
     },
     "execution_count": 28,
     "metadata": {},
     "output_type": "execute_result"
    }
   ],
   "source": [
    "list(parser.findall('Playstation 3 арарв'))[0].fact"
   ]
  },
  {
   "cell_type": "code",
   "execution_count": 29,
   "id": "de23e93a",
   "metadata": {},
   "outputs": [],
   "source": [
    "matches = []\n",
    "\n",
    "for sent in data.text[:1000]:\n",
    "    for match in parser.findall(sent):\n",
    "        matches.append(match.fact)"
   ]
  },
  {
   "cell_type": "code",
   "execution_count": 30,
   "id": "30551835",
   "metadata": {},
   "outputs": [
    {
     "data": {
      "text/plain": [
       "381"
      ]
     },
     "execution_count": 30,
     "metadata": {},
     "output_type": "execute_result"
    }
   ],
   "source": [
    "len(matches)"
   ]
  },
  {
   "cell_type": "code",
   "execution_count": 31,
   "id": "74319036",
   "metadata": {},
   "outputs": [
    {
     "name": "stdout",
     "output_type": "stream",
     "text": [
      "PS 3\n",
      "Ps 4\n",
      "PS 1\n",
      "PS 3\n",
      "PlayStation 3\n",
      "PS 3\n",
      "Xbox 360\n",
      "Playstation 3\n",
      "Ps 4\n",
      "ps 2\n"
     ]
    }
   ],
   "source": [
    "for m in matches[:10]:\n",
    "    print(m.name, m.model)"
   ]
  },
  {
   "cell_type": "markdown",
   "id": "e04888d9",
   "metadata": {},
   "source": [
    "Все работает как и должно."
   ]
  },
  {
   "cell_type": "markdown",
   "id": "f8008f44",
   "metadata": {},
   "source": [
    "Хорошо бы ещё приводить все варианты названия к нормальному виду. Вот как это можно сделать."
   ]
  },
  {
   "cell_type": "markdown",
   "id": "1e737d3c",
   "metadata": {},
   "source": [
    "Если можно заменить весь газзетир на какое-то одно слово, то можно просто добавить в интерпретации значение .сonst('something')"
   ]
  },
  {
   "cell_type": "code",
   "execution_count": 32,
   "id": "102f5ce3",
   "metadata": {},
   "outputs": [],
   "source": [
    "Pristavka = fact(\n",
    "    'Pristavka',\n",
    "    ['name', 'model','version']\n",
    ")\n",
    "\n",
    "Xbox = rule(\n",
    "    morph_pipeline(['Xbox', 'X box', \"Иксбокс\"]).interpretation(Pristavka.name.const('Xbox')),\n",
    "    morph_pipeline(['360', 'one']).interpretation(Pristavka.model),\n",
    "    morph_pipeline(['s', 'x', 'e']).interpretation(Pristavka.version).optional()) \n",
    "\n",
    "PS = rule(\n",
    "    morph_pipeline(['Playstation', 'Play station', 'PS']).interpretation(Pristavka.name.const('Playstation')),\n",
    "    morph_pipeline(['1', '2', '3', '4']).interpretation(Pristavka.model),\n",
    "    morph_pipeline(['Slim', 'SuperSlim', 'слим']).interpretation(Pristavka.version).optional()\n",
    "    )\n",
    "PRISTAVKA = or_(PS, Xbox).interpretation(Pristavka)\n",
    "\n",
    "parser = Parser(PRISTAVKA) # создаем парсер, которым будем проходить по тексту"
   ]
  },
  {
   "cell_type": "code",
   "execution_count": 33,
   "id": "789c30e3",
   "metadata": {},
   "outputs": [],
   "source": [
    "matches = []\n",
    "\n",
    "for sent in data.text[:200]:\n",
    "    for match in parser.findall(sent):\n",
    "        matches.append(match.fact)"
   ]
  },
  {
   "cell_type": "code",
   "execution_count": 34,
   "id": "ed8f8f72",
   "metadata": {},
   "outputs": [
    {
     "name": "stdout",
     "output_type": "stream",
     "text": [
      "Playstation 3\n",
      "Playstation 4\n",
      "Playstation 1\n",
      "Playstation 3\n",
      "Playstation 3\n",
      "Playstation 3\n",
      "Xbox 360\n",
      "Playstation 3\n",
      "Playstation 4\n",
      "Playstation 2\n"
     ]
    }
   ],
   "source": [
    "for m in matches[:10]:\n",
    "    print(m.name, m.model)"
   ]
  },
  {
   "cell_type": "markdown",
   "id": "3d4bf3ef",
   "metadata": {},
   "source": [
    "В общем случае к нормальной форме приводит .normalized() добавленный к атрибуту в интерпретации. Но он работает через pymorphy2, а он работает с русским языком. Поэтому в нашем случае его можно использовать только для привода к нижнему регистру."
   ]
  },
  {
   "cell_type": "markdown",
   "id": "33c576d0",
   "metadata": {},
   "source": [
    "Когда у каждого и слов в газзетире есть своя нормальная форма, можно сделать газзетир словарём, где ключи это нужные формы, а значения - нормальные формы. А в интерпретации к .normalized() добавить .custom() и через него дергать нужную правильную форму."
   ]
  },
  {
   "cell_type": "code",
   "execution_count": 35,
   "id": "d685f6cd",
   "metadata": {},
   "outputs": [],
   "source": [
    "Pristavka = fact(\n",
    "    'Pristavka',\n",
    "    ['name', 'model','version']\n",
    ")\n",
    "\n",
    "VERSIONS = {\n",
    "    'super slim': 'SuperSlim',\n",
    "    'superslim': 'SuperSlim',\n",
    "    'slim': 'Slim',\n",
    "    'fat': 'Fat',\n",
    "    'pro': 'PRO',\n",
    "    'vita': 'VITA'\n",
    "}\n",
    "\n",
    "Xbox = rule(\n",
    "    morph_pipeline(['Xbox', 'X box', \"Иксбокс\"]).interpretation(Pristavka.name.const('Xbox')),\n",
    "    morph_pipeline(['360', 'one']).interpretation(Pristavka.model.normalized()),\n",
    "    in_caseless('sxe').interpretation(Pristavka.version.normalized()).optional()) \n",
    "\n",
    "PS = rule(\n",
    "    morph_pipeline(['Playstation', 'Play station', 'PS']).interpretation(Pristavka.name.const('Playstation')),\n",
    "    # для простоты можно написать вот так\n",
    "    in_('1234').interpretation(Pristavka.model.normalized()),\n",
    "    #изменения вот тут                                                      вот тут дергаем правильную форму\n",
    "    caseless_pipeline(VERSIONS).interpretation(Pristavka.version.normalized().custom(VERSIONS.get)).optional()\n",
    "    )\n",
    "PRISTAVKA = or_(PS, Xbox).interpretation(Pristavka)\n",
    "\n",
    "parser = Parser(PRISTAVKA) # создаем парсер, которым будем проходить по тексту"
   ]
  },
  {
   "cell_type": "code",
   "execution_count": 36,
   "id": "6c94188e",
   "metadata": {},
   "outputs": [
    {
     "data": {
      "text/plain": [
       "Pristavka(\n",
       "    name='Playstation',\n",
       "    model='3',\n",
       "    version='Slim'\n",
       ")"
      ]
     },
     "execution_count": 36,
     "metadata": {},
     "output_type": "execute_result"
    }
   ],
   "source": [
    "list(parser.findall('PS 3 SlIm  PS 3 SlIm PS 3 SlIm'))[1].fact"
   ]
  },
  {
   "cell_type": "code",
   "execution_count": 37,
   "id": "4df3cc46",
   "metadata": {},
   "outputs": [
    {
     "data": {
      "text/plain": [
       "Pristavka(\n",
       "    name='Xbox',\n",
       "    model='360',\n",
       "    version='x'\n",
       ")"
      ]
     },
     "execution_count": 37,
     "metadata": {},
     "output_type": "execute_result"
    }
   ],
   "source": [
    "list(parser.findall('XbOx 360 X'))[0].fact"
   ]
  },
  {
   "cell_type": "code",
   "execution_count": 38,
   "id": "7b78d6b5",
   "metadata": {},
   "outputs": [],
   "source": [
    "matches = []\n",
    "\n",
    "for sent in data.text:\n",
    "    for match in parser.findall(sent):\n",
    "        matches.append(match.fact)"
   ]
  },
  {
   "cell_type": "code",
   "execution_count": 39,
   "id": "a5a37c8a",
   "metadata": {},
   "outputs": [
    {
     "name": "stdout",
     "output_type": "stream",
     "text": [
      "Playstation 3\n",
      "Playstation 4\n",
      "Playstation 1\n",
      "Playstation 3\n",
      "Playstation 3\n",
      "Playstation 3\n",
      "Xbox 360\n",
      "Playstation 3\n",
      "Playstation 4\n",
      "Playstation 2\n"
     ]
    }
   ],
   "source": [
    "for m in matches[:10]:\n",
    "    print(m.name, m.model)"
   ]
  },
  {
   "cell_type": "code",
   "execution_count": 40,
   "id": "3ed33190",
   "metadata": {},
   "outputs": [
    {
     "data": {
      "text/plain": [
       "3351"
      ]
     },
     "execution_count": 40,
     "metadata": {},
     "output_type": "execute_result"
    }
   ],
   "source": [
    "len(matches)"
   ]
  },
  {
   "cell_type": "markdown",
   "id": "e83b633c",
   "metadata": {},
   "source": [
    "Улучшения для этого типа сущностей довольно очевидные и простые - нужно расширять газзетиры, можно добавить другие приставки вроде денди и нинтендо."
   ]
  },
  {
   "cell_type": "markdown",
   "id": "995784b0",
   "metadata": {},
   "source": [
    "Для сущностей, которые нельзя перечислить словарём, нужны контекстные правила. В целом они не сильно сложнее того, что мы сейчас написали. Возможно вам понадобятся другие полезные штуки из Yargy (предикат - and_, учёт грамматической информации - gram('NOUN'), согласование по роду, числу и падежу - gnc).\n",
    "\n",
    "Учить сразу все не имеет смысла. Возьмите практическую задачу, документацию к Yargy (https://yargy.readthedocs.io/ru/latest/index.html) и разбирайте только то, что вам нужно. \n",
    "\n",
    "Как и большинство задач в NLP, извлечение нормализованных сущностей из текстов хорошо решается языковыми моделями (GPT), но грамматики все еще могут быть полезны, когда задача ограничена, когда нужно точно знать, что матчится и когда просто не хватает ресурсов на использование языковых моделей. "
   ]
  },
  {
   "cell_type": "markdown",
   "id": "0103f793",
   "metadata": {},
   "source": []
  }
 ],
 "metadata": {
  "kernelspec": {
   "display_name": "Python 3 (ipykernel)",
   "language": "python",
   "name": "python3"
  },
  "language_info": {
   "codemirror_mode": {
    "name": "ipython",
    "version": 3
   },
   "file_extension": ".py",
   "mimetype": "text/x-python",
   "name": "python",
   "nbconvert_exporter": "python",
   "pygments_lexer": "ipython3",
   "version": "3.10.9"
  }
 },
 "nbformat": 4,
 "nbformat_minor": 5
}
