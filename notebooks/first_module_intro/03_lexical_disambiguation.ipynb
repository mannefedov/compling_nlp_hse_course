{
 "cells": [
  {
   "cell_type": "markdown",
   "id": "9b8c190e",
   "metadata": {},
   "source": [
    "# Word Sense Disambiguation (снятие лексической неоднозначности слов) и Word Sense Induction (нахождение значений слова)"
   ]
  },
  {
   "cell_type": "markdown",
   "id": "2cf62b83",
   "metadata": {},
   "source": [
    "WSD и WSI  - это связанные задачи про определение значений, в которых употребляются слова. WSI занимается определением возможных значений слова, а WSD нужна для того, чтобы определить, в каком из имеющихся значений слово употреблено в тексте. \n",
    "\n",
    "Основное предположение, на котором строятся все модели для снятия и определения неоднозначности - значение определяется в контексте. \n",
    "\n",
    "На практике WSD/WSI применяются достаточно редко. Современные модели (вроде BERT) используют фиксированные эмбединги для отдельных слов и преобразуют их в зависимости от контекста. Преобразованные (контекстуализированные) эмбединги удобно использовать для предсказания (именованных сущностей, частей речи, перевода), но из них нельзя вытащить информацию о том, сколько значений есть у слова. А это может требоваться в специфичных лингвистических задачах.   "
   ]
  },
  {
   "cell_type": "markdown",
   "id": "b8956f34",
   "metadata": {},
   "source": [
    "Для нас WSD и WSI удобны тем, что на их примере можно познакомится с важными методами и инструментами."
   ]
  },
  {
   "cell_type": "markdown",
   "id": "5e189015",
   "metadata": {},
   "source": [
    "# WSD"
   ]
  },
  {
   "cell_type": "markdown",
   "id": "e778c0f9-ba43-43da-98f0-5e55d8ddb1bc",
   "metadata": {},
   "source": [
    "## WordNet"
   ]
  },
  {
   "cell_type": "markdown",
   "id": "377c238e",
   "metadata": {},
   "source": [
    "Выводить значения просто из текста тяжело, поэтому можно попробовать воспользоваться словарями (wsi сделанное людьми). Самый известный такой словарь - WordNet (https://wordnet.princeton.edu/), который есть в nltk. Для русского есть https://ruwordnet.ru/ru , но он конечно попроще и данные нужно запрашивать."
   ]
  },
  {
   "cell_type": "markdown",
   "id": "6b2c58bf",
   "metadata": {},
   "source": [
    "WordNet - это лексическая база данных, где существительные, прилагательные и глаголы английского сгруппированы в синонимические множества. К тому же между ними установлены связи (гипонимия, гипоронимия, миронимия и т.п.)."
   ]
  },
  {
   "cell_type": "code",
   "execution_count": 71,
   "id": "9dcc6d61",
   "metadata": {},
   "outputs": [
    {
     "name": "stderr",
     "output_type": "stream",
     "text": [
      "[nltk_data] Downloading package wordnet to\n",
      "[nltk_data]     /Users/mnefedov/nltk_data...\n",
      "[nltk_data]   Package wordnet is already up-to-date!\n"
     ]
    },
    {
     "data": {
      "text/plain": [
       "True"
      ]
     },
     "execution_count": 71,
     "metadata": {},
     "output_type": "execute_result"
    }
   ],
   "source": [
    "# запустите если не установлен ворднет\n",
    "import nltk\n",
    "nltk.download('wordnet')"
   ]
  },
  {
   "cell_type": "code",
   "execution_count": 72,
   "id": "139f468e",
   "metadata": {},
   "outputs": [],
   "source": [
    "from nltk.corpus import wordnet as wn"
   ]
  },
  {
   "cell_type": "markdown",
   "id": "c49e0165",
   "metadata": {},
   "source": [
    "Синонимичные множества в WordNet'е коротко называются синсеты. "
   ]
  },
  {
   "cell_type": "code",
   "execution_count": 74,
   "id": "1733465f-4e2e-44e4-ba0a-b54c7a71f034",
   "metadata": {},
   "outputs": [
    {
     "data": {
      "text/plain": [
       "117659"
      ]
     },
     "execution_count": 74,
     "metadata": {},
     "output_type": "execute_result"
    }
   ],
   "source": [
    "# всего синсетов\n",
    "len(list(wn.all_synsets()))"
   ]
  },
  {
   "cell_type": "markdown",
   "id": "06a2bf67",
   "metadata": {},
   "source": [
    "Из них существительных:"
   ]
  },
  {
   "cell_type": "code",
   "execution_count": 75,
   "id": "a554f130",
   "metadata": {},
   "outputs": [
    {
     "data": {
      "text/plain": [
       "82115"
      ]
     },
     "execution_count": 75,
     "metadata": {},
     "output_type": "execute_result"
    }
   ],
   "source": [
    "len(list(wn.all_synsets('n')))"
   ]
  },
  {
   "cell_type": "markdown",
   "id": "a1e72af6",
   "metadata": {},
   "source": [
    "А глаголов:"
   ]
  },
  {
   "cell_type": "code",
   "execution_count": 76,
   "id": "a114a04d",
   "metadata": {},
   "outputs": [
    {
     "data": {
      "text/plain": [
       "13767"
      ]
     },
     "execution_count": 76,
     "metadata": {},
     "output_type": "execute_result"
    }
   ],
   "source": [
    "len(list(wn.all_synsets('v')))"
   ]
  },
  {
   "cell_type": "markdown",
   "id": "a17fcffb",
   "metadata": {},
   "source": [
    "А прилагательных:"
   ]
  },
  {
   "cell_type": "code",
   "execution_count": 77,
   "id": "3859a55b",
   "metadata": {},
   "outputs": [
    {
     "data": {
      "text/plain": [
       "18156"
      ]
     },
     "execution_count": 77,
     "metadata": {},
     "output_type": "execute_result"
    }
   ],
   "source": [
    "len(list(wn.all_synsets('a')))"
   ]
  },
  {
   "cell_type": "markdown",
   "id": "db754c80",
   "metadata": {},
   "source": [
    "Синсеты для слова можно достать вот так:"
   ]
  },
  {
   "cell_type": "code",
   "execution_count": 144,
   "id": "6aeb8b88",
   "metadata": {},
   "outputs": [
    {
     "data": {
      "text/plain": [
       "[Synset('go.n.01'),\n",
       " Synset('adam.n.03'),\n",
       " Synset('crack.n.09'),\n",
       " Synset('go.n.04'),\n",
       " Synset('travel.v.01'),\n",
       " Synset('go.v.02'),\n",
       " Synset('go.v.03'),\n",
       " Synset('become.v.01'),\n",
       " Synset('go.v.05'),\n",
       " Synset('run.v.05'),\n",
       " Synset('run.v.03'),\n",
       " Synset('proceed.v.04'),\n",
       " Synset('go.v.09'),\n",
       " Synset('go.v.10'),\n",
       " Synset('sound.v.02'),\n",
       " Synset('function.v.01'),\n",
       " Synset('run_low.v.01'),\n",
       " Synset('move.v.13'),\n",
       " Synset('survive.v.01'),\n",
       " Synset('go.v.16'),\n",
       " Synset('die.v.01'),\n",
       " Synset('belong.v.03'),\n",
       " Synset('go.v.19'),\n",
       " Synset('start.v.09'),\n",
       " Synset('move.v.15'),\n",
       " Synset('go.v.22'),\n",
       " Synset('go.v.23'),\n",
       " Synset('blend.v.02'),\n",
       " Synset('go.v.25'),\n",
       " Synset('fit.v.02'),\n",
       " Synset('rifle.v.02'),\n",
       " Synset('go.v.28'),\n",
       " Synset('plump.v.04'),\n",
       " Synset('fail.v.04'),\n",
       " Synset('go.a.01')]"
      ]
     },
     "execution_count": 144,
     "metadata": {},
     "output_type": "execute_result"
    }
   ],
   "source": [
    "# это все значения, которые соответствуют такой словоформе\n",
    "wn.synsets('go')"
   ]
  },
  {
   "cell_type": "markdown",
   "id": "79b7dabf",
   "metadata": {},
   "source": [
    "Можно ограничить часть речи:"
   ]
  },
  {
   "cell_type": "code",
   "execution_count": 145,
   "id": "2ddbe807",
   "metadata": {},
   "outputs": [
    {
     "data": {
      "text/plain": [
       "[Synset('travel.v.01'),\n",
       " Synset('go.v.02'),\n",
       " Synset('go.v.03'),\n",
       " Synset('become.v.01'),\n",
       " Synset('go.v.05'),\n",
       " Synset('run.v.05'),\n",
       " Synset('run.v.03'),\n",
       " Synset('proceed.v.04'),\n",
       " Synset('go.v.09'),\n",
       " Synset('go.v.10'),\n",
       " Synset('sound.v.02'),\n",
       " Synset('function.v.01'),\n",
       " Synset('run_low.v.01'),\n",
       " Synset('move.v.13'),\n",
       " Synset('survive.v.01'),\n",
       " Synset('go.v.16'),\n",
       " Synset('die.v.01'),\n",
       " Synset('belong.v.03'),\n",
       " Synset('go.v.19'),\n",
       " Synset('start.v.09'),\n",
       " Synset('move.v.15'),\n",
       " Synset('go.v.22'),\n",
       " Synset('go.v.23'),\n",
       " Synset('blend.v.02'),\n",
       " Synset('go.v.25'),\n",
       " Synset('fit.v.02'),\n",
       " Synset('rifle.v.02'),\n",
       " Synset('go.v.28'),\n",
       " Synset('plump.v.04'),\n",
       " Synset('fail.v.04')]"
      ]
     },
     "execution_count": 145,
     "metadata": {},
     "output_type": "execute_result"
    }
   ],
   "source": [
    "wn.synsets('go', pos='v')"
   ]
  },
  {
   "cell_type": "markdown",
   "id": "b06590ca",
   "metadata": {},
   "source": [
    "У многих из них есть определения:"
   ]
  },
  {
   "cell_type": "code",
   "execution_count": 15,
   "id": "d4aa4f59",
   "metadata": {},
   "outputs": [
    {
     "name": "stdout",
     "output_type": "stream",
     "text": [
      "car - a motor vehicle with four wheels; usually propelled by an internal combustion engine\n",
      "car - a wheeled vehicle adapted to the rails of railroad\n",
      "car - the compartment that is suspended from an airship and that carries personnel and the cargo and the power plant\n",
      "car - where passengers ride up and down\n",
      "car - a conveyance for passengers or freight on a cable railway\n"
     ]
    }
   ],
   "source": [
    "word = 'car'\n",
    "for synset in wn.synsets(word):\n",
    "    print(word + ' - ' + synset.definition())\n",
    "#     print()"
   ]
  },
  {
   "cell_type": "markdown",
   "id": "6e088c53",
   "metadata": {},
   "source": [
    "И даже примеры:"
   ]
  },
  {
   "cell_type": "code",
   "execution_count": 16,
   "id": "45f98c07",
   "metadata": {},
   "outputs": [
    {
     "name": "stdout",
     "output_type": "stream",
     "text": [
      "car - he needs a car to get to work\n",
      "car - three cars had jumped the rails\n",
      "car - \n",
      "car - the car was on the top floor\n",
      "car - they took a cable car to the top of the mountain\n"
     ]
    }
   ],
   "source": [
    "word = 'car'\n",
    "for synset in wn.synsets(word):\n",
    "    print(word + ' - ' + ' | '.join(synset.examples()))\n",
    "#     print()"
   ]
  },
  {
   "cell_type": "markdown",
   "id": "31d72334-b1d7-4d67-919c-257c3bfa1f2c",
   "metadata": {},
   "source": [
    "Каждый синсет объединяет словоформы, которые являются взаимозаменяемыми во многих контекстах. Достать словоформы для значения можно вот так:"
   ]
  },
  {
   "cell_type": "code",
   "execution_count": 147,
   "id": "00027625-023b-4b02-9470-9f966d28e9d2",
   "metadata": {},
   "outputs": [
    {
     "data": {
      "text/plain": [
       "[['auto', 'automobile', 'machine', 'motorcar'],\n",
       " ['railcar', 'railroad_car', 'railway_car'],\n",
       " ['gondola'],\n",
       " ['elevator_car'],\n",
       " ['cable_car']]"
      ]
     },
     "execution_count": 147,
     "metadata": {},
     "output_type": "execute_result"
    }
   ],
   "source": [
    "# длина совпадает с длиной wn.synsets(\"car\")\n",
    "# то есть каждый список соответствует значению \n",
    "wn.synonyms('car')"
   ]
  },
  {
   "cell_type": "code",
   "execution_count": 150,
   "id": "56716fd0-762d-4208-9a38-e091834bcae5",
   "metadata": {},
   "outputs": [
    {
     "data": {
      "text/plain": [
       "[['badness'],\n",
       " [],\n",
       " ['big'],\n",
       " ['tough'],\n",
       " ['spoiled', 'spoilt'],\n",
       " ['regretful', 'sorry'],\n",
       " ['uncollectible'],\n",
       " [],\n",
       " [],\n",
       " ['high-risk', 'risky', 'speculative'],\n",
       " ['unfit', 'unsound'],\n",
       " [],\n",
       " [],\n",
       " ['forged'],\n",
       " ['defective'],\n",
       " ['badly'],\n",
       " ['badly']]"
      ]
     },
     "execution_count": 150,
     "metadata": {},
     "output_type": "execute_result"
    }
   ],
   "source": [
    "# другой пример\n",
    "# пустой список означает, что для этого значения\n",
    "# взаимозаменяемых синонимов нет\n",
    "wn.synonyms('bad')"
   ]
  },
  {
   "cell_type": "code",
   "execution_count": null,
   "id": "0dfa4a80-36d3-4427-a7db-7f9649fff1dd",
   "metadata": {},
   "outputs": [],
   "source": []
  },
  {
   "cell_type": "markdown",
   "id": "cf64ddbd",
   "metadata": {},
   "source": [
    "Посмотрим на другие отношения (гипонимы, антонимы, синонимы, меронимы)."
   ]
  },
  {
   "cell_type": "code",
   "execution_count": 154,
   "id": "16191e3f",
   "metadata": {
    "scrolled": true
   },
   "outputs": [
    {
     "data": {
      "text/plain": [
       "[Synset('accelerator.n.01'),\n",
       " Synset('air_bag.n.01'),\n",
       " Synset('auto_accessory.n.01'),\n",
       " Synset('automobile_engine.n.01'),\n",
       " Synset('automobile_horn.n.01'),\n",
       " Synset('buffer.n.06'),\n",
       " Synset('bumper.n.02'),\n",
       " Synset('car_door.n.01'),\n",
       " Synset('car_mirror.n.01'),\n",
       " Synset('car_seat.n.01'),\n",
       " Synset('car_window.n.01'),\n",
       " Synset('fender.n.01'),\n",
       " Synset('first_gear.n.01'),\n",
       " Synset('floorboard.n.02'),\n",
       " Synset('gasoline_engine.n.01'),\n",
       " Synset('glove_compartment.n.01'),\n",
       " Synset('grille.n.02'),\n",
       " Synset('high_gear.n.01'),\n",
       " Synset('hood.n.09'),\n",
       " Synset('luggage_compartment.n.01'),\n",
       " Synset('rear_window.n.01'),\n",
       " Synset('reverse.n.02'),\n",
       " Synset('roof.n.02'),\n",
       " Synset('running_board.n.01'),\n",
       " Synset('stabilizer_bar.n.01'),\n",
       " Synset('sunroof.n.01'),\n",
       " Synset('tail_fin.n.02'),\n",
       " Synset('third_gear.n.01'),\n",
       " Synset('window.n.02')]"
      ]
     },
     "execution_count": 154,
     "metadata": {},
     "output_type": "execute_result"
    }
   ],
   "source": [
    "wn.synsets('car')[0].part_meronyms()"
   ]
  },
  {
   "cell_type": "markdown",
   "id": "15ff7c54",
   "metadata": {},
   "source": [
    "Антонимы только достаются не очень удобно:"
   ]
  },
  {
   "cell_type": "code",
   "execution_count": 155,
   "id": "29ba9bd9",
   "metadata": {},
   "outputs": [
    {
     "data": {
      "text/plain": [
       "[Lemma('bad.n.01.bad')]"
      ]
     },
     "execution_count": 155,
     "metadata": {},
     "output_type": "execute_result"
    }
   ],
   "source": [
    "wn.synsets('good')[2].lemmas()[0].antonyms()"
   ]
  },
  {
   "cell_type": "code",
   "execution_count": 156,
   "id": "6647bbea",
   "metadata": {},
   "outputs": [
    {
     "data": {
      "text/plain": [
       "[Synset('good.n.01'),\n",
       " Synset('good.n.02'),\n",
       " Synset('good.n.03'),\n",
       " Synset('commodity.n.01'),\n",
       " Synset('good.a.01'),\n",
       " Synset('full.s.06'),\n",
       " Synset('good.a.03'),\n",
       " Synset('estimable.s.02'),\n",
       " Synset('beneficial.s.01'),\n",
       " Synset('good.s.06'),\n",
       " Synset('good.s.07'),\n",
       " Synset('adept.s.01'),\n",
       " Synset('good.s.09'),\n",
       " Synset('dear.s.02'),\n",
       " Synset('dependable.s.04'),\n",
       " Synset('good.s.12'),\n",
       " Synset('good.s.13'),\n",
       " Synset('effective.s.04'),\n",
       " Synset('good.s.15'),\n",
       " Synset('good.s.16'),\n",
       " Synset('good.s.17'),\n",
       " Synset('good.s.18'),\n",
       " Synset('good.s.19'),\n",
       " Synset('good.s.20'),\n",
       " Synset('good.s.21'),\n",
       " Synset('well.r.01'),\n",
       " Synset('thoroughly.r.02')]"
      ]
     },
     "execution_count": 156,
     "metadata": {},
     "output_type": "execute_result"
    }
   ],
   "source": [
    "wn.synsets('good')"
   ]
  },
  {
   "cell_type": "markdown",
   "id": "7d8bc4fa",
   "metadata": {},
   "source": [
    "Можно засунуть это все в граф и нарисовать:"
   ]
  },
  {
   "cell_type": "code",
   "execution_count": 21,
   "id": "65b873de",
   "metadata": {},
   "outputs": [
    {
     "name": "stdout",
     "output_type": "stream",
     "text": [
      "Requirement already satisfied: networkx in /Users/mnefedov/miniforge3/envs/tf2/lib/python3.9/site-packages (3.0)\n",
      "\u001b[33mWARNING: Error parsing requirements for pybind11: [Errno 2] No such file or directory: '/Users/mnefedov/miniforge3/envs/tf2/lib/python3.9/site-packages/pybind11-2.10.1.dist-info/METADATA'\u001b[0m\u001b[33m\n",
      "\u001b[0m"
     ]
    }
   ],
   "source": [
    "!pip install networkx"
   ]
  },
  {
   "cell_type": "code",
   "execution_count": 27,
   "id": "0497a6b8",
   "metadata": {},
   "outputs": [
    {
     "name": "stdout",
     "output_type": "stream",
     "text": [
      "[Synset('accelerator.n.01'), Synset('air_bag.n.01'), Synset('auto_accessory.n.01'), Synset('automobile_engine.n.01'), Synset('automobile_horn.n.01'), Synset('buffer.n.06'), Synset('bumper.n.02'), Synset('car_door.n.01'), Synset('car_mirror.n.01'), Synset('car_seat.n.01'), Synset('car_window.n.01'), Synset('fender.n.01'), Synset('first_gear.n.01'), Synset('floorboard.n.02'), Synset('gasoline_engine.n.01'), Synset('glove_compartment.n.01'), Synset('grille.n.02'), Synset('high_gear.n.01'), Synset('hood.n.09'), Synset('luggage_compartment.n.01'), Synset('rear_window.n.01'), Synset('reverse.n.02'), Synset('roof.n.02'), Synset('running_board.n.01'), Synset('stabilizer_bar.n.01'), Synset('sunroof.n.01'), Synset('tail_fin.n.02'), Synset('third_gear.n.01'), Synset('window.n.02')]\n"
     ]
    }
   ],
   "source": [
    "import networkx as nx\n",
    "import matplotlib.pyplot as plt\n",
    "\n",
    "words = wn.synsets('car')\n",
    "hyponyms = words[0].part_meronyms()\n",
    "print(hyponyms)\n",
    "\n",
    "G=nx.Graph()\n",
    "\n",
    "for w in hyponyms: \n",
    "    G.add_edge(words[0].name().split('.')[0],\n",
    "               w.name().split('.')[0], \n",
    "               weight=words[0].wup_similarity(w))"
   ]
  },
  {
   "cell_type": "code",
   "execution_count": 28,
   "id": "f783af3f",
   "metadata": {},
   "outputs": [
    {
     "data": {
      "image/png": "[encoded data removed]",
      "text/plain": [
       "<Figure size 1000x1000 with 1 Axes>"
      ]
     },
     "metadata": {},
     "output_type": "display_data"
    }
   ],
   "source": [
    "plt.figure(figsize=(10,10))\n",
    "plt.axis('off')\n",
    "\n",
    "nx.draw_networkx(G,with_labels=True,node_size=2000,\n",
    "                 font_size=10,\n",
    "                 node_shape='s',\n",
    "                 alpha=0.9,\n",
    "                 node_color='red')\n"
   ]
  },
  {
   "cell_type": "markdown",
   "id": "1b34436a",
   "metadata": {},
   "source": [
    "Можно посчитать близость между синсетами (зависит от того, какой путь нужно пройти по этим связям от одного объекта до другого и есть ли он вообще)"
   ]
  },
  {
   "cell_type": "code",
   "execution_count": 29,
   "id": "aa6f95a4",
   "metadata": {},
   "outputs": [],
   "source": [
    "car = wn.synsets('car')[0]\n",
    "bike = wn.synsets('bike')[0]"
   ]
  },
  {
   "cell_type": "code",
   "execution_count": 30,
   "id": "a6af6e45",
   "metadata": {},
   "outputs": [
    {
     "data": {
      "text/plain": [
       "0.3333333333333333"
      ]
     },
     "execution_count": 30,
     "metadata": {},
     "output_type": "execute_result"
    }
   ],
   "source": [
    "bike.path_similarity(car)"
   ]
  },
  {
   "cell_type": "markdown",
   "id": "151c9c0f",
   "metadata": {},
   "source": [
    "Есть и другие метрики:"
   ]
  },
  {
   "cell_type": "code",
   "execution_count": 31,
   "id": "9f01bcf7",
   "metadata": {},
   "outputs": [
    {
     "data": {
      "text/plain": [
       "2.538973871058276"
      ]
     },
     "execution_count": 31,
     "metadata": {},
     "output_type": "execute_result"
    }
   ],
   "source": [
    "wn.lch_similarity(bike, car)"
   ]
  },
  {
   "cell_type": "code",
   "execution_count": 32,
   "id": "a675de99",
   "metadata": {},
   "outputs": [
    {
     "data": {
      "text/plain": [
       "0.9166666666666666"
      ]
     },
     "execution_count": 32,
     "metadata": {},
     "output_type": "execute_result"
    }
   ],
   "source": [
    "wn.wup_similarity(bike, car)"
   ]
  },
  {
   "cell_type": "markdown",
   "id": "0693e61e-495e-44fc-95f6-316d9732dff6",
   "metadata": {},
   "source": [
    "### использование WordNet для WSD"
   ]
  },
  {
   "cell_type": "markdown",
   "id": "8aac2778",
   "metadata": {},
   "source": [
    "Датасеты для обучения и оценки WSD моделей обычно используют смыслы из WordNet. Например, http://lcl.uniroma1.it/wsdeval/ Там очень много данных, поэтому я взял небольшой кусок"
   ]
  },
  {
   "cell_type": "code",
   "execution_count": 34,
   "id": "ad1d8e05",
   "metadata": {},
   "outputs": [],
   "source": [
    "corpus_wsd = []\n",
    "corpus = open('data/corpus_wsd_50k.txt').read().split('\\n\\n')\n",
    "for sent in corpus:\n",
    "    corpus_wsd.append([s.split('\\t') for s in sent.split('\\n')])"
   ]
  },
  {
   "cell_type": "markdown",
   "id": "936b2d5b",
   "metadata": {},
   "source": [
    "Корпус состоит из предложений, где у каждого слова три поля - значение, лемма и само слово. Значение пустое, когда слово однозначное, а у многозначных слов стоит тэг вида **'long%3:00:02::'** Это тэг wordnet'ного формата"
   ]
  },
  {
   "cell_type": "code",
   "execution_count": 35,
   "id": "7239f516",
   "metadata": {},
   "outputs": [
    {
     "data": {
      "text/plain": [
       "[['', 'have', 'Have'],\n",
       " ['', 'you', 'you'],\n",
       " ['permit%2:41:00::', 'permit', 'permitted'],\n",
       " ['', 'it', 'it'],\n",
       " ['', 'to', 'to'],\n",
       " ['become%2:42:01::', 'become', 'become'],\n",
       " ['', 'a', 'a'],\n",
       " ['giveaway%1:21:00::', 'giveaway', 'giveaway'],\n",
       " ['program%1:09:01::', 'program', 'program'],\n",
       " ['rather%4:02:02::', 'rather', 'rather'],\n",
       " ['', 'than', 'than'],\n",
       " ['', 'one', 'one'],\n",
       " ['', 'that', 'that'],\n",
       " ['have%2:42:00::', 'have', 'has'],\n",
       " ['', 'the', 'the'],\n",
       " ['goal%1:09:00::', 'goal', 'goal'],\n",
       " ['', 'of', 'of'],\n",
       " ['improved%3:00:00::', 'improved', 'improved'],\n",
       " ['employee%1:18:00::', 'employee', 'employee'],\n",
       " ['morale%1:26:00::', 'morale', 'morale'],\n",
       " ['', 'and', 'and'],\n",
       " ['', ',', ','],\n",
       " ['consequently%4:02:00::', 'consequently', 'consequently'],\n",
       " ['', ',', ','],\n",
       " ['increased%3:00:00::', 'increased', 'increased'],\n",
       " ['productivity%1:07:00::', 'productivity', 'productivity'],\n",
       " ['', '?', '?']]"
      ]
     },
     "execution_count": 35,
     "metadata": {},
     "output_type": "execute_result"
    }
   ],
   "source": [
    "corpus_wsd[1]"
   ]
  },
  {
   "cell_type": "markdown",
   "id": "2885c3c5",
   "metadata": {},
   "source": [
    "Вот так можно достать соответствующий этому тэгу синсет:"
   ]
  },
  {
   "cell_type": "code",
   "execution_count": 36,
   "id": "3aafc59d",
   "metadata": {},
   "outputs": [
    {
     "data": {
      "text/plain": [
       "Synset('program.n.02')"
      ]
     },
     "execution_count": 36,
     "metadata": {},
     "output_type": "execute_result"
    }
   ],
   "source": [
    "wn.lemma_from_key('program%1:09:01::').synset()"
   ]
  },
  {
   "cell_type": "code",
   "execution_count": 37,
   "id": "8633e438",
   "metadata": {},
   "outputs": [
    {
     "data": {
      "text/plain": [
       "'a system of projects or services intended to meet a public need'"
      ]
     },
     "execution_count": 37,
     "metadata": {},
     "output_type": "execute_result"
    }
   ],
   "source": [
    "wn.lemma_from_key('program%1:09:01::').synset().definition()"
   ]
  },
  {
   "cell_type": "markdown",
   "id": "af7341b8",
   "metadata": {},
   "source": [
    "### Алгоритм Леска"
   ]
  },
  {
   "cell_type": "markdown",
   "id": "63bae13a",
   "metadata": {},
   "source": [
    "Как теперь разрешить предсказать правильный смысл для каждого такого случая? Классический способ это сделать - алгоритм Леска, который основан на уже существующей базе значений и их определений (например, на wordnet). Алгоритм у него достаточно простой: 1) для неоднозначного слова находятся определения всех его значений; 2) выбирается контекст, в котором встретилось неоднозначное слово - обычно это какое-то окно вокруг слова (5 слов слева + 5 слов справа); 3) контекст сравнивается с каждым из определений и выбирается значение с наибольшей близостью к контексту. \n",
    "\n",
    "\n",
    "Сама имплементация этого алгоритма будет вашим домашним заданием, но мы разберем ключевой пункт этого алгоритма - расчет близости контекста и определения."
   ]
  },
  {
   "cell_type": "markdown",
   "id": "82263be4",
   "metadata": {},
   "source": [
    "Рассмотрим несколько способов."
   ]
  },
  {
   "cell_type": "markdown",
   "id": "2f30a022",
   "metadata": {},
   "source": [
    "## Пересечение слов\n",
    "\n",
    "Самый простой способ - это просто посчитать общие слова. Чем больше общих слова - тем более похожи определение и контекст. Такое удобно написать через множества (set) в питоне"
   ]
  },
  {
   "cell_type": "code",
   "execution_count": 157,
   "id": "f304c31e",
   "metadata": {},
   "outputs": [],
   "source": [
    "definition1 = 'a system of projects or services intended to meet a public need'\n",
    "definition2 = '(computer science) a sequence of instructions that a computer can interpret and execute'\n",
    "context = 'i wrote a computer _ that predicts the sense of a word' # само слово не program не используем"
   ]
  },
  {
   "cell_type": "code",
   "execution_count": 158,
   "id": "a93df84c",
   "metadata": {},
   "outputs": [
    {
     "data": {
      "text/plain": [
       "{'a', 'of'}"
      ]
     },
     "execution_count": 158,
     "metadata": {},
     "output_type": "execute_result"
    }
   ],
   "source": [
    "(set(definition1.split()) & set(context.split()))"
   ]
  },
  {
   "cell_type": "code",
   "execution_count": 159,
   "id": "e1f94102",
   "metadata": {},
   "outputs": [
    {
     "data": {
      "text/plain": [
       "{'a', 'computer', 'of', 'that'}"
      ]
     },
     "execution_count": 159,
     "metadata": {},
     "output_type": "execute_result"
    }
   ],
   "source": [
    "(set(definition2.split()) & set(context.split()))"
   ]
  },
  {
   "cell_type": "markdown",
   "id": "9b43e4eb",
   "metadata": {},
   "source": [
    "Можно еще конечно почистить от стоп-слов, но уже видно, что это как-то работает. Единственный недостаток такого подхода в том, что он зависит от длины текстов. Можно представить ситуацию, где определение состоит из трех слов и все они есть в контексте, но при этом в другом определении, состоящим из 30 слов, есть 4 пересечения. Хотелось бы метрику, которая устраняет влияние длины текста."
   ]
  },
  {
   "cell_type": "markdown",
   "id": "4f1046ce",
   "metadata": {},
   "source": [
    "## Jaccard\n",
    "\n",
    "Пример такой метрики - метрика Жаккара (Jaccard). В ней к пересечению еще добавляется объединение и итоговое значение - это отношение пересечения к объединению. Логика тут в том, чтобы оценить какая доля слов пересекается. Значение будет от 0 до 1, так как пересечение в худшем случае равно 0, а в лучшем равно объединению. "
   ]
  },
  {
   "cell_type": "code",
   "execution_count": 160,
   "id": "e0c92e46",
   "metadata": {},
   "outputs": [],
   "source": [
    "definition1 = 'a system of projects or services intended to meet a public need'\n",
    "definition2 = '(computer science) a sequence of instructions that a computer can interpret and execute'\n",
    "context = 'i wrote a computer _ that predicts the sense of a word'\n",
    "\n",
    "intersection1 = (set(definition1.split()) & set(context.split()))\n",
    "union1 = (set(definition1.split()) | set(context.split()))\n",
    "jaccard1 =  len(intersection1) / len(union1)\n",
    "\n",
    "intersection2 = (set(definition2.split()) & set(context.split()))\n",
    "union2 = (set(definition2.split()) | set(context.split()))\n",
    "jaccard2 =  len(intersection2) / len(union2)"
   ]
  },
  {
   "cell_type": "code",
   "execution_count": 161,
   "id": "3a348e87",
   "metadata": {},
   "outputs": [
    {
     "data": {
      "text/plain": [
       "(0.1, 0.21052631578947367)"
      ]
     },
     "execution_count": 161,
     "metadata": {},
     "output_type": "execute_result"
    }
   ],
   "source": [
    "jaccard1, jaccard2"
   ]
  },
  {
   "cell_type": "markdown",
   "id": "61df87a6",
   "metadata": {},
   "source": [
    "### Косинусная близость"
   ]
  },
  {
   "cell_type": "markdown",
   "id": "ba750b88",
   "metadata": {},
   "source": [
    "Другая метрика, которую нужно разобрать - косинусная близость (или косинусное расстояние). В каком-то смысле это то же самое, что и Жаккар, но обобщенное на работу с векторами. Саму векторизацию мы пока пропустим и представим, что они у нас уже есть."
   ]
  },
  {
   "cell_type": "markdown",
   "id": "2fa0fd5a",
   "metadata": {},
   "source": [
    "Есть геометрическое объяснение косинусного расстояния/близости: угол между двумя одинаковыми векторами равен 0, а косинус 0 - равен 1; угол между перпендикулярными векторами векторами равен 90 градусов, а косинус - 0; угол между векторами направленными в противоположные стороны равен 180, а косинус -1. "
   ]
  },
  {
   "cell_type": "markdown",
   "id": "5f622418",
   "metadata": {},
   "source": [
    "Картинка для примера:"
   ]
  },
  {
   "cell_type": "code",
   "execution_count": 57,
   "id": "19a92ccd",
   "metadata": {},
   "outputs": [],
   "source": [
    "from IPython.display import Image\n",
    "from IPython.core.display import HTML "
   ]
  },
  {
   "cell_type": "code",
   "execution_count": 58,
   "id": "0dc51d38",
   "metadata": {},
   "outputs": [
    {
     "data": {
      "text/html": [
       "<img src=\"https://i.ibb.co/2qFsPLQ/Screenshot-2022-11-16-at-15-36-40.png\" width=\"500\" height=\"500\"/>"
      ],
      "text/plain": [
       "<IPython.core.display.Image object>"
      ]
     },
     "execution_count": 58,
     "metadata": {},
     "output_type": "execute_result"
    }
   ],
   "source": [
    "Image(url=\"https://i.ibb.co/2qFsPLQ/Screenshot-2022-11-16-at-15-36-40.png\",\n",
    "     width=500, height=500)"
   ]
  },
  {
   "cell_type": "markdown",
   "id": "4bd5385f",
   "metadata": {},
   "source": [
    "Допустим в нашем словаре 2 слова: Hi и Mark. На графике изображены три текста: \"Hi\", \"Mark\", \"Hi Mark\". Между Hi и Mark нет ничего общего, они перпендикулярны, поэтому их близость равна 0, а между Hi Mark и Mark уже есть общее, поэтому близость будет ненулевая. "
   ]
  },
  {
   "cell_type": "markdown",
   "id": "016f52ae",
   "metadata": {},
   "source": [
    "Но геометрическое объяснение сложновато обобщить на реальные примеры. Уникальных слов обычно сильно больше 2 и, соответственно, нужно к графику выше мысленно добавлять еще сотни или даже тысячи размерностей. Нарисовать такое или даже представить сложновато. \n",
    "\n",
    "Поэтому давайте лучше посмотрим на алгебраическую интерпретацию."
   ]
  },
  {
   "cell_type": "markdown",
   "id": "5dc9ec1c",
   "metadata": {},
   "source": [
    "Формула вот такая:"
   ]
  },
  {
   "cell_type": "code",
   "execution_count": 59,
   "id": "b2fd8228",
   "metadata": {},
   "outputs": [
    {
     "data": {
      "text/html": [
       "<img src=\"data:image/png;base64,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\" width=\"500\" height=\"500\"/>"
      ],
      "text/plain": [
       "<IPython.core.display.Image object>"
      ]
     },
     "execution_count": 59,
     "metadata": {},
     "output_type": "execute_result"
    }
   ],
   "source": [
    "Image(url=\"data:image/png;base64,iVBORw0KGgoAAAANSUhEUgAAAa0AAAB1CAMAAADKkk7zAAAAaVBMVEX////l5eXBwcErKysAAAD6+vqoqKg5OTnz8/OEhIS+vr7u7u739/fa2trT09OhoaFPT0+Ojo7KyspaWlpkZGS4uLhqamqxsbGZmZlvb29+fn4hISEQEBAmJiZ0dHQ+Pj5HR0cYGBgyMjL2v28PAAARmUlEQVR4nO1dCXucKhQFBTcUxA3cl///Ix/gjEvGNpklyWvi+dqkmZmg9cjl3IUrACdOnDhx4sRLEJo/J/4JRDJKWI6/+zROfASkKl0Z9Ml3n8eJj4A4ZQaIa333eZz4EEgvQDJ6pyn8JxA1EPtpFH33eZz4ALAzAC+rOPzuEznxAeAgByDxz3XrxIkTvxMEQhhdADVOXfg/RpCmlX9BVaZx8VYXErr7MfTCUP/9ujM8sYJOqKQXWDIdkb9/Pyz77Y84kdyXDuMyOSfhNyAfx40WTAZ3z0KOpu1sw0mGms7hXTs6J11fD1yhfsMHTIPtu7BA7t4Ls8ZCf8ubfm8iT3wJSIwKb/0xEds3nWGw96xIxPW3YDzZ+hbQtmF/eisT8bijD5SNmXwl8k+l8S1wmvo4WYK5D7I9W9EwJR6kfOjOMNX3AHcoPrz2QUywj+T2pXycJJNpy0+N8V0gA6rI7cuwVBbSR5X+t8Xn1yTKckc4aa/tocUOfuvEZyOpx4NsiVMzwdKZLZHOk6lsjGHMGz0b2WkOvwVxdjtLoriqOj9FRrFfJEXUT0YKBrVLAT6t4bdAZAeTRBqaLBQD4Ak56/WgmeeYj0pMEn6K+G+AlR5cdmcw081CgyKpyuaIFDOaw5P1lADBJv/21058MpIs3/xkOMJWNWkvDLKyaStBnDjXL/o2cruyKlxNLxWx+MOIJz4NJN1q9MQwhy0upXoZSs4YzwEfwhDgoOqqMssqmZvgB09PkfHVwNmWLDoc5fth0R2U2KSc/tqFixwrrJAYfFqYB/Nq81Me20enEZWpcyMaSZo6v3VyifQwBRHyfojjwXXTrAoO3n8afHKsYAbjWY2qow+FiTjwx5JfSxYeUH8UGMB5ZyM0+FXnIvsTwj3J1A69wdDbNWqms7z6A0hG1Pxh7pTIxMipi+rX15BFQjhXCIXgjKx/ACVCuzTTClKgRl6+8y8+qxOHIG3WoPqwsnlhK0Xj6d/8L8BqGiMkj8yQZsuHMKrGkR9OvqeAq+0dgCNxTt93gYcsFM2xzlBsITdN4wbdVI+94sjddi0kvJhef4yfhkTph9BGzRoBgv71ntdzq1T62onr9BME2246Y8rb1x/ip6EcpRA9Qtli6nI0Xa6jZsvUTQiE0lcrtoTJvVcg6xcf4ecBtqNyeCaExiWSY/K2BleVAShC7YttYciZHQLJZzhqcp1svQs5OollWUpn8GXyLEvYwlaCkP3i4IFn8SEE1zp4fSv8BrbCzT1P7q9V6DPzLVc644CO2Tv2NJndoyf4J3iTWh7pzBX9P7CF6adHs6B/CUPQHIOI53//9BtEQ4saPWm6VnnIdr9X6aFvN8pC2m3doPb1mxcDGzqhuED/J9hXsOVxefsizn0CrGk8uiMJZy9bsT0/M2NFZVeqYznZXXmE0MotK1cD0EBZw/wt1ZF6dw67WvT17pZwfQq8GcRTV2VAX7BFEjb17SWC8egAT+rCgtvTHE31t3iFJrZcc2yYxV7eK8vSZf9MeQkJdroFR9T6fFMEvKq6vfFC1qlzge4RW1FnAged8/yxSVfqb5i3CYhiNbny/lNyGz8I4ZGVwPpF2B+xBTxNVpS+IPKW2MZ20DbTofRUR/SK50f9mQikk1AcJQkEUH0JBYMAm+SZelHP6pktyLjOnWH9mSjx1JRXqwApRk4j/VqivlL15S8H8gIpjZGAjmPMR+hwJ4m0jNIqEHNdF5mb6rvKff0K8xMQplxIm3tdbSehdO2u5IUrO99vfUD8VutTw1Zgp3k3CLWK2W3aTWVSjHEU8hq5Q0XEUNuVx9rmqLz4ChqnTjclSqTFjpP6ykuJufBtBkhm6/cjV+s6ZvYWOtPZzOAIeQPVuuErk9ZYgDhoikI6tsyL+ilUnnrjXNhiKFNSWQmLkKM4H1KI41aJoapmEAKPTq26vJN/IStI4xUX8RLGamhdwe/UCcbJJDF3FWOZBDA13pLVjGkajyZIJNyrgRWbke6TivcAs2E5ylD9f9PvQZMFEEYAd3o/ZqQ4AbC29dKhk0V5c51bJNAOjf6MUC6mdmALxRaQ7awH/CYH0RLiDuEGF+PoNEo+EOGRelA/ebFNeNNZUPn/0WBWKQd1hFita5Rme/UnvIOhAEm0Vn8ewUI/2RxlqcaB1msO8zQW2enFqBkzAsJSM0H1vj1YT1q8a7bEwhagVe+OOlPuXPZBG7Z4Pbs3SZ2B6k9bzjRwZar1le9r/AGvaCjsUVN3an65mi3s63lszUXjef3XLBGNW/sVqMu/HQWI/jWHeRqbcFreTWq2XNjSATXDFin2bAmdbaj0Z1gt92xF2v6lo5Utshtu7/3wytbM68JWotRGNjZcWULNUFjpA/pz5cTKFtzcYsl1VcTwRViWWbiecLD40OH7A3wNltO0ND3FBHA5JvpSLmylO7aiwVZvF7UMsFOzC1vRzFanJw1ren+x95T7Ky7T2FhCJTPhqNN1pK8hFwDTOFNsGQ/BryGg7ny359N13bKqdST+aS3KwnxzGPa/XLcwVQZaKCGGearmkq4YShBXtmq0jSWk+hIzXSs0KGs1UUD7tpKENbMlzJQvq0hyQKWnA+nRGvLB3gaXVYAMtpIojGOmb4tk5F7WKxegVNO6M+lW0VLcXYKyrE3+MtQnINwc5X9ZtIT56GOQt7FfDQmJ2yZ2pIvq0hpQU7CiaQbObdRy6jZNkTj1wLvUbjlrUZtZgJYjmnItE4u56LIb3rnzo9juulKtkNItK9cHXlmnfpZGelOanuqwjLP4MkbVP+lv/TORq49C93kItRgKAqLTFIRgXYTsYf0l9HQxcmgqkvXPxrLDkCrxbT6p7nnzTb2ceObi+O+GoDxqPqtWHcvSI0Qwys2qRntj90iQXG5rGL+f2dAaNVjduw09kCrvXr8T5rpI9uiXo0Tpykc3keI78IIhLmNgWL4oYpCoxSl73J/VlngHZ3o/Tpiq461lFliuDaMDP8QmDk5iDIiSK2EgRG5SGtZcDu8xBqj/0CoYOYw5HwcTB1sm7xviEvhRovxFe5Q5cuQzxV803vm9XvGBMOGerbxeawkDH2OTLyPaT1Q3AhzGRvkpjcJoHHjC5KNslZPbux/HlN4ehdV3DKDQC30jhtmrGpjTePCfElIi3d438mAP7w00UytbKULs+p/ZsQW13sTURjYOsceR8ee8x9lSVz+8C7dDSP7IEPCwVvIhPLvdGTsbbzj50HXcsRW1CA3X++WWLQAnZHQnbU2PrGfYelreE/+xtMX/SDjhu2+cHVuVzuZfPYgNW6Fh7IVsJc8vHvQ3bg3fsoXtMlv3LKxsDZb6q19SbNnalXJQo93vx9mS8mlhJn5jf6ctW05jJSO69hfZsQUb/ZJia6yqSjmRvjYoj7NV3lfgcwR5uB3vh2PLVjp4YFj2LPyBLc65P4ypbrn5OFvx88Ev/vIquX8AG7YipcsJX2oJj9ky61Y0oDZ/CVshhATCB8yi519TFTpoTB4Z4h/Ehq2qyaqqXHTGRmXAN2yFSsJnT7BFi6skZFlfVfEDRXrRtXRSuS1xxoffsYqtbOEplgrZdc/CThPu2cKKrfgJthx+lYS+0yageuBSB9cEOwj4IIH/O1pmrGyJ0dyttL7ojI0lTC5sRUoTms/EpiT+Ybb8JZ5AeBqCmN3vBMl12ZLK1U5/h+a4spXzqdFVj4lauFCmU2A3bHlO1aBGq4weNTpO8jBbG5ERc+WT/73I6xAbkVFkAPbsgbL/fw9Xtvxpcm2BgTO4vTvpcPDGEnqGLZjq4N5k23ZfmJXmYbbWrBBpLMBcIe42hXyJ2oR9BcTg57/BFO7jhFvsI0/NwSceZQuufe2ilABa+nfPC8jXegh1kpH/XID1X8FH2Tra8vEoW9b97NwM8T+uf/tE6IxJ/Be2tBPc6WzJwScezZj4zh2GLzx0pdhdvjH8KdRmyfz3FhbHmFuaLa53RBx8wmQjH6jJmedyqBPrlxKO45yIBhHcPzi9WRJibz/EH/qJJbJyfob3rBfn4wU6UkyZgkmd5T/M9IdUiUXrfqtmRAbhlWQzJPe76oYTDM2d0tHMvT0/qUWGEqnSWYaoqio/pDzPLFmL/1Gm5J9CaBLBpEfT5VrzMusblL65nlTXLOvSkqi+acQKfR1vIQWq+TyErLKh3jwIJRRMmHcSDKqBgP640fyJd3FRCFY7biLxYnjTryjMdBGmJ4Ty12/YSiqT3KI92qZf03EpQSLFiJpJeSWTTxLmgWH4De7YZ4BfgvwS2RvrF6X7Pnr5pYOA+nx/szSKah4ir7ctp8Jis9VRIhP2TQ2fif2C3Yy/E8XVVSpQvLnjKd+uOjDuL53a8vS2DExeK+85cjcpZMhWXlNkbgUfZUQ5eGfXqEexVGbBnSEDu0dFskLOfR6oYuAmp790dSUZ2tYKrY1k8TQ/XS1WU4w4OUh+RYz+9cBrHZ1VN39IIicxdHRSBlhxFfC36xbhyz4cvXQdyT3LdFAgvC68sMiE+Ej914lbJJuHjvD98wUXeB0HFkp10tEe3PhtEWu06c4gmvqIcY5SpRTTSa1Xge7/ys+59RAcud7mYbZpALaBVSjDiFzd+SYI5kLyLfJqc+19dKtC9LLV8crvUhYCqpt83B/lP6HRbadC5KIDv5UMKXP8OZd2BLktQoYpqm6GCKe5FVWKzoeAPoVhF7SQR11f2VQURYoOW8KbX9ptxszb29yzVc8LlY+6c8F6APR61XbF+l518MCYKE4IJMlck09WVQ6vPPOdIJcH8Xh+eRJeaiq4nFfVvv8WLE/Epbs+r1V3u/rjzjDouYYturQgIFeSol0LKHbUODZF5rfYvKaVD5QS/GpwdBHdawWNfvX2eVuEp9p6YeqPqNRWcvmENc4N+UC+tW7iNjsXOn6DOsl51s7JIHiSdRfg4hZVm2VfbDf6hLO5gmWaKtOGgzLLMgkidiWDdPoJXBoyW3/L2kU6EkOtx4ssK8uy6MxDT4hzBuDvA4+bi3+6SX0mu2nBZmWHiefp3aKeecYN4dW1O5YV15de2htJGGXbAKCoZva9+Qk5lxnIpf1p++J/JAhn9sUrGhaRQYutlmf2kZNLHD+7/ovHl03vchEZsNs9sms6DAcK4Z5s3QMPkn68NE+8Xjkv89XtD4nes52IYqwPpTa97sb1Ilg0ZiKtZbqeX0aeHgJDQoVvj8c7d+PzQYX3IkZzw5VrcVKYotpuFQa7tccGoeJwcZE9WeYcn4PA1jV0hTlqJjWC7U6tXashjjdDQJsebFs+8TeUsyhcG9M6jMkrGGPO4ZUOfZstMkKYOC8Q1xoRnOyH0IniA1j2XWU7J4CeGCbicJCs+iuoXJWIhWJNB7uzRyZh4mfU0HwhxGh8q/je/aeb6UJtIxfkvcvQqd/vRmLr5AhZRAaI3iQIrXeFWxTrZmPrk1UAfNNaJTlLZV6FvqG7GttdaxAcdPa7rVhIafplrfWmV/9qhlXVZ/XFq5BqUbjZHr4voIUCvb8X2fSfFWsA3ot2pRyiOWjGf+IhdFoUro2R8jeZkvBPSf8Nci0K2RJ3St5IPdKebL0KrKnCNbkl8t4C1uWhQLo6m3yALQsN4bqZP2eZD5LLCLrUF9YnW69CMKYQpFdJKJKaAnJ9KFD4MbaiaYq8pYKGirhahyD6gVQnW68Cbe2IlkvcScZ7J+gjbMF0tKJqccCcYe8OnGy9ED2izioyXCcIxcWKfdQSeiVykrW/YJlFEfU3lrD9WwPpE3chRbRcpEVkC58sfc8xiPLmA42blCgMFpFBikzQpZOzB0g+FtEZtXgRKsTWCppQyq2vhPNcivfLk5QoDNadZLm/4zcRzBGnf/wisKbcLDThPgzhhfjwgT17WKPNVw8Ykx29oYfxJ3Z4/mWw2vq2DOM+0AF9xtN7T9wCTujg4WT3DVGgc9vcF2FA8klDFfooe/9TJ16BDD39rD2Gzp1YXwR/erq5aj6dYfYvAsuerj2yjrtFnHg94M3WnvuHeKDhw4l/Gv8BnCgeUlxeEn4AAAAASUVORK5CYII=\",\n",
    "     width=500, height=500)\n"
   ]
  },
  {
   "cell_type": "markdown",
   "id": "14f9d44c",
   "metadata": {},
   "source": [
    "В числителе (вверху) здесь скалярное произдведение - это такая операция с векторами, когда числа, стоящие в двух векторах напротив друг друга перемножаются, а результат складывается. \n",
    "\n",
    "В знаменателе (внизу) тут произведение длин векторов, а длина вектора считается как произведение корней из суммы квадратов значений в первом и втором векторах.\n",
    "\n",
    "Вот пошаговая визуализация расчета близости для двух векторов с абсолютными частотностями. Вектора 1 и 2 здесь это представление двух текстов мешком слов - это такой метод, который показывает какие слова из словаря встречаются в каждом из текстов и в каком количестве, но порядок слов при этом теряется. В этом примере в словаре 6 уникальных слов, поэтому размерность векторов - 6. Каждая из размерностей показывает частотность каждого из слов в словаре в конкретном тексте. Можно увидеть, что первому вектору соответствует текст из 3 слов, которые встретились по 1 разу, а второму вектору соответствует текст тоже из 3 уникальных слов, два из которых такие же как и в первом тексте, но первое с другой частотностью."
   ]
  },
  {
   "cell_type": "code",
   "execution_count": 20,
   "id": "0c5bf47a",
   "metadata": {},
   "outputs": [
    {
     "data": {
      "text/html": [
       "<img src=\"https://i.ibb.co/Qn87BXW/Screenshot-2022-11-16-at-15-46-54.png\" width=\"700\" height=\"700\"/>"
      ],
      "text/plain": [
       "<IPython.core.display.Image object>"
      ]
     },
     "execution_count": 20,
     "metadata": {},
     "output_type": "execute_result"
    }
   ],
   "source": [
    "Image(url=\"https://i.ibb.co/Qn87BXW/Screenshot-2022-11-16-at-15-46-54.png\",\n",
    "     width=700, height=700)"
   ]
  },
  {
   "cell_type": "markdown",
   "id": "229f585b",
   "metadata": {},
   "source": [
    "Выглядит наверное сложно, но важно понять, что тут происходит. \n",
    "\n",
    "Вверху (скалярное произведение) по сути происходит поиск общих слов в первом и втором векторе (=тексте). Если слово есть в одном тексте, а в другом нет - то результат произведения будет нулевой. Чем больше пересечений, тем больше будет итоговое скалярное произведение. **Чем больше значение скалярного произведения, тем больше будет итоговая близость.**\n",
    "\n",
    "Внизу - просто нормализация. Результат скалярного произведения может быть любым (отрицательным, положительным, большим, маленьким), деление на длину вектра приводит итоговую метрику в удобный интервал от -1 до 1 (а в нашем случае без отрицательных значений от 0 до 1). \n",
    "\n",
    "Почему внизу не просто сумма? Потому что значения могут быть отрицательными и может получиться ноль. Для обхода проблемы с нулями часто используется корень из квадрата \n",
    "(почему не абсолютное значение - как я понимаю сложный математический вопрос, часто пишут что абсолютное значение сложнее математически, а квадрат проще)"
   ]
  },
  {
   "cell_type": "markdown",
   "id": "925d8402",
   "metadata": {},
   "source": [
    "Можно заметить, что это очень похоже на Жаккара. И для этих векторов (посчитанных мешком слов) мы смогли бы посчитать и Жаккара - пересечение это количество ненулевых размерностей, которые есть в обоих векторах, а объединение - это сумма ненулевых размерностей в обоих векторах. Но косинусное расстояние подходит еще и для векторов, которые построены не напрямую из слов. Это могут быть вектора из трансформерной модели, где каждая размерность может принимать как отрицательные так и положительные значений и как правило нулевых размерностей там нет. "
   ]
  },
  {
   "cell_type": "markdown",
   "id": "606558d6",
   "metadata": {},
   "source": [
    "В таких скалярное произведение будет штрафовать пары значений с разными знаками (будет получаться отрицательное число и сумма будет уменьшаться)"
   ]
  },
  {
   "cell_type": "code",
   "execution_count": null,
   "id": "9bc83cb5",
   "metadata": {},
   "outputs": [],
   "source": []
  },
  {
   "cell_type": "markdown",
   "id": "d9cb2f4c",
   "metadata": {},
   "source": [
    "## Sentence transformers\n",
    "\n",
    "Давайте посмотрим как считать близость между реальными векторами текстов. Для этого забежим вперед и возьмем предобученную трансформерную модель, которая умеет создавать эмбеддинг для небольшого текста. \n",
    "\n",
    "Модель возьмем из библиотеки [sentence_transformers](https://www.sbert.net/index.html). Это библиотека содержит большое количество моделей, которые предназначены для построение эмбединнгов текстов. Многие из них - специально обученые производить хорошие эмбединги, между которыми удобно рассчитывать близость. На сайте библиотеки есть раздел с лидербордом по моделям. Мы возьмем лучшую (по усредненному скору) модель - `all-mpnet-base-v2`."
   ]
  },
  {
   "cell_type": "code",
   "execution_count": null,
   "id": "27cb1c61-134a-4e48-9fe6-2e8a49ff384f",
   "metadata": {},
   "outputs": [],
   "source": [
    "# библиотеки могут заработать не сразу\n",
    "# можете попробовать установить более новую версию питона если инсталлов ниже не хватает"
   ]
  },
  {
   "cell_type": "code",
   "execution_count": 60,
   "id": "8062ee1f",
   "metadata": {
    "scrolled": true
   },
   "outputs": [],
   "source": [
    "!python -m pip install torch torchvision torchaudio\n",
    "!python -m pip install sentence_transformers transformers accelerate -U"
   ]
  },
  {
   "cell_type": "code",
   "execution_count": 1,
   "id": "ce73180c",
   "metadata": {},
   "outputs": [],
   "source": [
    "from sklearn.metrics.pairwise import cosine_distances, cosine_similarity\n",
    "from sentence_transformers import SentenceTransformer"
   ]
  },
  {
   "cell_type": "markdown",
   "id": "aac0ae91-31bf-4dba-9d4e-24ed9bbe7061",
   "metadata": {},
   "source": [
    "Интерфейс у модели достаточно простой, есть функция encode, которая сама предобрабатывает текст и превращает его в 1 вектор"
   ]
  },
  {
   "cell_type": "code",
   "execution_count": 2,
   "id": "3de62fae",
   "metadata": {},
   "outputs": [],
   "source": [
    "# embedding model\n",
    "model = SentenceTransformer('sentence-transformers/all-mpnet-base-v2')\n",
    "embed = model.encode"
   ]
  },
  {
   "cell_type": "markdown",
   "id": "52fa6009-48c0-4135-ad7a-7913d3cfe088",
   "metadata": {},
   "source": [
    "Рассчитаем вектора для определений и контекста, которые мы использовали выше"
   ]
  },
  {
   "cell_type": "code",
   "execution_count": 62,
   "id": "14451973",
   "metadata": {},
   "outputs": [],
   "source": [
    "definition1 = 'a system of projects or services intended to meet a public need'\n",
    "definition2 = '(computer science) a sequence of instructions that a computer can interpret and execute'\n",
    "context = 'i wrote a computer _ that predicts the sense of a word'"
   ]
  },
  {
   "cell_type": "code",
   "execution_count": 63,
   "id": "57044bab",
   "metadata": {},
   "outputs": [],
   "source": [
    "definition1_emb = embed(definition1)\n",
    "definition2_emb = embed(definition2)\n",
    "context_emb = embed(context)"
   ]
  },
  {
   "cell_type": "markdown",
   "id": "a2cd2860-f995-4d08-b31a-1bfa518eb999",
   "metadata": {},
   "source": [
    "Посмотрим на получившийся вектор. В нем 768 не очень больших, положительных и отрицательных чисел"
   ]
  },
  {
   "cell_type": "code",
   "execution_count": 6,
   "id": "3989291a-2f00-487b-a4b1-786fbeff0834",
   "metadata": {},
   "outputs": [
    {
     "data": {
      "text/plain": [
       "(768,)"
      ]
     },
     "execution_count": 6,
     "metadata": {},
     "output_type": "execute_result"
    }
   ],
   "source": [
    "context_emb.shape"
   ]
  },
  {
   "cell_type": "code",
   "execution_count": 66,
   "id": "cbd2ce6a",
   "metadata": {},
   "outputs": [
    {
     "data": {
      "text/plain": [
       "array([ 2.60696858e-02,  2.81297602e-02, -2.86605358e-02,  2.73304842e-02,\n",
       "       -2.03045104e-02, -2.45557521e-02, -3.44669889e-03,  1.29649406e-02,\n",
       "        3.22340988e-02, -1.32162180e-02,  3.78281027e-02, -4.27398421e-02,\n",
       "        1.42525053e-02,  8.37171823e-02,  3.09127476e-02,  1.17423786e-02,\n",
       "        6.91081583e-02,  1.30820498e-02, -1.07209831e-02, -2.10680906e-03,\n",
       "        4.95719211e-03, -1.02009624e-03, -5.77510986e-03,  4.73414510e-02,\n",
       "       -3.00503504e-02, -3.59182991e-02, -2.45586336e-02, -2.17193905e-02,\n",
       "       -2.08961219e-02, -2.29210742e-02, -2.80032977e-02,  1.52165564e-02,\n",
       "       -1.65842436e-02,  4.57603335e-02,  1.44828766e-06, -5.61360009e-02,\n",
       "       -3.94317359e-02, -1.73282661e-02,  1.10615166e-02, -2.93712430e-02,\n",
       "        8.55174810e-02,  3.19165811e-02,  4.22134530e-03, -2.52286508e-03,\n",
       "       -6.43932000e-02,  4.01510037e-02,  4.70006950e-02, -4.48253714e-02,\n",
       "       -1.41513813e-03,  3.66889797e-02, -8.11715703e-03, -4.46259156e-02,\n",
       "        2.88627185e-02,  2.14875434e-02,  5.65632023e-02, -7.84562319e-04,\n",
       "        5.81800705e-03,  2.19479781e-02,  3.44444998e-02, -5.85746132e-02,\n",
       "       -3.14422622e-02,  9.82944295e-03, -2.18724068e-02,  2.72080489e-02,\n",
       "        5.10382988e-02,  2.24636458e-02,  2.58076116e-02, -6.15553483e-02,\n",
       "       -5.12524135e-03, -2.24703737e-02,  2.49784882e-03, -3.52916196e-02,\n",
       "       -1.16497632e-02,  2.93239839e-02, -3.97467874e-02, -2.59171855e-02,\n",
       "        1.10591054e-02, -1.20284809e-02, -1.90009009e-02, -2.27706600e-02,\n",
       "        6.18728735e-02,  1.14581380e-02, -1.07487626e-02,  4.07132506e-03,\n",
       "       -3.67226219e-03,  8.43563527e-02, -2.39394954e-03, -3.37652229e-02,\n",
       "        1.20446840e-02,  2.25450788e-02,  1.10169696e-02, -1.64049696e-02,\n",
       "        5.59397414e-02,  1.17083488e-03, -9.31880530e-03,  2.62642857e-02,\n",
       "       -2.74639539e-02, -2.27501988e-02,  8.93268362e-03, -7.66405538e-02,\n",
       "        3.55793536e-02,  1.20696472e-02,  5.86612076e-02,  3.63901295e-02,\n",
       "       -1.65351499e-02, -5.73400129e-03,  1.45409070e-02,  1.96258314e-02,\n",
       "       -7.27106109e-02,  2.72692945e-02, -8.13957080e-02, -2.11496335e-02,\n",
       "       -3.26966271e-02,  7.29898438e-02,  3.90958190e-02, -4.96897846e-02,\n",
       "       -6.63388595e-02, -1.01196701e-02,  6.42161875e-04, -1.88012272e-02,\n",
       "       -1.35782529e-02,  1.69789605e-02, -9.91971418e-03,  2.28155497e-02,\n",
       "       -4.12469879e-02, -3.77093293e-02, -7.57177593e-03,  2.83327959e-02,\n",
       "       -3.02903876e-02, -2.85167098e-02,  2.07434315e-02,  2.25604214e-02,\n",
       "       -9.28365719e-03, -1.51147833e-02, -8.98459088e-03,  6.70140386e-02,\n",
       "       -1.28544942e-02, -5.78452088e-02,  2.47775298e-03, -7.97296911e-02,\n",
       "       -2.81679835e-02, -2.84210779e-02, -3.25452425e-02, -6.56164214e-02,\n",
       "       -2.47204620e-02,  2.01430097e-02,  1.01629477e-02, -5.48637062e-02,\n",
       "        8.94648675e-03,  4.05956618e-02, -4.44052890e-02,  1.02671042e-01,\n",
       "       -7.56809115e-02,  1.26552181e-02,  1.37866579e-03, -1.13331880e-02,\n",
       "        1.51405660e-02,  2.56871488e-02, -5.24983183e-03,  4.51805294e-02,\n",
       "        4.59146686e-02,  5.85043104e-03,  6.26491150e-03,  7.20547792e-03,\n",
       "       -5.88717051e-02, -1.00635946e-01, -6.11553602e-02, -1.08829951e-02,\n",
       "       -5.83557002e-02,  4.36093472e-02, -3.92436385e-02,  4.10913564e-02,\n",
       "        5.64262178e-03,  5.37047759e-02,  2.42957957e-02,  1.05013326e-01,\n",
       "        6.05127029e-02,  2.84899641e-02,  5.55243762e-03, -3.09707951e-02,\n",
       "       -1.55448066e-02, -1.46294916e-02, -1.43787283e-02, -3.49355722e-03,\n",
       "       -8.83707330e-02,  2.19522649e-03, -2.93946192e-02, -2.35651769e-02,\n",
       "        1.60144772e-02, -5.43737002e-02, -3.02929245e-02, -7.79132126e-03,\n",
       "        1.89319085e-02, -3.13578583e-02,  4.60174680e-02, -5.50660631e-03,\n",
       "       -1.92169063e-02, -4.88135181e-02,  8.63954145e-03, -4.77152430e-02,\n",
       "        2.17958838e-02, -4.88891192e-02,  7.63864294e-02,  1.30082771e-01,\n",
       "        3.28815654e-02, -5.33933975e-02,  8.30223709e-02,  7.57148629e-03,\n",
       "       -2.32078675e-02,  4.61315811e-02,  2.62386221e-02,  1.36163775e-02,\n",
       "       -4.62059826e-02, -2.14045327e-02, -1.82300620e-02,  2.83758324e-02,\n",
       "        1.28799668e-02,  2.15108078e-02, -4.15302766e-03,  3.15550305e-02,\n",
       "        1.82425436e-02, -3.74762639e-02,  2.08042860e-02,  2.08608937e-02,\n",
       "       -2.82959430e-03, -5.35163693e-02, -4.71888147e-02,  1.35965738e-02,\n",
       "        1.38235912e-02,  9.01751686e-03, -3.65398708e-03,  5.73994629e-02,\n",
       "        2.57573053e-02, -2.01233313e-03, -5.14804944e-02, -2.00652517e-02,\n",
       "       -4.66603264e-02,  3.39639969e-02,  1.17061762e-02, -5.82824051e-02,\n",
       "        2.77182721e-02,  3.31477113e-02,  6.75387383e-02,  1.22633018e-02,\n",
       "        5.67695983e-02, -6.65890053e-02,  5.69646060e-02, -7.09204301e-02,\n",
       "        3.76802348e-02, -1.43325031e-02,  4.47984375e-02,  7.28084426e-03,\n",
       "        2.85710488e-02,  1.60099398e-02,  3.72759327e-02, -2.62777582e-02,\n",
       "       -2.46258285e-02, -2.06304975e-02,  3.72276478e-03, -4.67101634e-02,\n",
       "        8.38323124e-03, -1.35120293e-02,  3.39612849e-02,  3.49291484e-03,\n",
       "        4.99470299e-03, -2.49034129e-02,  7.93784333e-04, -3.46210860e-02,\n",
       "       -4.31761034e-02,  3.18461545e-02, -4.72946931e-03,  1.70705188e-02,\n",
       "       -2.31329408e-02, -4.39915759e-03,  1.13313077e-02,  2.25792192e-02,\n",
       "        3.83138545e-02, -1.36187421e-02,  1.68776456e-02,  3.40576060e-02,\n",
       "       -3.42961587e-02, -2.40255930e-02, -4.41743918e-02, -3.07683609e-02,\n",
       "       -4.96942215e-02,  5.87186776e-02,  3.34627815e-02, -3.17160413e-02,\n",
       "       -7.49719329e-03,  3.18871289e-02, -2.39836518e-02,  2.70108543e-02,\n",
       "        2.77622230e-02, -4.32922244e-02,  2.50458159e-02, -2.90878844e-02,\n",
       "       -5.16465493e-03, -3.24391341e-03,  1.94145795e-02,  4.15609553e-02,\n",
       "        4.53335270e-02, -4.18853667e-03,  8.84133205e-03, -3.26370895e-02,\n",
       "        2.16132705e-03,  2.40324698e-02,  5.22514284e-02, -3.98226120e-02,\n",
       "       -4.63361889e-02,  3.35683487e-02,  8.99985433e-02,  2.09509823e-02,\n",
       "       -3.21147405e-02,  4.97947820e-02, -5.90330772e-02, -3.41108479e-02,\n",
       "       -7.22306669e-02, -1.34600475e-02, -4.47860770e-02,  6.01749718e-02,\n",
       "       -3.98624782e-03, -5.05394153e-02,  8.97321180e-02, -7.15939677e-04,\n",
       "        1.99675821e-02,  3.08200088e-03, -2.99170837e-02,  2.10373215e-02,\n",
       "        7.66325668e-02, -2.41141766e-02,  1.48944026e-02,  2.33445171e-04,\n",
       "       -3.57108861e-02, -2.00601127e-02, -2.78608240e-02,  3.36323306e-02,\n",
       "       -6.52984530e-02,  2.57370248e-03, -2.62748804e-02,  2.23488789e-02,\n",
       "        1.96563937e-02,  2.94369552e-02, -1.44276265e-02, -2.28903387e-02,\n",
       "       -7.76160210e-02,  1.66622142e-03,  8.07723925e-02,  3.26537266e-02,\n",
       "       -2.33838372e-02,  4.45028879e-02,  1.28065404e-02,  1.65519267e-02,\n",
       "       -5.23447176e-04, -2.67643575e-02, -2.80446447e-02, -1.69686824e-02,\n",
       "       -1.78932026e-02, -2.25125272e-02, -3.50899086e-03, -9.78177879e-03,\n",
       "        7.08928751e-03,  1.03520146e-02, -4.23031040e-02, -1.43829808e-02,\n",
       "       -8.08087960e-02,  2.69559585e-02,  2.88853701e-02, -3.09571866e-02,\n",
       "       -3.26542407e-02,  2.75605381e-03,  1.02422247e-02, -2.35671792e-02,\n",
       "       -2.33161505e-02,  5.81696406e-02,  2.19720807e-02, -1.17143495e-02,\n",
       "        1.01174209e-02, -2.66882428e-03, -6.03606440e-02, -2.37942976e-03,\n",
       "        1.21415406e-02, -4.11002859e-02, -4.51718643e-02, -1.60665307e-02,\n",
       "        2.70442460e-02,  3.09809074e-02, -3.05432342e-02,  3.15632485e-03,\n",
       "       -6.68478161e-02, -1.29532870e-02, -4.91549075e-03, -3.23550291e-02,\n",
       "       -3.58997770e-02, -4.72941734e-02, -1.03332186e-02,  4.78735194e-04,\n",
       "       -7.98223615e-02,  4.37410586e-02,  2.22239434e-03,  4.04256135e-02,\n",
       "        6.82347082e-03, -1.96469575e-02,  3.53155695e-02,  2.63391398e-02,\n",
       "        3.70172337e-02, -7.35288300e-03,  1.09556749e-01,  5.15761897e-02,\n",
       "       -5.43018468e-02, -4.83204499e-02, -5.97818531e-02, -5.58765978e-03,\n",
       "        6.76242262e-02, -1.12661384e-02,  4.74265181e-02, -6.16931589e-03,\n",
       "       -8.67325999e-03, -1.69603527e-02, -1.58700030e-02, -6.41136691e-02,\n",
       "       -4.75617908e-02,  1.82289444e-02,  6.15704432e-02, -1.81176811e-02,\n",
       "       -4.63466346e-02, -1.21487258e-02,  3.53394002e-02,  1.43153798e-02,\n",
       "       -1.51322945e-03, -4.43292446e-02,  8.88635230e-04, -3.44144069e-02,\n",
       "       -1.51215037e-02,  7.00254133e-03, -2.48295208e-03, -6.46390244e-02,\n",
       "       -5.57476804e-02,  7.15366192e-03,  7.20427837e-03, -8.45418051e-02,\n",
       "       -1.68811772e-02,  6.69234549e-04,  4.24135625e-02,  9.27098654e-03,\n",
       "        5.17644221e-03,  1.82485823e-02,  1.43265156e-02, -1.22386374e-01,\n",
       "       -1.10516297e-02,  2.88278852e-02,  6.96114302e-02, -4.52436022e-02,\n",
       "       -3.79772182e-03,  1.01903854e-02, -6.72446284e-03, -2.29705274e-02,\n",
       "        6.06019422e-02,  7.16592092e-03, -2.32902430e-02,  4.78281453e-02,\n",
       "        4.67650816e-02,  3.98564376e-02, -5.32545783e-02, -1.64170079e-02,\n",
       "        8.58898915e-04,  5.65902935e-03,  3.52774933e-02, -2.19531581e-02,\n",
       "        1.59286782e-02,  1.41221192e-02, -2.00276058e-02, -9.17218905e-03,\n",
       "       -7.49452505e-03,  2.47107036e-02, -2.48925504e-03, -9.48616304e-03,\n",
       "        4.92534135e-03, -2.19699480e-02, -6.24688230e-02,  2.18430795e-02,\n",
       "        2.42757834e-02,  5.86127490e-02, -5.02397008e-02,  3.77099402e-03,\n",
       "       -1.80244390e-02, -2.82009076e-02, -2.79995631e-02, -1.48973903e-02,\n",
       "       -3.07533308e-03, -2.61211246e-02,  2.79021319e-02, -2.04358483e-03,\n",
       "       -2.52628494e-02, -3.60019244e-02, -3.50774080e-02, -4.76166494e-02,\n",
       "        1.70159491e-03,  5.43572940e-02,  5.06276004e-02,  4.04567569e-02,\n",
       "        1.00103272e-02, -2.36803927e-02,  1.92706790e-02,  5.35508106e-03,\n",
       "       -1.91528480e-02,  2.40947725e-03, -2.84320526e-02,  2.67460588e-02,\n",
       "       -2.68261265e-02,  1.71120428e-02, -1.85380150e-02,  5.52691147e-03,\n",
       "       -3.09624802e-02, -3.61106507e-02, -4.97021191e-02,  6.04570918e-02,\n",
       "        1.61241926e-02, -4.77947854e-02, -3.17425579e-02, -7.21791480e-03,\n",
       "        2.30332687e-02, -1.35370474e-02,  6.81777075e-02, -2.20571272e-02,\n",
       "        1.39310835e-02, -7.71866413e-03,  1.99044030e-02,  5.11281611e-03,\n",
       "       -7.50671551e-02,  3.81815545e-02, -8.49779770e-02,  1.39642861e-02,\n",
       "        1.07679078e-02, -6.52924925e-02, -1.85855962e-02,  2.07402129e-02,\n",
       "        4.84880898e-03,  3.73609737e-02, -3.75557207e-02,  1.61507502e-02,\n",
       "       -4.15056869e-02, -3.32206041e-02,  5.85096329e-02,  4.62735929e-02,\n",
       "        5.73100746e-02,  2.75436435e-02,  4.90288064e-02,  5.45493104e-02,\n",
       "       -6.84350030e-03, -4.08428535e-03, -3.86421382e-02,  2.65611894e-02,\n",
       "       -2.24672351e-02,  1.40256025e-02,  3.93021060e-03, -4.97294685e-33,\n",
       "       -3.59437205e-02, -5.74628450e-02, -1.62865128e-02,  9.00254678e-03,\n",
       "        1.60071328e-02, -1.28748419e-03, -1.16924280e-02,  5.32272682e-02,\n",
       "        1.11453226e-02, -1.07059609e-02, -2.21116026e-03,  1.72310579e-03,\n",
       "        2.94323582e-02, -2.58768201e-02,  4.24533933e-02,  1.73520483e-02,\n",
       "       -1.25585869e-02,  9.55471490e-03,  1.68609172e-02, -8.00950527e-02,\n",
       "        1.16722668e-02,  2.90282853e-02,  7.11322501e-02, -4.01582569e-02,\n",
       "        1.51641283e-03,  1.55115621e-02, -3.80987749e-02, -1.73638910e-02,\n",
       "        7.47093046e-03,  2.56600287e-02, -1.90735031e-02,  9.33269411e-02,\n",
       "        8.26741336e-04,  3.29675004e-02, -1.44453831e-02,  2.23382246e-02,\n",
       "       -9.78794787e-03, -5.95429912e-02,  2.51312107e-02,  7.84727465e-03,\n",
       "       -3.35632339e-02,  2.06995346e-02,  2.14453470e-02, -3.03651635e-02,\n",
       "       -3.38789374e-02,  3.42657045e-02,  8.02799389e-02, -2.27102488e-02,\n",
       "       -1.45141222e-02,  1.35908630e-02, -3.66875641e-02,  5.68338810e-03,\n",
       "        1.32126007e-02, -3.84590738e-02,  2.29348205e-02, -3.02357171e-02,\n",
       "        5.74902864e-03, -6.41770810e-02, -3.17523740e-02,  4.55485955e-02,\n",
       "       -1.53187504e-02,  3.03061772e-02,  6.04593642e-02,  1.04117710e-02,\n",
       "        2.54260544e-02,  5.37067838e-02,  8.20452720e-02, -4.19960497e-03,\n",
       "        6.58357795e-03,  6.83037518e-03,  3.24908309e-02,  1.74423326e-02,\n",
       "        6.07533753e-02,  8.56453925e-02,  4.81057130e-02, -9.37992185e-02,\n",
       "        4.93356995e-02,  2.36274602e-04,  1.70228854e-02,  3.32530811e-02,\n",
       "        3.10481396e-02,  2.79911049e-02, -2.56981142e-02, -3.17143947e-02,\n",
       "        1.03422655e-02, -1.64685361e-02, -4.46704216e-02, -4.09626588e-02,\n",
       "        1.29443863e-02,  2.18537985e-04,  1.89387016e-02,  2.98334397e-02,\n",
       "       -3.28490287e-02, -4.15589474e-02,  2.17367448e-02, -2.91569363e-02,\n",
       "       -3.56767070e-03, -4.43830248e-03, -1.84462015e-02,  5.87964244e-03,\n",
       "        1.65849365e-02, -3.31492499e-02, -2.50569899e-02,  2.18881853e-02,\n",
       "        3.69399004e-02,  4.92964080e-03, -5.22426777e-02,  1.24047222e-02,\n",
       "       -5.31707965e-02, -2.49955952e-02,  7.60653813e-04, -4.11682203e-02,\n",
       "        4.60143015e-02, -2.12279912e-02,  2.31682360e-02, -4.59492579e-02,\n",
       "       -1.29493950e-02,  1.74553448e-03, -4.47838940e-03,  3.03012095e-02,\n",
       "       -3.20938304e-02, -5.02362698e-02, -1.07084615e-02,  6.86716195e-03,\n",
       "       -5.05223386e-02,  6.73037115e-03, -1.80894174e-02,  3.50810401e-02,\n",
       "        5.49725480e-02, -1.24864271e-02, -7.71613931e-03,  1.99220050e-02,\n",
       "        2.18156728e-07,  4.85302508e-02,  5.60069419e-02, -2.00262796e-02,\n",
       "        5.47962673e-02, -2.99007986e-02, -1.53709818e-02,  3.61846900e-03,\n",
       "        7.77632650e-03, -9.64170974e-03, -1.96539946e-02,  5.73286321e-03,\n",
       "        7.15564843e-03,  8.37491546e-03,  2.20809933e-02, -4.68556099e-02,\n",
       "       -2.16812119e-02,  2.27468014e-02,  3.64910699e-02, -7.91412592e-03,\n",
       "        2.46194284e-02,  9.09671858e-02,  9.61854309e-02,  5.92731088e-02,\n",
       "       -1.38591742e-02, -6.40719943e-03, -5.35838231e-02, -1.11716166e-02,\n",
       "       -1.05274292e-02,  3.35113294e-02, -2.62926258e-02,  3.67871076e-02,\n",
       "       -7.31061120e-03,  2.26462316e-02,  8.51114765e-02, -2.73483116e-02,\n",
       "       -4.49619032e-02,  8.26552585e-02,  2.72787884e-02, -2.61984356e-02,\n",
       "        6.16995990e-02, -9.19354148e-04, -2.93136034e-02,  1.78981456e-03,\n",
       "       -1.66344941e-02,  1.99334715e-02,  2.98925079e-02,  3.50755975e-02,\n",
       "       -1.89114921e-02, -3.96314077e-02, -5.20372938e-04,  5.12182713e-02,\n",
       "       -1.46389212e-02,  8.99124425e-03, -3.68658081e-03,  7.81543646e-03,\n",
       "        2.73975078e-02, -2.42043957e-02, -3.49381031e-03, -6.62653008e-03,\n",
       "        3.11317313e-02, -3.71047445e-02,  3.21330990e-05,  1.61609314e-02,\n",
       "       -5.71104772e-02,  1.29826050e-02, -6.20196834e-02, -2.54406221e-02,\n",
       "        1.13652132e-34,  4.66185063e-03,  2.03389302e-02, -2.14782474e-03,\n",
       "       -1.75573342e-02,  2.12787408e-02,  1.70300659e-02,  7.33859986e-02,\n",
       "        1.07082278e-02,  3.89475189e-02, -2.34981850e-02, -5.90743609e-02],\n",
       "      dtype=float32)"
      ]
     },
     "execution_count": 66,
     "metadata": {},
     "output_type": "execute_result"
    }
   ],
   "source": [
    "context_emb"
   ]
  },
  {
   "cell_type": "code",
   "execution_count": 68,
   "id": "e2c25576-12fe-4d65-97c4-66b51947d80a",
   "metadata": {
    "scrolled": true
   },
   "outputs": [
    {
     "data": {
      "text/plain": [
       "array([ 0.026,  0.028, -0.029,  0.027, -0.02 , -0.025, -0.003,  0.013,\n",
       "        0.032, -0.013,  0.038, -0.043,  0.014,  0.084,  0.031,  0.012,\n",
       "        0.069,  0.013, -0.011, -0.002,  0.005, -0.001, -0.006,  0.047,\n",
       "       -0.03 , -0.036, -0.025, -0.022, -0.021, -0.023, -0.028,  0.015,\n",
       "       -0.017,  0.046,  0.   , -0.056, -0.039, -0.017,  0.011, -0.029,\n",
       "        0.086,  0.032,  0.004, -0.003, -0.064,  0.04 ,  0.047, -0.045,\n",
       "       -0.001,  0.037, -0.008, -0.045,  0.029,  0.021,  0.057, -0.001,\n",
       "        0.006,  0.022,  0.034, -0.059, -0.031,  0.01 , -0.022,  0.027,\n",
       "        0.051,  0.022,  0.026, -0.062, -0.005, -0.022,  0.002, -0.035,\n",
       "       -0.012,  0.029, -0.04 , -0.026,  0.011, -0.012, -0.019, -0.023,\n",
       "        0.062,  0.011, -0.011,  0.004, -0.004,  0.084, -0.002, -0.034,\n",
       "        0.012,  0.023,  0.011, -0.016,  0.056,  0.001, -0.009,  0.026,\n",
       "       -0.027, -0.023,  0.009, -0.077,  0.036,  0.012,  0.059,  0.036,\n",
       "       -0.017, -0.006,  0.015,  0.02 , -0.073,  0.027, -0.081, -0.021,\n",
       "       -0.033,  0.073,  0.039, -0.05 , -0.066, -0.01 ,  0.001, -0.019,\n",
       "       -0.014,  0.017, -0.01 ,  0.023, -0.041, -0.038, -0.008,  0.028,\n",
       "       -0.03 , -0.029,  0.021,  0.023, -0.009, -0.015, -0.009,  0.067,\n",
       "       -0.013, -0.058,  0.002, -0.08 , -0.028, -0.028, -0.033, -0.066,\n",
       "       -0.025,  0.02 ,  0.01 , -0.055,  0.009,  0.041, -0.044,  0.103,\n",
       "       -0.076,  0.013,  0.001, -0.011,  0.015,  0.026, -0.005,  0.045,\n",
       "        0.046,  0.006,  0.006,  0.007, -0.059, -0.101, -0.061, -0.011,\n",
       "       -0.058,  0.044, -0.039,  0.041,  0.006,  0.054,  0.024,  0.105,\n",
       "        0.061,  0.028,  0.006, -0.031, -0.016, -0.015, -0.014, -0.003,\n",
       "       -0.088,  0.002, -0.029, -0.024,  0.016, -0.054, -0.03 , -0.008,\n",
       "        0.019, -0.031,  0.046, -0.006, -0.019, -0.049,  0.009, -0.048,\n",
       "        0.022, -0.049,  0.076,  0.13 ,  0.033, -0.053,  0.083,  0.008,\n",
       "       -0.023,  0.046,  0.026,  0.014, -0.046, -0.021, -0.018,  0.028,\n",
       "        0.013,  0.022, -0.004,  0.032,  0.018, -0.037,  0.021,  0.021,\n",
       "       -0.003, -0.054, -0.047,  0.014,  0.014,  0.009, -0.004,  0.057,\n",
       "        0.026, -0.002, -0.051, -0.02 , -0.047,  0.034,  0.012, -0.058,\n",
       "        0.028,  0.033,  0.068,  0.012,  0.057, -0.067,  0.057, -0.071,\n",
       "        0.038, -0.014,  0.045,  0.007,  0.029,  0.016,  0.037, -0.026,\n",
       "       -0.025, -0.021,  0.004, -0.047,  0.008, -0.014,  0.034,  0.003,\n",
       "        0.005, -0.025,  0.001, -0.035, -0.043,  0.032, -0.005,  0.017,\n",
       "       -0.023, -0.004,  0.011,  0.023,  0.038, -0.014,  0.017,  0.034,\n",
       "       -0.034, -0.024, -0.044, -0.031, -0.05 ,  0.059,  0.033, -0.032,\n",
       "       -0.007,  0.032, -0.024,  0.027,  0.028, -0.043,  0.025, -0.029,\n",
       "       -0.005, -0.003,  0.019,  0.042,  0.045, -0.004,  0.009, -0.033,\n",
       "        0.002,  0.024,  0.052, -0.04 , -0.046,  0.034,  0.09 ,  0.021,\n",
       "       -0.032,  0.05 , -0.059, -0.034, -0.072, -0.013, -0.045,  0.06 ,\n",
       "       -0.004, -0.051,  0.09 , -0.001,  0.02 ,  0.003, -0.03 ,  0.021,\n",
       "        0.077, -0.024,  0.015,  0.   , -0.036, -0.02 , -0.028,  0.034,\n",
       "       -0.065,  0.003, -0.026,  0.022,  0.02 ,  0.029, -0.014, -0.023,\n",
       "       -0.078,  0.002,  0.081,  0.033, -0.023,  0.045,  0.013,  0.017,\n",
       "       -0.001, -0.027, -0.028, -0.017, -0.018, -0.023, -0.004, -0.01 ,\n",
       "        0.007,  0.01 , -0.042, -0.014, -0.081,  0.027,  0.029, -0.031,\n",
       "       -0.033,  0.003,  0.01 , -0.024, -0.023,  0.058,  0.022, -0.012,\n",
       "        0.01 , -0.003, -0.06 , -0.002,  0.012, -0.041, -0.045, -0.016,\n",
       "        0.027,  0.031, -0.031,  0.003, -0.067, -0.013, -0.005, -0.032,\n",
       "       -0.036, -0.047, -0.01 ,  0.   , -0.08 ,  0.044,  0.002,  0.04 ,\n",
       "        0.007, -0.02 ,  0.035,  0.026,  0.037, -0.007,  0.11 ,  0.052,\n",
       "       -0.054, -0.048, -0.06 , -0.006,  0.068, -0.011,  0.047, -0.006,\n",
       "       -0.009, -0.017, -0.016, -0.064, -0.048,  0.018,  0.062, -0.018,\n",
       "       -0.046, -0.012,  0.035,  0.014, -0.002, -0.044,  0.001, -0.034,\n",
       "       -0.015,  0.007, -0.002, -0.065, -0.056,  0.007,  0.007, -0.085,\n",
       "       -0.017,  0.001,  0.042,  0.009,  0.005,  0.018,  0.014, -0.122,\n",
       "       -0.011,  0.029,  0.07 , -0.045, -0.004,  0.01 , -0.007, -0.023,\n",
       "        0.061,  0.007, -0.023,  0.048,  0.047,  0.04 , -0.053, -0.016,\n",
       "        0.001,  0.006,  0.035, -0.022,  0.016,  0.014, -0.02 , -0.009,\n",
       "       -0.007,  0.025, -0.002, -0.009,  0.005, -0.022, -0.062,  0.022,\n",
       "        0.024,  0.059, -0.05 ,  0.004, -0.018, -0.028, -0.028, -0.015,\n",
       "       -0.003, -0.026,  0.028, -0.002, -0.025, -0.036, -0.035, -0.048,\n",
       "        0.002,  0.054,  0.051,  0.04 ,  0.01 , -0.024,  0.019,  0.005,\n",
       "       -0.019,  0.002, -0.028,  0.027, -0.027,  0.017, -0.019,  0.006,\n",
       "       -0.031, -0.036, -0.05 ,  0.06 ,  0.016, -0.048, -0.032, -0.007,\n",
       "        0.023, -0.014,  0.068, -0.022,  0.014, -0.008,  0.02 ,  0.005,\n",
       "       -0.075,  0.038, -0.085,  0.014,  0.011, -0.065, -0.019,  0.021,\n",
       "        0.005,  0.037, -0.038,  0.016, -0.042, -0.033,  0.059,  0.046,\n",
       "        0.057,  0.028,  0.049,  0.055, -0.007, -0.004, -0.039,  0.027,\n",
       "       -0.022,  0.014,  0.004, -0.   , -0.036, -0.057, -0.016,  0.009,\n",
       "        0.016, -0.001, -0.012,  0.053,  0.011, -0.011, -0.002,  0.002,\n",
       "        0.029, -0.026,  0.042,  0.017, -0.013,  0.01 ,  0.017, -0.08 ,\n",
       "        0.012,  0.029,  0.071, -0.04 ,  0.002,  0.016, -0.038, -0.017,\n",
       "        0.007,  0.026, -0.019,  0.093,  0.001,  0.033, -0.014,  0.022,\n",
       "       -0.01 , -0.06 ,  0.025,  0.008, -0.034,  0.021,  0.021, -0.03 ,\n",
       "       -0.034,  0.034,  0.08 , -0.023, -0.015,  0.014, -0.037,  0.006,\n",
       "        0.013, -0.038,  0.023, -0.03 ,  0.006, -0.064, -0.032,  0.046,\n",
       "       -0.015,  0.03 ,  0.06 ,  0.01 ,  0.025,  0.054,  0.082, -0.004,\n",
       "        0.007,  0.007,  0.032,  0.017,  0.061,  0.086,  0.048, -0.094,\n",
       "        0.049,  0.   ,  0.017,  0.033,  0.031,  0.028, -0.026, -0.032,\n",
       "        0.01 , -0.016, -0.045, -0.041,  0.013,  0.   ,  0.019,  0.03 ,\n",
       "       -0.033, -0.042,  0.022, -0.029, -0.004, -0.004, -0.018,  0.006,\n",
       "        0.017, -0.033, -0.025,  0.022,  0.037,  0.005, -0.052,  0.012,\n",
       "       -0.053, -0.025,  0.001, -0.041,  0.046, -0.021,  0.023, -0.046,\n",
       "       -0.013,  0.002, -0.004,  0.03 , -0.032, -0.05 , -0.011,  0.007,\n",
       "       -0.051,  0.007, -0.018,  0.035,  0.055, -0.012, -0.008,  0.02 ,\n",
       "        0.   ,  0.049,  0.056, -0.02 ,  0.055, -0.03 , -0.015,  0.004,\n",
       "        0.008, -0.01 , -0.02 ,  0.006,  0.007,  0.008,  0.022, -0.047,\n",
       "       -0.022,  0.023,  0.036, -0.008,  0.025,  0.091,  0.096,  0.059,\n",
       "       -0.014, -0.006, -0.054, -0.011, -0.011,  0.034, -0.026,  0.037,\n",
       "       -0.007,  0.023,  0.085, -0.027, -0.045,  0.083,  0.027, -0.026,\n",
       "        0.062, -0.001, -0.029,  0.002, -0.017,  0.02 ,  0.03 ,  0.035,\n",
       "       -0.019, -0.04 , -0.001,  0.051, -0.015,  0.009, -0.004,  0.008,\n",
       "        0.027, -0.024, -0.003, -0.007,  0.031, -0.037,  0.   ,  0.016,\n",
       "       -0.057,  0.013, -0.062, -0.025,  0.   ,  0.005,  0.02 , -0.002,\n",
       "       -0.018,  0.021,  0.017,  0.073,  0.011,  0.039, -0.023, -0.059],\n",
       "      dtype=float32)"
      ]
     },
     "execution_count": 68,
     "metadata": {},
     "output_type": "execute_result"
    }
   ],
   "source": [
    "# для наглядности\n",
    "context_emb.round(3)"
   ]
  },
  {
   "cell_type": "markdown",
   "id": "98ca36d5-7b87-42c9-b362-24eba2ea51f9",
   "metadata": {},
   "source": [
    "Рассчитаем косинусную близость с помощью функции из sklearn"
   ]
  },
  {
   "cell_type": "code",
   "execution_count": 8,
   "id": "eca47d2b-ff8e-4ce8-9b7d-fd69c1f186c3",
   "metadata": {},
   "outputs": [
    {
     "ename": "ValueError",
     "evalue": "Expected 2D array, got 1D array instead:\narray=[ 2.60696858e-02  2.81297602e-02 -2.86605358e-02  2.73304842e-02\n -2.03045104e-02 -2.45557521e-02 -3.44669889e-03  1.29649406e-02\n  3.22340988e-02 -1.32162180e-02  3.78281027e-02 -4.27398421e-02\n  1.42525053e-02  8.37171823e-02  3.09127476e-02  1.17423786e-02\n  6.91081583e-02  1.30820498e-02 -1.07209831e-02 -2.10680906e-03\n  4.95719211e-03 -1.02009624e-03 -5.77510986e-03  4.73414510e-02\n -3.00503504e-02 -3.59182991e-02 -2.45586336e-02 -2.17193905e-02\n -2.08961219e-02 -2.29210742e-02 -2.80032977e-02  1.52165564e-02\n -1.65842436e-02  4.57603335e-02  1.44828766e-06 -5.61360009e-02\n -3.94317359e-02 -1.73282661e-02  1.10615166e-02 -2.93712430e-02\n  8.55174810e-02  3.19165811e-02  4.22134530e-03 -2.52286508e-03\n -6.43932000e-02  4.01510037e-02  4.70006950e-02 -4.48253714e-02\n -1.41513813e-03  3.66889797e-02 -8.11715703e-03 -4.46259156e-02\n  2.88627185e-02  2.14875434e-02  5.65632023e-02 -7.84562319e-04\n  5.81800705e-03  2.19479781e-02  3.44444998e-02 -5.85746132e-02\n -3.14422622e-02  9.82944295e-03 -2.18724068e-02  2.72080489e-02\n  5.10382988e-02  2.24636458e-02  2.58076116e-02 -6.15553483e-02\n -5.12524135e-03 -2.24703737e-02  2.49784882e-03 -3.52916196e-02\n -1.16497632e-02  2.93239839e-02 -3.97467874e-02 -2.59171855e-02\n  1.10591054e-02 -1.20284809e-02 -1.90009009e-02 -2.27706600e-02\n  6.18728735e-02  1.14581380e-02 -1.07487626e-02  4.07132506e-03\n -3.67226219e-03  8.43563527e-02 -2.39394954e-03 -3.37652229e-02\n  1.20446840e-02  2.25450788e-02  1.10169696e-02 -1.64049696e-02\n  5.59397414e-02  1.17083488e-03 -9.31880530e-03  2.62642857e-02\n -2.74639539e-02 -2.27501988e-02  8.93268362e-03 -7.66405538e-02\n  3.55793536e-02  1.20696472e-02  5.86612076e-02  3.63901295e-02\n -1.65351499e-02 -5.73400129e-03  1.45409070e-02  1.96258314e-02\n -7.27106109e-02  2.72692945e-02 -8.13957080e-02 -2.11496335e-02\n -3.26966271e-02  7.29898438e-02  3.90958190e-02 -4.96897846e-02\n -6.63388595e-02 -1.01196701e-02  6.42161875e-04 -1.88012272e-02\n -1.35782529e-02  1.69789605e-02 -9.91971418e-03  2.28155497e-02\n -4.12469879e-02 -3.77093293e-02 -7.57177593e-03  2.83327959e-02\n -3.02903876e-02 -2.85167098e-02  2.07434315e-02  2.25604214e-02\n -9.28365719e-03 -1.51147833e-02 -8.98459088e-03  6.70140386e-02\n -1.28544942e-02 -5.78452088e-02  2.47775298e-03 -7.97296911e-02\n -2.81679835e-02 -2.84210779e-02 -3.25452425e-02 -6.56164214e-02\n -2.47204620e-02  2.01430097e-02  1.01629477e-02 -5.48637062e-02\n  8.94648675e-03  4.05956618e-02 -4.44052890e-02  1.02671042e-01\n -7.56809115e-02  1.26552181e-02  1.37866579e-03 -1.13331880e-02\n  1.51405660e-02  2.56871488e-02 -5.24983183e-03  4.51805294e-02\n  4.59146686e-02  5.85043104e-03  6.26491150e-03  7.20547792e-03\n -5.88717051e-02 -1.00635946e-01 -6.11553602e-02 -1.08829951e-02\n -5.83557002e-02  4.36093472e-02 -3.92436385e-02  4.10913564e-02\n  5.64262178e-03  5.37047759e-02  2.42957957e-02  1.05013326e-01\n  6.05127029e-02  2.84899641e-02  5.55243762e-03 -3.09707951e-02\n -1.55448066e-02 -1.46294916e-02 -1.43787283e-02 -3.49355722e-03\n -8.83707330e-02  2.19522649e-03 -2.93946192e-02 -2.35651769e-02\n  1.60144772e-02 -5.43737002e-02 -3.02929245e-02 -7.79132126e-03\n  1.89319085e-02 -3.13578583e-02  4.60174680e-02 -5.50660631e-03\n -1.92169063e-02 -4.88135181e-02  8.63954145e-03 -4.77152430e-02\n  2.17958838e-02 -4.88891192e-02  7.63864294e-02  1.30082771e-01\n  3.28815654e-02 -5.33933975e-02  8.30223709e-02  7.57148629e-03\n -2.32078675e-02  4.61315811e-02  2.62386221e-02  1.36163775e-02\n -4.62059826e-02 -2.14045327e-02 -1.82300620e-02  2.83758324e-02\n  1.28799668e-02  2.15108078e-02 -4.15302766e-03  3.15550305e-02\n  1.82425436e-02 -3.74762639e-02  2.08042860e-02  2.08608937e-02\n -2.82959430e-03 -5.35163693e-02 -4.71888147e-02  1.35965738e-02\n  1.38235912e-02  9.01751686e-03 -3.65398708e-03  5.73994629e-02\n  2.57573053e-02 -2.01233313e-03 -5.14804944e-02 -2.00652517e-02\n -4.66603264e-02  3.39639969e-02  1.17061762e-02 -5.82824051e-02\n  2.77182721e-02  3.31477113e-02  6.75387383e-02  1.22633018e-02\n  5.67695983e-02 -6.65890053e-02  5.69646060e-02 -7.09204301e-02\n  3.76802348e-02 -1.43325031e-02  4.47984375e-02  7.28084426e-03\n  2.85710488e-02  1.60099398e-02  3.72759327e-02 -2.62777582e-02\n -2.46258285e-02 -2.06304975e-02  3.72276478e-03 -4.67101634e-02\n  8.38323124e-03 -1.35120293e-02  3.39612849e-02  3.49291484e-03\n  4.99470299e-03 -2.49034129e-02  7.93784333e-04 -3.46210860e-02\n -4.31761034e-02  3.18461545e-02 -4.72946931e-03  1.70705188e-02\n -2.31329408e-02 -4.39915759e-03  1.13313077e-02  2.25792192e-02\n  3.83138545e-02 -1.36187421e-02  1.68776456e-02  3.40576060e-02\n -3.42961587e-02 -2.40255930e-02 -4.41743918e-02 -3.07683609e-02\n -4.96942215e-02  5.87186776e-02  3.34627815e-02 -3.17160413e-02\n -7.49719329e-03  3.18871289e-02 -2.39836518e-02  2.70108543e-02\n  2.77622230e-02 -4.32922244e-02  2.50458159e-02 -2.90878844e-02\n -5.16465493e-03 -3.24391341e-03  1.94145795e-02  4.15609553e-02\n  4.53335270e-02 -4.18853667e-03  8.84133205e-03 -3.26370895e-02\n  2.16132705e-03  2.40324698e-02  5.22514284e-02 -3.98226120e-02\n -4.63361889e-02  3.35683487e-02  8.99985433e-02  2.09509823e-02\n -3.21147405e-02  4.97947820e-02 -5.90330772e-02 -3.41108479e-02\n -7.22306669e-02 -1.34600475e-02 -4.47860770e-02  6.01749718e-02\n -3.98624782e-03 -5.05394153e-02  8.97321180e-02 -7.15939677e-04\n  1.99675821e-02  3.08200088e-03 -2.99170837e-02  2.10373215e-02\n  7.66325668e-02 -2.41141766e-02  1.48944026e-02  2.33445171e-04\n -3.57108861e-02 -2.00601127e-02 -2.78608240e-02  3.36323306e-02\n -6.52984530e-02  2.57370248e-03 -2.62748804e-02  2.23488789e-02\n  1.96563937e-02  2.94369552e-02 -1.44276265e-02 -2.28903387e-02\n -7.76160210e-02  1.66622142e-03  8.07723925e-02  3.26537266e-02\n -2.33838372e-02  4.45028879e-02  1.28065404e-02  1.65519267e-02\n -5.23447176e-04 -2.67643575e-02 -2.80446447e-02 -1.69686824e-02\n -1.78932026e-02 -2.25125272e-02 -3.50899086e-03 -9.78177879e-03\n  7.08928751e-03  1.03520146e-02 -4.23031040e-02 -1.43829808e-02\n -8.08087960e-02  2.69559585e-02  2.88853701e-02 -3.09571866e-02\n -3.26542407e-02  2.75605381e-03  1.02422247e-02 -2.35671792e-02\n -2.33161505e-02  5.81696406e-02  2.19720807e-02 -1.17143495e-02\n  1.01174209e-02 -2.66882428e-03 -6.03606440e-02 -2.37942976e-03\n  1.21415406e-02 -4.11002859e-02 -4.51718643e-02 -1.60665307e-02\n  2.70442460e-02  3.09809074e-02 -3.05432342e-02  3.15632485e-03\n -6.68478161e-02 -1.29532870e-02 -4.91549075e-03 -3.23550291e-02\n -3.58997770e-02 -4.72941734e-02 -1.03332186e-02  4.78735194e-04\n -7.98223615e-02  4.37410586e-02  2.22239434e-03  4.04256135e-02\n  6.82347082e-03 -1.96469575e-02  3.53155695e-02  2.63391398e-02\n  3.70172337e-02 -7.35288300e-03  1.09556749e-01  5.15761897e-02\n -5.43018468e-02 -4.83204499e-02 -5.97818531e-02 -5.58765978e-03\n  6.76242262e-02 -1.12661384e-02  4.74265181e-02 -6.16931589e-03\n -8.67325999e-03 -1.69603527e-02 -1.58700030e-02 -6.41136691e-02\n -4.75617908e-02  1.82289444e-02  6.15704432e-02 -1.81176811e-02\n -4.63466346e-02 -1.21487258e-02  3.53394002e-02  1.43153798e-02\n -1.51322945e-03 -4.43292446e-02  8.88635230e-04 -3.44144069e-02\n -1.51215037e-02  7.00254133e-03 -2.48295208e-03 -6.46390244e-02\n -5.57476804e-02  7.15366192e-03  7.20427837e-03 -8.45418051e-02\n -1.68811772e-02  6.69234549e-04  4.24135625e-02  9.27098654e-03\n  5.17644221e-03  1.82485823e-02  1.43265156e-02 -1.22386374e-01\n -1.10516297e-02  2.88278852e-02  6.96114302e-02 -4.52436022e-02\n -3.79772182e-03  1.01903854e-02 -6.72446284e-03 -2.29705274e-02\n  6.06019422e-02  7.16592092e-03 -2.32902430e-02  4.78281453e-02\n  4.67650816e-02  3.98564376e-02 -5.32545783e-02 -1.64170079e-02\n  8.58898915e-04  5.65902935e-03  3.52774933e-02 -2.19531581e-02\n  1.59286782e-02  1.41221192e-02 -2.00276058e-02 -9.17218905e-03\n -7.49452505e-03  2.47107036e-02 -2.48925504e-03 -9.48616304e-03\n  4.92534135e-03 -2.19699480e-02 -6.24688230e-02  2.18430795e-02\n  2.42757834e-02  5.86127490e-02 -5.02397008e-02  3.77099402e-03\n -1.80244390e-02 -2.82009076e-02 -2.79995631e-02 -1.48973903e-02\n -3.07533308e-03 -2.61211246e-02  2.79021319e-02 -2.04358483e-03\n -2.52628494e-02 -3.60019244e-02 -3.50774080e-02 -4.76166494e-02\n  1.70159491e-03  5.43572940e-02  5.06276004e-02  4.04567569e-02\n  1.00103272e-02 -2.36803927e-02  1.92706790e-02  5.35508106e-03\n -1.91528480e-02  2.40947725e-03 -2.84320526e-02  2.67460588e-02\n -2.68261265e-02  1.71120428e-02 -1.85380150e-02  5.52691147e-03\n -3.09624802e-02 -3.61106507e-02 -4.97021191e-02  6.04570918e-02\n  1.61241926e-02 -4.77947854e-02 -3.17425579e-02 -7.21791480e-03\n  2.30332687e-02 -1.35370474e-02  6.81777075e-02 -2.20571272e-02\n  1.39310835e-02 -7.71866413e-03  1.99044030e-02  5.11281611e-03\n -7.50671551e-02  3.81815545e-02 -8.49779770e-02  1.39642861e-02\n  1.07679078e-02 -6.52924925e-02 -1.85855962e-02  2.07402129e-02\n  4.84880898e-03  3.73609737e-02 -3.75557207e-02  1.61507502e-02\n -4.15056869e-02 -3.32206041e-02  5.85096329e-02  4.62735929e-02\n  5.73100746e-02  2.75436435e-02  4.90288064e-02  5.45493104e-02\n -6.84350030e-03 -4.08428535e-03 -3.86421382e-02  2.65611894e-02\n -2.24672351e-02  1.40256025e-02  3.93021060e-03 -4.97294685e-33\n -3.59437205e-02 -5.74628450e-02 -1.62865128e-02  9.00254678e-03\n  1.60071328e-02 -1.28748419e-03 -1.16924280e-02  5.32272682e-02\n  1.11453226e-02 -1.07059609e-02 -2.21116026e-03  1.72310579e-03\n  2.94323582e-02 -2.58768201e-02  4.24533933e-02  1.73520483e-02\n -1.25585869e-02  9.55471490e-03  1.68609172e-02 -8.00950527e-02\n  1.16722668e-02  2.90282853e-02  7.11322501e-02 -4.01582569e-02\n  1.51641283e-03  1.55115621e-02 -3.80987749e-02 -1.73638910e-02\n  7.47093046e-03  2.56600287e-02 -1.90735031e-02  9.33269411e-02\n  8.26741336e-04  3.29675004e-02 -1.44453831e-02  2.23382246e-02\n -9.78794787e-03 -5.95429912e-02  2.51312107e-02  7.84727465e-03\n -3.35632339e-02  2.06995346e-02  2.14453470e-02 -3.03651635e-02\n -3.38789374e-02  3.42657045e-02  8.02799389e-02 -2.27102488e-02\n -1.45141222e-02  1.35908630e-02 -3.66875641e-02  5.68338810e-03\n  1.32126007e-02 -3.84590738e-02  2.29348205e-02 -3.02357171e-02\n  5.74902864e-03 -6.41770810e-02 -3.17523740e-02  4.55485955e-02\n -1.53187504e-02  3.03061772e-02  6.04593642e-02  1.04117710e-02\n  2.54260544e-02  5.37067838e-02  8.20452720e-02 -4.19960497e-03\n  6.58357795e-03  6.83037518e-03  3.24908309e-02  1.74423326e-02\n  6.07533753e-02  8.56453925e-02  4.81057130e-02 -9.37992185e-02\n  4.93356995e-02  2.36274602e-04  1.70228854e-02  3.32530811e-02\n  3.10481396e-02  2.79911049e-02 -2.56981142e-02 -3.17143947e-02\n  1.03422655e-02 -1.64685361e-02 -4.46704216e-02 -4.09626588e-02\n  1.29443863e-02  2.18537985e-04  1.89387016e-02  2.98334397e-02\n -3.28490287e-02 -4.15589474e-02  2.17367448e-02 -2.91569363e-02\n -3.56767070e-03 -4.43830248e-03 -1.84462015e-02  5.87964244e-03\n  1.65849365e-02 -3.31492499e-02 -2.50569899e-02  2.18881853e-02\n  3.69399004e-02  4.92964080e-03 -5.22426777e-02  1.24047222e-02\n -5.31707965e-02 -2.49955952e-02  7.60653813e-04 -4.11682203e-02\n  4.60143015e-02 -2.12279912e-02  2.31682360e-02 -4.59492579e-02\n -1.29493950e-02  1.74553448e-03 -4.47838940e-03  3.03012095e-02\n -3.20938304e-02 -5.02362698e-02 -1.07084615e-02  6.86716195e-03\n -5.05223386e-02  6.73037115e-03 -1.80894174e-02  3.50810401e-02\n  5.49725480e-02 -1.24864271e-02 -7.71613931e-03  1.99220050e-02\n  2.18156728e-07  4.85302508e-02  5.60069419e-02 -2.00262796e-02\n  5.47962673e-02 -2.99007986e-02 -1.53709818e-02  3.61846900e-03\n  7.77632650e-03 -9.64170974e-03 -1.96539946e-02  5.73286321e-03\n  7.15564843e-03  8.37491546e-03  2.20809933e-02 -4.68556099e-02\n -2.16812119e-02  2.27468014e-02  3.64910699e-02 -7.91412592e-03\n  2.46194284e-02  9.09671858e-02  9.61854309e-02  5.92731088e-02\n -1.38591742e-02 -6.40719943e-03 -5.35838231e-02 -1.11716166e-02\n -1.05274292e-02  3.35113294e-02 -2.62926258e-02  3.67871076e-02\n -7.31061120e-03  2.26462316e-02  8.51114765e-02 -2.73483116e-02\n -4.49619032e-02  8.26552585e-02  2.72787884e-02 -2.61984356e-02\n  6.16995990e-02 -9.19354148e-04 -2.93136034e-02  1.78981456e-03\n -1.66344941e-02  1.99334715e-02  2.98925079e-02  3.50755975e-02\n -1.89114921e-02 -3.96314077e-02 -5.20372938e-04  5.12182713e-02\n -1.46389212e-02  8.99124425e-03 -3.68658081e-03  7.81543646e-03\n  2.73975078e-02 -2.42043957e-02 -3.49381031e-03 -6.62653008e-03\n  3.11317313e-02 -3.71047445e-02  3.21330990e-05  1.61609314e-02\n -5.71104772e-02  1.29826050e-02 -6.20196834e-02 -2.54406221e-02\n  1.13652132e-34  4.66185063e-03  2.03389302e-02 -2.14782474e-03\n -1.75573342e-02  2.12787408e-02  1.70300659e-02  7.33859986e-02\n  1.07082278e-02  3.89475189e-02 -2.34981850e-02 -5.90743609e-02].\nReshape your data either using array.reshape(-1, 1) if your data has a single feature or array.reshape(1, -1) if it contains a single sample.",
     "output_type": "error",
     "traceback": [
      "\u001b[0;31m---------------------------------------------------------------------------\u001b[0m",
      "\u001b[0;31mValueError\u001b[0m                                Traceback (most recent call last)",
      "Cell \u001b[0;32mIn[8], line 1\u001b[0m\n\u001b[0;32m----> 1\u001b[0m \u001b[43mcosine_distances\u001b[49m\u001b[43m(\u001b[49m\u001b[43mcontext_emb\u001b[49m\u001b[43m,\u001b[49m\u001b[43m \u001b[49m\u001b[43mdefinition1_emb\u001b[49m\u001b[43m)\u001b[49m\n",
      "File \u001b[0;32m~/miniforge3/envs/myenv/lib/python3.11/site-packages/sklearn/utils/_param_validation.py:211\u001b[0m, in \u001b[0;36mvalidate_params.<locals>.decorator.<locals>.wrapper\u001b[0;34m(*args, **kwargs)\u001b[0m\n\u001b[1;32m    205\u001b[0m \u001b[38;5;28;01mtry\u001b[39;00m:\n\u001b[1;32m    206\u001b[0m     \u001b[38;5;28;01mwith\u001b[39;00m config_context(\n\u001b[1;32m    207\u001b[0m         skip_parameter_validation\u001b[38;5;241m=\u001b[39m(\n\u001b[1;32m    208\u001b[0m             prefer_skip_nested_validation \u001b[38;5;129;01mor\u001b[39;00m global_skip_validation\n\u001b[1;32m    209\u001b[0m         )\n\u001b[1;32m    210\u001b[0m     ):\n\u001b[0;32m--> 211\u001b[0m         \u001b[38;5;28;01mreturn\u001b[39;00m \u001b[43mfunc\u001b[49m\u001b[43m(\u001b[49m\u001b[38;5;241;43m*\u001b[39;49m\u001b[43margs\u001b[49m\u001b[43m,\u001b[49m\u001b[43m \u001b[49m\u001b[38;5;241;43m*\u001b[39;49m\u001b[38;5;241;43m*\u001b[39;49m\u001b[43mkwargs\u001b[49m\u001b[43m)\u001b[49m\n\u001b[1;32m    212\u001b[0m \u001b[38;5;28;01mexcept\u001b[39;00m InvalidParameterError \u001b[38;5;28;01mas\u001b[39;00m e:\n\u001b[1;32m    213\u001b[0m     \u001b[38;5;66;03m# When the function is just a wrapper around an estimator, we allow\u001b[39;00m\n\u001b[1;32m    214\u001b[0m     \u001b[38;5;66;03m# the function to delegate validation to the estimator, but we replace\u001b[39;00m\n\u001b[1;32m    215\u001b[0m     \u001b[38;5;66;03m# the name of the estimator by the name of the function in the error\u001b[39;00m\n\u001b[1;32m    216\u001b[0m     \u001b[38;5;66;03m# message to avoid confusion.\u001b[39;00m\n\u001b[1;32m    217\u001b[0m     msg \u001b[38;5;241m=\u001b[39m re\u001b[38;5;241m.\u001b[39msub(\n\u001b[1;32m    218\u001b[0m         \u001b[38;5;124mr\u001b[39m\u001b[38;5;124m\"\u001b[39m\u001b[38;5;124mparameter of \u001b[39m\u001b[38;5;124m\\\u001b[39m\u001b[38;5;124mw+ must be\u001b[39m\u001b[38;5;124m\"\u001b[39m,\n\u001b[1;32m    219\u001b[0m         \u001b[38;5;124mf\u001b[39m\u001b[38;5;124m\"\u001b[39m\u001b[38;5;124mparameter of \u001b[39m\u001b[38;5;132;01m{\u001b[39;00mfunc\u001b[38;5;241m.\u001b[39m\u001b[38;5;18m__qualname__\u001b[39m\u001b[38;5;132;01m}\u001b[39;00m\u001b[38;5;124m must be\u001b[39m\u001b[38;5;124m\"\u001b[39m,\n\u001b[1;32m    220\u001b[0m         \u001b[38;5;28mstr\u001b[39m(e),\n\u001b[1;32m    221\u001b[0m     )\n",
      "File \u001b[0;32m~/miniforge3/envs/myenv/lib/python3.11/site-packages/sklearn/metrics/pairwise.py:1105\u001b[0m, in \u001b[0;36mcosine_distances\u001b[0;34m(X, Y)\u001b[0m\n\u001b[1;32m   1079\u001b[0m \u001b[38;5;250m\u001b[39m\u001b[38;5;124;03m\"\"\"Compute cosine distance between samples in X and Y.\u001b[39;00m\n\u001b[1;32m   1080\u001b[0m \n\u001b[1;32m   1081\u001b[0m \u001b[38;5;124;03mCosine distance is defined as 1.0 minus the cosine similarity.\u001b[39;00m\n\u001b[0;32m   (...)\u001b[0m\n\u001b[1;32m   1102\u001b[0m \u001b[38;5;124;03mscipy.spatial.distance.cosine : Dense matrices only.\u001b[39;00m\n\u001b[1;32m   1103\u001b[0m \u001b[38;5;124;03m\"\"\"\u001b[39;00m\n\u001b[1;32m   1104\u001b[0m \u001b[38;5;66;03m# 1.0 - cosine_similarity(X, Y) without copy\u001b[39;00m\n\u001b[0;32m-> 1105\u001b[0m S \u001b[38;5;241m=\u001b[39m \u001b[43mcosine_similarity\u001b[49m\u001b[43m(\u001b[49m\u001b[43mX\u001b[49m\u001b[43m,\u001b[49m\u001b[43m \u001b[49m\u001b[43mY\u001b[49m\u001b[43m)\u001b[49m\n\u001b[1;32m   1106\u001b[0m S \u001b[38;5;241m*\u001b[39m\u001b[38;5;241m=\u001b[39m \u001b[38;5;241m-\u001b[39m\u001b[38;5;241m1\u001b[39m\n\u001b[1;32m   1107\u001b[0m S \u001b[38;5;241m+\u001b[39m\u001b[38;5;241m=\u001b[39m \u001b[38;5;241m1\u001b[39m\n",
      "File \u001b[0;32m~/miniforge3/envs/myenv/lib/python3.11/site-packages/sklearn/utils/_param_validation.py:184\u001b[0m, in \u001b[0;36mvalidate_params.<locals>.decorator.<locals>.wrapper\u001b[0;34m(*args, **kwargs)\u001b[0m\n\u001b[1;32m    182\u001b[0m global_skip_validation \u001b[38;5;241m=\u001b[39m get_config()[\u001b[38;5;124m\"\u001b[39m\u001b[38;5;124mskip_parameter_validation\u001b[39m\u001b[38;5;124m\"\u001b[39m]\n\u001b[1;32m    183\u001b[0m \u001b[38;5;28;01mif\u001b[39;00m global_skip_validation:\n\u001b[0;32m--> 184\u001b[0m     \u001b[38;5;28;01mreturn\u001b[39;00m \u001b[43mfunc\u001b[49m\u001b[43m(\u001b[49m\u001b[38;5;241;43m*\u001b[39;49m\u001b[43margs\u001b[49m\u001b[43m,\u001b[49m\u001b[43m \u001b[49m\u001b[38;5;241;43m*\u001b[39;49m\u001b[38;5;241;43m*\u001b[39;49m\u001b[43mkwargs\u001b[49m\u001b[43m)\u001b[49m\n\u001b[1;32m    186\u001b[0m func_sig \u001b[38;5;241m=\u001b[39m signature(func)\n\u001b[1;32m    188\u001b[0m \u001b[38;5;66;03m# Map *args/**kwargs to the function signature\u001b[39;00m\n",
      "File \u001b[0;32m~/miniforge3/envs/myenv/lib/python3.11/site-packages/sklearn/metrics/pairwise.py:1578\u001b[0m, in \u001b[0;36mcosine_similarity\u001b[0;34m(X, Y, dense_output)\u001b[0m\n\u001b[1;32m   1543\u001b[0m \u001b[38;5;250m\u001b[39m\u001b[38;5;124;03m\"\"\"Compute cosine similarity between samples in X and Y.\u001b[39;00m\n\u001b[1;32m   1544\u001b[0m \n\u001b[1;32m   1545\u001b[0m \u001b[38;5;124;03mCosine similarity, or the cosine kernel, computes similarity as the\u001b[39;00m\n\u001b[0;32m   (...)\u001b[0m\n\u001b[1;32m   1574\u001b[0m \u001b[38;5;124;03m    Returns the cosine similarity between samples in X and Y.\u001b[39;00m\n\u001b[1;32m   1575\u001b[0m \u001b[38;5;124;03m\"\"\"\u001b[39;00m\n\u001b[1;32m   1576\u001b[0m \u001b[38;5;66;03m# to avoid recursive import\u001b[39;00m\n\u001b[0;32m-> 1578\u001b[0m X, Y \u001b[38;5;241m=\u001b[39m \u001b[43mcheck_pairwise_arrays\u001b[49m\u001b[43m(\u001b[49m\u001b[43mX\u001b[49m\u001b[43m,\u001b[49m\u001b[43m \u001b[49m\u001b[43mY\u001b[49m\u001b[43m)\u001b[49m\n\u001b[1;32m   1580\u001b[0m X_normalized \u001b[38;5;241m=\u001b[39m normalize(X, copy\u001b[38;5;241m=\u001b[39m\u001b[38;5;28;01mTrue\u001b[39;00m)\n\u001b[1;32m   1581\u001b[0m \u001b[38;5;28;01mif\u001b[39;00m X \u001b[38;5;129;01mis\u001b[39;00m Y:\n",
      "File \u001b[0;32m~/miniforge3/envs/myenv/lib/python3.11/site-packages/sklearn/metrics/pairwise.py:165\u001b[0m, in \u001b[0;36mcheck_pairwise_arrays\u001b[0;34m(X, Y, precomputed, dtype, accept_sparse, force_all_finite, copy)\u001b[0m\n\u001b[1;32m    156\u001b[0m     X \u001b[38;5;241m=\u001b[39m Y \u001b[38;5;241m=\u001b[39m check_array(\n\u001b[1;32m    157\u001b[0m         X,\n\u001b[1;32m    158\u001b[0m         accept_sparse\u001b[38;5;241m=\u001b[39maccept_sparse,\n\u001b[0;32m   (...)\u001b[0m\n\u001b[1;32m    162\u001b[0m         estimator\u001b[38;5;241m=\u001b[39mestimator,\n\u001b[1;32m    163\u001b[0m     )\n\u001b[1;32m    164\u001b[0m \u001b[38;5;28;01melse\u001b[39;00m:\n\u001b[0;32m--> 165\u001b[0m     X \u001b[38;5;241m=\u001b[39m \u001b[43mcheck_array\u001b[49m\u001b[43m(\u001b[49m\n\u001b[1;32m    166\u001b[0m \u001b[43m        \u001b[49m\u001b[43mX\u001b[49m\u001b[43m,\u001b[49m\n\u001b[1;32m    167\u001b[0m \u001b[43m        \u001b[49m\u001b[43maccept_sparse\u001b[49m\u001b[38;5;241;43m=\u001b[39;49m\u001b[43maccept_sparse\u001b[49m\u001b[43m,\u001b[49m\n\u001b[1;32m    168\u001b[0m \u001b[43m        \u001b[49m\u001b[43mdtype\u001b[49m\u001b[38;5;241;43m=\u001b[39;49m\u001b[43mdtype\u001b[49m\u001b[43m,\u001b[49m\n\u001b[1;32m    169\u001b[0m \u001b[43m        \u001b[49m\u001b[43mcopy\u001b[49m\u001b[38;5;241;43m=\u001b[39;49m\u001b[43mcopy\u001b[49m\u001b[43m,\u001b[49m\n\u001b[1;32m    170\u001b[0m \u001b[43m        \u001b[49m\u001b[43mforce_all_finite\u001b[49m\u001b[38;5;241;43m=\u001b[39;49m\u001b[43mforce_all_finite\u001b[49m\u001b[43m,\u001b[49m\n\u001b[1;32m    171\u001b[0m \u001b[43m        \u001b[49m\u001b[43mestimator\u001b[49m\u001b[38;5;241;43m=\u001b[39;49m\u001b[43mestimator\u001b[49m\u001b[43m,\u001b[49m\n\u001b[1;32m    172\u001b[0m \u001b[43m    \u001b[49m\u001b[43m)\u001b[49m\n\u001b[1;32m    173\u001b[0m     Y \u001b[38;5;241m=\u001b[39m check_array(\n\u001b[1;32m    174\u001b[0m         Y,\n\u001b[1;32m    175\u001b[0m         accept_sparse\u001b[38;5;241m=\u001b[39maccept_sparse,\n\u001b[0;32m   (...)\u001b[0m\n\u001b[1;32m    179\u001b[0m         estimator\u001b[38;5;241m=\u001b[39mestimator,\n\u001b[1;32m    180\u001b[0m     )\n\u001b[1;32m    182\u001b[0m \u001b[38;5;28;01mif\u001b[39;00m precomputed:\n",
      "File \u001b[0;32m~/miniforge3/envs/myenv/lib/python3.11/site-packages/sklearn/utils/validation.py:938\u001b[0m, in \u001b[0;36mcheck_array\u001b[0;34m(array, accept_sparse, accept_large_sparse, dtype, order, copy, force_all_finite, ensure_2d, allow_nd, ensure_min_samples, ensure_min_features, estimator, input_name)\u001b[0m\n\u001b[1;32m    936\u001b[0m     \u001b[38;5;66;03m# If input is 1D raise error\u001b[39;00m\n\u001b[1;32m    937\u001b[0m     \u001b[38;5;28;01mif\u001b[39;00m array\u001b[38;5;241m.\u001b[39mndim \u001b[38;5;241m==\u001b[39m \u001b[38;5;241m1\u001b[39m:\n\u001b[0;32m--> 938\u001b[0m         \u001b[38;5;28;01mraise\u001b[39;00m \u001b[38;5;167;01mValueError\u001b[39;00m(\n\u001b[1;32m    939\u001b[0m             \u001b[38;5;124m\"\u001b[39m\u001b[38;5;124mExpected 2D array, got 1D array instead:\u001b[39m\u001b[38;5;130;01m\\n\u001b[39;00m\u001b[38;5;124marray=\u001b[39m\u001b[38;5;132;01m{}\u001b[39;00m\u001b[38;5;124m.\u001b[39m\u001b[38;5;130;01m\\n\u001b[39;00m\u001b[38;5;124m\"\u001b[39m\n\u001b[1;32m    940\u001b[0m             \u001b[38;5;124m\"\u001b[39m\u001b[38;5;124mReshape your data either using array.reshape(-1, 1) if \u001b[39m\u001b[38;5;124m\"\u001b[39m\n\u001b[1;32m    941\u001b[0m             \u001b[38;5;124m\"\u001b[39m\u001b[38;5;124myour data has a single feature or array.reshape(1, -1) \u001b[39m\u001b[38;5;124m\"\u001b[39m\n\u001b[1;32m    942\u001b[0m             \u001b[38;5;124m\"\u001b[39m\u001b[38;5;124mif it contains a single sample.\u001b[39m\u001b[38;5;124m\"\u001b[39m\u001b[38;5;241m.\u001b[39mformat(array)\n\u001b[1;32m    943\u001b[0m         )\n\u001b[1;32m    945\u001b[0m \u001b[38;5;28;01mif\u001b[39;00m dtype_numeric \u001b[38;5;129;01mand\u001b[39;00m \u001b[38;5;28mhasattr\u001b[39m(array\u001b[38;5;241m.\u001b[39mdtype, \u001b[38;5;124m\"\u001b[39m\u001b[38;5;124mkind\u001b[39m\u001b[38;5;124m\"\u001b[39m) \u001b[38;5;129;01mand\u001b[39;00m array\u001b[38;5;241m.\u001b[39mdtype\u001b[38;5;241m.\u001b[39mkind \u001b[38;5;129;01min\u001b[39;00m \u001b[38;5;124m\"\u001b[39m\u001b[38;5;124mUSV\u001b[39m\u001b[38;5;124m\"\u001b[39m:\n\u001b[1;32m    946\u001b[0m     \u001b[38;5;28;01mraise\u001b[39;00m \u001b[38;5;167;01mValueError\u001b[39;00m(\n\u001b[1;32m    947\u001b[0m         \u001b[38;5;124m\"\u001b[39m\u001b[38;5;124mdtype=\u001b[39m\u001b[38;5;124m'\u001b[39m\u001b[38;5;124mnumeric\u001b[39m\u001b[38;5;124m'\u001b[39m\u001b[38;5;124m is not compatible with arrays of bytes/strings.\u001b[39m\u001b[38;5;124m\"\u001b[39m\n\u001b[1;32m    948\u001b[0m         \u001b[38;5;124m\"\u001b[39m\u001b[38;5;124mConvert your data to numeric values explicitly instead.\u001b[39m\u001b[38;5;124m\"\u001b[39m\n\u001b[1;32m    949\u001b[0m     )\n",
      "\u001b[0;31mValueError\u001b[0m: Expected 2D array, got 1D array instead:\narray=[ 2.60696858e-02  2.81297602e-02 -2.86605358e-02  2.73304842e-02\n -2.03045104e-02 -2.45557521e-02 -3.44669889e-03  1.29649406e-02\n  3.22340988e-02 -1.32162180e-02  3.78281027e-02 -4.27398421e-02\n  1.42525053e-02  8.37171823e-02  3.09127476e-02  1.17423786e-02\n  6.91081583e-02  1.30820498e-02 -1.07209831e-02 -2.10680906e-03\n  4.95719211e-03 -1.02009624e-03 -5.77510986e-03  4.73414510e-02\n -3.00503504e-02 -3.59182991e-02 -2.45586336e-02 -2.17193905e-02\n -2.08961219e-02 -2.29210742e-02 -2.80032977e-02  1.52165564e-02\n -1.65842436e-02  4.57603335e-02  1.44828766e-06 -5.61360009e-02\n -3.94317359e-02 -1.73282661e-02  1.10615166e-02 -2.93712430e-02\n  8.55174810e-02  3.19165811e-02  4.22134530e-03 -2.52286508e-03\n -6.43932000e-02  4.01510037e-02  4.70006950e-02 -4.48253714e-02\n -1.41513813e-03  3.66889797e-02 -8.11715703e-03 -4.46259156e-02\n  2.88627185e-02  2.14875434e-02  5.65632023e-02 -7.84562319e-04\n  5.81800705e-03  2.19479781e-02  3.44444998e-02 -5.85746132e-02\n -3.14422622e-02  9.82944295e-03 -2.18724068e-02  2.72080489e-02\n  5.10382988e-02  2.24636458e-02  2.58076116e-02 -6.15553483e-02\n -5.12524135e-03 -2.24703737e-02  2.49784882e-03 -3.52916196e-02\n -1.16497632e-02  2.93239839e-02 -3.97467874e-02 -2.59171855e-02\n  1.10591054e-02 -1.20284809e-02 -1.90009009e-02 -2.27706600e-02\n  6.18728735e-02  1.14581380e-02 -1.07487626e-02  4.07132506e-03\n -3.67226219e-03  8.43563527e-02 -2.39394954e-03 -3.37652229e-02\n  1.20446840e-02  2.25450788e-02  1.10169696e-02 -1.64049696e-02\n  5.59397414e-02  1.17083488e-03 -9.31880530e-03  2.62642857e-02\n -2.74639539e-02 -2.27501988e-02  8.93268362e-03 -7.66405538e-02\n  3.55793536e-02  1.20696472e-02  5.86612076e-02  3.63901295e-02\n -1.65351499e-02 -5.73400129e-03  1.45409070e-02  1.96258314e-02\n -7.27106109e-02  2.72692945e-02 -8.13957080e-02 -2.11496335e-02\n -3.26966271e-02  7.29898438e-02  3.90958190e-02 -4.96897846e-02\n -6.63388595e-02 -1.01196701e-02  6.42161875e-04 -1.88012272e-02\n -1.35782529e-02  1.69789605e-02 -9.91971418e-03  2.28155497e-02\n -4.12469879e-02 -3.77093293e-02 -7.57177593e-03  2.83327959e-02\n -3.02903876e-02 -2.85167098e-02  2.07434315e-02  2.25604214e-02\n -9.28365719e-03 -1.51147833e-02 -8.98459088e-03  6.70140386e-02\n -1.28544942e-02 -5.78452088e-02  2.47775298e-03 -7.97296911e-02\n -2.81679835e-02 -2.84210779e-02 -3.25452425e-02 -6.56164214e-02\n -2.47204620e-02  2.01430097e-02  1.01629477e-02 -5.48637062e-02\n  8.94648675e-03  4.05956618e-02 -4.44052890e-02  1.02671042e-01\n -7.56809115e-02  1.26552181e-02  1.37866579e-03 -1.13331880e-02\n  1.51405660e-02  2.56871488e-02 -5.24983183e-03  4.51805294e-02\n  4.59146686e-02  5.85043104e-03  6.26491150e-03  7.20547792e-03\n -5.88717051e-02 -1.00635946e-01 -6.11553602e-02 -1.08829951e-02\n -5.83557002e-02  4.36093472e-02 -3.92436385e-02  4.10913564e-02\n  5.64262178e-03  5.37047759e-02  2.42957957e-02  1.05013326e-01\n  6.05127029e-02  2.84899641e-02  5.55243762e-03 -3.09707951e-02\n -1.55448066e-02 -1.46294916e-02 -1.43787283e-02 -3.49355722e-03\n -8.83707330e-02  2.19522649e-03 -2.93946192e-02 -2.35651769e-02\n  1.60144772e-02 -5.43737002e-02 -3.02929245e-02 -7.79132126e-03\n  1.89319085e-02 -3.13578583e-02  4.60174680e-02 -5.50660631e-03\n -1.92169063e-02 -4.88135181e-02  8.63954145e-03 -4.77152430e-02\n  2.17958838e-02 -4.88891192e-02  7.63864294e-02  1.30082771e-01\n  3.28815654e-02 -5.33933975e-02  8.30223709e-02  7.57148629e-03\n -2.32078675e-02  4.61315811e-02  2.62386221e-02  1.36163775e-02\n -4.62059826e-02 -2.14045327e-02 -1.82300620e-02  2.83758324e-02\n  1.28799668e-02  2.15108078e-02 -4.15302766e-03  3.15550305e-02\n  1.82425436e-02 -3.74762639e-02  2.08042860e-02  2.08608937e-02\n -2.82959430e-03 -5.35163693e-02 -4.71888147e-02  1.35965738e-02\n  1.38235912e-02  9.01751686e-03 -3.65398708e-03  5.73994629e-02\n  2.57573053e-02 -2.01233313e-03 -5.14804944e-02 -2.00652517e-02\n -4.66603264e-02  3.39639969e-02  1.17061762e-02 -5.82824051e-02\n  2.77182721e-02  3.31477113e-02  6.75387383e-02  1.22633018e-02\n  5.67695983e-02 -6.65890053e-02  5.69646060e-02 -7.09204301e-02\n  3.76802348e-02 -1.43325031e-02  4.47984375e-02  7.28084426e-03\n  2.85710488e-02  1.60099398e-02  3.72759327e-02 -2.62777582e-02\n -2.46258285e-02 -2.06304975e-02  3.72276478e-03 -4.67101634e-02\n  8.38323124e-03 -1.35120293e-02  3.39612849e-02  3.49291484e-03\n  4.99470299e-03 -2.49034129e-02  7.93784333e-04 -3.46210860e-02\n -4.31761034e-02  3.18461545e-02 -4.72946931e-03  1.70705188e-02\n -2.31329408e-02 -4.39915759e-03  1.13313077e-02  2.25792192e-02\n  3.83138545e-02 -1.36187421e-02  1.68776456e-02  3.40576060e-02\n -3.42961587e-02 -2.40255930e-02 -4.41743918e-02 -3.07683609e-02\n -4.96942215e-02  5.87186776e-02  3.34627815e-02 -3.17160413e-02\n -7.49719329e-03  3.18871289e-02 -2.39836518e-02  2.70108543e-02\n  2.77622230e-02 -4.32922244e-02  2.50458159e-02 -2.90878844e-02\n -5.16465493e-03 -3.24391341e-03  1.94145795e-02  4.15609553e-02\n  4.53335270e-02 -4.18853667e-03  8.84133205e-03 -3.26370895e-02\n  2.16132705e-03  2.40324698e-02  5.22514284e-02 -3.98226120e-02\n -4.63361889e-02  3.35683487e-02  8.99985433e-02  2.09509823e-02\n -3.21147405e-02  4.97947820e-02 -5.90330772e-02 -3.41108479e-02\n -7.22306669e-02 -1.34600475e-02 -4.47860770e-02  6.01749718e-02\n -3.98624782e-03 -5.05394153e-02  8.97321180e-02 -7.15939677e-04\n  1.99675821e-02  3.08200088e-03 -2.99170837e-02  2.10373215e-02\n  7.66325668e-02 -2.41141766e-02  1.48944026e-02  2.33445171e-04\n -3.57108861e-02 -2.00601127e-02 -2.78608240e-02  3.36323306e-02\n -6.52984530e-02  2.57370248e-03 -2.62748804e-02  2.23488789e-02\n  1.96563937e-02  2.94369552e-02 -1.44276265e-02 -2.28903387e-02\n -7.76160210e-02  1.66622142e-03  8.07723925e-02  3.26537266e-02\n -2.33838372e-02  4.45028879e-02  1.28065404e-02  1.65519267e-02\n -5.23447176e-04 -2.67643575e-02 -2.80446447e-02 -1.69686824e-02\n -1.78932026e-02 -2.25125272e-02 -3.50899086e-03 -9.78177879e-03\n  7.08928751e-03  1.03520146e-02 -4.23031040e-02 -1.43829808e-02\n -8.08087960e-02  2.69559585e-02  2.88853701e-02 -3.09571866e-02\n -3.26542407e-02  2.75605381e-03  1.02422247e-02 -2.35671792e-02\n -2.33161505e-02  5.81696406e-02  2.19720807e-02 -1.17143495e-02\n  1.01174209e-02 -2.66882428e-03 -6.03606440e-02 -2.37942976e-03\n  1.21415406e-02 -4.11002859e-02 -4.51718643e-02 -1.60665307e-02\n  2.70442460e-02  3.09809074e-02 -3.05432342e-02  3.15632485e-03\n -6.68478161e-02 -1.29532870e-02 -4.91549075e-03 -3.23550291e-02\n -3.58997770e-02 -4.72941734e-02 -1.03332186e-02  4.78735194e-04\n -7.98223615e-02  4.37410586e-02  2.22239434e-03  4.04256135e-02\n  6.82347082e-03 -1.96469575e-02  3.53155695e-02  2.63391398e-02\n  3.70172337e-02 -7.35288300e-03  1.09556749e-01  5.15761897e-02\n -5.43018468e-02 -4.83204499e-02 -5.97818531e-02 -5.58765978e-03\n  6.76242262e-02 -1.12661384e-02  4.74265181e-02 -6.16931589e-03\n -8.67325999e-03 -1.69603527e-02 -1.58700030e-02 -6.41136691e-02\n -4.75617908e-02  1.82289444e-02  6.15704432e-02 -1.81176811e-02\n -4.63466346e-02 -1.21487258e-02  3.53394002e-02  1.43153798e-02\n -1.51322945e-03 -4.43292446e-02  8.88635230e-04 -3.44144069e-02\n -1.51215037e-02  7.00254133e-03 -2.48295208e-03 -6.46390244e-02\n -5.57476804e-02  7.15366192e-03  7.20427837e-03 -8.45418051e-02\n -1.68811772e-02  6.69234549e-04  4.24135625e-02  9.27098654e-03\n  5.17644221e-03  1.82485823e-02  1.43265156e-02 -1.22386374e-01\n -1.10516297e-02  2.88278852e-02  6.96114302e-02 -4.52436022e-02\n -3.79772182e-03  1.01903854e-02 -6.72446284e-03 -2.29705274e-02\n  6.06019422e-02  7.16592092e-03 -2.32902430e-02  4.78281453e-02\n  4.67650816e-02  3.98564376e-02 -5.32545783e-02 -1.64170079e-02\n  8.58898915e-04  5.65902935e-03  3.52774933e-02 -2.19531581e-02\n  1.59286782e-02  1.41221192e-02 -2.00276058e-02 -9.17218905e-03\n -7.49452505e-03  2.47107036e-02 -2.48925504e-03 -9.48616304e-03\n  4.92534135e-03 -2.19699480e-02 -6.24688230e-02  2.18430795e-02\n  2.42757834e-02  5.86127490e-02 -5.02397008e-02  3.77099402e-03\n -1.80244390e-02 -2.82009076e-02 -2.79995631e-02 -1.48973903e-02\n -3.07533308e-03 -2.61211246e-02  2.79021319e-02 -2.04358483e-03\n -2.52628494e-02 -3.60019244e-02 -3.50774080e-02 -4.76166494e-02\n  1.70159491e-03  5.43572940e-02  5.06276004e-02  4.04567569e-02\n  1.00103272e-02 -2.36803927e-02  1.92706790e-02  5.35508106e-03\n -1.91528480e-02  2.40947725e-03 -2.84320526e-02  2.67460588e-02\n -2.68261265e-02  1.71120428e-02 -1.85380150e-02  5.52691147e-03\n -3.09624802e-02 -3.61106507e-02 -4.97021191e-02  6.04570918e-02\n  1.61241926e-02 -4.77947854e-02 -3.17425579e-02 -7.21791480e-03\n  2.30332687e-02 -1.35370474e-02  6.81777075e-02 -2.20571272e-02\n  1.39310835e-02 -7.71866413e-03  1.99044030e-02  5.11281611e-03\n -7.50671551e-02  3.81815545e-02 -8.49779770e-02  1.39642861e-02\n  1.07679078e-02 -6.52924925e-02 -1.85855962e-02  2.07402129e-02\n  4.84880898e-03  3.73609737e-02 -3.75557207e-02  1.61507502e-02\n -4.15056869e-02 -3.32206041e-02  5.85096329e-02  4.62735929e-02\n  5.73100746e-02  2.75436435e-02  4.90288064e-02  5.45493104e-02\n -6.84350030e-03 -4.08428535e-03 -3.86421382e-02  2.65611894e-02\n -2.24672351e-02  1.40256025e-02  3.93021060e-03 -4.97294685e-33\n -3.59437205e-02 -5.74628450e-02 -1.62865128e-02  9.00254678e-03\n  1.60071328e-02 -1.28748419e-03 -1.16924280e-02  5.32272682e-02\n  1.11453226e-02 -1.07059609e-02 -2.21116026e-03  1.72310579e-03\n  2.94323582e-02 -2.58768201e-02  4.24533933e-02  1.73520483e-02\n -1.25585869e-02  9.55471490e-03  1.68609172e-02 -8.00950527e-02\n  1.16722668e-02  2.90282853e-02  7.11322501e-02 -4.01582569e-02\n  1.51641283e-03  1.55115621e-02 -3.80987749e-02 -1.73638910e-02\n  7.47093046e-03  2.56600287e-02 -1.90735031e-02  9.33269411e-02\n  8.26741336e-04  3.29675004e-02 -1.44453831e-02  2.23382246e-02\n -9.78794787e-03 -5.95429912e-02  2.51312107e-02  7.84727465e-03\n -3.35632339e-02  2.06995346e-02  2.14453470e-02 -3.03651635e-02\n -3.38789374e-02  3.42657045e-02  8.02799389e-02 -2.27102488e-02\n -1.45141222e-02  1.35908630e-02 -3.66875641e-02  5.68338810e-03\n  1.32126007e-02 -3.84590738e-02  2.29348205e-02 -3.02357171e-02\n  5.74902864e-03 -6.41770810e-02 -3.17523740e-02  4.55485955e-02\n -1.53187504e-02  3.03061772e-02  6.04593642e-02  1.04117710e-02\n  2.54260544e-02  5.37067838e-02  8.20452720e-02 -4.19960497e-03\n  6.58357795e-03  6.83037518e-03  3.24908309e-02  1.74423326e-02\n  6.07533753e-02  8.56453925e-02  4.81057130e-02 -9.37992185e-02\n  4.93356995e-02  2.36274602e-04  1.70228854e-02  3.32530811e-02\n  3.10481396e-02  2.79911049e-02 -2.56981142e-02 -3.17143947e-02\n  1.03422655e-02 -1.64685361e-02 -4.46704216e-02 -4.09626588e-02\n  1.29443863e-02  2.18537985e-04  1.89387016e-02  2.98334397e-02\n -3.28490287e-02 -4.15589474e-02  2.17367448e-02 -2.91569363e-02\n -3.56767070e-03 -4.43830248e-03 -1.84462015e-02  5.87964244e-03\n  1.65849365e-02 -3.31492499e-02 -2.50569899e-02  2.18881853e-02\n  3.69399004e-02  4.92964080e-03 -5.22426777e-02  1.24047222e-02\n -5.31707965e-02 -2.49955952e-02  7.60653813e-04 -4.11682203e-02\n  4.60143015e-02 -2.12279912e-02  2.31682360e-02 -4.59492579e-02\n -1.29493950e-02  1.74553448e-03 -4.47838940e-03  3.03012095e-02\n -3.20938304e-02 -5.02362698e-02 -1.07084615e-02  6.86716195e-03\n -5.05223386e-02  6.73037115e-03 -1.80894174e-02  3.50810401e-02\n  5.49725480e-02 -1.24864271e-02 -7.71613931e-03  1.99220050e-02\n  2.18156728e-07  4.85302508e-02  5.60069419e-02 -2.00262796e-02\n  5.47962673e-02 -2.99007986e-02 -1.53709818e-02  3.61846900e-03\n  7.77632650e-03 -9.64170974e-03 -1.96539946e-02  5.73286321e-03\n  7.15564843e-03  8.37491546e-03  2.20809933e-02 -4.68556099e-02\n -2.16812119e-02  2.27468014e-02  3.64910699e-02 -7.91412592e-03\n  2.46194284e-02  9.09671858e-02  9.61854309e-02  5.92731088e-02\n -1.38591742e-02 -6.40719943e-03 -5.35838231e-02 -1.11716166e-02\n -1.05274292e-02  3.35113294e-02 -2.62926258e-02  3.67871076e-02\n -7.31061120e-03  2.26462316e-02  8.51114765e-02 -2.73483116e-02\n -4.49619032e-02  8.26552585e-02  2.72787884e-02 -2.61984356e-02\n  6.16995990e-02 -9.19354148e-04 -2.93136034e-02  1.78981456e-03\n -1.66344941e-02  1.99334715e-02  2.98925079e-02  3.50755975e-02\n -1.89114921e-02 -3.96314077e-02 -5.20372938e-04  5.12182713e-02\n -1.46389212e-02  8.99124425e-03 -3.68658081e-03  7.81543646e-03\n  2.73975078e-02 -2.42043957e-02 -3.49381031e-03 -6.62653008e-03\n  3.11317313e-02 -3.71047445e-02  3.21330990e-05  1.61609314e-02\n -5.71104772e-02  1.29826050e-02 -6.20196834e-02 -2.54406221e-02\n  1.13652132e-34  4.66185063e-03  2.03389302e-02 -2.14782474e-03\n -1.75573342e-02  2.12787408e-02  1.70300659e-02  7.33859986e-02\n  1.07082278e-02  3.89475189e-02 -2.34981850e-02 -5.90743609e-02].\nReshape your data either using array.reshape(-1, 1) if your data has a single feature or array.reshape(1, -1) if it contains a single sample."
     ]
    }
   ],
   "source": [
    "cosine_distances(context_emb, definition1_emb)"
   ]
  },
  {
   "cell_type": "markdown",
   "id": "b35e9dc7-9967-4d53-88d7-081c572b3097",
   "metadata": {},
   "source": [
    "Сначала у нас будет ошибка, потому что эта функция ожидает двумерные массивы. А у нас два одномерных вектора. Но это можно поправить функцией reshape - она превратит вектор с размерностью (768) в массив с размерностью (1, 768)"
   ]
  },
  {
   "cell_type": "code",
   "execution_count": 11,
   "id": "a589fa78-cc29-44e9-955c-08f23a9749fa",
   "metadata": {},
   "outputs": [
    {
     "data": {
      "text/plain": [
       "array([[0.8994292]], dtype=float32)"
      ]
     },
     "execution_count": 11,
     "metadata": {},
     "output_type": "execute_result"
    }
   ],
   "source": [
    "cosine_distances(context_emb.reshape(1, -1), definition1_emb.reshape(1, -1))"
   ]
  },
  {
   "cell_type": "code",
   "execution_count": 13,
   "id": "b04efedb-2848-4ee9-92d4-acb6cfa57e91",
   "metadata": {},
   "outputs": [
    {
     "data": {
      "text/plain": [
       "array([[0.6817975]], dtype=float32)"
      ]
     },
     "execution_count": 13,
     "metadata": {},
     "output_type": "execute_result"
    }
   ],
   "source": [
    "cosine_distances(context_emb.reshape(1, -1), definition2_emb.reshape(1, -1))"
   ]
  },
  {
   "cell_type": "markdown",
   "id": "6300a220-b500-41fa-ac54-6160b6065783",
   "metadata": {},
   "source": [
    "Вместо расстояния можно рассчитать близость (то же самое только вычтенное из единицы). Еще при работе с векторами удобно (и быстрее) считать близость не по одному вектору, а между всеми сразу."
   ]
  },
  {
   "cell_type": "code",
   "execution_count": 16,
   "id": "4ba8470c-8e1e-4c83-bdca-8f3460e4b1bd",
   "metadata": {},
   "outputs": [
    {
     "data": {
      "text/plain": [
       "array([[0.10057081, 0.3182025 ]], dtype=float32)"
      ]
     },
     "execution_count": 16,
     "metadata": {},
     "output_type": "execute_result"
    }
   ],
   "source": [
    "cosine_similarity(context_emb.reshape(1, -1), [definition1_emb, definition2_emb])"
   ]
  },
  {
   "cell_type": "code",
   "execution_count": null,
   "id": "7b233f46-ecec-40da-aca1-4395ec06da29",
   "metadata": {},
   "outputs": [],
   "source": []
  },
  {
   "cell_type": "markdown",
   "id": "8514594f-76f1-4d0e-a17d-e3734b1f841d",
   "metadata": {},
   "source": [
    "# WSI"
   ]
  },
  {
   "cell_type": "markdown",
   "id": "db809372-23da-40fc-96a1-2a1da4677f51",
   "metadata": {},
   "source": [
    "WSI можно представить как задачу кластеризации контекстов, в которых встречается слово.\n",
    "\n",
    "Кластеризация - задача разбиения объектов на группы (кластеры). Кластеризация это задача обучения без учителя. \n",
    "\n",
    "Основное предположение в кластеризации - объекты, близкие в признаковом пространстве, близки на самом деле. Все алгоритмы кластеризации так или иначе вычисляют близость между объектами (это может быть, например, косинусное расстояние) и стараются организовать кластеры так, чтобы между объектами одного кластера было небольшое расстояние.\n",
    "\n",
    "Так как считать близости между всеми объектами может быть долго, данные могут распологаться в пространстве странным образом (без четких границ, например) или иметь выбросы, в конкретных алгоритмах кластеризации используются дополнительные предположения и разные трюки. Часто к ним привязывается гиперпараметр(ы), который нужно настраивать самому. Сделать это обычно непросто из-за того, что у нас нет конкретного критерия качества, а сами параметры могут быть непонятными. \n",
    "\n",
    "Возьмем данные диалоговского соревнования 2018 года - https://github.com/nlpub/russe-wsi-kit/blob/initial/data/main/wiki-wiki/train.csv (только train часть для простоты)\n",
    "\n",
    "В данных примеры использования целевых слов и индексы значений, в которых они использованы\n",
    "\n",
    "В качестве метрики используется Adjusted Rand Index. https://en.wikipedia.org/wiki/Rand_index , http://scikit-learn.org/stable/modules/generated/sklearn.metrics.adjusted_rand_score.html  \n",
    "Это специальная метрика для кластеризации. Ее нужно использовать, потому что нельзя напрямую сравнить индекс кластера и индекс значения. Индексы значений проставлены в случайном порядке и индексы кластеров тоже рассчитываются случайно. Поэтому нужно проверять то, что два контекста находятся в одном кластере и одном значении или разных кластерах и разных значениях, все остальные случаи - ошибка.  ARI именно это и считает, плюс там есть нормализация, которая позволяет исключить, что случайная кластеризация получит хорошие метрики."
   ]
  },
  {
   "cell_type": "code",
   "execution_count": 21,
   "id": "5a41783a-a141-4392-90e1-f13d20e0e21a",
   "metadata": {
    "scrolled": true
   },
   "outputs": [],
   "source": [
    "# !pip install pandas"
   ]
  },
  {
   "cell_type": "markdown",
   "id": "d85e951b-0026-4d1d-b588-89b1b6c72564",
   "metadata": {},
   "source": [
    "Посмотрим на данные"
   ]
  },
  {
   "cell_type": "code",
   "execution_count": 26,
   "id": "fc1725c8-dc59-462c-a965-7a974eaeac17",
   "metadata": {},
   "outputs": [],
   "source": [
    "import pandas as pd"
   ]
  },
  {
   "cell_type": "code",
   "execution_count": 27,
   "id": "2e8c9c76",
   "metadata": {},
   "outputs": [],
   "source": [
    "df = pd.read_csv('https://raw.githubusercontent.com/nlpub/russe-wsi-kit/initial/data/main/wiki-wiki/train.csv', sep='\\t')"
   ]
  },
  {
   "cell_type": "code",
   "execution_count": 28,
   "id": "e857f6e6",
   "metadata": {},
   "outputs": [
    {
     "data": {
      "text/html": [
       "<div>\n",
       "<style scoped>\n",
       "    .dataframe tbody tr th:only-of-type {\n",
       "        vertical-align: middle;\n",
       "    }\n",
       "\n",
       "    .dataframe tbody tr th {\n",
       "        vertical-align: top;\n",
       "    }\n",
       "\n",
       "    .dataframe thead th {\n",
       "        text-align: right;\n",
       "    }\n",
       "</style>\n",
       "<table border=\"1\" class=\"dataframe\">\n",
       "  <thead>\n",
       "    <tr style=\"text-align: right;\">\n",
       "      <th></th>\n",
       "      <th>context_id</th>\n",
       "      <th>word</th>\n",
       "      <th>gold_sense_id</th>\n",
       "      <th>predict_sense_id</th>\n",
       "      <th>positions</th>\n",
       "      <th>context</th>\n",
       "    </tr>\n",
       "  </thead>\n",
       "  <tbody>\n",
       "    <tr>\n",
       "      <th>0</th>\n",
       "      <td>1</td>\n",
       "      <td>замок</td>\n",
       "      <td>1</td>\n",
       "      <td>NaN</td>\n",
       "      <td>0-5, 339-344</td>\n",
       "      <td>замок владимира мономаха в любече . многочисле...</td>\n",
       "    </tr>\n",
       "    <tr>\n",
       "      <th>1</th>\n",
       "      <td>2</td>\n",
       "      <td>замок</td>\n",
       "      <td>1</td>\n",
       "      <td>NaN</td>\n",
       "      <td>11-16, 17-22, 188-193</td>\n",
       "      <td>шильонский замок замок шильйон ( ) , известный...</td>\n",
       "    </tr>\n",
       "    <tr>\n",
       "      <th>2</th>\n",
       "      <td>3</td>\n",
       "      <td>замок</td>\n",
       "      <td>1</td>\n",
       "      <td>NaN</td>\n",
       "      <td>299-304</td>\n",
       "      <td>проведения архитектурно - археологических рабо...</td>\n",
       "    </tr>\n",
       "    <tr>\n",
       "      <th>3</th>\n",
       "      <td>4</td>\n",
       "      <td>замок</td>\n",
       "      <td>1</td>\n",
       "      <td>NaN</td>\n",
       "      <td>111-116</td>\n",
       "      <td>топи с . , л . белокуров легенда о завещании м...</td>\n",
       "    </tr>\n",
       "    <tr>\n",
       "      <th>4</th>\n",
       "      <td>5</td>\n",
       "      <td>замок</td>\n",
       "      <td>1</td>\n",
       "      <td>NaN</td>\n",
       "      <td>134-139, 262-267</td>\n",
       "      <td>великий князь литовский гедимин после успешной...</td>\n",
       "    </tr>\n",
       "    <tr>\n",
       "      <th>...</th>\n",
       "      <td>...</td>\n",
       "      <td>...</td>\n",
       "      <td>...</td>\n",
       "      <td>...</td>\n",
       "      <td>...</td>\n",
       "      <td>...</td>\n",
       "    </tr>\n",
       "    <tr>\n",
       "      <th>95</th>\n",
       "      <td>96</td>\n",
       "      <td>замок</td>\n",
       "      <td>1</td>\n",
       "      <td>NaN</td>\n",
       "      <td>163-168, 213-218, 364-369</td>\n",
       "      <td>без каминов и очагов . у входа в башню было по...</td>\n",
       "    </tr>\n",
       "    <tr>\n",
       "      <th>96</th>\n",
       "      <td>97</td>\n",
       "      <td>замок</td>\n",
       "      <td>1</td>\n",
       "      <td>NaN</td>\n",
       "      <td>221-226, 276-281</td>\n",
       "      <td>v . в том сражении шотландцы потерпели сокруши...</td>\n",
       "    </tr>\n",
       "    <tr>\n",
       "      <th>97</th>\n",
       "      <td>98</td>\n",
       "      <td>замок</td>\n",
       "      <td>1</td>\n",
       "      <td>NaN</td>\n",
       "      <td>0-5, 16-21, 179-184</td>\n",
       "      <td>замок данноттар замок данноттар ( ) расположен...</td>\n",
       "    </tr>\n",
       "    <tr>\n",
       "      <th>98</th>\n",
       "      <td>99</td>\n",
       "      <td>замок</td>\n",
       "      <td>1</td>\n",
       "      <td>NaN</td>\n",
       "      <td>232-237</td>\n",
       "      <td>. благодаря поэме байрона заключение бонивара ...</td>\n",
       "    </tr>\n",
       "    <tr>\n",
       "      <th>99</th>\n",
       "      <td>100</td>\n",
       "      <td>замок</td>\n",
       "      <td>1</td>\n",
       "      <td>NaN</td>\n",
       "      <td>5-10, 150-155, 289-294</td>\n",
       "      <td>года замок утратил свое военное значение , так...</td>\n",
       "    </tr>\n",
       "  </tbody>\n",
       "</table>\n",
       "<p>100 rows × 6 columns</p>\n",
       "</div>"
      ],
      "text/plain": [
       "    context_id   word  gold_sense_id  predict_sense_id  \\\n",
       "0            1  замок              1               NaN   \n",
       "1            2  замок              1               NaN   \n",
       "2            3  замок              1               NaN   \n",
       "3            4  замок              1               NaN   \n",
       "4            5  замок              1               NaN   \n",
       "..         ...    ...            ...               ...   \n",
       "95          96  замок              1               NaN   \n",
       "96          97  замок              1               NaN   \n",
       "97          98  замок              1               NaN   \n",
       "98          99  замок              1               NaN   \n",
       "99         100  замок              1               NaN   \n",
       "\n",
       "                    positions  \\\n",
       "0                0-5, 339-344   \n",
       "1       11-16, 17-22, 188-193   \n",
       "2                     299-304   \n",
       "3                     111-116   \n",
       "4            134-139, 262-267   \n",
       "..                        ...   \n",
       "95  163-168, 213-218, 364-369   \n",
       "96           221-226, 276-281   \n",
       "97        0-5, 16-21, 179-184   \n",
       "98                    232-237   \n",
       "99     5-10, 150-155, 289-294   \n",
       "\n",
       "                                              context  \n",
       "0   замок владимира мономаха в любече . многочисле...  \n",
       "1   шильонский замок замок шильйон ( ) , известный...  \n",
       "2   проведения архитектурно - археологических рабо...  \n",
       "3   топи с . , л . белокуров легенда о завещании м...  \n",
       "4   великий князь литовский гедимин после успешной...  \n",
       "..                                                ...  \n",
       "95  без каминов и очагов . у входа в башню было по...  \n",
       "96  v . в том сражении шотландцы потерпели сокруши...  \n",
       "97  замок данноттар замок данноттар ( ) расположен...  \n",
       "98  . благодаря поэме байрона заключение бонивара ...  \n",
       "99  года замок утратил свое военное значение , так...  \n",
       "\n",
       "[100 rows x 6 columns]"
      ]
     },
     "execution_count": 28,
     "metadata": {},
     "output_type": "execute_result"
    }
   ],
   "source": [
    "df.head(100)"
   ]
  },
  {
   "cell_type": "markdown",
   "id": "4dc6fbab",
   "metadata": {},
   "source": [
    "С помощью функции groupby мы можем сделать словарь: слово, значения которого надо найти - всего его контексты и размеченные значения."
   ]
  },
  {
   "cell_type": "code",
   "execution_count": 29,
   "id": "5cbc002e",
   "metadata": {},
   "outputs": [],
   "source": [
    "grouped_df = df.groupby('word')[['word', 'context', 'gold_sense_id']]"
   ]
  },
  {
   "cell_type": "code",
   "execution_count": 31,
   "id": "900d5088",
   "metadata": {},
   "outputs": [
    {
     "name": "stdout",
     "output_type": "stream",
     "text": [
      "    word                                            context  gold_sense_id\n",
      "383  бор  бор ( элемент ) бор — элемент тринадцатой груп...              1\n",
      "384  бор  бор - углерод - кремний семейство сплавов на о...              1\n",
      "385  бор  с большим выделением теплоты , образуется окси...              1\n",
      "386  бор  это объясняется прежде всего тем , что у компл...              1\n",
      "387  бор  совсем малочисленна . элементарный бор в приро...              1\n",
      "388  бор  действующем при месторождении горно - химическ...              1\n",
      "389  бор  b c ) . при нагревании в атмосфере кислорода и...              1\n",
      "390  бор  собственных минералов бора в чужих минералах о...              1\n",
      "391  бор  бор - углерод - кремний семейство сплавов на о...              1\n",
      "392  бор  с другими галогенами с образованием тригалоген...              1\n",
      "393  бор  и в стабильны и входят в состав природного бор...              1\n",
      "394  бор  номером . обозначается символом b ( ) . в своб...              1\n",
      "395  бор  и взаимные переходы которых определяются темпе...              1\n",
      "396  бор  . оксид бора formula_  — типичный кислотный ок...              1\n",
      "397  бор  бор ( растение ) бор ( ) — род растений семейс...              2\n",
      "398  бор  каштакский бор каштакский бор — бор , находящи...              2\n",
      "399  бор  бор ( растение ) бор ( ) — род растений семейс...              2\n",
      "400  бор  сосновый бор ( город ) сосно́вый бор — город (...              2\n",
      "401  бор  образом искусственный остров , поэтому для сое...              2\n",
      "402  бор   км к северу от города бузулук в обширной прир...              2\n",
      "403  бор  образовавшийся таким образом сросткинский сосн...              2\n",
      "404  бор  григоровский бор григоровский бор — историческ...              2\n",
      "405  бор  ичалковский бор площадью гектаров отнесен к ка...              2\n",
      "406  бор  его трассе ( на старых картах отчетливо видно ...              2\n",
      "407  бор  . в xix веке в серебряном бору размещался арти...              2\n",
      "408  бор  пески , мощность которых местами достигает мет...              2\n",
      "409  бор  заказника и его статус определяются положением...              2\n",
      "410  бор  каштакский бор каштакский бор — бор , находящи...              2\n",
      "411  бор  на территории бора действовал государственный ...              2\n",
      "412  бор  . фридлянда и инженера а . а . белоголового бы...              2\n",
      "413  бор  до $ . в настоящее время на территории серебря...              2\n",
      "414  бор  серебряный бор есть теория , что название сере...              2\n",
      "415  бор  бузулукский бор бузулу́кский бор — островной м...              2\n",
      "416  бор  . во второй половине xx века , сразу после вел...              2\n",
      "417  бор  , лента бора срастается с соседней лентой касм...              2\n",
      "418  бор  была существенно увеличена в дальнейшем на тер...              2\n",
      "419  бор  бузулук в обширной приречной котловине , имеющ...              2\n",
      "420  бор  ичалковский бор специальным распоряжением сове...              2\n",
      "421  бор  к металлургическому району города . древостой ...              2\n",
      "422  бор  , которые понравятся и детям , и взрослым . в ...              2\n",
      "423  бор  колонии цапли , а в лесу гнездились соколы — п...              2\n",
      "424  бор  серебряном бору , в отдельный подвид сосны обы...              2\n",
      "425  бор  окрестностях семипалатинска . ширина бора на з...              2\n",
      "426  бор  года №  ичалковский бор , его пещеры и карсты ...              2\n",
      "427  бор  серебряный бор есть теория , что название сере...              2\n",
      "428  бор  нашлось необходимого обоснования ( по краеведч...              2\n",
      "429  бор  бор ( лес ) различают следующие основные групп...              2\n",
      "430  бор  ичалковский бор специальным распоряжением сове...              2\n",
      "431  бор  , км² . от самого села до бора можно дойти по ...              2\n",
      "432  бор  озеро на дне холодной пещеры даже в теплое вре...              2\n",
      "433  бор  серебряный бор есть теория , что название сере...              2\n",
      "434  бор  ленточный бор ле́нточные бо́ры — сосновые трав...              2\n",
      "435  бор  в окрестностях барнаула , составляет —  км . н...              2\n",
      "436  бор  также в сосновом бору открыта секция биатлона ...              2\n",
      "437  бор  экспресс банк , мособлбанк , внешпромбанк , ба...              2\n",
      "438  бор  каштакский бор каштакский бор — бор , находящи...              2 \n",
      "\n",
      "\n"
     ]
    }
   ],
   "source": [
    "\n",
    "for key, _ in grouped_df:\n",
    "    print(grouped_df.get_group(key), \"\\n\\n\")\n",
    "    break"
   ]
  },
  {
   "cell_type": "markdown",
   "id": "a2c8896f",
   "metadata": {},
   "source": [
    "Давайте рассмотрим несколько популярных алгоритмов кластеризации."
   ]
  },
  {
   "cell_type": "code",
   "execution_count": 50,
   "id": "12ab73ba",
   "metadata": {},
   "outputs": [],
   "source": [
    "from sklearn.cluster import KMeans, DBSCAN, AffinityPropagation\n",
    "import numpy as np\n",
    "from sklearn.metrics import adjusted_rand_score\n",
    "\n",
    "from IPython.display import Image\n",
    "from IPython.core.display import HTML"
   ]
  },
  {
   "attachments": {},
   "cell_type": "markdown",
   "id": "95684cf1",
   "metadata": {},
   "source": [
    "### DBSCAN"
   ]
  },
  {
   "cell_type": "code",
   "execution_count": 55,
   "id": "72cafda9",
   "metadata": {},
   "outputs": [
    {
     "data": {
      "text/html": [
       "<img src=\"https://media.giphy.com/media/lCL2GQewp7fkk/giphy.gif\"/>"
      ],
      "text/plain": [
       "<IPython.core.display.Image object>"
      ]
     },
     "execution_count": 55,
     "metadata": {},
     "output_type": "execute_result"
    }
   ],
   "source": [
    "Image(url= \"https://media.giphy.com/media/lCL2GQewp7fkk/giphy.gif\")"
   ]
  },
  {
   "cell_type": "markdown",
   "id": "04959085",
   "metadata": {},
   "source": [
    "DBSCAN - это density based алгоритм. Он работает итеративно и объединяет в кластеры объекты, которые лежат плотными кучками. Объекты, лежащие отдельно, считаются выбросами и не кластеризуются. \n",
    "\n",
    "Если более детально, то в DBSCAN есть два основных параметра - порог близости (epsilon) и минимальное количество объектов (min_samples). Вначале выбирают объекты, в радиусе epsilon от которых лежит больше min_samples объектов. Такие точки формируют кластеры и объекты попавшие в радиус добавляют в эти кластеры. Далее для каждого объекта попавшего в кластер находятся объекты, которые лежат в радиусе epsilon и они также добавляются в кластер (и так далее пока новых объектов не будет). Визуально DBSCAN похож на расспространение болезни передающейся по воздуху.\n",
    "\n",
    "DBSCAN сам находит количество кластеров и умеет отфильтровывать выбросы. Параметрами можно настраивать объём окрестности и таким оброзом влиять на кластеры."
   ]
  },
  {
   "cell_type": "markdown",
   "id": "868c932a",
   "metadata": {},
   "source": [
    "Интерактивная визуализация есть тут - https://www.naftaliharris.com/blog/visualizing-dbscan-clustering/"
   ]
  },
  {
   "cell_type": "markdown",
   "id": "2bb517a5-277e-4481-8558-bba73b351999",
   "metadata": {},
   "source": [
    "### Affinity Propagation"
   ]
  },
  {
   "cell_type": "code",
   "execution_count": 43,
   "id": "bb16d70c-15b9-4eaa-accf-11f8c066ab92",
   "metadata": {},
   "outputs": [
    {
     "data": {
      "text/html": [
       "<img src=\"http://www.ritchievink.com/img/post-14-affinity_propagation/preference_median.gif\"/>"
      ],
      "text/plain": [
       "<IPython.core.display.Image object>"
      ]
     },
     "execution_count": 43,
     "metadata": {},
     "output_type": "execute_result"
    }
   ],
   "source": [
    "Image(url=\"http://www.ritchievink.com/img/post-14-affinity_propagation/preference_median.gif\")"
   ]
  },
  {
   "cell_type": "markdown",
   "id": "4577a8aa-42af-4474-ac5e-9d22fe01fece",
   "metadata": {},
   "source": [
    "В AP хитрым образом ищутся \"экземпляры\", объекты в выборке, которые могут использоваться как прототипы. Ближайшие к прототипам объекты записываются в этот кластер.\n",
    "\n",
    "Приемущества AP - не нужно подбирать количество кластеров.  \n",
    "Недостатки - медленно и тратится много памяти, параметры не очевидные.\n",
    "\n",
    "AffinityPropagation работает с не очень большими дасетами, поэтому код ниже может долго работать, когда выбран этот алгоритм."
   ]
  },
  {
   "cell_type": "markdown",
   "id": "65edb59a-c322-4938-8b03-9be8e3a8161f",
   "metadata": {},
   "source": [
    "### Agglomerative clustering"
   ]
  },
  {
   "cell_type": "code",
   "execution_count": 56,
   "id": "37bf32b3-7f36-4517-906c-8e45f285de01",
   "metadata": {},
   "outputs": [
    {
     "data": {
      "text/html": [
       "<img src=\"https://www.datanovia.com/en/wp-content/uploads/dn-tutorials/003-hierarchical-clustering-in-r/figures/002-agglomerative-clustering-cutree-cut-dendrogram-1.png\"/>"
      ],
      "text/plain": [
       "<IPython.core.display.Image object>"
      ]
     },
     "execution_count": 56,
     "metadata": {},
     "output_type": "execute_result"
    }
   ],
   "source": [
    "Image(url= \"https://www.datanovia.com/en/wp-content/uploads/dn-tutorials/003-hierarchical-clustering-in-r/figures/002-agglomerative-clustering-cutree-cut-dendrogram-1.png\")"
   ]
  },
  {
   "cell_type": "markdown",
   "id": "4ece5bfb-e70e-45d8-9d68-8230f5c9be53",
   "metadata": {},
   "source": [
    "В агломеративной кластеризации каждому объекту припывается свой кластер и потом ближайшие кластеры постепенно объединяются, пока не получится 1 кластер или не получится количество, заданное как параметр. "
   ]
  },
  {
   "attachments": {},
   "cell_type": "markdown",
   "id": "41333ba0",
   "metadata": {},
   "source": [
    "### Kmeans"
   ]
  },
  {
   "cell_type": "code",
   "execution_count": 57,
   "id": "2364359f",
   "metadata": {},
   "outputs": [
    {
     "data": {
      "text/html": [
       "<img src=\"https://media.giphy.com/media/hgCM9JNzlqAr6/giphy.gif\"/>"
      ],
      "text/plain": [
       "<IPython.core.display.Image object>"
      ]
     },
     "execution_count": 57,
     "metadata": {},
     "output_type": "execute_result"
    }
   ],
   "source": [
    "Image(url= \"https://media.giphy.com/media/hgCM9JNzlqAr6/giphy.gif\")"
   ]
  },
  {
   "cell_type": "markdown",
   "id": "573e349f",
   "metadata": {},
   "source": [
    "KMeans наверное самый известный алгоритм кластеризации. Выбирается количество кластеров, случайно раскидываются центры этих кластеров, объекты относятся к ближайшим кластерам, центры кластеров пересчитываются в среднее значение попавших в него объектов."
   ]
  },
  {
   "cell_type": "markdown",
   "id": "fcd64707",
   "metadata": {},
   "source": [
    "Более интерактивную версию можно посмотреть вот тут - https://www.naftaliharris.com/blog/visualizing-k-means-clustering/"
   ]
  },
  {
   "cell_type": "markdown",
   "id": "c460df00",
   "metadata": {},
   "source": [
    "KMeans достаточно быстрый, но выбор количества кластеров часто очень не тривиальная проблема."
   ]
  },
  {
   "cell_type": "markdown",
   "id": "8e979e78-d6b4-4f03-b65d-9194f96c7dbf",
   "metadata": {},
   "source": [
    "Про эти и другие алгоритмы можно подробнее почитать вот тут - https://scikit-learn.org/stable/modules/clustering.html"
   ]
  },
  {
   "cell_type": "code",
   "execution_count": null,
   "id": "58c8a8a9-cfe8-45f3-87b2-5cb3d233c1f7",
   "metadata": {},
   "outputs": [],
   "source": []
  },
  {
   "cell_type": "markdown",
   "id": "e3636005-9215-4399-a030-c8e1d4383876",
   "metadata": {},
   "source": [
    "Теперь давайте попробуем решить нашу задачу с помощью алгоритмов кластеризации и sentence transformers"
   ]
  },
  {
   "cell_type": "code",
   "execution_count": 59,
   "id": "2d5f9eeb",
   "metadata": {},
   "outputs": [
    {
     "name": "stderr",
     "output_type": "stream",
     "text": [
      "/Users/mnefedov/miniforge3/envs/myenv/lib/python3.11/site-packages/sklearn/cluster/_kmeans.py:1416: FutureWarning: The default value of `n_init` will change from 10 to 'auto' in 1.4. Set the value of `n_init` explicitly to suppress the warning\n",
      "  super()._check_params_vs_input(X, default_n_init=10)\n",
      "/Users/mnefedov/miniforge3/envs/myenv/lib/python3.11/site-packages/sklearn/cluster/_kmeans.py:1416: FutureWarning: The default value of `n_init` will change from 10 to 'auto' in 1.4. Set the value of `n_init` explicitly to suppress the warning\n",
      "  super()._check_params_vs_input(X, default_n_init=10)\n",
      "/Users/mnefedov/miniforge3/envs/myenv/lib/python3.11/site-packages/sklearn/cluster/_kmeans.py:1416: FutureWarning: The default value of `n_init` will change from 10 to 'auto' in 1.4. Set the value of `n_init` explicitly to suppress the warning\n",
      "  super()._check_params_vs_input(X, default_n_init=10)\n"
     ]
    },
    {
     "name": "stdout",
     "output_type": "stream",
     "text": [
      "0.07963918459393977\n"
     ]
    },
    {
     "name": "stderr",
     "output_type": "stream",
     "text": [
      "/Users/mnefedov/miniforge3/envs/myenv/lib/python3.11/site-packages/sklearn/cluster/_kmeans.py:1416: FutureWarning: The default value of `n_init` will change from 10 to 'auto' in 1.4. Set the value of `n_init` explicitly to suppress the warning\n",
      "  super()._check_params_vs_input(X, default_n_init=10)\n"
     ]
    }
   ],
   "source": [
    "ARI = []\n",
    "\n",
    "for key, _ in grouped_df:\n",
    "    # вытаскиваем контексты\n",
    "    texts = grouped_df.get_group(key)['context'].values\n",
    "\n",
    "    # создаем пустую матрицу для векторов \n",
    "    X = np.zeros((len(texts), 768))\n",
    "\n",
    "    # переводим тексты в векторы и кладем в матрицу\n",
    "    for i, text in enumerate(texts):\n",
    "        X[i] = embed(text)\n",
    "\n",
    "    # выбираем один из алгоритмов\n",
    "    # cluster = AffinityPropagation(damping=0.9)\n",
    "    cluster = KMeans(3)\n",
    "#     cluster = DBSCAN(min_samples=1, eps=0.1)\n",
    "    \n",
    "    cluster.fit(X)\n",
    "    labels = np.array(cluster.labels_)+1 \n",
    "\n",
    "    # расчитываем метрику для отдельного слова\n",
    "    ARI.append(adjusted_rand_score(grouped_df.get_group(key)['gold_sense_id'], labels))\n",
    "    \n",
    "print(np.mean(ARI)) # усредненная метрика"
   ]
  },
  {
   "cell_type": "code",
   "execution_count": null,
   "id": "7bd5bdd5-2fed-4053-8e01-681db7b19cc5",
   "metadata": {},
   "outputs": [],
   "source": []
  }
 ],
 "metadata": {
  "kernelspec": {
   "display_name": "Python 3 (ipykernel)",
   "language": "python",
   "name": "python3"
  },
  "language_info": {
   "codemirror_mode": {
    "name": "ipython",
    "version": 3
   },
   "file_extension": ".py",
   "mimetype": "text/x-python",
   "name": "python",
   "nbconvert_exporter": "python",
   "pygments_lexer": "ipython3",
   "version": "3.11.5"
  },
  "vscode": {
   "interpreter": {
    "hash": "02e6746e832aa8eb1abf7db22a4c6670d44d17f146748c440a1ed1ace17345ab"
   }
  }
 },
 "nbformat": 4,
 "nbformat_minor": 5
}
