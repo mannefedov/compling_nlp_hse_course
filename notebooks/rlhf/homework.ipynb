{
 "cells": [
  {
   "cell_type": "markdown",
   "id": "ec9e6bbc",
   "metadata": {},
   "source": [
    "# Задание 1 (10 баллов)"
   ]
  },
  {
   "cell_type": "markdown",
   "id": "ae4a0c17",
   "metadata": {},
   "source": [
    "Обучите языковую модель с помощью GRPO на вот этом датасете - `notbadai/python_functions_reasoning`\n",
    "Он чем-то похож на датасет из семинара, но вместо математических задач нужно написать код на питоне. \n",
    "Измените system prompt под эту задачу. Напишите аналогичные reward функции - одна на проверку формата (markdown wrappers ```python... ``` вокруг кода в конце), и на проверку что код работает (можете использовать import ast; ast.parse(string) для проверки)\n",
    "Если модель сначала не может отвечать в нужно формате, то сделайте цикл SFT обучения на небольшом куске датасета.\n",
    "GRPO в колабе может работать долго, поэтому не старайтесь пропустить весь датасет. Но обучайте хотя бы на 100 промптах (по несколько генераций на каждый промпт).\n",
    "Оцените разницу в качестве на небольшом сабсете, прогнав изначальную модель, модель после SFT (если она есть) и GRPO модель. В качестве метрики используйте reward функции. \n",
    "Можете взять любую языковую модель любого размера. Можете дообучать всю модель или же только адаптера поверх квантизированной модели. \n"
   ]
  },
  {
   "cell_type": "code",
   "execution_count": 1,
   "id": "fed94101",
   "metadata": {},
   "outputs": [],
   "source": [
    "import ast"
   ]
  },
  {
   "cell_type": "code",
   "execution_count": null,
   "id": "3e6681b7",
   "metadata": {},
   "outputs": [
    {
     "ename": "IndentationError",
     "evalue": "expected an indented block after 'try' statement on line 1 (<unknown>, line 3)",
     "output_type": "error",
     "traceback": [
      "Traceback \u001b[0;36m(most recent call last)\u001b[0m:\n",
      "\u001b[0m  File \u001b[1;32m~/.pyenv/versions/3.10.9/lib/python3.10/site-packages/IPython/core/interactiveshell.py:3577\u001b[0m in \u001b[1;35mrun_code\u001b[0m\n    exec(code_obj, self.user_global_ns, self.user_ns)\u001b[0m\n",
      "\u001b[0m  Cell \u001b[1;32mIn[6], line 10\u001b[0m\n    ast.parse(s)\u001b[0m\n",
      "\u001b[0;36m  File \u001b[0;32m~/.pyenv/versions/3.10.9/lib/python3.10/ast.py:50\u001b[0;36m in \u001b[0;35mparse\u001b[0;36m\n\u001b[0;31m    return compile(source, filename, mode, flags,\u001b[0;36m\n",
      "\u001b[0;36m  File \u001b[0;32m<unknown>:3\u001b[0;36m\u001b[0m\n\u001b[0;31m    result = float(scientific_notation)\u001b[0m\n\u001b[0m    ^\u001b[0m\n\u001b[0;31mIndentationError\u001b[0m\u001b[0;31m:\u001b[0m expected an indented block after 'try' statement on line 1\n"
     ]
    }
   ],
   "source": [
    "s = \"\"\"\\\n",
    "try:\n",
    "# Use Python's built-in float function to convert scientific notation to float\n",
    "result = float(scientific_notation)\n",
    "    return result\n",
    "except (ValueError, TypeError):\n",
    "    return None\n",
    "\"\"\"\n",
    "\n",
    "# если код не валиден, то будет ошибка\n",
    "ast.parse(s)"
   ]
  }
 ],
 "metadata": {
  "kernelspec": {
   "display_name": "3.10.9",
   "language": "python",
   "name": "python3"
  },
  "language_info": {
   "codemirror_mode": {
    "name": "ipython",
    "version": 3
   },
   "file_extension": ".py",
   "mimetype": "text/x-python",
   "name": "python",
   "nbconvert_exporter": "python",
   "pygments_lexer": "ipython3",
   "version": "3.10.9"
  }
 },
 "nbformat": 4,
 "nbformat_minor": 5
}
