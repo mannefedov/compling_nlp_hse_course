{
 "cells": [
  {
   "cell_type": "markdown",
   "id": "4ca384d0-da9b-41bc-a902-ee069922c0c2",
   "metadata": {},
   "source": [
    "## Домашка\n",
    "\n",
    "\n",
    "Обучите модель с минимум 15 слоями, где у каждого слоя разные параметры (Dropout, Conv1d и Pooling считаются слоями, остальное нет). Как мимнимум 4 слоя должны быть наложены друг на друга и как минимум 2 параллельных слоя (последовательности слоев). Должен быть хотя бы один слой каждого типа.\n",
    "\n",
    "При обучении используйте колбек для отслеживания лучшей модели. Ориентируйтесь на ф1 меру. Должно получиться сопоставимое качество с моделями выше.\n",
    "\n",
    "Советы: Начните с небольших сетей и постепенно добавляйте, не пытайтесь сразу собрать все слои. Иногда кернел может крашиться просто так или из-за слишком больших матриц.\n"
   ]
  },
  {
   "cell_type": "code",
   "execution_count": null,
   "id": "2dcb010f-90e2-4a23-bbdd-4b6df8a94c31",
   "metadata": {},
   "outputs": [],
   "source": []
  }
 ],
 "metadata": {
  "kernelspec": {
   "display_name": "Python 3 (ipykernel)",
   "language": "python",
   "name": "python3"
  },
  "language_info": {
   "codemirror_mode": {
    "name": "ipython",
    "version": 3
   },
   "file_extension": ".py",
   "mimetype": "text/x-python",
   "name": "python",
   "nbconvert_exporter": "python",
   "pygments_lexer": "ipython3",
   "version": "3.11.7"
  }
 },
 "nbformat": 4,
 "nbformat_minor": 5
}
