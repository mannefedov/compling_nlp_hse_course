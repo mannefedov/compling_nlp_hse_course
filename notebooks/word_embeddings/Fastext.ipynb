{
 "cells": [
  {
   "cell_type": "markdown",
   "id": "ca9018a8-98d3-43e9-aadb-e7a7bee17a85",
   "metadata": {},
   "source": [
    "## Fastext своими руками\n",
    "\n",
    "Fastext использует те же самые алгоритмы, что и word2vec. Единственное (но очень значимое) отличие в том, что в fastext используются не только слова, но и символьные нграммы. Это частично помогает решить проблему с несловарными словами. Если в словаре word2vec модели нет нужного слова, то никакого вектора для него создать не получится. В fastext же, если слова нет в словаре целиком, то можно проверить по словарю символьные нграммы этого слова и составить итоговый вектор из них. Большинство несловарных слов сильно пересекаются со словарными (основами, аффиксами) и за счет этого найденный вектор получается достаточно хороший. \n",
    "Реализовать простую версию fastext немного сложнее, поэтому я вынес его в отдельный ноутбук."
   ]
  },
  {
   "cell_type": "code",
   "execution_count": 1,
   "id": "9be38530-a130-4f1f-baf6-d9d4f56396e3",
   "metadata": {},
   "outputs": [],
   "source": [
    "# import tensorflow as tf\n",
    "import numpy as np\n",
    "import pandas as pd\n",
    "from string import punctuation\n",
    "from sklearn.model_selection import train_test_split\n",
    "from collections import Counter\n",
    "import matplotlib.pyplot as plt\n",
    "from sklearn.decomposition import TruncatedSVD\n",
    "from sklearn.feature_extraction.text import CountVectorizer\n",
    "from sklearn.metrics.pairwise import cosine_distances\n",
    "\n",
    "from IPython.display import Image\n",
    "from IPython.core.display import HTML \n",
    "%matplotlib inline\n"
   ]
  },
  {
   "cell_type": "code",
   "execution_count": 2,
   "id": "b83e8611-49e4-4001-8046-cda52b85e965",
   "metadata": {},
   "outputs": [
    {
     "name": "stdout",
     "output_type": "stream",
     "text": [
      "3.7.0\n"
     ]
    }
   ],
   "source": [
    "import os\n",
    "os.environ[\"KERAS_BACKEND\"] = \"torch\"\n",
    "# os.environ[\"PYTORCH_ENABLE_MPS_FALLBACK\"] = \"1\"\n",
    "\n",
    "import torch\n",
    "# torch.set_default_device('cpu')\n",
    "\n",
    "import keras\n",
    "print(keras.__version__)"
   ]
  },
  {
   "cell_type": "markdown",
   "id": "d9e201b4-924b-4b88-ab5f-facca2e9e511",
   "metadata": {},
   "source": [
    "Возьмем тот же небольшой кусок википедии"
   ]
  },
  {
   "cell_type": "code",
   "execution_count": 3,
   "id": "73b1f1d1-53c4-424b-b34b-4e5e772e1c99",
   "metadata": {},
   "outputs": [],
   "source": [
    "# в нашем корпусе 20к текстов\n",
    "wiki = open('wiki_data.txt').read().split('\\n')"
   ]
  },
  {
   "cell_type": "code",
   "execution_count": 33,
   "id": "f156ffec-37a8-4860-8489-53ea24f4761f",
   "metadata": {},
   "outputs": [
    {
     "data": {
      "text/plain": [
       "'######Новостройка (Нижегородская область)############Новостро́йка — сельский посёлок в Дивеевском районе Нижегородской области. Входит в состав Сатисского сельсовета.############Посёлок расположен в 12,5 км к югу от села Дивеева и 1 км к западу от города Сарова, на правом берегу реки Вичкинза (правый приток реки Сатис). Окружён смешанными лесами. Соединён асфальтовой дорогой с посёлком Цыгановка (1,5 км) и грунтовыми просёлочными дорогами с посёлком Сатис (3,5 км). Название Новостройка является сугубо официальным, местное население использует исключительно альтернативное название — Хитрый. Употребляется языковой оборот «…на Хитром». Ранее используемые названия — Песчаный, Известковый.############Основан в 1920-х годах переселенцами из соседних сёл Аламасово и Нарышкино (расположенных соответственно в 8 и 14 км к западу в Вознесенском районе).############Традиционно в посёлке жили рабочие совхоза «Вперёд» (центр в посёлке Сатис). Возле посёлка расположен карьер где активно добывали доломитовую муку и бутовый камень (в настоящее время официально закрыт).############По данным 1978 года посёлок Новостройка характеризовался как неперспективный, здесь насчитывалось 24 хозяйства и 43 жителя. Водоснабжение осуществлялось из колодцев и родников, учреждения соцкультбыта отсутствовали. В 1992 году в посёлке насчитывалось 7 хозяйств и 16 жителей, из которых 7 трудоспособного возраста. На 1 января 1995 года в посёлке имелось 6 хозяйств и 12 жителей.############В настоящее время посёлок не только остаётся жилым, но и получил развитие благодаря своей близости к святым источникам. В полукилометре расположен Казанский родник, а в 1,2 км — источник святого Серафима Саровского.############В посёлке расположен скит Дивеевского монастыря.######В 2012 году был освящён домовой храм в честь Серафима Саровского.##############################'"
      ]
     },
     "execution_count": 33,
     "metadata": {},
     "output_type": "execute_result"
    }
   ],
   "source": [
    "wiki[0]"
   ]
  },
  {
   "cell_type": "code",
   "execution_count": 34,
   "id": "3d2fac88-447a-4392-9614-b532a6a7016e",
   "metadata": {},
   "outputs": [
    {
     "data": {
      "text/plain": [
       "20003"
      ]
     },
     "execution_count": 34,
     "metadata": {},
     "output_type": "execute_result"
    }
   ],
   "source": [
    "len(wiki)"
   ]
  },
  {
   "cell_type": "markdown",
   "id": "d088a22e-fa9e-4647-926b-15aead479c97",
   "metadata": {},
   "source": [
    "Базовая токенизация остается точно такой же"
   ]
  },
  {
   "cell_type": "code",
   "execution_count": 35,
   "id": "0ff1c5d7-08b0-4cc2-90f5-cfe01709f04f",
   "metadata": {},
   "outputs": [],
   "source": [
    "import re\n",
    "from collections import Counter\n",
    "def tokenize(text):\n",
    "    tokens = re.sub('#+', ' ', text.lower()).split()\n",
    "    tokens = [token.strip(punctuation) for token in tokens]\n",
    "    tokens = [token for token in tokens if token]\n",
    "    return tokens\n"
   ]
  },
  {
   "cell_type": "markdown",
   "id": "b34852d5-d923-4d7b-8a51-73e3bda4d59a",
   "metadata": {},
   "source": [
    "Второй базовый элемент - это нграммер, чтобы разбивать токен на символьные нграммы\n",
    "Обратите внимание что к токену добавляются <> чтобы учесть в нграммах, что они стоят в начале или в конце"
   ]
  },
  {
   "cell_type": "code",
   "execution_count": null,
   "id": "040c32c0-c661-4351-bf18-996db0c6dbd5",
   "metadata": {},
   "outputs": [],
   "source": [
    "def ngrammer(raw_string, n=2):\n",
    "    ngrams = []\n",
    "    raw_string = ''.join(['<', raw_string, '>'])\n",
    "    for i in range(0,len(raw_string)-n+1):\n",
    "        ngram = ''.join(raw_string[i:i+n])\n",
    "        if ngram == '<' or ngram == '>': # сами по себе <> как токены не нужны\n",
    "            continue\n",
    "        ngrams.append(ngram)\n",
    "    return ngrams"
   ]
  },
  {
   "cell_type": "markdown",
   "id": "4b514cd9-1860-4988-b3d0-554aad49164f",
   "metadata": {},
   "source": [
    "Следующая функция проходится по токенам и разбивает каждый токен на подсимвольные нграммы в заданном интервале"
   ]
  },
  {
   "cell_type": "code",
   "execution_count": 36,
   "id": "540eb690-03a5-4153-b6c3-3fbd0a1d374b",
   "metadata": {},
   "outputs": [],
   "source": [
    "def split_tokens(tokens, min_ngram_size, max_ngram_size):\n",
    "    tokens_with_subwords = []\n",
    "    for token in tokens:\n",
    "        subtokens = []\n",
    "        for i in range(min_ngram_size, max_ngram_size+1):\n",
    "            if len(token) > i:\n",
    "                subtokens.extend(ngrammer(token, i))\n",
    "        tokens_with_subwords.append(subtokens)\n",
    "    return tokens_with_subwords\n"
   ]
  },
  {
   "cell_type": "code",
   "execution_count": 41,
   "id": "04670a7c-b998-4e9d-95df-f671496d2920",
   "metadata": {
    "scrolled": true
   },
   "outputs": [
    {
     "data": {
      "text/plain": [
       "[['<по',\n",
       "  'под',\n",
       "  'одс',\n",
       "  'дси',\n",
       "  'сим',\n",
       "  'имв',\n",
       "  'мво',\n",
       "  'вол',\n",
       "  'оль',\n",
       "  'льн',\n",
       "  'ьны',\n",
       "  'ные',\n",
       "  'ые>',\n",
       "  '<под',\n",
       "  'подс',\n",
       "  'одси',\n",
       "  'дсим',\n",
       "  'симв',\n",
       "  'имво',\n",
       "  'мвол',\n",
       "  'воль',\n",
       "  'ольн',\n",
       "  'льны',\n",
       "  'ьные',\n",
       "  'ные>'],\n",
       " ['<нг',\n",
       "  'нгр',\n",
       "  'гра',\n",
       "  'рам',\n",
       "  'амм',\n",
       "  'ммы',\n",
       "  'мы>',\n",
       "  '<нгр',\n",
       "  'нгра',\n",
       "  'грам',\n",
       "  'рамм',\n",
       "  'аммы',\n",
       "  'ммы>']]"
      ]
     },
     "execution_count": 41,
     "metadata": {},
     "output_type": "execute_result"
    }
   ],
   "source": [
    "split_tokens(['подсимвольные', 'нграммы'], 3, 4)"
   ]
  },
  {
   "cell_type": "markdown",
   "id": "270f33a1-5b42-40ec-814d-16df7917ea70",
   "metadata": {},
   "source": [
    "Теперь нам нужно спаппить токены и подсимвольные нграммы в индексы и для этого нужно построить словарь. Это немного сложнее чем раньше потому что мы хотим иметь в словаре и полные слова и символьные нграммы, но нам нужно иметь отдельный список только полных слов, чтобы потом иметь возможность находить ближайшие слова.\n",
    "\n",
    "Чтобы было удобнее со всеми переменными напишем класс для токенизации"
   ]
  },
  {
   "cell_type": "code",
   "execution_count": 42,
   "id": "4b1c4056-c3da-43bb-816f-264b92e89fd5",
   "metadata": {},
   "outputs": [],
   "source": [
    "class SubwordTokenizer:\n",
    "    def __init__(self, ngram_range=(1,1), min_count=5):\n",
    "        self.min_ngram_size, self.max_ngram_size = ngram_range\n",
    "        self.min_count = min_count\n",
    "        self.subword_vocab = None\n",
    "        self.fullword_vocab = None\n",
    "        self.vocab = None\n",
    "        self.id2word = None\n",
    "        self.word2id = None\n",
    "\n",
    "    def build_vocab(self, texts):\n",
    "        # чтобы построить словарь нужно пройти по всему корпусу и собрать частоты всех уникальных слов и нграммов\n",
    "        unfiltered_subword_vocab = Counter()\n",
    "        unfiltered_fullword_vocab = Counter()\n",
    "        for text in texts:\n",
    "            tokens = tokenize(text)\n",
    "            unfiltered_fullword_vocab.update(tokens)\n",
    "            subwords_per_token = split_tokens(tokens, self.min_ngram_size, self.max_ngram_size)\n",
    "            for subwords in subwords_per_token:\n",
    "                # в одном слове могут быть одинаковые нграммы поэтому возьмем только уникальные\n",
    "                unfiltered_subword_vocab.update(set(subwords))\n",
    "\n",
    "        self.fullword_vocab = set()\n",
    "        self.subword_vocab = set()\n",
    "\n",
    "        # теперь отфильтруем по частоте\n",
    "        for word, count in unfiltered_fullword_vocab.items():\n",
    "            if count >= self.min_count:\n",
    "                self.fullword_vocab.add(word)\n",
    "        # для нграммов сделаем порог побольше чтобы не создавать слишком много нграммов\n",
    "        # и учитывать только действительно частотные\n",
    "        for word, count in unfiltered_subword_vocab.items():\n",
    "            if count >= (self.min_count * 100):\n",
    "                self.subword_vocab.add(word)\n",
    "\n",
    "        # общий словарь\n",
    "        self.vocab = self.fullword_vocab | self.subword_vocab\n",
    "        self.id2word = {i:word for i,word in enumerate(self.vocab)}\n",
    "        self.word2id = {word:i for i,word in self.id2word.items()}\n",
    "\n",
    "    def subword_tokenize(self, text):\n",
    "        if self.vocab is None:\n",
    "            raise AttributeError('Vocabulary is not built!')\n",
    "        # разбиваем на токены\n",
    "        tokens = tokenize(text) \n",
    "        # каждый токен разбиваем на символьные нграммы\n",
    "        tokens_with_subwords = split_tokens(tokens, self.min_ngram_size, self.max_ngram_size)\n",
    "        # оставляет только токены и нграммы которые есть в словаре\n",
    "        only_vocab_tokens_with_subwords = []\n",
    "        for full_token, sub_tokens in zip(tokens, tokens_with_subwords):\n",
    "            filtered = []\n",
    "            if full_token in self.vocab:\n",
    "                # само слово и нграммы хранятся в одном списке \n",
    "                # но слово будет всегда первым в списке\n",
    "                filtered.append(full_token)\n",
    "            filtered.extend([subtoken for subtoken in set(sub_tokens) if subtoken in self.vocab])\n",
    "            only_vocab_tokens_with_subwords.append(filtered)\n",
    "\n",
    "        return only_vocab_tokens_with_subwords\n",
    "\n",
    "    def encode(self, subword_tokenized_text):\n",
    "        # маппим токены и нграммы в их индексы в словаре\n",
    "        encoded_text = []\n",
    "        for token in subword_tokenized_text:\n",
    "            if not token:\n",
    "                continue\n",
    "            encoded_text.append([self.word2id[token[0]]] + [self.word2id[t] for t in set(token[1:]) if t in self.word2id and t != token[0]])\n",
    "        return encoded_text\n",
    "\n",
    "    def __call__(self, text):\n",
    "        return self.encode(self.subword_tokenize(text))\n"
   ]
  },
  {
   "cell_type": "code",
   "execution_count": 5,
   "id": "2964f47c-1ab8-4b3a-8af1-b845d6a4cd7a",
   "metadata": {},
   "outputs": [],
   "source": [
    "tokenizer = SubwordTokenizer(ngram_range=(2,4), min_count=10)"
   ]
  },
  {
   "cell_type": "code",
   "execution_count": 6,
   "id": "8e2445c1-7e68-401a-bad8-2d19d822c15b",
   "metadata": {},
   "outputs": [],
   "source": [
    "tokenizer.build_vocab(wiki)"
   ]
  },
  {
   "cell_type": "code",
   "execution_count": 7,
   "id": "318cf75d-086f-41f5-88d8-9c771201e2ea",
   "metadata": {},
   "outputs": [
    {
     "data": {
      "text/plain": [
       "[['текст',\n",
       "  'текс',\n",
       "  'ст',\n",
       "  'кс',\n",
       "  'екс',\n",
       "  'т>',\n",
       "  'ек',\n",
       "  'те',\n",
       "  'кст',\n",
       "  'екст',\n",
       "  'тек',\n",
       "  '<т',\n",
       "  'ст>',\n",
       "  '<те',\n",
       "  '<тек'],\n",
       " ['для', '<д', 'я>', 'ля', 'дл'],\n",
       " ['тестирования',\n",
       "  'ова',\n",
       "  'ан',\n",
       "  'ни',\n",
       "  'ти',\n",
       "  'ров',\n",
       "  'ован',\n",
       "  '<те',\n",
       "  'ван',\n",
       "  'вани',\n",
       "  'ва',\n",
       "  'ия>',\n",
       "  'тес',\n",
       "  'ир',\n",
       "  'ест',\n",
       "  'тест',\n",
       "  'сти',\n",
       "  'ов',\n",
       "  'иров',\n",
       "  'ст',\n",
       "  'иро',\n",
       "  'ро',\n",
       "  'ес',\n",
       "  'те',\n",
       "  'рова',\n",
       "  'тир',\n",
       "  'ани',\n",
       "  'тиро',\n",
       "  'ния>',\n",
       "  'ания',\n",
       "  'я>',\n",
       "  'ния',\n",
       "  'ия',\n",
       "  'ести',\n",
       "  '<т'],\n",
       " ['ок',\n",
       "  'изац',\n",
       "  'ни',\n",
       "  'ции',\n",
       "  'низ',\n",
       "  'ке',\n",
       "  'токе',\n",
       "  'иза',\n",
       "  'заци',\n",
       "  'кен',\n",
       "  'низа',\n",
       "  'то',\n",
       "  'ен',\n",
       "  'ции>',\n",
       "  'ации',\n",
       "  'за',\n",
       "  'оке',\n",
       "  'ии',\n",
       "  'ци',\n",
       "  '<то',\n",
       "  'из',\n",
       "  'зац',\n",
       "  'ии>',\n",
       "  'ток',\n",
       "  'аци',\n",
       "  'ац',\n",
       "  'ени',\n",
       "  'и>',\n",
       "  '<т']]"
      ]
     },
     "execution_count": 7,
     "metadata": {},
     "output_type": "execute_result"
    }
   ],
   "source": [
    "tokenizer.subword_tokenize('Текст для тестирования токенизации')"
   ]
  },
  {
   "cell_type": "code",
   "execution_count": 8,
   "id": "2f488c48-5fad-414d-9be8-d432e062bc9b",
   "metadata": {},
   "outputs": [
    {
     "data": {
      "text/plain": [
       "54860"
      ]
     },
     "execution_count": 8,
     "metadata": {},
     "output_type": "execute_result"
    }
   ],
   "source": [
    "len(tokenizer.vocab)"
   ]
  },
  {
   "cell_type": "code",
   "execution_count": 9,
   "id": "e6f2a37a-c4f9-4a2b-a0b3-e8ca4dd9d104",
   "metadata": {
    "scrolled": true
   },
   "outputs": [
    {
     "data": {
      "text/plain": [
       "[[37556,\n",
       "  37816,\n",
       "  5387,\n",
       "  21821,\n",
       "  40639,\n",
       "  232,\n",
       "  29939,\n",
       "  12077,\n",
       "  28470,\n",
       "  36788,\n",
       "  35065,\n",
       "  29134,\n",
       "  29895,\n",
       "  12488,\n",
       "  41021],\n",
       " [43685, 13609, 34940, 53748, 42650],\n",
       " [21417,\n",
       "  52144,\n",
       "  52302,\n",
       "  47504,\n",
       "  7436,\n",
       "  4403,\n",
       "  7017,\n",
       "  12488,\n",
       "  33500,\n",
       "  35456,\n",
       "  21986,\n",
       "  2536,\n",
       "  43290,\n",
       "  32251,\n",
       "  18137,\n",
       "  51963,\n",
       "  17779,\n",
       "  45932,\n",
       "  23190,\n",
       "  5387,\n",
       "  48524,\n",
       "  15542,\n",
       "  42860,\n",
       "  12077,\n",
       "  39475,\n",
       "  32715,\n",
       "  28598,\n",
       "  13683,\n",
       "  31852,\n",
       "  44946,\n",
       "  42650,\n",
       "  8607,\n",
       "  2517,\n",
       "  47931,\n",
       "  29134],\n",
       " [14329,\n",
       "  12253,\n",
       "  47504,\n",
       "  51941,\n",
       "  18178,\n",
       "  18343,\n",
       "  22145,\n",
       "  41053,\n",
       "  51951,\n",
       "  27494,\n",
       "  47954,\n",
       "  15636,\n",
       "  3867,\n",
       "  49478,\n",
       "  35078,\n",
       "  9832,\n",
       "  26939,\n",
       "  30180,\n",
       "  46676,\n",
       "  39145,\n",
       "  31268,\n",
       "  51777,\n",
       "  51183,\n",
       "  49294,\n",
       "  8608,\n",
       "  8534,\n",
       "  42309,\n",
       "  54054,\n",
       "  29134]]"
      ]
     },
     "execution_count": 9,
     "metadata": {},
     "output_type": "execute_result"
    }
   ],
   "source": [
    "tokenizer('Текст для тестирования токенизации')"
   ]
  },
  {
   "cell_type": "markdown",
   "id": "a3bb6393-2351-436a-8aaa-58ec1c7353c0",
   "metadata": {},
   "source": [
    "Реализуем функцию которая будет генерировать батчи для обучения. Сделаем только скипграмм алгоритм. То есть нам нужны пары токен_1 - токен_2 встретившиеся в одном контексте, только для токена_1 мы еще будет учитывать его символьный нграммы, а токен_2 будет предсказывать только целиком без разбиение на поднграммы"
   ]
  },
  {
   "cell_type": "code",
   "execution_count": 12,
   "id": "f2308cbf-cca8-4044-8c6d-80d4815f914e",
   "metadata": {},
   "outputs": [],
   "source": [
    "def gen_batches_ft(sentences, tokenizer, window = 5, batch_size=1000, maxlen=20):\n",
    "    \n",
    "    \n",
    "    left_context_length = (window/2).__ceil__() \n",
    "    right_context_length = window // 2 \n",
    "    \n",
    "    while True:\n",
    "        X = []\n",
    "        y = []\n",
    "\n",
    "        for sent in sentences:\n",
    "            sent = tokenizer(sent)\n",
    "            for i in range(len(sent)-1):\n",
    "                word_with_subtokens = sent[i]\n",
    "                context = sent[max(0, i-left_context_length):i] + sent[i+1:i+right_context_length]\n",
    "                for context_word_with_subtokens in context:\n",
    "                    # целевой токен всегда только целый\n",
    "                    # мы берем первый токен из списка который вернул токенайзер\n",
    "                    # там у нас будет лежать целое слово\n",
    "                    only_full_word_context_token = context_word_with_subtokens[0]\n",
    "                    X.append(word_with_subtokens)\n",
    "                    y.append(only_full_word_context_token)\n",
    "                    \n",
    "                    if len(X) >= batch_size:\n",
    "                        # тут нам понадобится паддинг так как количество сивольных нграммов будет зависеть от длины токенов\n",
    "                        X = np.array(keras.preprocessing.sequence.pad_sequences(X, maxlen=maxlen))\n",
    "                        y = np.array(y)\n",
    "                        yield (X, y)\n",
    "                        X = []\n",
    "                        y = []"
   ]
  },
  {
   "cell_type": "code",
   "execution_count": 13,
   "id": "4fa2a8c6-f144-484e-b641-b89749bb710c",
   "metadata": {},
   "outputs": [],
   "source": [
    "gen = gen_batches_ft(wiki, tokenizer, batch_size=5)"
   ]
  },
  {
   "cell_type": "code",
   "execution_count": 14,
   "id": "11d3ef2c-3bb4-4e19-9fe3-8f8592d02381",
   "metadata": {},
   "outputs": [
    {
     "data": {
      "text/plain": [
       "(array([[22947, 48282, 27145, 28792, 48513, 27753, 37977, 21663, 45932,\n",
       "         29743,  5387, 15542, 33635, 22329, 48311, 29820, 16903, 23157,\n",
       "         36562, 20455],\n",
       "        [15542, 28135, 31314, 14369, 54155, 17429, 31723,  2060,  5459,\n",
       "         40183, 12578,  6739, 48311, 53991, 24519, 42650, 16903, 53597,\n",
       "         44043, 14847],\n",
       "        [15542, 28135, 31314, 14369, 54155, 17429, 31723,  2060,  5459,\n",
       "         40183, 12578,  6739, 48311, 53991, 24519, 42650, 16903, 53597,\n",
       "         44043, 14847],\n",
       "        [28777, 40888, 49411, 43813, 23294, 24160, 27451,  5387, 18150,\n",
       "         50203, 45708,  5560, 25165, 40453, 51307, 44032, 47585, 31736,\n",
       "         19321, 39041],\n",
       "        [28777, 40888, 49411, 43813, 23294, 24160, 27451,  5387, 18150,\n",
       "         50203, 45708,  5560, 25165, 40453, 51307, 44032, 47585, 31736,\n",
       "         19321, 39041]], dtype=int32),\n",
       " array([19249, 15749,  1974, 15749, 19249]))"
      ]
     },
     "execution_count": 14,
     "metadata": {},
     "output_type": "execute_result"
    }
   ],
   "source": [
    "next(gen)"
   ]
  },
  {
   "cell_type": "markdown",
   "id": "a16b8442-7830-4e92-bf2a-007eaed7354a",
   "metadata": {},
   "source": [
    "Код для обучения очень простой. Мы просто сопостовляет каждому токену и нграмму эмбединг и усредняем все эмбединги внутри слова, чтобы получить итоговый. По нему мы пытаемся предсказать целевое слово."
   ]
  },
  {
   "cell_type": "code",
   "execution_count": 15,
   "id": "e2229acf-0d74-46f9-87f5-2c7f56d79fb4",
   "metadata": {},
   "outputs": [],
   "source": [
    "model = keras.Sequential()\n",
    "model.add(keras.layers.Embedding(input_dim=len(tokenizer.vocab), \n",
    "                                 output_dim=100))\n",
    "model.add(keras.layers.Lambda(lambda x: x.mean(axis=1)))\n",
    "\n",
    "model.add(keras.layers.Dense(len(tokenizer.vocab), activation='softmax'))\n",
    "model.compile(optimizer=keras.optimizers.Adam(learning_rate=1e-4), loss='sparse_categorical_crossentropy')"
   ]
  },
  {
   "cell_type": "code",
   "execution_count": 16,
   "id": "78620544-d4e7-4d26-8351-bb99b910ec13",
   "metadata": {},
   "outputs": [],
   "source": [
    "model.build((None, 10))"
   ]
  },
  {
   "cell_type": "code",
   "execution_count": 17,
   "id": "71ab62bb-a552-41eb-9df2-bb7d4e7b5c22",
   "metadata": {},
   "outputs": [
    {
     "data": {
      "text/html": [
       "<pre style=\"white-space:pre;overflow-x:auto;line-height:normal;font-family:Menlo,'DejaVu Sans Mono',consolas,'Courier New',monospace\"><span style=\"font-weight: bold\">Model: \"sequential\"</span>\n",
       "</pre>\n"
      ],
      "text/plain": [
       "\u001b[1mModel: \"sequential\"\u001b[0m\n"
      ]
     },
     "metadata": {},
     "output_type": "display_data"
    },
    {
     "data": {
      "text/html": [
       "<pre style=\"white-space:pre;overflow-x:auto;line-height:normal;font-family:Menlo,'DejaVu Sans Mono',consolas,'Courier New',monospace\">┏━━━━━━━━━━━━━━━━━━━━━━━━━━━━━━━━━┳━━━━━━━━━━━━━━━━━━━━━━━━┳━━━━━━━━━━━━━━━┓\n",
       "┃<span style=\"font-weight: bold\"> Layer (type)                    </span>┃<span style=\"font-weight: bold\"> Output Shape           </span>┃<span style=\"font-weight: bold\">       Param # </span>┃\n",
       "┡━━━━━━━━━━━━━━━━━━━━━━━━━━━━━━━━━╇━━━━━━━━━━━━━━━━━━━━━━━━╇━━━━━━━━━━━━━━━┩\n",
       "│ embedding (<span style=\"color: #0087ff; text-decoration-color: #0087ff\">Embedding</span>)           │ (<span style=\"color: #00d7ff; text-decoration-color: #00d7ff\">None</span>, <span style=\"color: #00af00; text-decoration-color: #00af00\">10</span>, <span style=\"color: #00af00; text-decoration-color: #00af00\">100</span>)        │     <span style=\"color: #00af00; text-decoration-color: #00af00\">5,486,000</span> │\n",
       "├─────────────────────────────────┼────────────────────────┼───────────────┤\n",
       "│ lambda (<span style=\"color: #0087ff; text-decoration-color: #0087ff\">Lambda</span>)                 │ (<span style=\"color: #00d7ff; text-decoration-color: #00d7ff\">None</span>, <span style=\"color: #00af00; text-decoration-color: #00af00\">100</span>)            │             <span style=\"color: #00af00; text-decoration-color: #00af00\">0</span> │\n",
       "├─────────────────────────────────┼────────────────────────┼───────────────┤\n",
       "│ dense (<span style=\"color: #0087ff; text-decoration-color: #0087ff\">Dense</span>)                   │ (<span style=\"color: #00d7ff; text-decoration-color: #00d7ff\">None</span>, <span style=\"color: #00af00; text-decoration-color: #00af00\">54860</span>)          │     <span style=\"color: #00af00; text-decoration-color: #00af00\">5,540,860</span> │\n",
       "└─────────────────────────────────┴────────────────────────┴───────────────┘\n",
       "</pre>\n"
      ],
      "text/plain": [
       "┏━━━━━━━━━━━━━━━━━━━━━━━━━━━━━━━━━┳━━━━━━━━━━━━━━━━━━━━━━━━┳━━━━━━━━━━━━━━━┓\n",
       "┃\u001b[1m \u001b[0m\u001b[1mLayer (type)                   \u001b[0m\u001b[1m \u001b[0m┃\u001b[1m \u001b[0m\u001b[1mOutput Shape          \u001b[0m\u001b[1m \u001b[0m┃\u001b[1m \u001b[0m\u001b[1m      Param #\u001b[0m\u001b[1m \u001b[0m┃\n",
       "┡━━━━━━━━━━━━━━━━━━━━━━━━━━━━━━━━━╇━━━━━━━━━━━━━━━━━━━━━━━━╇━━━━━━━━━━━━━━━┩\n",
       "│ embedding (\u001b[38;5;33mEmbedding\u001b[0m)           │ (\u001b[38;5;45mNone\u001b[0m, \u001b[38;5;34m10\u001b[0m, \u001b[38;5;34m100\u001b[0m)        │     \u001b[38;5;34m5,486,000\u001b[0m │\n",
       "├─────────────────────────────────┼────────────────────────┼───────────────┤\n",
       "│ lambda (\u001b[38;5;33mLambda\u001b[0m)                 │ (\u001b[38;5;45mNone\u001b[0m, \u001b[38;5;34m100\u001b[0m)            │             \u001b[38;5;34m0\u001b[0m │\n",
       "├─────────────────────────────────┼────────────────────────┼───────────────┤\n",
       "│ dense (\u001b[38;5;33mDense\u001b[0m)                   │ (\u001b[38;5;45mNone\u001b[0m, \u001b[38;5;34m54860\u001b[0m)          │     \u001b[38;5;34m5,540,860\u001b[0m │\n",
       "└─────────────────────────────────┴────────────────────────┴───────────────┘\n"
      ]
     },
     "metadata": {},
     "output_type": "display_data"
    },
    {
     "data": {
      "text/html": [
       "<pre style=\"white-space:pre;overflow-x:auto;line-height:normal;font-family:Menlo,'DejaVu Sans Mono',consolas,'Courier New',monospace\"><span style=\"font-weight: bold\"> Total params: </span><span style=\"color: #00af00; text-decoration-color: #00af00\">11,026,860</span> (42.06 MB)\n",
       "</pre>\n"
      ],
      "text/plain": [
       "\u001b[1m Total params: \u001b[0m\u001b[38;5;34m11,026,860\u001b[0m (42.06 MB)\n"
      ]
     },
     "metadata": {},
     "output_type": "display_data"
    },
    {
     "data": {
      "text/html": [
       "<pre style=\"white-space:pre;overflow-x:auto;line-height:normal;font-family:Menlo,'DejaVu Sans Mono',consolas,'Courier New',monospace\"><span style=\"font-weight: bold\"> Trainable params: </span><span style=\"color: #00af00; text-decoration-color: #00af00\">11,026,860</span> (42.06 MB)\n",
       "</pre>\n"
      ],
      "text/plain": [
       "\u001b[1m Trainable params: \u001b[0m\u001b[38;5;34m11,026,860\u001b[0m (42.06 MB)\n"
      ]
     },
     "metadata": {},
     "output_type": "display_data"
    },
    {
     "data": {
      "text/html": [
       "<pre style=\"white-space:pre;overflow-x:auto;line-height:normal;font-family:Menlo,'DejaVu Sans Mono',consolas,'Courier New',monospace\"><span style=\"font-weight: bold\"> Non-trainable params: </span><span style=\"color: #00af00; text-decoration-color: #00af00\">0</span> (0.00 B)\n",
       "</pre>\n"
      ],
      "text/plain": [
       "\u001b[1m Non-trainable params: \u001b[0m\u001b[38;5;34m0\u001b[0m (0.00 B)\n"
      ]
     },
     "metadata": {},
     "output_type": "display_data"
    }
   ],
   "source": [
    "model.summary()"
   ]
  },
  {
   "cell_type": "code",
   "execution_count": 18,
   "id": "d4a88c49-025a-4f9b-99c1-632dd679c061",
   "metadata": {},
   "outputs": [
    {
     "name": "stdout",
     "output_type": "stream",
     "text": [
      "Epoch 1/10\n",
      "\u001b[1m10000/10000\u001b[0m \u001b[32m━━━━━━━━━━━━━━━━━━━━\u001b[0m\u001b[37m\u001b[0m \u001b[1m96s\u001b[0m 9ms/step - loss: 9.7646 - val_loss: 9.0602\n",
      "Epoch 2/10\n",
      "\u001b[1m10000/10000\u001b[0m \u001b[32m━━━━━━━━━━━━━━━━━━━━\u001b[0m\u001b[37m\u001b[0m \u001b[1m95s\u001b[0m 10ms/step - loss: 8.7069 - val_loss: 8.9834\n",
      "Epoch 3/10\n",
      "\u001b[1m10000/10000\u001b[0m \u001b[32m━━━━━━━━━━━━━━━━━━━━\u001b[0m\u001b[37m\u001b[0m \u001b[1m95s\u001b[0m 10ms/step - loss: 8.6458 - val_loss: 8.4618\n",
      "Epoch 4/10\n",
      "\u001b[1m 1135/10000\u001b[0m \u001b[32m━━\u001b[0m\u001b[37m━━━━━━━━━━━━━━━━━━\u001b[0m \u001b[1m1:23\u001b[0m 9ms/step - loss: 8.6795"
     ]
    },
    {
     "ename": "KeyboardInterrupt",
     "evalue": "",
     "output_type": "error",
     "traceback": [
      "\u001b[0;31m---------------------------------------------------------------------------\u001b[0m",
      "\u001b[0;31mKeyboardInterrupt\u001b[0m                         Traceback (most recent call last)",
      "Cell \u001b[0;32mIn[18], line 1\u001b[0m\n\u001b[0;32m----> 1\u001b[0m \u001b[43mmodel\u001b[49m\u001b[38;5;241;43m.\u001b[39;49m\u001b[43mfit\u001b[49m\u001b[43m(\u001b[49m\u001b[43mgen_batches_ft\u001b[49m\u001b[43m(\u001b[49m\u001b[43mwiki\u001b[49m\u001b[43m[\u001b[49m\u001b[43m:\u001b[49m\u001b[38;5;241;43m19000\u001b[39;49m\u001b[43m]\u001b[49m\u001b[43m,\u001b[49m\u001b[43mtokenizer\u001b[49m\u001b[43m,\u001b[49m\u001b[43m \u001b[49m\u001b[43mwindow\u001b[49m\u001b[38;5;241;43m=\u001b[39;49m\u001b[38;5;241;43m10\u001b[39;49m\u001b[43m,\u001b[49m\u001b[43m \u001b[49m\u001b[43mbatch_size\u001b[49m\u001b[38;5;241;43m=\u001b[39;49m\u001b[38;5;241;43m100\u001b[39;49m\u001b[43m)\u001b[49m\u001b[43m,\u001b[49m\n\u001b[1;32m      2\u001b[0m \u001b[43m          \u001b[49m\u001b[43mvalidation_data\u001b[49m\u001b[38;5;241;43m=\u001b[39;49m\u001b[43mgen_batches_ft\u001b[49m\u001b[43m(\u001b[49m\u001b[43mwiki\u001b[49m\u001b[43m[\u001b[49m\u001b[38;5;241;43m19000\u001b[39;49m\u001b[43m:\u001b[49m\u001b[43m]\u001b[49m\u001b[43m,\u001b[49m\u001b[43m \u001b[49m\u001b[43mtokenizer\u001b[49m\u001b[43m,\u001b[49m\u001b[43m \u001b[49m\u001b[43mwindow\u001b[49m\u001b[38;5;241;43m=\u001b[39;49m\u001b[38;5;241;43m10\u001b[39;49m\u001b[43m,\u001b[49m\u001b[43m \u001b[49m\u001b[43mbatch_size\u001b[49m\u001b[38;5;241;43m=\u001b[39;49m\u001b[38;5;241;43m100\u001b[39;49m\u001b[43m)\u001b[49m\u001b[43m,\u001b[49m\n\u001b[1;32m      3\u001b[0m \u001b[43m          \u001b[49m\u001b[43mbatch_size\u001b[49m\u001b[38;5;241;43m=\u001b[39;49m\u001b[38;5;241;43m2000\u001b[39;49m\u001b[43m,\u001b[49m\n\u001b[1;32m      4\u001b[0m \u001b[43m          \u001b[49m\u001b[43msteps_per_epoch\u001b[49m\u001b[38;5;241;43m=\u001b[39;49m\u001b[38;5;241;43m10000\u001b[39;49m\u001b[43m,\u001b[49m\n\u001b[1;32m      5\u001b[0m \u001b[43m          \u001b[49m\u001b[43mvalidation_steps\u001b[49m\u001b[38;5;241;43m=\u001b[39;49m\u001b[38;5;241;43m100\u001b[39;49m\u001b[43m,\u001b[49m\n\u001b[1;32m      6\u001b[0m \u001b[43m          \u001b[49m\u001b[43mepochs\u001b[49m\u001b[38;5;241;43m=\u001b[39;49m\u001b[38;5;241;43m10\u001b[39;49m\u001b[43m)\u001b[49m\n",
      "File \u001b[0;32m~/.pyenv/versions/3.10.12/lib/python3.10/site-packages/keras/src/utils/traceback_utils.py:117\u001b[0m, in \u001b[0;36mfilter_traceback.<locals>.error_handler\u001b[0;34m(*args, **kwargs)\u001b[0m\n\u001b[1;32m    115\u001b[0m filtered_tb \u001b[38;5;241m=\u001b[39m \u001b[38;5;28;01mNone\u001b[39;00m\n\u001b[1;32m    116\u001b[0m \u001b[38;5;28;01mtry\u001b[39;00m:\n\u001b[0;32m--> 117\u001b[0m     \u001b[38;5;28;01mreturn\u001b[39;00m \u001b[43mfn\u001b[49m\u001b[43m(\u001b[49m\u001b[38;5;241;43m*\u001b[39;49m\u001b[43margs\u001b[49m\u001b[43m,\u001b[49m\u001b[43m \u001b[49m\u001b[38;5;241;43m*\u001b[39;49m\u001b[38;5;241;43m*\u001b[39;49m\u001b[43mkwargs\u001b[49m\u001b[43m)\u001b[49m\n\u001b[1;32m    118\u001b[0m \u001b[38;5;28;01mexcept\u001b[39;00m \u001b[38;5;167;01mException\u001b[39;00m \u001b[38;5;28;01mas\u001b[39;00m e:\n\u001b[1;32m    119\u001b[0m     filtered_tb \u001b[38;5;241m=\u001b[39m _process_traceback_frames(e\u001b[38;5;241m.\u001b[39m__traceback__)\n",
      "File \u001b[0;32m~/.pyenv/versions/3.10.12/lib/python3.10/site-packages/keras/src/backend/torch/trainer.py:257\u001b[0m, in \u001b[0;36mTorchTrainer.fit\u001b[0;34m(self, x, y, batch_size, epochs, verbose, callbacks, validation_split, validation_data, shuffle, class_weight, sample_weight, initial_epoch, steps_per_epoch, validation_steps, validation_batch_size, validation_freq)\u001b[0m\n\u001b[1;32m    253\u001b[0m \u001b[38;5;28;01mfor\u001b[39;00m step, data \u001b[38;5;129;01min\u001b[39;00m epoch_iterator:\n\u001b[1;32m    254\u001b[0m     \u001b[38;5;66;03m# Callbacks\u001b[39;00m\n\u001b[1;32m    255\u001b[0m     callbacks\u001b[38;5;241m.\u001b[39mon_train_batch_begin(step)\n\u001b[0;32m--> 257\u001b[0m     logs \u001b[38;5;241m=\u001b[39m \u001b[38;5;28;43mself\u001b[39;49m\u001b[38;5;241;43m.\u001b[39;49m\u001b[43mtrain_function\u001b[49m\u001b[43m(\u001b[49m\u001b[43mdata\u001b[49m\u001b[43m)\u001b[49m\n\u001b[1;32m    259\u001b[0m     \u001b[38;5;66;03m# Callbacks\u001b[39;00m\n\u001b[1;32m    260\u001b[0m     callbacks\u001b[38;5;241m.\u001b[39mon_train_batch_end(step, logs)\n",
      "File \u001b[0;32m~/.pyenv/versions/3.10.12/lib/python3.10/site-packages/keras/src/backend/torch/trainer.py:117\u001b[0m, in \u001b[0;36mTorchTrainer.make_train_function.<locals>.one_step_on_data\u001b[0;34m(data)\u001b[0m\n\u001b[1;32m    115\u001b[0m \u001b[38;5;250m\u001b[39m\u001b[38;5;124;03m\"\"\"Runs a single training step on a batch of data.\"\"\"\u001b[39;00m\n\u001b[1;32m    116\u001b[0m data \u001b[38;5;241m=\u001b[39m data[\u001b[38;5;241m0\u001b[39m]\n\u001b[0;32m--> 117\u001b[0m \u001b[38;5;28;01mreturn\u001b[39;00m \u001b[38;5;28;43mself\u001b[39;49m\u001b[38;5;241;43m.\u001b[39;49m\u001b[43mtrain_step\u001b[49m\u001b[43m(\u001b[49m\u001b[43mdata\u001b[49m\u001b[43m)\u001b[49m\n",
      "File \u001b[0;32m~/.pyenv/versions/3.10.12/lib/python3.10/site-packages/keras/src/backend/torch/trainer.py:72\u001b[0m, in \u001b[0;36mTorchTrainer.train_step\u001b[0;34m(self, data)\u001b[0m\n\u001b[1;32m     70\u001b[0m     \u001b[38;5;66;03m# Update weights\u001b[39;00m\n\u001b[1;32m     71\u001b[0m     \u001b[38;5;28;01mwith\u001b[39;00m torch\u001b[38;5;241m.\u001b[39mno_grad():\n\u001b[0;32m---> 72\u001b[0m         \u001b[38;5;28;43mself\u001b[39;49m\u001b[38;5;241;43m.\u001b[39;49m\u001b[43moptimizer\u001b[49m\u001b[38;5;241;43m.\u001b[39;49m\u001b[43mapply\u001b[49m\u001b[43m(\u001b[49m\u001b[43mgradients\u001b[49m\u001b[43m,\u001b[49m\u001b[43m \u001b[49m\u001b[43mtrainable_weights\u001b[49m\u001b[43m)\u001b[49m\n\u001b[1;32m     73\u001b[0m \u001b[38;5;28;01melse\u001b[39;00m:\n\u001b[1;32m     74\u001b[0m     warnings\u001b[38;5;241m.\u001b[39mwarn(\u001b[38;5;124m\"\u001b[39m\u001b[38;5;124mThe model does not have any trainable weights.\u001b[39m\u001b[38;5;124m\"\u001b[39m)\n",
      "File \u001b[0;32m~/.pyenv/versions/3.10.12/lib/python3.10/site-packages/keras/src/optimizers/base_optimizer.py:409\u001b[0m, in \u001b[0;36mBaseOptimizer.apply\u001b[0;34m(self, grads, trainable_variables)\u001b[0m\n\u001b[1;32m    406\u001b[0m     grads \u001b[38;5;241m=\u001b[39m [g \u001b[38;5;28;01mif\u001b[39;00m g \u001b[38;5;129;01mis\u001b[39;00m \u001b[38;5;28;01mNone\u001b[39;00m \u001b[38;5;28;01melse\u001b[39;00m g \u001b[38;5;241m/\u001b[39m scale \u001b[38;5;28;01mfor\u001b[39;00m g \u001b[38;5;129;01min\u001b[39;00m grads]\n\u001b[1;32m    408\u001b[0m \u001b[38;5;66;03m# Apply gradient updates.\u001b[39;00m\n\u001b[0;32m--> 409\u001b[0m \u001b[38;5;28;43mself\u001b[39;49m\u001b[38;5;241;43m.\u001b[39;49m\u001b[43m_backend_apply_gradients\u001b[49m\u001b[43m(\u001b[49m\u001b[43mgrads\u001b[49m\u001b[43m,\u001b[49m\u001b[43m \u001b[49m\u001b[43mtrainable_variables\u001b[49m\u001b[43m)\u001b[49m\n\u001b[1;32m    410\u001b[0m \u001b[38;5;66;03m# Apply variable constraints after applying gradients.\u001b[39;00m\n\u001b[1;32m    411\u001b[0m \u001b[38;5;28;01mfor\u001b[39;00m variable \u001b[38;5;129;01min\u001b[39;00m trainable_variables:\n",
      "File \u001b[0;32m~/.pyenv/versions/3.10.12/lib/python3.10/site-packages/keras/src/optimizers/base_optimizer.py:494\u001b[0m, in \u001b[0;36mBaseOptimizer._backend_apply_gradients\u001b[0;34m(self, grads, trainable_variables)\u001b[0m\n\u001b[1;32m    486\u001b[0m         ops\u001b[38;5;241m.\u001b[39mcond(\n\u001b[1;32m    487\u001b[0m             should_overwrite_model_vars,\n\u001b[1;32m    488\u001b[0m             \u001b[38;5;28;01mlambda\u001b[39;00m: \u001b[38;5;28mself\u001b[39m\u001b[38;5;241m.\u001b[39m_overwrite_model_variables_with_average_value(\n\u001b[0;32m   (...)\u001b[0m\n\u001b[1;32m    491\u001b[0m             \u001b[38;5;28;01mlambda\u001b[39;00m: \u001b[38;5;28;01mNone\u001b[39;00m,\n\u001b[1;32m    492\u001b[0m         )\n\u001b[1;32m    493\u001b[0m \u001b[38;5;66;03m# Update iteration counter.\u001b[39;00m\n\u001b[0;32m--> 494\u001b[0m \u001b[38;5;28;43mself\u001b[39;49m\u001b[38;5;241;43m.\u001b[39;49m\u001b[43m_iterations\u001b[49m\u001b[38;5;241;43m.\u001b[39;49m\u001b[43massign_add\u001b[49m\u001b[43m(\u001b[49m\u001b[38;5;241;43m1\u001b[39;49m\u001b[43m)\u001b[49m\n",
      "File \u001b[0;32m~/.pyenv/versions/3.10.12/lib/python3.10/site-packages/keras/src/backend/common/variables.py:251\u001b[0m, in \u001b[0;36mVariable.assign_add\u001b[0;34m(self, value)\u001b[0m\n\u001b[1;32m    250\u001b[0m \u001b[38;5;28;01mdef\u001b[39;00m \u001b[38;5;21massign_add\u001b[39m(\u001b[38;5;28mself\u001b[39m, value):\n\u001b[0;32m--> 251\u001b[0m     \u001b[38;5;28;01mreturn\u001b[39;00m \u001b[38;5;28mself\u001b[39m\u001b[38;5;241m.\u001b[39massign(\u001b[38;5;28;43mself\u001b[39;49m\u001b[43m \u001b[49m\u001b[38;5;241;43m+\u001b[39;49m\u001b[43m \u001b[49m\u001b[43mvalue\u001b[49m)\n",
      "File \u001b[0;32m~/.pyenv/versions/3.10.12/lib/python3.10/site-packages/keras/src/backend/common/variables.py:433\u001b[0m, in \u001b[0;36mVariable.__add__\u001b[0;34m(self, other)\u001b[0m\n\u001b[1;32m    432\u001b[0m \u001b[38;5;28;01mdef\u001b[39;00m \u001b[38;5;21m__add__\u001b[39m(\u001b[38;5;28mself\u001b[39m, other):\n\u001b[0;32m--> 433\u001b[0m     \u001b[38;5;28;01mreturn\u001b[39;00m \u001b[43mbackend\u001b[49m\u001b[38;5;241;43m.\u001b[39;49m\u001b[43mnumpy\u001b[49m\u001b[38;5;241;43m.\u001b[39;49m\u001b[43madd\u001b[49m\u001b[43m(\u001b[49m\u001b[38;5;28;43mself\u001b[39;49m\u001b[38;5;241;43m.\u001b[39;49m\u001b[43mvalue\u001b[49m\u001b[43m,\u001b[49m\u001b[43m \u001b[49m\u001b[43mother\u001b[49m\u001b[43m)\u001b[49m\n",
      "File \u001b[0;32m~/.pyenv/versions/3.10.12/lib/python3.10/site-packages/keras/src/backend/torch/numpy.py:30\u001b[0m, in \u001b[0;36madd\u001b[0;34m(x1, x2)\u001b[0m\n\u001b[1;32m     28\u001b[0m \u001b[38;5;28;01mdef\u001b[39;00m \u001b[38;5;21madd\u001b[39m(x1, x2):\n\u001b[1;32m     29\u001b[0m     x1 \u001b[38;5;241m=\u001b[39m convert_to_tensor(x1)\n\u001b[0;32m---> 30\u001b[0m     x2 \u001b[38;5;241m=\u001b[39m \u001b[43mconvert_to_tensor\u001b[49m\u001b[43m(\u001b[49m\u001b[43mx2\u001b[49m\u001b[43m)\u001b[49m\n\u001b[1;32m     31\u001b[0m     \u001b[38;5;28;01mreturn\u001b[39;00m torch\u001b[38;5;241m.\u001b[39madd(x1, x2)\n",
      "File \u001b[0;32m~/.pyenv/versions/3.10.12/lib/python3.10/site-packages/keras/src/backend/torch/core.py:207\u001b[0m, in \u001b[0;36mconvert_to_tensor\u001b[0;34m(x, dtype, sparse)\u001b[0m\n\u001b[1;32m    205\u001b[0m     \u001b[38;5;28;01mreturn\u001b[39;00m torch\u001b[38;5;241m.\u001b[39mas_tensor(x, dtype\u001b[38;5;241m=\u001b[39mtorch\u001b[38;5;241m.\u001b[39mbool, device\u001b[38;5;241m=\u001b[39mget_device())\n\u001b[1;32m    206\u001b[0m \u001b[38;5;28;01melif\u001b[39;00m \u001b[38;5;28misinstance\u001b[39m(x, \u001b[38;5;28mint\u001b[39m):\n\u001b[0;32m--> 207\u001b[0m     \u001b[38;5;28;01mreturn\u001b[39;00m \u001b[43mtorch\u001b[49m\u001b[38;5;241;43m.\u001b[39;49m\u001b[43mas_tensor\u001b[49m\u001b[43m(\u001b[49m\u001b[43mx\u001b[49m\u001b[43m,\u001b[49m\u001b[43m \u001b[49m\u001b[43mdtype\u001b[49m\u001b[38;5;241;43m=\u001b[39;49m\u001b[43mtorch\u001b[49m\u001b[38;5;241;43m.\u001b[39;49m\u001b[43mint32\u001b[49m\u001b[43m,\u001b[49m\u001b[43m \u001b[49m\u001b[43mdevice\u001b[49m\u001b[38;5;241;43m=\u001b[39;49m\u001b[43mget_device\u001b[49m\u001b[43m(\u001b[49m\u001b[43m)\u001b[49m\u001b[43m)\u001b[49m\n\u001b[1;32m    208\u001b[0m \u001b[38;5;28;01melif\u001b[39;00m \u001b[38;5;28misinstance\u001b[39m(x, \u001b[38;5;28mfloat\u001b[39m):\n\u001b[1;32m    209\u001b[0m     \u001b[38;5;28;01mreturn\u001b[39;00m torch\u001b[38;5;241m.\u001b[39mas_tensor(\n\u001b[1;32m    210\u001b[0m         x, dtype\u001b[38;5;241m=\u001b[39mto_torch_dtype(floatx()), device\u001b[38;5;241m=\u001b[39mget_device()\n\u001b[1;32m    211\u001b[0m     )\n",
      "\u001b[0;31mKeyboardInterrupt\u001b[0m: "
     ]
    }
   ],
   "source": [
    "model.fit(gen_batches_ft(wiki[:19000],tokenizer, window=10, batch_size=100),\n",
    "          validation_data=gen_batches_ft(wiki[19000:], tokenizer, window=10, batch_size=100),\n",
    "          batch_size=2000,\n",
    "          steps_per_epoch=10000,\n",
    "          validation_steps=100,\n",
    "          epochs=10)"
   ]
  },
  {
   "cell_type": "code",
   "execution_count": 19,
   "id": "680c2887-b0b7-4432-98cf-b8a1d2ac89ad",
   "metadata": {},
   "outputs": [
    {
     "name": "stdout",
     "output_type": "stream",
     "text": [
      "dict_keys(['loss', 'val_loss'])\n"
     ]
    },
    {
     "data": {
      "image/png": "[encoded data removed]",
      "text/plain": [
       "<Figure size 640x480 with 1 Axes>"
      ]
     },
     "metadata": {},
     "output_type": "display_data"
    }
   ],
   "source": [
    "print(model.history.history.keys())\n",
    "# summarize history for accuracy\n",
    "plt.plot(model.history.history['loss'])\n",
    "plt.plot(model.history.history['val_loss'])\n",
    "plt.title('model loss')\n",
    "plt.ylabel('loss')\n",
    "plt.xlabel('epoch')\n",
    "plt.legend(['train', 'val'], loc='upper left')\n",
    "plt.show()"
   ]
  },
  {
   "cell_type": "markdown",
   "id": "2859f8f3-36b8-41b4-9e85-5960ca067673",
   "metadata": {},
   "source": [
    "Искать похожие немного сложнее так как нам нужно для всех полных слов еще и учесть информацию об их поднграммах."
   ]
  },
  {
   "cell_type": "code",
   "execution_count": 20,
   "id": "8f87407d-1abd-4a8c-90df-92abaa9d7bf6",
   "metadata": {},
   "outputs": [],
   "source": [
    "embeddings = model.layers[0].get_weights()[0] # матрица со всеми эмбедингами"
   ]
  },
  {
   "cell_type": "code",
   "execution_count": 43,
   "id": "f8606be6-2782-4a5c-882f-a7d05241898e",
   "metadata": {},
   "outputs": [],
   "source": [
    "full_word_embeddings = np.zeros((len(tokenizer.fullword_vocab), 100)) # матрица с эмбедингами полных слов + нграммы\n",
    "id2word = list(tokenizer.fullword_vocab)\n",
    "\n",
    "for i, word in enumerate(tokenizer.fullword_vocab):\n",
    "    subwords = tokenizer(word)[0]\n",
    "    full_word_embeddings[i] = embeddings[[i for i in subwords]].mean(axis=0) "
   ]
  },
  {
   "cell_type": "code",
   "execution_count": 44,
   "id": "6b53ba6e-ee0d-4e05-ba2d-e1bb35b27f50",
   "metadata": {},
   "outputs": [],
   "source": [
    "def most_similar_ft(word, embeddings, tokenizer):\n",
    "    subwords = tokenizer(word)[0]\n",
    "    word_embedding = embeddings[[i for i in subwords]].sum(axis=0)\n",
    "    # idxs = [tokenizer.word2id[i] for i in tokenizer.fullword_vocab]\n",
    "    similar = [id2word[i] for i in \n",
    "               cosine_distances(word_embedding.reshape(1, -1), full_word_embeddings).argsort()[0][:20]]\n",
    "    return similar"
   ]
  },
  {
   "cell_type": "markdown",
   "id": "3d7d9755-1249-49de-806a-a42c0f4e596f",
   "metadata": {},
   "source": [
    "Из результатов поиска видно что fastext учитывает поднграмы и находит как ближайшие не только близкие по смыслу но и по форме"
   ]
  },
  {
   "cell_type": "code",
   "execution_count": 45,
   "id": "a44f1c1c-9125-4335-a562-3ff768b39fd3",
   "metadata": {},
   "outputs": [
    {
     "data": {
      "text/plain": [
       "['семья',\n",
       " 'семьях',\n",
       " 'семь',\n",
       " 'семьям',\n",
       " 'семьей',\n",
       " 'семью',\n",
       " 'семьёй',\n",
       " 'семьями',\n",
       " 'семье',\n",
       " 'семьи',\n",
       " 'семьи»',\n",
       " 'восемь',\n",
       " 'восемью',\n",
       " 'семнадцать',\n",
       " 'километрах',\n",
       " 'семнадцатый',\n",
       " 'непосредственном',\n",
       " 'совместном',\n",
       " 'сельские',\n",
       " 'северо-западных']"
      ]
     },
     "execution_count": 45,
     "metadata": {},
     "output_type": "execute_result"
    }
   ],
   "source": [
    "most_similar_ft('семья', embeddings, tokenizer)"
   ]
  },
  {
   "cell_type": "code",
   "execution_count": 46,
   "id": "f86b30a3-bda4-4644-af30-3550958a6ce2",
   "metadata": {},
   "outputs": [
    {
     "data": {
      "text/plain": [
       "['церковь',\n",
       " '«церковь',\n",
       " 'церковью',\n",
       " 'церковную',\n",
       " 'церковная',\n",
       " 'церковное',\n",
       " 'церковном',\n",
       " 'церковным',\n",
       " 'церковного',\n",
       " 'церковному',\n",
       " 'церковные',\n",
       " 'церковной',\n",
       " 'церковных',\n",
       " 'церковно-приходская',\n",
       " 'церковный',\n",
       " 'церквях',\n",
       " 'суперкомпьютер',\n",
       " 'бхактиведанты',\n",
       " 'гребенщиков',\n",
       " 'техникуме']"
      ]
     },
     "execution_count": 46,
     "metadata": {},
     "output_type": "execute_result"
    }
   ],
   "source": [
    "most_similar_ft(\"церковь\", embeddings, tokenizer)"
   ]
  },
  {
   "cell_type": "code",
   "execution_count": 47,
   "id": "c65ad6de-6869-4e3d-a5bb-689476f092dd",
   "metadata": {},
   "outputs": [
    {
     "data": {
      "text/plain": [
       "['делать',\n",
       " 'сделать',\n",
       " 'делалось',\n",
       " 'проделать',\n",
       " 'дела',\n",
       " 'дебютировать',\n",
       " 'делались',\n",
       " 'делался',\n",
       " 'делал',\n",
       " 'делают',\n",
       " 'оплачивать',\n",
       " 'дела»',\n",
       " 'делилась',\n",
       " 'нур-трёнделаг',\n",
       " 'использовать',\n",
       " 'сдавать',\n",
       " 'делало',\n",
       " 'делах',\n",
       " 'демонстрировать',\n",
       " 'переделать']"
      ]
     },
     "execution_count": 47,
     "metadata": {},
     "output_type": "execute_result"
    }
   ],
   "source": [
    "most_similar_ft(\"делать\", embeddings, tokenizer)"
   ]
  },
  {
   "cell_type": "code",
   "execution_count": null,
   "id": "88df1a15-7db3-4d4e-a772-0c804db93d3b",
   "metadata": {},
   "outputs": [],
   "source": []
  }
 ],
 "metadata": {
  "kernelspec": {
   "display_name": "Python 3 (ipykernel)",
   "language": "python",
   "name": "python3"
  },
  "language_info": {
   "codemirror_mode": {
    "name": "ipython",
    "version": 3
   },
   "file_extension": ".py",
   "mimetype": "text/x-python",
   "name": "python",
   "nbconvert_exporter": "python",
   "pygments_lexer": "ipython3",
   "version": "3.10.12"
  }
 },
 "nbformat": 4,
 "nbformat_minor": 5
}
