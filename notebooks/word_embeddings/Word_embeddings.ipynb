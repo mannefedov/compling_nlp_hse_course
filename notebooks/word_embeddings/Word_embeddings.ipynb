{
 "cells": [
  {
   "cell_type": "markdown",
   "id": "4d4afc86",
   "metadata": {},
   "source": [
    "## Векторные представления слов"
   ]
  },
  {
   "cell_type": "markdown",
   "id": "9aecffe8",
   "metadata": {},
   "source": [
    "Векторные представления слов (или embeddings) - это наборы чисел, которые должны как-то отражать смысл/значение слов. Формально значение определить очень сложно, поэтому в NLP используются очень упрощенные и утилитарные подходы к пониманию значения. Например, можно считать, что векторные представления хорошо передают смысл слов, если близость (по какой-то выбранной метрике) между похожими словами большая, а между противоположными - большая. Другой пример - с помощью векторных представлений получается хорошо решить задачу, которая требует понимания смысла (т.е. почти любую NLP задачу), значит эти векторные представления хорошо кодируют смысл. "
   ]
  },
  {
   "cell_type": "markdown",
   "id": "113ce347",
   "metadata": {},
   "source": [
    "Есть еще такие тонкости как многозначность и зависимость смысла от контекста, но это уже сильно сложнее и мы оставим их на следующие семинары, а пока просто полностью проигнорируем. К тому же, как и с мешком слов, часто упрощенного подхода будет достаточно."
   ]
  },
  {
   "cell_type": "markdown",
   "id": "ad148a50",
   "metadata": {},
   "source": [
    "Единственная окололингвистическая теоретическая часть, о которой стоит сказать это дистрибутивная гипотеза. Она состоит в том, что лингвистические единицы, встречающиеся в схожих контекстах, имеют близкие значения. Обычно в научных статьях цитируют John Firth (Ферс) - '*You shall know a word by the company it keeps*' (Firth, J. R. 1957:11) \n",
    "Также в \"Филосовских исследованиях\" Витгенштейна есть такое -  *“For a large class of cases—though not for all—in which we employ the word ‘meaning’ it can be defined thus: **the meaning of a word is its use in the language.**”* (1951)\n",
    "\n",
    "Саму область иногда называют дистрибутивная семантика."
   ]
  },
  {
   "cell_type": "markdown",
   "id": "41f39810",
   "metadata": {},
   "source": [
    "Давайте посмотрим, как можно строить векторные представления слов."
   ]
  },
  {
   "cell_type": "code",
   "execution_count": 1,
   "id": "22ec086b",
   "metadata": {},
   "outputs": [],
   "source": [
    "# !pip install matplotlib pandas"
   ]
  },
  {
   "cell_type": "code",
   "execution_count": 2,
   "id": "952c8c5a",
   "metadata": {},
   "outputs": [],
   "source": [
    "import tensorflow as tf\n",
    "import numpy as np\n",
    "import pandas as pd\n",
    "from string import punctuation\n",
    "from sklearn.model_selection import train_test_split\n",
    "from collections import Counter\n",
    "import matplotlib.pyplot as plt\n",
    "from sklearn.decomposition import TruncatedSVD\n",
    "from sklearn.feature_extraction.text import CountVectorizer\n",
    "from sklearn.metrics.pairwise import cosine_distances\n",
    "\n",
    "from IPython.display import Image\n",
    "from IPython.core.display import HTML \n",
    "%matplotlib inline"
   ]
  },
  {
   "cell_type": "markdown",
   "id": "ee85cb52",
   "metadata": {},
   "source": [
    "### Матричные разложения "
   ]
  },
  {
   "cell_type": "markdown",
   "id": "069eaa65",
   "metadata": {},
   "source": [
    "Для начала вспомним матричные разложения. В двух методах, которые мы использовали для тематического моделирования одна из матриц была размерности (количество слов в словаре, количество тем), т.е. каждую строчку в этой матрице можно рассматривать как векторное представление слова! Давайте разложим матрицу документы-слова, собранную по википедии и посмотрим на близость векторов слов."
   ]
  },
  {
   "cell_type": "code",
   "execution_count": 3,
   "id": "f682013c",
   "metadata": {},
   "outputs": [
    {
     "data": {
      "text/html": [
       "<img src=\"https://miro.medium.com/max/1362/1*AQ3ohYYQtJLIGWOc5UBrDQ.webp\" width=\"1000\" height=\"900\"/>"
      ],
      "text/plain": [
       "<IPython.core.display.Image object>"
      ]
     },
     "execution_count": 3,
     "metadata": {},
     "output_type": "execute_result"
    }
   ],
   "source": [
    "# на картинке TruncatedSVD\n",
    "Image(url=\"https://miro.medium.com/max/1362/1*AQ3ohYYQtJLIGWOc5UBrDQ.webp\",\n",
    "     width=1000, height=900)"
   ]
  },
  {
   "cell_type": "code",
   "execution_count": 4,
   "id": "b036f980",
   "metadata": {},
   "outputs": [],
   "source": [
    "# в нашем корпусе 20к текстов\n",
    "wiki = open('wiki_data.txt').read().split('\\n')"
   ]
  },
  {
   "cell_type": "code",
   "execution_count": 5,
   "id": "65bb2fd9",
   "metadata": {},
   "outputs": [
    {
     "data": {
      "text/plain": [
       "20003"
      ]
     },
     "execution_count": 5,
     "metadata": {},
     "output_type": "execute_result"
    }
   ],
   "source": [
    "len(wiki)"
   ]
  },
  {
   "cell_type": "code",
   "execution_count": 6,
   "id": "4b97780b",
   "metadata": {},
   "outputs": [],
   "source": [
    "cv = CountVectorizer(max_features=10000)\n",
    "svd = TruncatedSVD(200)\n",
    "\n",
    "X = cv.fit_transform(wiki)\n",
    "X_svd = svd.fit_transform(X)"
   ]
  },
  {
   "cell_type": "markdown",
   "id": "e8779634",
   "metadata": {},
   "source": [
    "Получившаяся матрица X нас не интересует. Нам нужно вытащить матрицу U, она лежит в svd.components_"
   ]
  },
  {
   "cell_type": "code",
   "execution_count": 7,
   "id": "d86a188d",
   "metadata": {},
   "outputs": [],
   "source": [
    "# изначально U размерности (темы, слова) и для удобства ее нужно перевернуть - транспонировать\n",
    "embeddings = svd.components_.T"
   ]
  },
  {
   "cell_type": "code",
   "execution_count": 8,
   "id": "59ecdf45",
   "metadata": {},
   "outputs": [
    {
     "data": {
      "text/plain": [
       "(10000, 200)"
      ]
     },
     "execution_count": 8,
     "metadata": {},
     "output_type": "execute_result"
    }
   ],
   "source": [
    "embeddings.shape"
   ]
  },
  {
   "cell_type": "markdown",
   "id": "bda1c46b",
   "metadata": {},
   "source": [
    "Теперь вытаскиваем соответствия слов индексам и наоборот"
   ]
  },
  {
   "cell_type": "code",
   "execution_count": 9,
   "id": "2f90e0e5",
   "metadata": {},
   "outputs": [],
   "source": [
    "id2word = cv.get_feature_names_out()\n",
    "word2id = {word:i for i,word in enumerate(id2word)}"
   ]
  },
  {
   "cell_type": "code",
   "execution_count": 10,
   "id": "f4714f62",
   "metadata": {},
   "outputs": [
    {
     "data": {
      "text/plain": [
       "7070"
      ]
     },
     "execution_count": 10,
     "metadata": {},
     "output_type": "execute_result"
    }
   ],
   "source": [
    "word2id['птица']"
   ]
  },
  {
   "cell_type": "markdown",
   "id": "b4801087",
   "metadata": {},
   "source": [
    "Напишем простую функцию, которая для заданного слова найдет ближайшие ему слова в матрице"
   ]
  },
  {
   "cell_type": "code",
   "execution_count": 11,
   "id": "3529ebfa",
   "metadata": {},
   "outputs": [],
   "source": [
    "def most_similar(word, embeddings):\n",
    "    similar = [id2word[i] for i in \n",
    "               cosine_distances(embeddings[word2id[word]].reshape(1, -1), embeddings).argsort()[0][:10]]\n",
    "    return similar"
   ]
  },
  {
   "cell_type": "markdown",
   "id": "ebab8e9c",
   "metadata": {},
   "source": [
    "Испытаем ее на нескольких рандомных словах"
   ]
  },
  {
   "cell_type": "code",
   "execution_count": 12,
   "id": "2a1adc3c",
   "metadata": {},
   "outputs": [
    {
     "data": {
      "text/plain": [
       "['птица',\n",
       " 'самцы',\n",
       " 'самцов',\n",
       " 'самки',\n",
       " 'птицы',\n",
       " 'самок',\n",
       " 'самка',\n",
       " 'обитает',\n",
       " 'пятнами',\n",
       " 'хвост']"
      ]
     },
     "execution_count": 12,
     "metadata": {},
     "output_type": "execute_result"
    }
   ],
   "source": [
    "most_similar('птица', embeddings)"
   ]
  },
  {
   "cell_type": "code",
   "execution_count": 13,
   "id": "8b6cf967",
   "metadata": {},
   "outputs": [
    {
     "data": {
      "text/plain": [
       "['церковь',\n",
       " 'чудотворца',\n",
       " 'каменная',\n",
       " 'храм',\n",
       " 'прихожан',\n",
       " 'орла',\n",
       " 'храма',\n",
       " 'деревянная',\n",
       " 'богослужения',\n",
       " 'троицы']"
      ]
     },
     "execution_count": 13,
     "metadata": {},
     "output_type": "execute_result"
    }
   ],
   "source": [
    "most_similar('церковь', embeddings)"
   ]
  },
  {
   "cell_type": "code",
   "execution_count": 14,
   "id": "3c42970e",
   "metadata": {},
   "outputs": [
    {
     "data": {
      "text/plain": [
       "['москва',\n",
       " 'выставка',\n",
       " 'арт',\n",
       " 'галерея',\n",
       " 'центральный',\n",
       " 'выставке',\n",
       " 'выставках',\n",
       " 'галерее',\n",
       " 'художника',\n",
       " 'постоянная']"
      ]
     },
     "execution_count": 14,
     "metadata": {},
     "output_type": "execute_result"
    }
   ],
   "source": [
    "most_similar('москва', embeddings)"
   ]
  },
  {
   "cell_type": "markdown",
   "id": "346ce174",
   "metadata": {},
   "source": [
    "Кажется, что получается неплохо. "
   ]
  },
  {
   "cell_type": "markdown",
   "id": "08395b4f",
   "metadata": {},
   "source": [
    "Но матричные разложения для этой задачи обычно не применяют. Основной метод для создания векторых представлений слов - это word2vec и его улучшение fastext. "
   ]
  },
  {
   "cell_type": "markdown",
   "id": "5c9f4420",
   "metadata": {},
   "source": [
    "## Word2Vec"
   ]
  },
  {
   "cell_type": "markdown",
   "id": "37de9786",
   "metadata": {},
   "source": [
    "Word2Vec был создан в 2013 году в Google командой под руководством Tomas Mikolov. \n",
    "\n",
    "Он был описан в двух статьях: \n",
    "1) https://arxiv.org/abs/1301.3781 (https://papers.nips.cc/paper_files/paper/2013/hash/9aa42b31882ec039965f3c4923ce901b-Abstract.html)   \n",
    "2) https://aclanthology.org/N13-1090/\n",
    "\n",
    "С word2vec началась transfer learning и self supervised революция в NLP. Вместо обучения моделей с нуля под каждую конкретную задачу люди стали предобучать общие модели на сыром тексте и затем дообучать их под нужные задачи, используя размеченные данные.  У такого подхода сразу несколько преимуществ: 1) он просто лучше работает, так как помимо самих размеченных данных, модель косвенно использует большое количество знаний из предобучающего корпуса; 2) размеченных данных нужно сильно меньше (для достижения качества сопостовимого с моделью обученной с нуля), так как предобученной модели не нужно выучивать базовое понимание языка, она сразу может фокусироваться на специфичных для задачи паттернах; 3) одну предобученную модель можно переиспользовать в разных задачах (часто такие модели создаются крупными компаниями/лабами с огромными вычислительными ресурсами, а затем выкладываются в открытый доступ) . \n",
    "\n",
    "Также важным достоинством самого word2vec была его эффективность (и по скорости и по потреблению ресурсов), что с одной строны позволило большим компаниям обучить модели на огромных корпусах, а с другой дало возможность отдельным исследователям строить качественные специфичные модели (например, на корпусе научных статей по математике), используя небольшие сервера или вообще личные компьютеры. \n",
    "\n",
    "Сейчас word2vec уже конечно устарел (но он может быть хорошим бейзлайном), транформерные модели лучше. Но через word2vec удобно начать переходить к нейронным сетям (так как это на самом деле однойслойная нейронка). Поэтому мы попробуем воспроизвести базовые составляющие алгоритма на tensorflow, параллельно разобрав и основы deep learning. В Word2Vec очень много деталей и оптимизаций, которые мы опустим, при решении конкретной задачи лучше использовать готовую реализацию (ниже мы это сделаем через gensim)."
   ]
  },
  {
   "cell_type": "markdown",
   "id": "c0133ad1",
   "metadata": {},
   "source": [
    "### word2vec в tensorflow"
   ]
  },
  {
   "cell_type": "markdown",
   "id": "ae6d6286",
   "metadata": {},
   "source": [
    "Для начала нам нужно построить словарь."
   ]
  },
  {
   "cell_type": "markdown",
   "id": "1248f8ae",
   "metadata": {},
   "source": [
    "Предобработка нам не так важна. Главное - получить из текстов токены."
   ]
  },
  {
   "cell_type": "code",
   "execution_count": 15,
   "id": "17f8648d",
   "metadata": {},
   "outputs": [],
   "source": [
    "import re\n",
    "def preprocess(text):\n",
    "    tokens = re.sub('#+', ' ', text.lower()).split()\n",
    "    tokens = [token.strip(punctuation) for token in tokens]\n",
    "    tokens = [token for token in tokens if token]\n",
    "    return tokens"
   ]
  },
  {
   "cell_type": "markdown",
   "id": "9964e652",
   "metadata": {},
   "source": [
    "Лучше сразу посчитать количество упоминаний, чтобы отсеять самые редкие."
   ]
  },
  {
   "cell_type": "code",
   "execution_count": 16,
   "id": "6a7314a4",
   "metadata": {},
   "outputs": [],
   "source": [
    "vocab = Counter()\n",
    "\n",
    "for text in wiki:\n",
    "    vocab.update(preprocess(text))"
   ]
  },
  {
   "cell_type": "markdown",
   "id": "c2289def",
   "metadata": {},
   "source": [
    "443к слов - это многовато"
   ]
  },
  {
   "cell_type": "code",
   "execution_count": 17,
   "id": "f175e7af",
   "metadata": {},
   "outputs": [
    {
     "data": {
      "text/plain": [
       "443922"
      ]
     },
     "execution_count": 17,
     "metadata": {},
     "output_type": "execute_result"
    }
   ],
   "source": [
    "len(vocab)"
   ]
  },
  {
   "cell_type": "markdown",
   "id": "6ba6655d",
   "metadata": {},
   "source": [
    "Возьмем только те, что встретились больше 30 раз."
   ]
  },
  {
   "cell_type": "code",
   "execution_count": 18,
   "id": "334cdb3a",
   "metadata": {},
   "outputs": [],
   "source": [
    "filtered_vocab = set()\n",
    "\n",
    "for word in vocab:\n",
    "    if vocab[word] > 30:\n",
    "        filtered_vocab.add(word)"
   ]
  },
  {
   "cell_type": "code",
   "execution_count": 19,
   "id": "78bbe728",
   "metadata": {},
   "outputs": [
    {
     "data": {
      "text/plain": [
       "17016"
      ]
     },
     "execution_count": 19,
     "metadata": {},
     "output_type": "execute_result"
    }
   ],
   "source": [
    "len(filtered_vocab)"
   ]
  },
  {
   "cell_type": "markdown",
   "id": "dc18a6ee",
   "metadata": {},
   "source": [
    "~17к - уже нормальная цифра"
   ]
  },
  {
   "cell_type": "markdown",
   "id": "ec88f467",
   "metadata": {},
   "source": [
    "Теперь нам нужно заменить в каждом тексте слова на числа (индексы в словаре). "
   ]
  },
  {
   "cell_type": "markdown",
   "id": "9d9ae638",
   "metadata": {},
   "source": [
    "Создадим для этого специальный словарь с индексами. В этот словарь нам нужно положить дополнительный токен - PAD (чуть ниже станет понятнее)"
   ]
  },
  {
   "cell_type": "code",
   "execution_count": 20,
   "id": "1ad31ef0",
   "metadata": {},
   "outputs": [],
   "source": [
    "word2id = {'PAD':0}\n",
    "\n",
    "for word in filtered_vocab:\n",
    "    word2id[word] = len(word2id)"
   ]
  },
  {
   "cell_type": "code",
   "execution_count": 21,
   "id": "3b797373",
   "metadata": {},
   "outputs": [],
   "source": [
    "id2word = {i:word for word, i in word2id.items()}"
   ]
  },
  {
   "cell_type": "markdown",
   "id": "84373999",
   "metadata": {},
   "source": [
    "Заменяем слова на индексы."
   ]
  },
  {
   "cell_type": "code",
   "execution_count": 22,
   "id": "2f115901",
   "metadata": {},
   "outputs": [],
   "source": [
    "\n",
    "sentences = []\n",
    "\n",
    "for text in wiki:\n",
    "    tokens = preprocess(text)\n",
    "    if not tokens:\n",
    "        continue\n",
    "    ids = [word2id[token] for token in tokens if token in word2id]\n",
    "    sentences.append(ids)"
   ]
  },
  {
   "cell_type": "code",
   "execution_count": 126,
   "id": "9096af09",
   "metadata": {},
   "outputs": [],
   "source": [
    "# sentences[:3]"
   ]
  },
  {
   "cell_type": "markdown",
   "id": "c68ae26a",
   "metadata": {},
   "source": [
    "Далее нужно преобразовать токенизированные тексты в формат для обучения."
   ]
  },
  {
   "cell_type": "markdown",
   "id": "710994eb",
   "metadata": {},
   "source": [
    "Word2vec обучается решать синтетическую задачу, а точнее две зеркальные задачи - предсказывать слово по его окружению и предсказывать окружение по слову. \n",
    "\n",
    "У такой задачи есть какое-то теоретическое обоснование (см. выше про дистрибутивную гипотезу), но оно скорее для красоты - просто это работает. В более поздних моделях используются немного другие синтетические задачи - заполнение пропусков или просто генерация следующего слова.\n",
    "\n",
    "Обучающие данные для таких задач можно просто гененировать из любого текста практически бесконечно, поэтому такой подход называется self-supervised."
   ]
  },
  {
   "cell_type": "markdown",
   "id": "19ee0baf",
   "metadata": {},
   "source": [
    "Давайте разберем 2 алгоритма word2vec: skip gram и CBOW (continuos bag of words). В обоих алгоритмах происходит итерирование по кусочкам текстов фиксированной длинны (окнам). В каждом окне выбирается центральное целевое слово (target), а слова слева и справа от него считаются контекстом (context). \n",
    "\n",
    "**В Skip-gram по слову предсказывается окружение, а в CBOW по окружению предсказывается целевое слово.**"
   ]
  },
  {
   "cell_type": "markdown",
   "id": "3f254a38",
   "metadata": {},
   "source": [
    "### Skip Gram"
   ]
  },
  {
   "cell_type": "code",
   "execution_count": 24,
   "id": "db2a735c",
   "metadata": {},
   "outputs": [
    {
     "data": {
      "text/html": [
       "<img src=\"https://leimao.github.io/images/article/2019-08-23-Word2Vec-Classic/word2vec.png\" width=\"600\" height=\"600\"/>"
      ],
      "text/plain": [
       "<IPython.core.display.Image object>"
      ]
     },
     "execution_count": 24,
     "metadata": {},
     "output_type": "execute_result"
    }
   ],
   "source": [
    "Image(url=\"https://leimao.github.io/images/article/2019-08-23-Word2Vec-Classic/word2vec.png\",\n",
    "     width=600, height=600)"
   ]
  },
  {
   "cell_type": "markdown",
   "id": "85d45db6",
   "metadata": {},
   "source": [
    "  Давайте соберем датасет для skip gram. Датасетом будут просто пары - (целевое слово, контекстное слово). "
   ]
  },
  {
   "cell_type": "code",
   "execution_count": 25,
   "id": "56e6e7f2",
   "metadata": {},
   "outputs": [],
   "source": [
    "# skip gram\n",
    "X = []\n",
    "y = []\n",
    "\n",
    "window = 5\n",
    "for sent in sentences[:1000]:\n",
    "    for i in range(len(sent)-1):\n",
    "        word = sent[i] # target\n",
    "        context = sent[max(0, i-window):i] + sent[i+1:i+window]  # context (слова до и после целевого)\n",
    "        # в начале и в конце окно будет неполным, но это не страшно\n",
    "\n",
    "        for context_word in context:\n",
    "            X.append(word)\n",
    "            y.append(context_word)\n"
   ]
  },
  {
   "cell_type": "code",
   "execution_count": 26,
   "id": "ae28a5a3",
   "metadata": {},
   "outputs": [
    {
     "data": {
      "text/plain": [
       "(7069, 8518)"
      ]
     },
     "execution_count": 26,
     "metadata": {},
     "output_type": "execute_result"
    }
   ],
   "source": [
    "X[1], y[1]"
   ]
  },
  {
   "cell_type": "code",
   "execution_count": 27,
   "id": "8030c45a",
   "metadata": {},
   "outputs": [
    {
     "data": {
      "text/plain": [
       "(1765036, 1765036)"
      ]
     },
     "execution_count": 27,
     "metadata": {},
     "output_type": "execute_result"
    }
   ],
   "source": [
    "len(X), len(y)"
   ]
  },
  {
   "cell_type": "markdown",
   "id": "840ec4b0",
   "metadata": {},
   "source": [
    "Как и в любой задаче машинного обучения нужно тестироваться на отложенной выборке"
   ]
  },
  {
   "cell_type": "code",
   "execution_count": 28,
   "id": "d71be564",
   "metadata": {},
   "outputs": [],
   "source": [
    "X_train, X_valid, y_train, y_valid = train_test_split(X, y, test_size=0.05)"
   ]
  },
  {
   "cell_type": "markdown",
   "id": "5c201693",
   "metadata": {},
   "source": [
    "### Создаем нейронную сеть"
   ]
  },
  {
   "cell_type": "markdown",
   "id": "c7c0b1ef",
   "metadata": {},
   "source": [
    "Для введения в нейронные сети посмотрите:\n",
    "1) серию видео на канале 3blue1brown - https://www.youtube.com/watch?v=aircAruvnKk  \n",
    "2) лекцию курса dlcoure.ai - https://www.youtube.com/watch?v=kWTC1NvL894"
   ]
  },
  {
   "cell_type": "markdown",
   "id": "62b91edc",
   "metadata": {},
   "source": [
    "Word2Vec можно рассматривать как очень маленькую нейронную сеть - тут всего 1 слой. Сама задача сводится к классификации. На вход мы получаем индекс слова, преобразуем его в векторное представление, \n",
    "\n",
    "В tf.keras два способа построения моделей: Sequential и Functional. В первом мы как будто создаем список и добавляем в него слои, а во втором вручную применяем каждый слой к результату предыдущего слоя (как функцию в питоне).\n",
    "\n",
    "Соберем нейронную сеть первым способом."
   ]
  },
  {
   "cell_type": "code",
   "execution_count": 29,
   "id": "4921a30b",
   "metadata": {},
   "outputs": [],
   "source": [
    "# инициализируем модель\n",
    "# это что-то типа model = [] \n",
    "model = tf.keras.Sequential() \n",
    "\n",
    "# первым добавляем эмбединг слой\n",
    "# он каждому слову (его индексу) сопоставит вектор заданой размерности\n",
    "# также нам нужно передать параметры нашей выборки - размер словаря (input_dim) и длину текста (input_length)\n",
    "# в нашем случае мы подаем только 1 слово поэтому длина - 1\n",
    "model.add(tf.keras.layers.Embedding(input_dim=len(word2id), \n",
    "                                    input_length=1, \n",
    "                                    output_dim=100)) # также указываем желаемый размер эмбединга\n",
    "\n",
    "# на выходе из Embedding мы получим массив размерности (1, 100)\n",
    "# единичная размерность нам не нужна и ее можно схлопнуть\n",
    "# это можно сделать специальным слоем которые называется Flatten\n",
    "# чтобы было понятнее, вот пример на списках\n",
    "# флаттен делает что-то такое\n",
    "# [1, ] - 1\n",
    "# [[1], [2], [3]] -> [1, 2, 3]\n",
    "model.add(tf.keras.layers.Flatten()) \n",
    "\n",
    "# И теперь 1 реальный слой, который называется полносвязным\n",
    "# Полносвязный слой это матрица, применение полносвязного слоя - это умножение на эту матрицу\n",
    "# На выходе получится вектор или матрица (по правилу умножения матриц, размерность в итоге будет - (n, m) * (m, k) = n*k)\n",
    "# В нашем случае n - это 1, так как у нас 1 вектор 1 целевого слова\n",
    "# m - это размерность нашего вектора, мы указали 100\n",
    "# Полносвязный слоя сам подстроится под m, но вот k - нужно указать вручную\n",
    "# в нашем случае мы хотим получить по 1 числу на 1 слово в словаре, т.е. k = размер словаря\n",
    "# это число будет соответствовать вероятности предсказания этого слова\n",
    "\n",
    "# умножение вектора на матрицу можно интепретировать как нахождение близости\n",
    "# с каждым элементом матрицы; т.е. мы берем эмбединг и находим близость с эмбедингами всех других слов в словаре\n",
    "\n",
    "# По умолчанию полносвязный слой не выдает вероятности, чтобы их получить нужно использовать softmax\n",
    "# Софтмакс - это одна из функций активации\n",
    "# Функции аквтивации преобразуют числа каким-то нелинейным способом, которого не добьешься обычным умножением на матрицу\n",
    "# сочетание линейных операций с матрицами и векторами и нелинейных функций - это то что делает нейронные сети такими мощными\n",
    "model.add(tf.keras.layers.Dense(len(word2id), \n",
    "                                activation='softmax'))\n",
    "\n",
    "# компилируем модель\n",
    "# выбираем лосс - функция, по которой модель будет оценивать качество и обновлять веса\n",
    "# для классификации стандартно используется categorical_crossentropy\n",
    "# У нас стоит sparse_categorical_crossentropy потому что мы подаем индексы, а по умолчанию нужно подавать \n",
    "# one-hot векторы или вероятности\n",
    "\n",
    "# выбираем оптимизатор - он влияет на то, как будет обновляться модель \n",
    "# (подробнее вот тут - \n",
    "# https://medium.com/datadriveninvestor/overview-of-different-optimizers-for-neural-networks-e0ed119440c3 ).\n",
    "# По умолчанию можно ставить adam и менять только learning_rate\n",
    "\n",
    "model.compile(, optimizer=tf.keras.optimizers.Adam()\n",
    "              loss='sparse_categorical_crossentropy',\n",
    "              \n",
    "              )"
   ]
  },
  {
   "cell_type": "markdown",
   "id": "a41e6bf7",
   "metadata": {},
   "source": [
    "Можно посмотреть на размерности, которые будут получаться после каждого слоя"
   ]
  },
  {
   "cell_type": "code",
   "execution_count": 30,
   "id": "6b57cd8c",
   "metadata": {},
   "outputs": [
    {
     "name": "stdout",
     "output_type": "stream",
     "text": [
      "Model: \"sequential\"\n",
      "_________________________________________________________________\n",
      " Layer (type)                Output Shape              Param #   \n",
      "=================================================================\n",
      " embedding (Embedding)       (None, 1, 100)            1701700   \n",
      "                                                                 \n",
      " flatten (Flatten)           (None, 100)               0         \n",
      "                                                                 \n",
      " dense (Dense)               (None, 17017)             1718717   \n",
      "                                                                 \n",
      "=================================================================\n",
      "Total params: 3,420,417\n",
      "Trainable params: 3,420,417\n",
      "Non-trainable params: 0\n",
      "_________________________________________________________________\n",
      "None\n"
     ]
    }
   ],
   "source": [
    "print(model.summary())"
   ]
  },
  {
   "cell_type": "markdown",
   "id": "541ea7f9",
   "metadata": {},
   "source": [
    "Осталось только обучить"
   ]
  },
  {
   "cell_type": "code",
   "execution_count": 31,
   "id": "6410a849",
   "metadata": {},
   "outputs": [
    {
     "name": "stdout",
     "output_type": "stream",
     "text": [
      "Epoch 1/3\n"
     ]
    },
    {
     "name": "stderr",
     "output_type": "stream",
     "text": [
      "2024-01-11 14:10:10.262168: W tensorflow/core/platform/profile_utils/cpu_utils.cc:128] Failed to get CPU frequency: 0 Hz\n"
     ]
    },
    {
     "name": "stdout",
     "output_type": "stream",
     "text": [
      "1677/1677 [==============================] - 84s 50ms/step - loss: 7.9027 - val_loss: 7.5715\n",
      "Epoch 2/3\n",
      "1677/1677 [==============================] - 86s 51ms/step - loss: 7.4750 - val_loss: 7.4310\n",
      "Epoch 3/3\n",
      "1677/1677 [==============================] - 85s 51ms/step - loss: 7.3195 - val_loss: 7.3206\n"
     ]
    },
    {
     "data": {
      "text/plain": [
       "<keras.callbacks.History at 0x2f770e970>"
      ]
     },
     "execution_count": 31,
     "metadata": {},
     "output_type": "execute_result"
    }
   ],
   "source": [
    "# нейронные сети обучаются не на всех данных сразу\n",
    "# а по кусочкам (батчам)\n",
    "# размер батча зависит от размера нейронной сети и ресурсов\n",
    "# обычно это значение от 4 до нескольких тысяч\n",
    "model.fit(X_train, y_train, \n",
    "          validation_data=(X_valid, y_valid),\n",
    "          batch_size=1000, \n",
    "         epochs=3)"
   ]
  },
  {
   "cell_type": "markdown",
   "id": "730a8313",
   "metadata": {},
   "source": [
    "Посмотрим на графики функции потерь. Она должна уменьшаться и на трейне и на тесте"
   ]
  },
  {
   "cell_type": "code",
   "execution_count": 32,
   "id": "27b3bb36",
   "metadata": {},
   "outputs": [
    {
     "name": "stdout",
     "output_type": "stream",
     "text": [
      "dict_keys(['loss', 'val_loss'])\n"
     ]
    },
    {
     "data": {
      "image/png": "[encoded data removed]",
      "text/plain": [
       "<Figure size 640x480 with 1 Axes>"
      ]
     },
     "metadata": {},
     "output_type": "display_data"
    }
   ],
   "source": [
    "print(model.history.history.keys())\n",
    "# summarize history for accuracy\n",
    "plt.plot(model.history.history['loss'])\n",
    "plt.plot(model.history.history['val_loss'])\n",
    "plt.title('model loss')\n",
    "plt.ylabel('loss')\n",
    "plt.xlabel('epoch')\n",
    "plt.legend(['train', 'val'], loc='upper left')\n",
    "plt.show()"
   ]
  },
  {
   "cell_type": "markdown",
   "id": "22d65d78",
   "metadata": {},
   "source": [
    "Но нас интересует не сама задача классификации, а получившиеся векторные представления."
   ]
  },
  {
   "cell_type": "markdown",
   "id": "1793a448",
   "metadata": {},
   "source": [
    "У нас есть два слоя с матрицами размера (длина словаря, 100). Можно взять векторные представления из любого из этих слоев или взять усредненный вектор."
   ]
  },
  {
   "cell_type": "code",
   "execution_count": 33,
   "id": "5b903e82",
   "metadata": {},
   "outputs": [
    {
     "data": {
      "text/plain": [
       "[<keras.layers.core.embedding.Embedding at 0x30c86e520>,\n",
       " <keras.layers.reshaping.flatten.Flatten at 0x30c86e5b0>,\n",
       " <keras.layers.core.dense.Dense at 0x30c849940>]"
      ]
     },
     "execution_count": 33,
     "metadata": {},
     "output_type": "execute_result"
    }
   ],
   "source": [
    "model.layers"
   ]
  },
  {
   "cell_type": "code",
   "execution_count": 34,
   "id": "879f2852",
   "metadata": {},
   "outputs": [
    {
     "data": {
      "text/plain": [
       "(17017, 100)"
      ]
     },
     "execution_count": 34,
     "metadata": {},
     "output_type": "execute_result"
    }
   ],
   "source": [
    "# веса embedding слоя\n",
    "model.layers[0].get_weights()[0].shape"
   ]
  },
  {
   "cell_type": "code",
   "execution_count": 35,
   "id": "6c789439",
   "metadata": {},
   "outputs": [
    {
     "data": {
      "text/plain": [
       "(100, 17017)"
      ]
     },
     "execution_count": 35,
     "metadata": {},
     "output_type": "execute_result"
    }
   ],
   "source": [
    "# веса полносвязного слоя\n",
    "model.layers[2].get_weights()[0].shape"
   ]
  },
  {
   "cell_type": "code",
   "execution_count": 36,
   "id": "b10b6910",
   "metadata": {},
   "outputs": [],
   "source": [
    "embeddings_1 = model.layers[0].get_weights()[0]\n",
    "embeddings_2 = model.layers[2].get_weights()[0].T"
   ]
  },
  {
   "cell_type": "code",
   "execution_count": 37,
   "id": "bb1a3248",
   "metadata": {},
   "outputs": [],
   "source": [
    "embeddings = np.mean([embeddings_1, embeddings_2], axis=0)"
   ]
  },
  {
   "cell_type": "code",
   "execution_count": 38,
   "id": "7b6d5cdc",
   "metadata": {},
   "outputs": [
    {
     "data": {
      "text/plain": [
       "(17017, 100)"
      ]
     },
     "execution_count": 38,
     "metadata": {},
     "output_type": "execute_result"
    }
   ],
   "source": [
    "embeddings.shape"
   ]
  },
  {
   "cell_type": "code",
   "execution_count": 39,
   "id": "f19673bd",
   "metadata": {},
   "outputs": [
    {
     "data": {
      "text/plain": [
       "['птица',\n",
       " 'небольшая',\n",
       " 'ареала',\n",
       " 'верхнем',\n",
       " '•',\n",
       " 'шанхай',\n",
       " 'магистрали',\n",
       " 'крупная',\n",
       " 'некотором',\n",
       " 'узкой']"
      ]
     },
     "execution_count": 39,
     "metadata": {},
     "output_type": "execute_result"
    }
   ],
   "source": [
    "most_similar('птица', embeddings)"
   ]
  },
  {
   "cell_type": "code",
   "execution_count": 40,
   "id": "fe05034b",
   "metadata": {},
   "outputs": [
    {
     "data": {
      "text/plain": [
       "['церковь',\n",
       " 'которой',\n",
       " 'святого',\n",
       " 'книга',\n",
       " 'здание',\n",
       " 'которая',\n",
       " 'при',\n",
       " 'монастырь',\n",
       " 'её',\n",
       " 'здания']"
      ]
     },
     "execution_count": 40,
     "metadata": {},
     "output_type": "execute_result"
    }
   ],
   "source": [
    "most_similar('церковь', embeddings)"
   ]
  },
  {
   "cell_type": "markdown",
   "id": "6c84ed4f",
   "metadata": {},
   "source": [
    "### CBOW\n",
    "\n",
    "\n",
    "Теперь попробуем CBOW. В нем нужно по контексту предсказать целевое слово. В отличие от skip-gram тут сразу используется весь контекст, а векторы слов в контексте усредняются в 1 вектор контекста."
   ]
  },
  {
   "cell_type": "markdown",
   "id": "449ee211",
   "metadata": {},
   "source": [
    "Собрать датасет очень просто."
   ]
  },
  {
   "cell_type": "code",
   "execution_count": 41,
   "id": "b79059e0",
   "metadata": {},
   "outputs": [],
   "source": [
    "\n",
    "X = []\n",
    "y = []\n",
    "\n",
    "window = 5\n",
    "for sent in sentences[:10000]:\n",
    "    for i in range(len(sent)-1):\n",
    "        word = sent[i]\n",
    "        context = sent[max(0, i-window):i] + sent[i+1:i+window]\n",
    "        \n",
    "        X.append(context)\n",
    "        y.append(word)\n"
   ]
  },
  {
   "cell_type": "markdown",
   "id": "d2358400",
   "metadata": {},
   "source": [
    "Но нужно его немного поправить. В начале и конце текстов окна будут не полные и соответственно длина контекста будет не одинаковая. Но для преобразования в массив, длины должны быть одинаковыми. Решение этой проблемы - паддинг, добавление недостающего количества нулей  (может быть и другой индекс, но чаще всего именно 0). "
   ]
  },
  {
   "cell_type": "code",
   "execution_count": 42,
   "id": "8bf10994",
   "metadata": {},
   "outputs": [
    {
     "data": {
      "text/plain": [
       "[[14675, 8518, 9192, 8800],\n",
       " [7069, 8518, 9192, 8800, 2861],\n",
       " [7069, 14675, 9192, 8800, 2861, 7897],\n",
       " [7069, 14675, 8518, 8800, 2861, 7897, 2759],\n",
       " [7069, 14675, 8518, 9192, 2861, 7897, 2759, 1863],\n",
       " [7069, 14675, 8518, 9192, 8800, 7897, 2759, 1863, 8800],\n",
       " [14675, 8518, 9192, 8800, 2861, 2759, 1863, 8800, 16161],\n",
       " [8518, 9192, 8800, 2861, 7897, 1863, 8800, 16161, 6972],\n",
       " [9192, 8800, 2861, 7897, 2759, 8800, 16161, 6972, 9192],\n",
       " [8800, 2861, 7897, 2759, 1863, 16161, 6972, 9192, 14573]]"
      ]
     },
     "execution_count": 42,
     "metadata": {},
     "output_type": "execute_result"
    }
   ],
   "source": [
    "# оригинальные контексты\n",
    "X[:10]"
   ]
  },
  {
   "cell_type": "code",
   "execution_count": 43,
   "id": "8091932e",
   "metadata": {},
   "outputs": [
    {
     "name": "stderr",
     "output_type": "stream",
     "text": [
      "/var/folders/28/11vpccl53qqbbg2772qsny6m0000gn/T/ipykernel_99487/1088767851.py:1: VisibleDeprecationWarning: Creating an ndarray from ragged nested sequences (which is a list-or-tuple of lists-or-tuples-or ndarrays with different lengths or shapes) is deprecated. If you meant to do this, you must specify 'dtype=object' when creating the ndarray.\n",
      "  np.array(X[:10])\n"
     ]
    },
    {
     "data": {
      "text/plain": [
       "array([list([14675, 8518, 9192, 8800]),\n",
       "       list([7069, 8518, 9192, 8800, 2861]),\n",
       "       list([7069, 14675, 9192, 8800, 2861, 7897]),\n",
       "       list([7069, 14675, 8518, 8800, 2861, 7897, 2759]),\n",
       "       list([7069, 14675, 8518, 9192, 2861, 7897, 2759, 1863]),\n",
       "       list([7069, 14675, 8518, 9192, 8800, 7897, 2759, 1863, 8800]),\n",
       "       list([14675, 8518, 9192, 8800, 2861, 2759, 1863, 8800, 16161]),\n",
       "       list([8518, 9192, 8800, 2861, 7897, 1863, 8800, 16161, 6972]),\n",
       "       list([9192, 8800, 2861, 7897, 2759, 8800, 16161, 6972, 9192]),\n",
       "       list([8800, 2861, 7897, 2759, 1863, 16161, 6972, 9192, 14573])],\n",
       "      dtype=object)"
      ]
     },
     "execution_count": 43,
     "metadata": {},
     "output_type": "execute_result"
    }
   ],
   "source": [
    "np.array(X[:10])"
   ]
  },
  {
   "cell_type": "code",
   "execution_count": null,
   "id": "a2b44ae6",
   "metadata": {},
   "outputs": [],
   "source": []
  },
  {
   "cell_type": "code",
   "execution_count": 44,
   "id": "a423d7cd",
   "metadata": {},
   "outputs": [],
   "source": [
    "X = tf.keras.preprocessing.sequence.pad_sequences(X, maxlen=10, padding='post')\n",
    "y = np.array(y)"
   ]
  },
  {
   "cell_type": "code",
   "execution_count": 45,
   "id": "993b116b",
   "metadata": {},
   "outputs": [
    {
     "data": {
      "text/plain": [
       "array([[14675,  8518,  9192, ...,     0,     0,     0],\n",
       "       [ 7069,  8518,  9192, ...,     0,     0,     0],\n",
       "       [ 7069, 14675,  9192, ...,     0,     0,     0],\n",
       "       ...,\n",
       "       [ 1626, 16630,  8800, ...,  5966,     0,     0],\n",
       "       [16630,  8800,  8800, ...,     0,     0,     0],\n",
       "       [ 8800,  8800, 13277, ...,     0,     0,     0]], dtype=int32)"
      ]
     },
     "execution_count": 45,
     "metadata": {},
     "output_type": "execute_result"
    }
   ],
   "source": [
    "# контексты после паддинга\n",
    "X"
   ]
  },
  {
   "cell_type": "code",
   "execution_count": 46,
   "id": "41d5dc4d",
   "metadata": {},
   "outputs": [],
   "source": [
    "X_train, X_valid, y_train, y_valid = train_test_split(X, y, test_size=0.05)"
   ]
  },
  {
   "cell_type": "markdown",
   "id": "08a4639c",
   "metadata": {},
   "source": [
    "Сама модель почти полностью совпадает"
   ]
  },
  {
   "cell_type": "code",
   "execution_count": 47,
   "id": "21f963c5",
   "metadata": {},
   "outputs": [
    {
     "name": "stderr",
     "output_type": "stream",
     "text": [
      "/Users/mnefedov/miniforge3/lib/python3.9/site-packages/keras/optimizers/optimizer_v2/adam.py:110: UserWarning: The `lr` argument is deprecated, use `learning_rate` instead.\n",
      "  super(Adam, self).__init__(name, **kwargs)\n"
     ]
    }
   ],
   "source": [
    "model = tf.keras.Sequential()\n",
    "\n",
    "# 1 отличие - то что на вход подается не 1 слово а целое окно контекста\n",
    "# но на уровне embedding слоя нужно изменить только input_length\n",
    "# она будет равна числу до которого мы делали паддинг\n",
    "model.add(tf.keras.layers.Embedding(input_dim=len(word2id), \n",
    "                                    input_length=10, \n",
    "                                    output_dim=100))\n",
    "\n",
    "# 2 отличие - нужно усреднить контекст в 1 вектор\n",
    "model.add(tf.keras.layers.Lambda(lambda x: tf.keras.backend.sum(x, axis=1)))\n",
    "\n",
    "model.add(tf.keras.layers.Dense(len(word2id), activation='softmax'))\n",
    "model.compile(optimizer=tf.keras.optimizers.Adam(lr=0.001), loss='sparse_categorical_crossentropy',\n",
    "              \n",
    "              )"
   ]
  },
  {
   "cell_type": "code",
   "execution_count": 48,
   "id": "864e36f3",
   "metadata": {},
   "outputs": [
    {
     "name": "stdout",
     "output_type": "stream",
     "text": [
      "Model: \"sequential_1\"\n",
      "_________________________________________________________________\n",
      " Layer (type)                Output Shape              Param #   \n",
      "=================================================================\n",
      " embedding_1 (Embedding)     (None, 10, 100)           1701700   \n",
      "                                                                 \n",
      " lambda (Lambda)             (None, 100)               0         \n",
      "                                                                 \n",
      " dense_1 (Dense)             (None, 17017)             1718717   \n",
      "                                                                 \n",
      "=================================================================\n",
      "Total params: 3,420,417\n",
      "Trainable params: 3,420,417\n",
      "Non-trainable params: 0\n",
      "_________________________________________________________________\n",
      "None\n"
     ]
    }
   ],
   "source": [
    "print(model.summary())"
   ]
  },
  {
   "cell_type": "code",
   "execution_count": 49,
   "id": "34d67f13",
   "metadata": {},
   "outputs": [
    {
     "name": "stdout",
     "output_type": "stream",
     "text": [
      "Epoch 1/5\n",
      "1729/1729 [==============================] - 95s 55ms/step - loss: 7.1615 - val_loss: 6.5477\n",
      "Epoch 2/5\n",
      "1729/1729 [==============================] - 98s 57ms/step - loss: 6.1930 - val_loss: 6.0831\n",
      "Epoch 3/5\n",
      "1729/1729 [==============================] - 100s 58ms/step - loss: 5.7482 - val_loss: 5.8858\n",
      "Epoch 4/5\n",
      "1729/1729 [==============================] - 98s 56ms/step - loss: 5.4635 - val_loss: 5.7834\n",
      "Epoch 5/5\n",
      "1729/1729 [==============================] - 101s 59ms/step - loss: 5.2501 - val_loss: 5.7327\n"
     ]
    },
    {
     "data": {
      "text/plain": [
       "<keras.callbacks.History at 0x30c849d90>"
      ]
     },
     "execution_count": 49,
     "metadata": {},
     "output_type": "execute_result"
    }
   ],
   "source": [
    "\n",
    "model.fit(X_train, y_train, \n",
    "          validation_data=(X_valid, y_valid),\n",
    "          batch_size=1000,\n",
    "         epochs=5)"
   ]
  },
  {
   "cell_type": "code",
   "execution_count": 50,
   "id": "9873dcf4",
   "metadata": {},
   "outputs": [],
   "source": [
    "embeddings_1 = model.layers[0].get_weights()[0]\n",
    "embeddings_2 = model.layers[2].get_weights()[0].T\n",
    "embeddings = np.mean([embeddings_1, embeddings_2], axis=0)"
   ]
  },
  {
   "cell_type": "code",
   "execution_count": 51,
   "id": "5a2896c3",
   "metadata": {},
   "outputs": [],
   "source": [
    "embeddings = np.mean([embeddings_1, embeddings_2], axis=0)"
   ]
  },
  {
   "cell_type": "code",
   "execution_count": 52,
   "id": "7b8f0da5",
   "metadata": {},
   "outputs": [
    {
     "data": {
      "text/plain": [
       "(17017, 100)"
      ]
     },
     "execution_count": 52,
     "metadata": {},
     "output_type": "execute_result"
    }
   ],
   "source": [
    "embeddings.shape"
   ]
  },
  {
   "cell_type": "code",
   "execution_count": 53,
   "id": "b7f2dbfe",
   "metadata": {},
   "outputs": [
    {
     "data": {
      "text/plain": [
       "['птица',\n",
       " 'кустарников',\n",
       " 'змей',\n",
       " 'блестящий',\n",
       " 'рыба',\n",
       " 'змея',\n",
       " 'птиц',\n",
       " 'встречается',\n",
       " 'семейства',\n",
       " 'подсемейства']"
      ]
     },
     "execution_count": 53,
     "metadata": {},
     "output_type": "execute_result"
    }
   ],
   "source": [
    "most_similar('птица', embeddings)"
   ]
  },
  {
   "cell_type": "code",
   "execution_count": null,
   "id": "f96b7ef8",
   "metadata": {},
   "outputs": [],
   "source": []
  },
  {
   "cell_type": "markdown",
   "id": "40dac186",
   "metadata": {},
   "source": [
    "### Negative sampling"
   ]
  },
  {
   "cell_type": "markdown",
   "id": "637385f3",
   "metadata": {},
   "source": [
    "Одна из основных оптимизаций в word2vec - negative sampling. Задача из многоклассовой классификации преобразуется в бинарную классификацию. На вход подается сразу и целевое слово и контекст, а на выходе ожидается вероятность того, что они употребляются вместе. Положительные примеры просто берутся из корпуса, а для того, чтобы собрать негативные примеры, из словаря просто случайно выбираются слова. Возможна ситуация, когда для контекста случайно выбранное слово на самом деле может встретиться в этом контексте, но за счет большого количества примеров, такие неточности не повлияют на итоговый результат."
   ]
  },
  {
   "cell_type": "markdown",
   "id": "ec8312ee",
   "metadata": {},
   "source": [
    "В этот раз не будем сразу генерировать весь датасет. Он получается очень большой и эффективнее генерировать примеры на ходу (т.е. использовать генератор)"
   ]
  },
  {
   "cell_type": "code",
   "execution_count": 54,
   "id": "1928254d",
   "metadata": {},
   "outputs": [],
   "source": [
    "vocab_size = len(id2word)"
   ]
  },
  {
   "cell_type": "markdown",
   "id": "0663f708",
   "metadata": {},
   "source": [
    "Эта функция просто генерирует обучающее примеры батчами. В tf генераторы можно напрямую модавать в fit модели"
   ]
  },
  {
   "cell_type": "code",
   "execution_count": 55,
   "id": "e850e1d2",
   "metadata": {},
   "outputs": [],
   "source": [
    "# skip gram\n",
    "def gen_batches_sg(sentences, window = 5, batch_size=1000):\n",
    "    \n",
    "    # параметр window задает его целиком\n",
    "    # нам нужно поделить его пополам на левую и правую часть\n",
    "    # когда делится неровно, то левая часть больше на 1\n",
    "    left_context_length = (window/2).__ceil__() # округлить в большую сторону\n",
    "    right_context_length = window // 2 # округлить в меньшую сторону\n",
    "    \n",
    "    while True:\n",
    "        X_target = []\n",
    "        X_context = []\n",
    "        y = []\n",
    "\n",
    "        for sent in sentences:\n",
    "            for i in range(len(sent)-1):\n",
    "                word = sent[i]\n",
    "                context = sent[max(0, i-left_context_length):i] + sent[i+1:i+right_context_length]\n",
    "                for context_word in context:\n",
    "                    X_target.append(word)\n",
    "                    X_context.append(context_word)\n",
    "                    y.append(1)\n",
    "                    \n",
    "                    X_target.append(word)\n",
    "                    X_context.append(np.random.randint(vocab_size))\n",
    "                    y.append(0)\n",
    "                    \n",
    "                    if len(X_target) >= batch_size:\n",
    "                        X_target = np.array(X_target)\n",
    "                        X_context = np.array(X_context)\n",
    "                        y = np.array(y)\n",
    "                        yield ((X_target, X_context), y)\n",
    "                        X_target = []\n",
    "                        X_context = []\n",
    "                        y = []\n"
   ]
  },
  {
   "cell_type": "code",
   "execution_count": 56,
   "id": "33541b1f",
   "metadata": {},
   "outputs": [],
   "source": [
    "# # cbow \n",
    "def gen_batches_cbow(sentences, window = 5, batch_size=1000):\n",
    "    \n",
    "    # параметр window задает его целиком\n",
    "    # нам нужно поделить его пополам на левую и правую часть\n",
    "    # когда делится неровно, то левая часть больше на 1\n",
    "    left_context_length = (window/2).__ceil__() # округлить в большую сторону\n",
    "    right_context_length = window // 2 # округлить в меньшую сторону\n",
    "    \n",
    "    while True:\n",
    "        X_target = []\n",
    "        X_context = []\n",
    "        y = []\n",
    "\n",
    "        for sent in sentences:\n",
    "            for i in range(len(sent)-1):\n",
    "                word = sent[i]\n",
    "                context = sent[max(0, i-left_context_length):i] + sent[i+1:i+right_context_length]\n",
    "\n",
    "                X_target.append(word)\n",
    "                X_context.append(context)\n",
    "                y.append(1)\n",
    "                \n",
    "                X_target.append(np.random.randint(vocab_size))\n",
    "                X_context.append(context)\n",
    "                y.append(0)\n",
    "\n",
    "                if len(X_target) == batch_size:\n",
    "                    X_target = np.array(X_target)\n",
    "                    X_context = tf.keras.preprocessing.sequence.pad_sequences(X_context, maxlen=window)\n",
    "                    y = np.array(y)\n",
    "                    yield ((X_target, X_context), y)\n",
    "                    X_target = []\n",
    "                    X_context = []\n",
    "                    y = []"
   ]
  },
  {
   "cell_type": "markdown",
   "id": "74b09b8a",
   "metadata": {},
   "source": [
    "Саму модель нужно уже задать через Functional API, т.к. у нас будет два входа"
   ]
  },
  {
   "cell_type": "code",
   "execution_count": 57,
   "id": "6e086b72",
   "metadata": {},
   "outputs": [],
   "source": [
    "inputs_target = tf.keras.layers.Input(shape=(1,))\n",
    "inputs_context = tf.keras.layers.Input(shape=(1,))\n",
    "\n",
    "\n",
    "embeddings_target = tf.keras.layers.Embedding(input_dim=len(word2id), output_dim=300)(inputs_target, )\n",
    "embeddings_context = tf.keras.layers.Embedding(input_dim=len(word2id), output_dim=300)(inputs_context, )\n",
    "\n",
    "target = tf.keras.layers.Flatten()(embeddings_target)\n",
    "context = tf.keras.layers.Flatten()(embeddings_context)\n",
    "\n",
    "dot = tf.keras.layers.Dot(1)([target, context])\n",
    "outputs = tf.keras.layers.Activation(activation='sigmoid')(dot)\n",
    "\n",
    "model = tf.keras.Model(inputs=[inputs_target, inputs_context], \n",
    "                       outputs=outputs)\n",
    "optimizer = tf.keras.optimizers.Adam(learning_rate=0.001)\n",
    "model.compile(optimizer=optimizer,\n",
    "              loss='binary_crossentropy',\n",
    "              metrics=['accuracy'])\n",
    "\n",
    "\n"
   ]
  },
  {
   "cell_type": "code",
   "execution_count": 58,
   "id": "952c5ab4",
   "metadata": {},
   "outputs": [
    {
     "name": "stdout",
     "output_type": "stream",
     "text": [
      "Epoch 1/2\n",
      "10000/10000 [==============================] - 156s 16ms/step - loss: 0.4743 - accuracy: 0.7791 - val_loss: 0.5320 - val_accuracy: 0.7565\n",
      "Epoch 2/2\n",
      "10000/10000 [==============================] - 156s 16ms/step - loss: 0.4505 - accuracy: 0.7969 - val_loss: 0.4750 - val_accuracy: 0.7860\n"
     ]
    },
    {
     "data": {
      "text/plain": [
       "<keras.callbacks.History at 0x30e8e9ee0>"
      ]
     },
     "execution_count": 58,
     "metadata": {},
     "output_type": "execute_result"
    }
   ],
   "source": [
    "model.fit(gen_batches_sg(sentences[:19000], window=5),\n",
    "          validation_data=gen_batches_sg(sentences[19000:],  window=5),\n",
    "          batch_size=1000,\n",
    "          steps_per_epoch=10000,\n",
    "          validation_steps=30,\n",
    "         epochs=2)"
   ]
  },
  {
   "cell_type": "code",
   "execution_count": 59,
   "id": "1a56360e",
   "metadata": {},
   "outputs": [],
   "source": [
    "embeddings = model.layers[2].get_weights()[0]"
   ]
  },
  {
   "cell_type": "code",
   "execution_count": 60,
   "id": "f06af355",
   "metadata": {},
   "outputs": [
    {
     "data": {
      "text/plain": [
       "['церковь',\n",
       " 'построена',\n",
       " 'храм',\n",
       " 'чудотворца',\n",
       " 'часовня',\n",
       " 'селе',\n",
       " 'деревни',\n",
       " 'святителя',\n",
       " 'николая',\n",
       " 'села']"
      ]
     },
     "execution_count": 60,
     "metadata": {},
     "output_type": "execute_result"
    }
   ],
   "source": [
    "most_similar('церковь', embeddings)"
   ]
  },
  {
   "cell_type": "code",
   "execution_count": null,
   "id": "5c539e13",
   "metadata": {},
   "outputs": [],
   "source": []
  },
  {
   "cell_type": "code",
   "execution_count": 61,
   "id": "7255ae35",
   "metadata": {},
   "outputs": [],
   "source": [
    "#cbow negative sampling\n",
    "inputs_target = tf.keras.layers.Input(shape=(1,))\n",
    "inputs_context = tf.keras.layers.Input(shape=(10,))\n",
    "\n",
    "\n",
    "embeddings_target = tf.keras.layers.Embedding(input_dim=len(word2id), output_dim=300)(inputs_target, )\n",
    "embeddings_context = tf.keras.layers.Embedding(input_dim=len(word2id), output_dim=300)(inputs_context, )\n",
    "\n",
    "target = tf.keras.layers.Flatten()(embeddings_target)\n",
    "context = tf.keras.layers.Lambda(lambda x: tf.keras.backend.sum(x, axis=1))(embeddings_context)\n",
    "dot = tf.keras.layers.Dot(1)([target, context])\n",
    "\n",
    "# полученную близость нужно преобразовать в вероятность\n",
    "# когда она одна используется не софтмакс и сигмоида\n",
    "outputs = tf.keras.layers.Activation(activation='sigmoid')(dot)\n",
    "\n",
    "model = tf.keras.Model(inputs=[inputs_target, inputs_context], \n",
    "                       outputs=outputs)\n",
    "\n",
    "\n",
    "optimizer = tf.keras.optimizers.Adam(learning_rate=0.001)\n",
    "model.compile(optimizer=optimizer,\n",
    "              loss='binary_crossentropy',\n",
    "              metrics=['accuracy'])\n"
   ]
  },
  {
   "cell_type": "code",
   "execution_count": 62,
   "id": "36a09425",
   "metadata": {},
   "outputs": [
    {
     "name": "stdout",
     "output_type": "stream",
     "text": [
      "Epoch 1/2\n",
      "5000/5000 [==============================] - 81s 16ms/step - loss: 0.3749 - accuracy: 0.8336 - val_loss: 0.3023 - val_accuracy: 0.8737\n",
      "Epoch 2/2\n",
      "5000/5000 [==============================] - 79s 16ms/step - loss: 0.2654 - accuracy: 0.8895 - val_loss: 0.2520 - val_accuracy: 0.8952\n"
     ]
    },
    {
     "data": {
      "text/plain": [
       "<keras.callbacks.History at 0x30eec8910>"
      ]
     },
     "execution_count": 62,
     "metadata": {},
     "output_type": "execute_result"
    }
   ],
   "source": [
    "model.fit(gen_batches_cbow(sentences[:19000], window=5),\n",
    "          validation_data=gen_batches_cbow(sentences[19000:],  window=5),\n",
    "          batch_size=1000,\n",
    "          steps_per_epoch=5000,\n",
    "          validation_steps=30,\n",
    "         epochs=2)"
   ]
  },
  {
   "cell_type": "code",
   "execution_count": 63,
   "id": "778836d6",
   "metadata": {},
   "outputs": [],
   "source": [
    "embeddings = model.layers[2].get_weights()[0]"
   ]
  },
  {
   "cell_type": "code",
   "execution_count": 64,
   "id": "953fe0eb",
   "metadata": {},
   "outputs": [
    {
     "data": {
      "text/plain": [
       "['семья',\n",
       " 'уехала',\n",
       " 'переехала',\n",
       " 'сестру',\n",
       " 'проживала',\n",
       " 'жила',\n",
       " 'уезжает',\n",
       " 'родители',\n",
       " 'уехал',\n",
       " 'жену']"
      ]
     },
     "execution_count": 64,
     "metadata": {},
     "output_type": "execute_result"
    }
   ],
   "source": [
    "most_similar('семья', embeddings)"
   ]
  },
  {
   "cell_type": "code",
   "execution_count": 65,
   "id": "07e6b428",
   "metadata": {},
   "outputs": [
    {
     "data": {
      "text/plain": [
       "['церковь',\n",
       " 'часовня',\n",
       " 'церкви',\n",
       " 'храма',\n",
       " 'монастыря',\n",
       " 'здание',\n",
       " 'святого',\n",
       " 'монастырь',\n",
       " 'храм',\n",
       " 'часовни']"
      ]
     },
     "execution_count": 65,
     "metadata": {},
     "output_type": "execute_result"
    }
   ],
   "source": [
    "most_similar('церковь', embeddings)"
   ]
  },
  {
   "cell_type": "markdown",
   "id": "c8dc9cac",
   "metadata": {},
   "source": [
    "Другая значимая оптимизация в word2vec - это иерархический софтмакс. Когда мы считали модель без негативного семплирования, то у нас был большой полносвязный слой с софтмаксом. Иерархический софтмакс упрощает расчеты в этом слое, но его уже так просто не воспроизведешь.\n",
    "\n",
    "На этом месте уже лучше перейти к готовой реализации."
   ]
  },
  {
   "cell_type": "markdown",
   "id": "a7af3bf3",
   "metadata": {},
   "source": [
    "## Word2Vec в gensim"
   ]
  },
  {
   "cell_type": "markdown",
   "id": "10b28433",
   "metadata": {},
   "source": [
    "В gensim есть питоновская обертка к оригинальному ворд2веку, которой очень удобно пользоваться."
   ]
  },
  {
   "cell_type": "code",
   "execution_count": 66,
   "id": "90fa2ab4",
   "metadata": {},
   "outputs": [],
   "source": [
    "# !pip install gensim"
   ]
  },
  {
   "cell_type": "code",
   "execution_count": 67,
   "id": "d916424d",
   "metadata": {},
   "outputs": [],
   "source": [
    "import gensim"
   ]
  },
  {
   "cell_type": "code",
   "execution_count": 68,
   "id": "0b744492",
   "metadata": {},
   "outputs": [],
   "source": [
    "?gensim.models.Word2Vec"
   ]
  },
  {
   "cell_type": "code",
   "execution_count": 69,
   "id": "a942a031",
   "metadata": {},
   "outputs": [
    {
     "data": {
      "text/plain": [
       "'4.3.0'"
      ]
     },
     "execution_count": 69,
     "metadata": {},
     "output_type": "execute_result"
    }
   ],
   "source": [
    "gensim.__version__"
   ]
  },
  {
   "cell_type": "markdown",
   "id": "5414972b",
   "metadata": {},
   "source": [
    "На вход нужно подавать список списков (токенизированный текст)"
   ]
  },
  {
   "cell_type": "code",
   "execution_count": 70,
   "id": "28b573f7",
   "metadata": {},
   "outputs": [],
   "source": [
    "wiki = open('wiki_data.txt').read().split('\\n')"
   ]
  },
  {
   "cell_type": "code",
   "execution_count": 71,
   "id": "912f3adf",
   "metadata": {},
   "outputs": [],
   "source": [
    "texts = [preprocess(text) for text in wiki]"
   ]
  },
  {
   "cell_type": "code",
   "execution_count": 72,
   "id": "ce4b4186",
   "metadata": {},
   "outputs": [],
   "source": [
    "# f = open('corpus.txt', 'w')\n",
    "# for text in texts:\n",
    "#     f.write(' '.join(text) + '\\n')\n",
    "# f.close()"
   ]
  },
  {
   "cell_type": "code",
   "execution_count": 73,
   "id": "118e3ee0",
   "metadata": {},
   "outputs": [],
   "source": [
    "# corpus = gensim.models.word2vec.LineSentence('corpus.txt', )"
   ]
  },
  {
   "cell_type": "markdown",
   "id": "91051ba2",
   "metadata": {},
   "source": [
    "В саму модель нужно передать корпус для обучения, для остальных параметров есть значения по умолчанию"
   ]
  },
  {
   "cell_type": "code",
   "execution_count": 74,
   "id": "71504b2b",
   "metadata": {
    "scrolled": true
   },
   "outputs": [
    {
     "name": "stdout",
     "output_type": "stream",
     "text": [
      "CPU times: user 37.8 s, sys: 144 ms, total: 37.9 s\n",
      "Wall time: 14 s\n"
     ]
    }
   ],
   "source": [
    "%%time\n",
    "w2v = gensim.models.Word2Vec(texts, )"
   ]
  },
  {
   "cell_type": "code",
   "execution_count": 75,
   "id": "524499f8",
   "metadata": {},
   "outputs": [
    {
     "data": {
      "text/plain": [
       "[('деревянная', 0.8377265334129333),\n",
       " ('часовня', 0.8358676433563232),\n",
       " ('богородицы', 0.8274974822998047),\n",
       " ('построена', 0.821127712726593),\n",
       " ('православная', 0.8120527267456055),\n",
       " ('храм', 0.8012527227401733),\n",
       " ('икона', 0.8005196452140808),\n",
       " ('сгорела', 0.777483344078064),\n",
       " ('построенная', 0.7769498229026794),\n",
       " ('храма', 0.7756760716438293)]"
      ]
     },
     "execution_count": 75,
     "metadata": {},
     "output_type": "execute_result"
    }
   ],
   "source": [
    "w2v.wv.most_similar('церковь')"
   ]
  },
  {
   "cell_type": "markdown",
   "id": "3363b11e",
   "metadata": {},
   "source": [
    "Давайте теперь разберемся с параметрами:"
   ]
  },
  {
   "cell_type": "markdown",
   "id": "f6128bdd",
   "metadata": {},
   "source": [
    "**vector_size** - размер вектора, обычно используют значение 100-1000  \n",
    "\n",
    "**min_count** - минимальная частота слова в корпусе (выше мы тоже фильтровали по частототе 30)  \n",
    "\n",
    "**max_vocab_size** - максимальный размер словаря\n",
    "\n",
    "**window** - размер окна (выше мы использовали значение 10)\n",
    "\n",
    "**epochs** - количество эпох (полных итераций по корпусу)"
   ]
  },
  {
   "cell_type": "code",
   "execution_count": 76,
   "id": "6ea31ac0",
   "metadata": {},
   "outputs": [
    {
     "name": "stdout",
     "output_type": "stream",
     "text": [
      "CPU times: user 26.1 s, sys: 1.86 s, total: 28 s\n",
      "Wall time: 9.59 s\n"
     ]
    }
   ],
   "source": [
    "%%time\n",
    "w2v = gensim.models.Word2Vec(texts, \n",
    "                             vector_size=300, \n",
    "                             min_count=30, \n",
    "                             max_vocab_size=10000,\n",
    "                             window=5,\n",
    "                             epochs=7)"
   ]
  },
  {
   "cell_type": "code",
   "execution_count": 77,
   "id": "304b59ab",
   "metadata": {},
   "outputs": [
    {
     "data": {
      "text/plain": [
       "[('храм', 0.7495061755180359),\n",
       " ('церкви', 0.6722915768623352),\n",
       " ('монастыря', 0.6711115837097168),\n",
       " ('монастырь', 0.6551513075828552),\n",
       " ('храма', 0.6509529948234558),\n",
       " ('собор', 0.633480429649353),\n",
       " ('святого', 0.6160135865211487),\n",
       " ('собора', 0.6044516563415527),\n",
       " ('епархии', 0.574800968170166),\n",
       " ('николая', 0.5695961713790894)]"
      ]
     },
     "execution_count": 77,
     "metadata": {},
     "output_type": "execute_result"
    }
   ],
   "source": [
    "w2v.wv.most_similar('церковь')"
   ]
  },
  {
   "cell_type": "markdown",
   "id": "004aa64a",
   "metadata": {},
   "source": [
    "CBOW или Skip-gram выбираются через параметр **sg** - 1 это skip-gram, а 0 - cbow (по умолчанию всегда cbow)"
   ]
  },
  {
   "cell_type": "code",
   "execution_count": 78,
   "id": "6982b4b4",
   "metadata": {},
   "outputs": [
    {
     "name": "stdout",
     "output_type": "stream",
     "text": [
      "CPU times: user 1min 30s, sys: 452 ms, total: 1min 30s\n",
      "Wall time: 30.9 s\n"
     ]
    }
   ],
   "source": [
    "%%time\n",
    "w2v = gensim.models.Word2Vec(texts,\n",
    "                             vector_size=300, \n",
    "                             min_count=30, \n",
    "                             max_vocab_size=10000,\n",
    "                             window=5,\n",
    "                             epochs=7,\n",
    "                             sg=1\n",
    "                            )"
   ]
  },
  {
   "cell_type": "markdown",
   "id": "a516ad01",
   "metadata": {},
   "source": [
    "Скип-грам обучается значительно дольше "
   ]
  },
  {
   "cell_type": "code",
   "execution_count": 79,
   "id": "240d2fbe",
   "metadata": {},
   "outputs": [
    {
     "data": {
      "text/plain": [
       "[('храм', 0.6280046105384827),\n",
       " ('церкви', 0.5492430329322815),\n",
       " ('собор', 0.5290341973304749),\n",
       " ('храма', 0.5172240734100342),\n",
       " ('монастырь', 0.5040321350097656),\n",
       " ('монастыря', 0.4657866954803467),\n",
       " ('епархии', 0.45769721269607544),\n",
       " ('здание', 0.44704288244247437),\n",
       " ('собора', 0.44320300221443176),\n",
       " ('школа', 0.426459938287735)]"
      ]
     },
     "execution_count": 79,
     "metadata": {},
     "output_type": "execute_result"
    }
   ],
   "source": [
    "w2v.wv.most_similar('церковь')"
   ]
  },
  {
   "cell_type": "markdown",
   "id": "5180b31b",
   "metadata": {},
   "source": [
    "Увеличения window на cbow практически не влияет"
   ]
  },
  {
   "cell_type": "code",
   "execution_count": 80,
   "id": "a6b81c04",
   "metadata": {},
   "outputs": [
    {
     "name": "stdout",
     "output_type": "stream",
     "text": [
      "CPU times: user 31 s, sys: 1.67 s, total: 32.7 s\n",
      "Wall time: 11.2 s\n"
     ]
    }
   ],
   "source": [
    "%%time\n",
    "w2v = gensim.models.Word2Vec(texts,\n",
    "                             vector_size=300, \n",
    "                             min_count=30, \n",
    "                             max_vocab_size=10000,\n",
    "                             window=10,\n",
    "                             epochs=7,\n",
    "                             \n",
    "                            )"
   ]
  },
  {
   "cell_type": "markdown",
   "id": "6d8a6dc5",
   "metadata": {},
   "source": [
    "А вот skip-gram сильно замедляется с увеличением окна"
   ]
  },
  {
   "cell_type": "code",
   "execution_count": 81,
   "id": "6cef32e5",
   "metadata": {},
   "outputs": [
    {
     "name": "stdout",
     "output_type": "stream",
     "text": [
      "CPU times: user 2min 34s, sys: 238 ms, total: 2min 34s\n",
      "Wall time: 52.4 s\n"
     ]
    }
   ],
   "source": [
    "%%time\n",
    "w2v = gensim.models.Word2Vec(texts,\n",
    "                             vector_size=300, \n",
    "                             min_count=30, \n",
    "                             max_vocab_size=10000,\n",
    "                             window=10,\n",
    "                             epochs=7,\n",
    "                             sg=1\n",
    "                            )"
   ]
  },
  {
   "cell_type": "code",
   "execution_count": null,
   "id": "b79d046d",
   "metadata": {},
   "outputs": [],
   "source": []
  },
  {
   "cell_type": "markdown",
   "id": "6a9ec418",
   "metadata": {},
   "source": [
    "Выбор между negative_sampling и hierarchical softmax осуществляется через 2 параметра **hs** и **negative**:   \n",
    "1) **hs=0, negative=0** - ни то ни другое не используется  \n",
    "2) **hs=1** - используется hierarchical softmax  \n",
    "3) **hs=0, negative > 0** - используется negative_sampling и число в negative указывает сколько негативных примеров семплировать (в документации советуют значения от 5 до 20)  (по умолчанию)   "
   ]
  },
  {
   "cell_type": "code",
   "execution_count": 82,
   "id": "6fa3ed28",
   "metadata": {},
   "outputs": [
    {
     "name": "stdout",
     "output_type": "stream",
     "text": [
      "CPU times: user 7.88 s, sys: 125 ms, total: 8.01 s\n",
      "Wall time: 8 s\n"
     ]
    }
   ],
   "source": [
    "%%time\n",
    "w2v = gensim.models.Word2Vec(texts,\n",
    "                             hs=0,\n",
    "                             negative=0\n",
    "                            )"
   ]
  },
  {
   "cell_type": "markdown",
   "id": "3ab7c517",
   "metadata": {},
   "source": [
    "Работает быстрее, но качество сильно страдает"
   ]
  },
  {
   "cell_type": "code",
   "execution_count": 83,
   "id": "6868493d",
   "metadata": {},
   "outputs": [
    {
     "data": {
      "text/plain": [
       "[('отрицательных', 0.39327651262283325),\n",
       " ('инвестиционный', 0.37610307335853577),\n",
       " ('даль', 0.3691421449184418),\n",
       " ('приходили', 0.36865225434303284),\n",
       " ('восточно-казахстанской', 0.3680453598499298),\n",
       " ('пояснил', 0.36741116642951965),\n",
       " ('заклинания', 0.36411765217781067),\n",
       " ('постепенным', 0.35541704297065735),\n",
       " ('проходка', 0.3530977964401245),\n",
       " ('brm', 0.35309237241744995)]"
      ]
     },
     "execution_count": 83,
     "metadata": {},
     "output_type": "execute_result"
    }
   ],
   "source": [
    "w2v.wv.most_similar('церковь')"
   ]
  },
  {
   "cell_type": "markdown",
   "id": "4008e899",
   "metadata": {},
   "source": [
    "Иерархический софтмакс работает сильно дольше"
   ]
  },
  {
   "cell_type": "code",
   "execution_count": 84,
   "id": "b9c0725e",
   "metadata": {},
   "outputs": [
    {
     "name": "stdout",
     "output_type": "stream",
     "text": [
      "CPU times: user 1min 22s, sys: 1.57 s, total: 1min 24s\n",
      "Wall time: 30.5 s\n"
     ]
    }
   ],
   "source": [
    "%%time\n",
    "w2v = gensim.models.Word2Vec(texts, \n",
    "                             hs=1\n",
    "                            )"
   ]
  },
  {
   "cell_type": "code",
   "execution_count": 85,
   "id": "ea742df9",
   "metadata": {},
   "outputs": [
    {
     "data": {
      "text/plain": [
       "[('часовня', 0.8145325183868408),\n",
       " ('храм', 0.7590469717979431),\n",
       " ('церкви', 0.7268047332763672),\n",
       " ('деревянная', 0.6939830183982849),\n",
       " ('икона', 0.6819214224815369),\n",
       " ('колокольня', 0.679404616355896),\n",
       " ('монастырь', 0.6711443066596985),\n",
       " ('храма', 0.6586366891860962),\n",
       " ('каменная', 0.642469584941864),\n",
       " ('святого', 0.6422722935676575)]"
      ]
     },
     "execution_count": 85,
     "metadata": {},
     "output_type": "execute_result"
    }
   ],
   "source": [
    "w2v.wv.most_similar('церковь')"
   ]
  },
  {
   "cell_type": "markdown",
   "id": "96c3a389",
   "metadata": {},
   "source": [
    "Дефолтная настройка работает достаточно быстро и хорошо"
   ]
  },
  {
   "cell_type": "code",
   "execution_count": 86,
   "id": "bbc7b815",
   "metadata": {},
   "outputs": [
    {
     "name": "stdout",
     "output_type": "stream",
     "text": [
      "CPU times: user 39.5 s, sys: 1.48 s, total: 41 s\n",
      "Wall time: 14.5 s\n"
     ]
    }
   ],
   "source": [
    "%%time\n",
    "w2v = gensim.models.Word2Vec(texts, \n",
    "                             hs=0,\n",
    "                             negative=5\n",
    "                            )"
   ]
  },
  {
   "cell_type": "code",
   "execution_count": 87,
   "id": "266440a9",
   "metadata": {},
   "outputs": [
    {
     "data": {
      "text/plain": [
       "[('часовня', 0.8631377816200256),\n",
       " ('деревянная', 0.8212272524833679),\n",
       " ('богородицы', 0.8176008462905884),\n",
       " ('храм', 0.8152698278427124),\n",
       " ('православная', 0.809910774230957),\n",
       " ('построена', 0.8091415762901306),\n",
       " ('икона', 0.7990718483924866),\n",
       " ('монастыря', 0.7944340109825134),\n",
       " ('построенная', 0.7885655760765076),\n",
       " ('пресвятой', 0.7850500345230103)]"
      ]
     },
     "execution_count": 87,
     "metadata": {},
     "output_type": "execute_result"
    }
   ],
   "source": [
    "w2v.wv.most_similar('церковь')"
   ]
  },
  {
   "cell_type": "markdown",
   "id": "e1da5a8c",
   "metadata": {},
   "source": [
    "Повышение negative влияет на время обучения"
   ]
  },
  {
   "cell_type": "code",
   "execution_count": 88,
   "id": "ee61c82b",
   "metadata": {},
   "outputs": [
    {
     "name": "stdout",
     "output_type": "stream",
     "text": [
      "CPU times: user 1min 35s, sys: 565 ms, total: 1min 36s\n",
      "Wall time: 33.2 s\n"
     ]
    }
   ],
   "source": [
    "%%time\n",
    "w2v = gensim.models.Word2Vec(texts, \n",
    "                             hs=0,\n",
    "                             negative=20\n",
    "                            )"
   ]
  },
  {
   "cell_type": "code",
   "execution_count": 89,
   "id": "c297b275",
   "metadata": {},
   "outputs": [
    {
     "data": {
      "text/plain": [
       "[('часовня', 0.831301212310791),\n",
       " ('деревянная', 0.8208282589912415),\n",
       " ('храм', 0.7935220003128052),\n",
       " ('богородицы', 0.7933349609375),\n",
       " ('икона', 0.784454882144928),\n",
       " ('построена', 0.7777988910675049),\n",
       " ('колокольня', 0.7736459970474243),\n",
       " ('монастырь', 0.7726446390151978),\n",
       " ('каменная', 0.7674807906150818),\n",
       " ('пресвятой', 0.7669936418533325)]"
      ]
     },
     "execution_count": 89,
     "metadata": {},
     "output_type": "execute_result"
    }
   ],
   "source": [
    "w2v.wv.most_similar('церковь')"
   ]
  },
  {
   "cell_type": "code",
   "execution_count": null,
   "id": "f40a7e24",
   "metadata": {},
   "outputs": [],
   "source": []
  },
  {
   "cell_type": "markdown",
   "id": "b6b5357b",
   "metadata": {},
   "source": [
    "Есть еще несколько параметров, но уже не таких влиятельных:\n",
    "\n",
    "1) **sample** - отвечает за downsampling частотных слов; чем меньше, тем сильнее штрафуются частотные слова (по умолчанию стоит 1e-3, но можно поставить 1e-4, 1e-5). Для sg это будет значительно влиять на скорость (1e-5 будет быстрее)  \n",
    "2) **ns_exponent** -  регулирет downsampling частотных слов в negative sampling; 0 - никакого штрафа за частотность (как у нас выше с полным рандомом), 1 - штрафует пропорционально частотности, значения 0-1 что-то посередине (по умолчанию стоит 0.75)  \n",
    "3) **cbow_mean** - отвечает за функцию агрегации в cbow; 1 - это среднее, 0 - сумма (у нас выше среднее, оно же стоит по умолчанию)  "
   ]
  },
  {
   "cell_type": "code",
   "execution_count": 90,
   "id": "0d1a5345",
   "metadata": {},
   "outputs": [
    {
     "name": "stdout",
     "output_type": "stream",
     "text": [
      "CPU times: user 1min 24s, sys: 739 ms, total: 1min 25s\n",
      "Wall time: 29.6 s\n"
     ]
    }
   ],
   "source": [
    "%%time\n",
    "w2v = gensim.models.Word2Vec(texts, \n",
    "                             sample=1e-5,\n",
    "                             sg=1\n",
    "                            )"
   ]
  },
  {
   "cell_type": "code",
   "execution_count": 91,
   "id": "1c3928c9",
   "metadata": {},
   "outputs": [
    {
     "data": {
      "text/plain": [
       "[('храм', 0.9655008316040039),\n",
       " ('часовня', 0.9532762765884399),\n",
       " ('храма', 0.9530141353607178),\n",
       " ('храме', 0.9416210055351257),\n",
       " ('рождества', 0.9381084442138672),\n",
       " ('деревянная', 0.9327593445777893),\n",
       " ('собор', 0.9324644804000854),\n",
       " ('освящена', 0.9293673038482666),\n",
       " ('чудотворца', 0.9289676547050476),\n",
       " ('построена', 0.9267347455024719)]"
      ]
     },
     "execution_count": 91,
     "metadata": {},
     "output_type": "execute_result"
    }
   ],
   "source": [
    "w2v.wv.most_similar('церковь')"
   ]
  },
  {
   "cell_type": "code",
   "execution_count": 92,
   "id": "a6e9b5e7",
   "metadata": {},
   "outputs": [
    {
     "name": "stdout",
     "output_type": "stream",
     "text": [
      "CPU times: user 37.5 s, sys: 1.51 s, total: 39 s\n",
      "Wall time: 13.7 s\n"
     ]
    }
   ],
   "source": [
    "%%time\n",
    "w2v = gensim.models.Word2Vec(texts, \n",
    "                             ns_exponent=0.84\n",
    "                            )"
   ]
  },
  {
   "cell_type": "code",
   "execution_count": 93,
   "id": "29ad129d",
   "metadata": {},
   "outputs": [
    {
     "data": {
      "text/plain": [
       "[('деревянная', 0.8359008431434631),\n",
       " ('часовня', 0.8308195471763611),\n",
       " ('построена', 0.8174147605895996),\n",
       " ('храм', 0.7996065020561218),\n",
       " ('православная', 0.797082245349884),\n",
       " ('богородицы', 0.782943069934845),\n",
       " ('построенная', 0.7801513075828552),\n",
       " ('монастырь', 0.7759658098220825),\n",
       " ('икона', 0.7669859528541565),\n",
       " ('церкви', 0.7601329684257507)]"
      ]
     },
     "execution_count": 93,
     "metadata": {},
     "output_type": "execute_result"
    }
   ],
   "source": [
    "w2v.wv.most_similar('церковь')"
   ]
  },
  {
   "cell_type": "code",
   "execution_count": null,
   "id": "0cb2fda1",
   "metadata": {},
   "outputs": [],
   "source": []
  },
  {
   "cell_type": "code",
   "execution_count": 94,
   "id": "fd8c2eba",
   "metadata": {},
   "outputs": [
    {
     "name": "stdout",
     "output_type": "stream",
     "text": [
      "CPU times: user 37.9 s, sys: 1.57 s, total: 39.4 s\n",
      "Wall time: 14 s\n"
     ]
    }
   ],
   "source": [
    "%%time\n",
    "w2v = gensim.models.Word2Vec(texts, \n",
    "                             cbow_mean=0\n",
    "                            )"
   ]
  },
  {
   "cell_type": "code",
   "execution_count": 95,
   "id": "c08ade15",
   "metadata": {},
   "outputs": [
    {
     "data": {
      "text/plain": [
       "[('деревянная', 0.939599335193634),\n",
       " ('пресвятой', 0.9233182668685913),\n",
       " ('богородицы', 0.9191804528236389),\n",
       " ('часовня', 0.9166568517684937),\n",
       " ('икона', 0.9163088798522949),\n",
       " ('построена', 0.9091044068336487),\n",
       " ('храм', 0.908804714679718),\n",
       " ('каменная', 0.9076648354530334),\n",
       " ('рождества', 0.9051446318626404),\n",
       " ('община', 0.9050907492637634)]"
      ]
     },
     "execution_count": 95,
     "metadata": {},
     "output_type": "execute_result"
    }
   ],
   "source": [
    "w2v.wv.most_similar('церковь')"
   ]
  },
  {
   "cell_type": "code",
   "execution_count": null,
   "id": "31490cc2",
   "metadata": {},
   "outputs": [],
   "source": []
  },
  {
   "cell_type": "markdown",
   "id": "7f383ad3",
   "metadata": {},
   "source": [
    "## FastText"
   ]
  },
  {
   "cell_type": "markdown",
   "id": "77a79c3b",
   "metadata": {},
   "source": [
    "В 2015 почти та же команда выпустила улучшение - FastText (статья - https://arxiv.org/abs/1607.04606). Главная доработка в нем - использование символьных нграммов. В оригинальном word2vec словарь обучается вначале и фиксируется, добавлять новые слова к обученной модели нельзя. Соответственно, если слова нет в словаре, то и вектора для него не будет.\n",
    "\n",
    "В FastText каждое слово дополнительно разбивается на символьные нграммы и для каждого символьного нграмма тоже есть свой отдельный эмбеддинг. При предсказании векторы символьных нграммов и целого слова усредняются в 1 вектор. В дальнейшем это позволяет генерировать векторы для слов, которых нет в изначальном словаре. Нужно только чтобы новое слово состояло уже из известных символьных нграмм."
   ]
  },
  {
   "cell_type": "markdown",
   "id": "17faa699",
   "metadata": {},
   "source": [
    "Интерфейс обучения и большинство параметров - точно такие же"
   ]
  },
  {
   "cell_type": "code",
   "execution_count": 96,
   "id": "ea91a3c8",
   "metadata": {},
   "outputs": [
    {
     "name": "stdout",
     "output_type": "stream",
     "text": [
      "CPU times: user 2min 47s, sys: 1.69 s, total: 2min 48s\n",
      "Wall time: 1min\n"
     ]
    }
   ],
   "source": [
    "%%time\n",
    "ft = gensim.models.FastText(texts)"
   ]
  },
  {
   "cell_type": "markdown",
   "id": "102ab1e1",
   "metadata": {},
   "source": [
    "Использование символьных нграммов сразу заметно - близким считаются слова похожие по написанию, а не только по смыслу"
   ]
  },
  {
   "cell_type": "code",
   "execution_count": 97,
   "id": "b43dc9e5",
   "metadata": {},
   "outputs": [
    {
     "data": {
      "text/plain": [
       "[('«церковь', 0.9903956055641174),\n",
       " ('церковь»', 0.9901298880577087),\n",
       " ('церковью', 0.9594478011131287),\n",
       " ('це́рковь', 0.9570942521095276),\n",
       " ('церкви»', 0.8876131772994995),\n",
       " ('церкви', 0.8861965537071228),\n",
       " ('церквям', 0.8725695610046387),\n",
       " ('храма', 0.8415743708610535),\n",
       " ('монастыря»', 0.8240010142326355),\n",
       " ('храму', 0.817355751991272)]"
      ]
     },
     "execution_count": 97,
     "metadata": {},
     "output_type": "execute_result"
    }
   ],
   "source": [
    "ft.wv.most_similar('церковь')"
   ]
  },
  {
   "cell_type": "markdown",
   "id": "5b6b70a2",
   "metadata": {},
   "source": [
    "Дополнительные параметры:\n",
    "\n",
    "1) **min_n** - минимальная длина для символьных нграмм (по умолчанию 3)  \n",
    "2) **max_n** - максимальная длина для символьных нграмм, если поставить меньше min_n, то символьные нграммы не будут использоваться (по умолчанию 6)"
   ]
  },
  {
   "cell_type": "code",
   "execution_count": 98,
   "id": "454cde27",
   "metadata": {},
   "outputs": [
    {
     "name": "stdout",
     "output_type": "stream",
     "text": [
      "CPU times: user 4min 25s, sys: 2.11 s, total: 4min 27s\n",
      "Wall time: 1min 35s\n"
     ]
    }
   ],
   "source": [
    "%%time\n",
    "ft = gensim.models.FastText(texts, min_n=2, max_n=8)"
   ]
  },
  {
   "cell_type": "code",
   "execution_count": 99,
   "id": "f0df4504",
   "metadata": {},
   "outputs": [
    {
     "data": {
      "text/plain": [
       "[('це́рковь', 0.9439380764961243),\n",
       " ('«церковь', 0.92202228307724),\n",
       " ('церковь»', 0.9158356785774231),\n",
       " ('церковью', 0.9080968499183655),\n",
       " ('церкви', 0.8009109497070312),\n",
       " ('монастырь', 0.7924925684928894),\n",
       " ('церкви»', 0.78168785572052),\n",
       " ('монастырская', 0.7621025443077087),\n",
       " ('церковная', 0.7567659616470337),\n",
       " ('святынь', 0.755405604839325)]"
      ]
     },
     "execution_count": 99,
     "metadata": {},
     "output_type": "execute_result"
    }
   ],
   "source": [
    "ft.wv.most_similar('церковь')"
   ]
  },
  {
   "cell_type": "markdown",
   "id": "5badb355",
   "metadata": {},
   "source": [
    "### Использование предобученных моделей"
   ]
  },
  {
   "cell_type": "markdown",
   "id": "bc374a8f",
   "metadata": {},
   "source": [
    "В открытом доступе есть много предобученных моделей. Они как правило обучены на неспецифических, но очень больших корпусах (новостных, википедии). Если в решаемой задаче тексты похожи, то лучше использовать предобученные модели. Свои модели имеет смысл обучать, когда данные очень специфичные.\n",
    "\n",
    "Для русского готовые модели можно взять на сайте https://rusvectores.org/ru/models/ \n",
    "\n",
    "Нужно скачать какую-то модель, распаковать и открыть в генсиме.\n"
   ]
  },
  {
   "cell_type": "code",
   "execution_count": 100,
   "id": "5e2684a4",
   "metadata": {},
   "outputs": [],
   "source": [
    "# я скачал вот эту araneum_upos_skipgram_300_2_2018 \n",
    "# и распаковал архив в папку с ноутбуком\n",
    "import gensim\n",
    "model = gensim.models.KeyedVectors.load_word2vec_format('araneum_upos_skipgram_300_2_2018.vec', binary=False)"
   ]
  },
  {
   "cell_type": "code",
   "execution_count": 101,
   "id": "be30d5b5",
   "metadata": {},
   "outputs": [
    {
     "data": {
      "text/plain": [
       "array([ 0.077049,  0.047464,  0.06009 , -0.074989,  0.044796, -0.001967,\n",
       "       -0.029693,  0.043408,  0.064917, -0.040833, -0.061425, -0.029607,\n",
       "       -0.029905,  0.064318, -0.165209, -0.048543,  0.094033,  0.098251,\n",
       "        0.120046,  0.023853,  0.016249, -0.015089, -0.05077 , -0.01809 ,\n",
       "       -0.064637, -0.039266, -0.022106, -0.019366,  0.016014, -0.051354,\n",
       "        0.046586, -0.024155,  0.062748,  0.000681,  0.05134 ,  0.049167,\n",
       "        0.005723, -0.072041, -0.049427, -0.094474, -0.075772,  0.087238,\n",
       "       -0.023207, -0.043947, -0.005014,  0.048574, -0.008169, -0.016334,\n",
       "       -0.006644,  0.026402,  0.046584, -0.040629,  0.008602,  0.047264,\n",
       "        0.00828 ,  0.089396, -0.030152, -0.011632,  0.016811,  0.081198,\n",
       "       -0.042167, -0.004215,  0.079515,  0.061092,  0.065421, -0.090715,\n",
       "       -0.07259 ,  0.061831,  0.036428,  0.024443,  0.040917,  0.043281,\n",
       "        0.050277,  0.02531 ,  0.040681, -0.073628,  0.032021, -0.020285,\n",
       "       -0.001634, -0.073642, -0.092016, -0.010889,  0.014986,  0.083961,\n",
       "       -0.037115,  0.073271,  0.003354, -0.020166, -0.011193, -0.153913,\n",
       "        0.077515,  0.048687, -0.10863 ,  0.080093,  0.04904 , -0.015638,\n",
       "       -0.011593,  0.023486, -0.054422, -0.019362,  0.060243,  0.004193,\n",
       "        0.055972,  0.02419 , -0.035099, -0.037713, -0.05796 ,  0.044854,\n",
       "       -0.009581,  0.006213,  0.091667,  0.035143, -0.058419, -0.077955,\n",
       "        0.010467, -0.045589,  0.067338,  0.049547,  0.028813, -0.053835,\n",
       "       -0.040958, -0.059349, -0.051708, -0.01979 ,  0.060717, -0.064267,\n",
       "        0.000969,  0.010098,  0.007866,  0.037205, -0.035548,  0.031603,\n",
       "       -0.101909,  0.016248,  0.004228, -0.029127, -0.102244,  0.03937 ,\n",
       "       -0.011886, -0.048208, -0.040977,  0.017401,  0.041162, -0.030116,\n",
       "       -0.074647, -0.031459, -0.001456,  0.049032,  0.099571, -0.049697,\n",
       "        0.000542, -0.01695 ,  0.043604, -0.017133, -0.003281, -0.002051,\n",
       "       -0.068998,  0.010618, -0.051367, -0.080354,  0.016654,  0.029355,\n",
       "       -0.044999, -0.08382 , -0.067588,  0.007303,  0.018462,  0.047438,\n",
       "       -0.132176,  0.01172 ,  0.030804, -0.001147, -0.097051, -0.013091,\n",
       "       -0.051683,  0.107505,  0.001299,  0.081465, -0.106922, -0.02635 ,\n",
       "       -0.060651, -0.015804, -0.090327,  0.01674 , -0.019938,  0.053004,\n",
       "        0.0802  ,  0.075273, -0.011325,  0.104902,  0.118813,  0.014863,\n",
       "       -0.031739, -0.036848,  0.007057, -0.017402,  0.023001,  0.044251,\n",
       "        0.004787,  0.08071 , -0.158897, -0.081702, -0.040502, -0.022916,\n",
       "        0.022795, -0.027717,  0.046067,  0.029809, -0.050003, -0.033388,\n",
       "       -0.007351, -0.045664, -0.089034, -0.038753, -0.00454 , -0.072393,\n",
       "        0.023547,  0.028502, -0.019941,  0.036289, -0.054831,  0.03609 ,\n",
       "        0.117796, -0.036494,  0.054533,  0.010218, -0.05965 , -0.041402,\n",
       "        0.061536,  0.061666, -0.086688,  0.004461, -0.065211, -0.196897,\n",
       "       -0.064875, -0.000384,  0.00934 , -0.018347,  0.016305,  0.00207 ,\n",
       "        0.025788,  0.025661, -0.024847,  0.001329,  0.017222,  0.023123,\n",
       "        0.020163,  0.037764,  0.097089, -0.076315,  0.062176,  0.074422,\n",
       "       -0.104194, -0.054039,  0.004654,  0.034065,  0.054541,  0.022959,\n",
       "        0.040029,  0.037736, -0.041228, -0.077804,  0.103979, -0.055198,\n",
       "        0.032196,  0.020032,  0.055866, -0.03335 ,  0.064627, -0.117019,\n",
       "       -0.019819, -0.091563,  0.016277, -0.158784,  0.090109,  0.052189,\n",
       "        0.026157,  0.043388,  0.09961 ,  0.040325,  0.01243 ,  0.062557,\n",
       "       -0.112546, -0.045751,  0.071704, -0.02192 , -0.028775, -0.010755,\n",
       "       -0.102415,  0.036397, -0.141866, -0.00391 ,  0.008874, -0.055684,\n",
       "       -0.062073, -0.0665  , -0.090125,  0.026231,  0.029068, -0.121298],\n",
       "      dtype=float32)"
      ]
     },
     "execution_count": 101,
     "metadata": {},
     "output_type": "execute_result"
    }
   ],
   "source": [
    "model['март_NOUN']"
   ]
  },
  {
   "cell_type": "code",
   "execution_count": 102,
   "id": "bb122eda",
   "metadata": {},
   "outputs": [
    {
     "data": {
      "text/plain": [
       "[('март_NOUN', 0.9506457448005676),\n",
       " ('ноябрь_NOUN', 0.9416142702102661),\n",
       " ('декабрь_NOUN', 0.9391435980796814),\n",
       " ('январь_NOUN', 0.9299512505531311),\n",
       " ('апрель_NOUN', 0.9271649718284607),\n",
       " ('октябрь_NOUN', 0.920407772064209),\n",
       " ('сентябрь_NOUN', 0.9028568863868713),\n",
       " ('май_NOUN', 0.8944932818412781),\n",
       " ('июнь_NOUN', 0.8860151767730713),\n",
       " ('марта_NOUN', 0.8700184226036072)]"
      ]
     },
     "execution_count": 102,
     "metadata": {},
     "output_type": "execute_result"
    }
   ],
   "source": [
    "model.most_similar('февраль_NOUN')"
   ]
  },
  {
   "cell_type": "markdown",
   "id": "fd8f36dd",
   "metadata": {},
   "source": [
    "Слова в модели хранятся в нормализованном виде с прибавленной частью речи. Для пребобработки там использовался udpipe, вызывать его в тетрадке неудобно, поэтому можно заменить его на майстем (по большей части все будет совпадать). На сайте есть ссылка на файл с соответствием тэгов майстема тэгам Udpipe (https://github.com/akutuzov/universal-pos-tags/blob/4653e8a9154e93fe2f417c7fdb7a357b7d6ce333/ru-rnc.map)"
   ]
  },
  {
   "cell_type": "code",
   "execution_count": 103,
   "id": "2d5dcca5",
   "metadata": {},
   "outputs": [],
   "source": [
    "mapping = {}\n",
    "\n",
    "for line in open('./ru-rnc.map'):\n",
    "    ms, ud = line.strip('\\n').split()\n",
    "    mapping[ms] = ud"
   ]
  },
  {
   "cell_type": "code",
   "execution_count": 104,
   "id": "a590f675",
   "metadata": {},
   "outputs": [
    {
     "data": {
      "text/plain": [
       "{'A': 'ADJ',\n",
       " 'ADV': 'ADV',\n",
       " 'ADVPRO': 'ADV',\n",
       " 'ANUM': 'ADJ',\n",
       " 'APRO': 'DET',\n",
       " 'COM': 'ADJ',\n",
       " 'CONJ': 'SCONJ',\n",
       " 'INTJ': 'INTJ',\n",
       " 'NONLEX': 'X',\n",
       " 'NUM': 'NUM',\n",
       " 'PART': 'PART',\n",
       " 'PR': 'ADP',\n",
       " 'S': 'NOUN',\n",
       " 'SPRO': 'PRON',\n",
       " 'UNKN': 'X',\n",
       " 'V': 'VERB'}"
      ]
     },
     "execution_count": 104,
     "metadata": {},
     "output_type": "execute_result"
    }
   ],
   "source": [
    "mapping"
   ]
  },
  {
   "cell_type": "code",
   "execution_count": 105,
   "id": "67203ef9",
   "metadata": {},
   "outputs": [],
   "source": [
    "# !pip install pymystem3"
   ]
  },
  {
   "cell_type": "code",
   "execution_count": 106,
   "id": "d09b0994",
   "metadata": {},
   "outputs": [],
   "source": [
    "from pymystem3 import Mystem\n",
    "m = Mystem()"
   ]
  },
  {
   "cell_type": "code",
   "execution_count": 107,
   "id": "a189810b",
   "metadata": {},
   "outputs": [],
   "source": [
    "\n",
    "def normalize_mystem(text):\n",
    "    tokens = []\n",
    "    norm_words = m.analyze(text)\n",
    "    for norm_word in norm_words:\n",
    "        if 'analysis' not in norm_word:\n",
    "            continue\n",
    "            \n",
    "        if not len(norm_word['analysis']):\n",
    "            lemma = norm_word['text']\n",
    "            pos = 'UNKN'\n",
    "        else:\n",
    "            lemma = norm_word[\"analysis\"][0][\"lex\"].lower().strip()\n",
    "            pos = norm_word[\"analysis\"][0][\"gr\"].split(',')[0]\n",
    "            pos = pos.split('=')[0].strip()\n",
    "        pos = mapping[pos]\n",
    "        tokens.append(lemma+'_'+pos)\n",
    "\n",
    "    return tokens\n"
   ]
  },
  {
   "cell_type": "markdown",
   "id": "7c5490ed",
   "metadata": {},
   "source": [
    "Эту функцию можно применять к любому тексты и получать на выходе токены, по которым можно обращаться к модели напрямую."
   ]
  },
  {
   "cell_type": "code",
   "execution_count": 108,
   "id": "fd4cbd0e",
   "metadata": {},
   "outputs": [
    {
     "data": {
      "text/plain": [
       "['обучать_VERB',\n",
       " 'классификатор_NOUN',\n",
       " 'парафраз_NOUN',\n",
       " 'на_ADP',\n",
       " 'предобученный_ADJ',\n",
       " 'модель_NOUN',\n",
       " 'вы_PRON',\n",
       " 'нужно_ADV',\n",
       " 'быть_VERB',\n",
       " 'дома_ADV']"
      ]
     },
     "execution_count": 108,
     "metadata": {},
     "output_type": "execute_result"
    }
   ],
   "source": [
    "normalize_mystem('Обучить классификатор парафразов на предобученной модели вам нужно будет дома')"
   ]
  },
  {
   "cell_type": "code",
   "execution_count": 109,
   "id": "2e4f1b39",
   "metadata": {},
   "outputs": [
    {
     "data": {
      "text/plain": [
       "(300,)"
      ]
     },
     "execution_count": 109,
     "metadata": {},
     "output_type": "execute_result"
    }
   ],
   "source": [
    "model['обучать_VERB'].shape"
   ]
  },
  {
   "cell_type": "code",
   "execution_count": null,
   "id": "c94d61b3",
   "metadata": {},
   "outputs": [],
   "source": []
  },
  {
   "cell_type": "code",
   "execution_count": null,
   "id": "9295afc6",
   "metadata": {},
   "outputs": [],
   "source": []
  },
  {
   "cell_type": "code",
   "execution_count": null,
   "id": "7eb1ff00",
   "metadata": {},
   "outputs": [],
   "source": []
  },
  {
   "cell_type": "markdown",
   "id": "38dee586",
   "metadata": {},
   "source": [
    "## Использование для классификации"
   ]
  },
  {
   "cell_type": "markdown",
   "id": "65ecfe1f",
   "metadata": {},
   "source": [
    "До этого мы почти никак не оценивали качество эмбедингов, только смотрели на ближайшие по нескольким словам. На практике нужно всегда ориентироваться на задачу, которую нужно решить. Давайте возьмем датасет для классификации и обучим несколько моделей с использованием векторных представлений."
   ]
  },
  {
   "cell_type": "code",
   "execution_count": 110,
   "id": "df109f99",
   "metadata": {},
   "outputs": [],
   "source": [
    "data = pd.read_csv('labeled.csv')"
   ]
  },
  {
   "cell_type": "code",
   "execution_count": 111,
   "id": "f85b7d97",
   "metadata": {},
   "outputs": [],
   "source": [
    "data['norm_text'] = data.comment.apply(preprocess)"
   ]
  },
  {
   "cell_type": "code",
   "execution_count": 112,
   "id": "a9ae9e6f",
   "metadata": {},
   "outputs": [
    {
     "data": {
      "text/html": [
       "<div>\n",
       "<style scoped>\n",
       "    .dataframe tbody tr th:only-of-type {\n",
       "        vertical-align: middle;\n",
       "    }\n",
       "\n",
       "    .dataframe tbody tr th {\n",
       "        vertical-align: top;\n",
       "    }\n",
       "\n",
       "    .dataframe thead th {\n",
       "        text-align: right;\n",
       "    }\n",
       "</style>\n",
       "<table border=\"1\" class=\"dataframe\">\n",
       "  <thead>\n",
       "    <tr style=\"text-align: right;\">\n",
       "      <th></th>\n",
       "      <th>comment</th>\n",
       "      <th>toxic</th>\n",
       "      <th>norm_text</th>\n",
       "    </tr>\n",
       "  </thead>\n",
       "  <tbody>\n",
       "    <tr>\n",
       "      <th>0</th>\n",
       "      <td>Верблюдов-то за что? Дебилы, бл...\\n</td>\n",
       "      <td>1.0</td>\n",
       "      <td>[верблюдов-то, за, что, дебилы, бл]</td>\n",
       "    </tr>\n",
       "    <tr>\n",
       "      <th>1</th>\n",
       "      <td>Хохлы, это отдушина затюканого россиянина, мол...</td>\n",
       "      <td>1.0</td>\n",
       "      <td>[хохлы, это, отдушина, затюканого, россиянина,...</td>\n",
       "    </tr>\n",
       "    <tr>\n",
       "      <th>2</th>\n",
       "      <td>Собаке - собачья смерть\\n</td>\n",
       "      <td>1.0</td>\n",
       "      <td>[собаке, собачья, смерть]</td>\n",
       "    </tr>\n",
       "    <tr>\n",
       "      <th>3</th>\n",
       "      <td>Страницу обнови, дебил. Это тоже не оскорблени...</td>\n",
       "      <td>1.0</td>\n",
       "      <td>[страницу, обнови, дебил, это, тоже, не, оскор...</td>\n",
       "    </tr>\n",
       "    <tr>\n",
       "      <th>4</th>\n",
       "      <td>тебя не убедил 6-страничный пдф в том, что Скр...</td>\n",
       "      <td>1.0</td>\n",
       "      <td>[тебя, не, убедил, 6-страничный, пдф, в, том, ...</td>\n",
       "    </tr>\n",
       "    <tr>\n",
       "      <th>...</th>\n",
       "      <td>...</td>\n",
       "      <td>...</td>\n",
       "      <td>...</td>\n",
       "    </tr>\n",
       "    <tr>\n",
       "      <th>14407</th>\n",
       "      <td>Вонючий совковый скот прибежал и ноет. А вот и...</td>\n",
       "      <td>1.0</td>\n",
       "      <td>[вонючий, совковый, скот, прибежал, и, ноет, а...</td>\n",
       "    </tr>\n",
       "    <tr>\n",
       "      <th>14408</th>\n",
       "      <td>А кого любить? Гоблина тупорылого что-ли? Или ...</td>\n",
       "      <td>1.0</td>\n",
       "      <td>[а, кого, любить, гоблина, тупорылого, что-ли,...</td>\n",
       "    </tr>\n",
       "    <tr>\n",
       "      <th>14409</th>\n",
       "      <td>Посмотрел Утомленных солнцем 2. И оказалось, ч...</td>\n",
       "      <td>0.0</td>\n",
       "      <td>[посмотрел, утомленных, солнцем, 2, и, оказало...</td>\n",
       "    </tr>\n",
       "    <tr>\n",
       "      <th>14410</th>\n",
       "      <td>КРЫМОТРЕД НАРУШАЕТ ПРАВИЛА РАЗДЕЛА Т.К В НЕМ Н...</td>\n",
       "      <td>1.0</td>\n",
       "      <td>[крымотред, нарушает, правила, раздела, т.к, в...</td>\n",
       "    </tr>\n",
       "    <tr>\n",
       "      <th>14411</th>\n",
       "      <td>До сих пор пересматриваю его видео. Орамбо кст...</td>\n",
       "      <td>0.0</td>\n",
       "      <td>[до, сих, пор, пересматриваю, его, видео, орам...</td>\n",
       "    </tr>\n",
       "  </tbody>\n",
       "</table>\n",
       "<p>14412 rows × 3 columns</p>\n",
       "</div>"
      ],
      "text/plain": [
       "                                                 comment  toxic  \\\n",
       "0                   Верблюдов-то за что? Дебилы, бл...\\n    1.0   \n",
       "1      Хохлы, это отдушина затюканого россиянина, мол...    1.0   \n",
       "2                              Собаке - собачья смерть\\n    1.0   \n",
       "3      Страницу обнови, дебил. Это тоже не оскорблени...    1.0   \n",
       "4      тебя не убедил 6-страничный пдф в том, что Скр...    1.0   \n",
       "...                                                  ...    ...   \n",
       "14407  Вонючий совковый скот прибежал и ноет. А вот и...    1.0   \n",
       "14408  А кого любить? Гоблина тупорылого что-ли? Или ...    1.0   \n",
       "14409  Посмотрел Утомленных солнцем 2. И оказалось, ч...    0.0   \n",
       "14410  КРЫМОТРЕД НАРУШАЕТ ПРАВИЛА РАЗДЕЛА Т.К В НЕМ Н...    1.0   \n",
       "14411  До сих пор пересматриваю его видео. Орамбо кст...    0.0   \n",
       "\n",
       "                                               norm_text  \n",
       "0                    [верблюдов-то, за, что, дебилы, бл]  \n",
       "1      [хохлы, это, отдушина, затюканого, россиянина,...  \n",
       "2                              [собаке, собачья, смерть]  \n",
       "3      [страницу, обнови, дебил, это, тоже, не, оскор...  \n",
       "4      [тебя, не, убедил, 6-страничный, пдф, в, том, ...  \n",
       "...                                                  ...  \n",
       "14407  [вонючий, совковый, скот, прибежал, и, ноет, а...  \n",
       "14408  [а, кого, любить, гоблина, тупорылого, что-ли,...  \n",
       "14409  [посмотрел, утомленных, солнцем, 2, и, оказало...  \n",
       "14410  [крымотред, нарушает, правила, раздела, т.к, в...  \n",
       "14411  [до, сих, пор, пересматриваю, его, видео, орам...  \n",
       "\n",
       "[14412 rows x 3 columns]"
      ]
     },
     "execution_count": 112,
     "metadata": {},
     "output_type": "execute_result"
    }
   ],
   "source": [
    "data"
   ]
  },
  {
   "cell_type": "markdown",
   "id": "801380ad",
   "metadata": {},
   "source": [
    "Также как и в начале собираем словарь"
   ]
  },
  {
   "cell_type": "code",
   "execution_count": 113,
   "id": "5e6f3dac",
   "metadata": {},
   "outputs": [
    {
     "data": {
      "text/plain": [
       "7231"
      ]
     },
     "execution_count": 113,
     "metadata": {},
     "output_type": "execute_result"
    }
   ],
   "source": [
    "vocab = Counter()\n",
    "\n",
    "for text in data['norm_text']:\n",
    "    vocab.update(text)\n",
    "    \n",
    "filtered_vocab = set()\n",
    "\n",
    "for word in vocab:\n",
    "    if vocab[word] > 5:\n",
    "        filtered_vocab.add(word)\n",
    "\n",
    "len(filtered_vocab)"
   ]
  },
  {
   "cell_type": "code",
   "execution_count": 114,
   "id": "5600572a",
   "metadata": {},
   "outputs": [],
   "source": [
    "word2id = { 'PAD':0}\n",
    "\n",
    "for word in filtered_vocab:\n",
    "    word2id[word] = len(word2id)\n",
    "id2word = {i:word for word, i in word2id.items()}"
   ]
  },
  {
   "cell_type": "markdown",
   "id": "ce34a3b8",
   "metadata": {},
   "source": [
    "Переводим слова в индексы"
   ]
  },
  {
   "cell_type": "code",
   "execution_count": 115,
   "id": "de33c88c",
   "metadata": {},
   "outputs": [],
   "source": [
    "X = []\n",
    "\n",
    "for tokens in data['norm_text']:\n",
    "    ids = [word2id[token] for token in tokens if token in word2id]\n",
    "    X.append(ids)"
   ]
  },
  {
   "cell_type": "code",
   "execution_count": 116,
   "id": "ecbca663",
   "metadata": {},
   "outputs": [],
   "source": [
    "X = tf.keras.preprocessing.sequence.pad_sequences(X, maxlen=100)\n",
    "y = data.toxic.values"
   ]
  },
  {
   "cell_type": "markdown",
   "id": "5703e724",
   "metadata": {},
   "source": [
    "Разбиваем на трейн и тест"
   ]
  },
  {
   "cell_type": "code",
   "execution_count": 117,
   "id": "0997f420",
   "metadata": {},
   "outputs": [],
   "source": [
    "X_train, X_valid, y_train, y_valid = train_test_split(X, y, test_size=0.05)"
   ]
  },
  {
   "cell_type": "code",
   "execution_count": null,
   "id": "c169d9b6",
   "metadata": {},
   "outputs": [],
   "source": []
  },
  {
   "cell_type": "markdown",
   "id": "435e8ed5",
   "metadata": {},
   "source": [
    "Теперь мы можем уже обучать модель"
   ]
  },
  {
   "cell_type": "code",
   "execution_count": 118,
   "id": "90385246",
   "metadata": {},
   "outputs": [],
   "source": [
    "inputs = tf.keras.layers.Input(shape=(100,))\n",
    "\n",
    "embeddings = tf.keras.layers.Embedding(input_dim=len(word2id), output_dim=100)(inputs, )\n",
    "# embedding слой возвращает последовательность векторов\n",
    "# а нам нужно классифицировать сразу весь текст\n",
    "# стандартный подход в этом случае - усреднить единичные вектора в 1 вектор текста\n",
    "mean = tf.keras.layers.Lambda(lambda x: tf.keras.backend.mean(x,  axis=1))(embeddings)\n",
    "# к усредненному вектору мы уже применяем полносвязный слой, который вернет вероятность токсичности\n",
    "outputs = tf.keras.layers.Dense(1, activation='sigmoid')(mean)\n",
    "\n",
    "model = tf.keras.Model(inputs=inputs, outputs=outputs)\n",
    "optimizer = tf.keras.optimizers.Adam()\n",
    "model.compile(optimizer=optimizer,\n",
    "              loss='binary_crossentropy',\n",
    "              metrics=['accuracy'])\n"
   ]
  },
  {
   "cell_type": "code",
   "execution_count": 119,
   "id": "84de337e",
   "metadata": {},
   "outputs": [
    {
     "name": "stdout",
     "output_type": "stream",
     "text": [
      "Epoch 1/10\n",
      "428/428 [==============================] - 2s 3ms/step - loss: 0.6200 - accuracy: 0.6657 - val_loss: 0.5884 - val_accuracy: 0.6560\n",
      "Epoch 2/10\n",
      "428/428 [==============================] - 1s 3ms/step - loss: 0.5472 - accuracy: 0.6962 - val_loss: 0.5134 - val_accuracy: 0.7184\n",
      "Epoch 3/10\n",
      "428/428 [==============================] - 1s 3ms/step - loss: 0.4632 - accuracy: 0.7868 - val_loss: 0.4434 - val_accuracy: 0.7864\n",
      "Epoch 4/10\n",
      "428/428 [==============================] - 1s 3ms/step - loss: 0.3938 - accuracy: 0.8428 - val_loss: 0.3975 - val_accuracy: 0.8405\n",
      "Epoch 5/10\n",
      "428/428 [==============================] - 1s 3ms/step - loss: 0.3465 - accuracy: 0.8704 - val_loss: 0.3717 - val_accuracy: 0.8433\n",
      "Epoch 6/10\n",
      "428/428 [==============================] - 1s 3ms/step - loss: 0.3116 - accuracy: 0.8868 - val_loss: 0.3561 - val_accuracy: 0.8627\n",
      "Epoch 7/10\n",
      "428/428 [==============================] - 2s 4ms/step - loss: 0.2854 - accuracy: 0.8940 - val_loss: 0.3472 - val_accuracy: 0.8613\n",
      "Epoch 8/10\n",
      "428/428 [==============================] - 1s 3ms/step - loss: 0.2621 - accuracy: 0.9046 - val_loss: 0.3421 - val_accuracy: 0.8627\n",
      "Epoch 9/10\n",
      "428/428 [==============================] - 1s 3ms/step - loss: 0.2436 - accuracy: 0.9097 - val_loss: 0.3403 - val_accuracy: 0.8669\n",
      "Epoch 10/10\n",
      "428/428 [==============================] - 1s 3ms/step - loss: 0.2269 - accuracy: 0.9149 - val_loss: 0.3401 - val_accuracy: 0.8599\n"
     ]
    },
    {
     "data": {
      "text/plain": [
       "<keras.callbacks.History at 0x3095f2730>"
      ]
     },
     "execution_count": 119,
     "metadata": {},
     "output_type": "execute_result"
    }
   ],
   "source": [
    "model.fit(X_train, y_train, \n",
    "          validation_data=(X_valid, y_valid),\n",
    "          batch_size=32,\n",
    "         epochs=10)"
   ]
  },
  {
   "cell_type": "markdown",
   "id": "a2d4fc1c",
   "metadata": {},
   "source": [
    "В этой модели векторные представления обучаются с нуля. Можно подставить в Embedding слой уже готовые вектора из word2vec/fastext"
   ]
  },
  {
   "cell_type": "markdown",
   "id": "c346a1a4",
   "metadata": {},
   "source": [
    "Обучаем fastext. Можно обучать на размеченных данных, можно использовать другой более объемный корпус (например, вики, который мы использовали выше), а можно и на том и на другом"
   ]
  },
  {
   "cell_type": "code",
   "execution_count": 120,
   "id": "b664e3f4",
   "metadata": {},
   "outputs": [
    {
     "name": "stdout",
     "output_type": "stream",
     "text": [
      "CPU times: user 9min 30s, sys: 819 ms, total: 9min 31s\n",
      "Wall time: 3min 17s\n"
     ]
    }
   ],
   "source": [
    "%%time\n",
    "ft = gensim.models.FastText(texts + data['norm_text'].values.tolist(), window=10, epochs=10)\n"
   ]
  },
  {
   "cell_type": "markdown",
   "id": "86e45c8d",
   "metadata": {},
   "source": [
    "Теперь нам нужно сделать матрицу с векторами. Индексы строчек в этой матрице должны совпадать с индексами слов в словаре."
   ]
  },
  {
   "cell_type": "code",
   "execution_count": 121,
   "id": "098485ca",
   "metadata": {},
   "outputs": [],
   "source": [
    "weights = np.zeros((len(word2id), 100))\n",
    "\n",
    "for word, i in word2id.items():\n",
    "    # вектор паддинга оставим нулевым\n",
    "    if word == 'PAD':\n",
    "        continue\n",
    "\n",
    "    try:\n",
    "        weights[i] = ft.wv[word]\n",
    "    \n",
    "    \n",
    "    except KeyError:\n",
    "        # для слов, которых нет в модели тоже возьмем какой-то  рандомный вектор\n",
    "        continue\n",
    "        weights[i] = ft.wv['опрагпллирао']"
   ]
  },
  {
   "cell_type": "code",
   "execution_count": 122,
   "id": "e703d96d",
   "metadata": {},
   "outputs": [],
   "source": [
    "\n",
    "\n",
    "inputs = tf.keras.layers.Input(shape=(100,))\n",
    "\n",
    "# передаем матрицу в эмбединг слой\n",
    "# указываем параметр trainable=False, чтобы вектора не обучались\n",
    "# Пояснение: кажется, что обучение векторов отключать не стоит, так как модель должна взять готовые \n",
    "# эмбединги и подогнать их к нашей задаче. На практитке это однако не работает - эмбединги просто \n",
    "# # обучатся заново\n",
    "embeddings = tf.keras.layers.Embedding(input_dim=len(word2id), output_dim=100, \n",
    "                                       trainable=False,\n",
    "                                       weights=[weights])(inputs, )\n",
    "mean = tf.keras.layers.Lambda(lambda x: tf.keras.backend.mean(x,  axis=1))(embeddings)\n",
    "\n",
    "outputs = tf.keras.layers.Dense(1, activation='sigmoid')(mean)\n",
    "\n",
    "model = tf.keras.Model(inputs=inputs, outputs=outputs)\n",
    "optimizer = tf.keras.optimizers.Adam()\n",
    "model.compile(optimizer=optimizer,\n",
    "              loss='binary_crossentropy',\n",
    "              metrics=['accuracy'])\n"
   ]
  },
  {
   "cell_type": "markdown",
   "id": "fa8459b5",
   "metadata": {},
   "source": [
    "Так как слой с эмбедингами не обучается, вся модель обучается сильно быстрее"
   ]
  },
  {
   "cell_type": "code",
   "execution_count": 123,
   "id": "0e7f4630",
   "metadata": {
    "scrolled": true
   },
   "outputs": [
    {
     "name": "stdout",
     "output_type": "stream",
     "text": [
      "Epoch 1/30\n",
      "428/428 [==============================] - 2s 3ms/step - loss: 0.6112 - accuracy: 0.6591 - val_loss: 0.5827 - val_accuracy: 0.6630\n",
      "Epoch 2/30\n",
      "428/428 [==============================] - 1s 3ms/step - loss: 0.5607 - accuracy: 0.6928 - val_loss: 0.5400 - val_accuracy: 0.6879\n",
      "Epoch 3/30\n",
      "428/428 [==============================] - 1s 3ms/step - loss: 0.5248 - accuracy: 0.7297 - val_loss: 0.5043 - val_accuracy: 0.7448\n",
      "Epoch 4/30\n",
      "428/428 [==============================] - 1s 3ms/step - loss: 0.4926 - accuracy: 0.7639 - val_loss: 0.4734 - val_accuracy: 0.7836\n",
      "Epoch 5/30\n",
      "428/428 [==============================] - 1s 3ms/step - loss: 0.4638 - accuracy: 0.7879 - val_loss: 0.4479 - val_accuracy: 0.7933\n",
      "Epoch 6/30\n",
      "428/428 [==============================] - 1s 3ms/step - loss: 0.4372 - accuracy: 0.8075 - val_loss: 0.4268 - val_accuracy: 0.8280\n",
      "Epoch 7/30\n",
      "428/428 [==============================] - 1s 3ms/step - loss: 0.4142 - accuracy: 0.8265 - val_loss: 0.4083 - val_accuracy: 0.8322\n",
      "Epoch 8/30\n",
      "428/428 [==============================] - 1s 3ms/step - loss: 0.3934 - accuracy: 0.8381 - val_loss: 0.3962 - val_accuracy: 0.8100\n",
      "Epoch 9/30\n",
      "428/428 [==============================] - 1s 3ms/step - loss: 0.3744 - accuracy: 0.8507 - val_loss: 0.3807 - val_accuracy: 0.8474\n",
      "Epoch 10/30\n",
      "428/428 [==============================] - 1s 3ms/step - loss: 0.3572 - accuracy: 0.8603 - val_loss: 0.3693 - val_accuracy: 0.8585\n",
      "Epoch 11/30\n",
      "428/428 [==============================] - 1s 3ms/step - loss: 0.3419 - accuracy: 0.8690 - val_loss: 0.3633 - val_accuracy: 0.8391\n",
      "Epoch 12/30\n",
      "428/428 [==============================] - 1s 3ms/step - loss: 0.3271 - accuracy: 0.8763 - val_loss: 0.3534 - val_accuracy: 0.8447\n",
      "Epoch 13/30\n",
      "428/428 [==============================] - 1s 3ms/step - loss: 0.3143 - accuracy: 0.8804 - val_loss: 0.3475 - val_accuracy: 0.8682\n",
      "Epoch 14/30\n",
      "428/428 [==============================] - 1s 3ms/step - loss: 0.3017 - accuracy: 0.8864 - val_loss: 0.3418 - val_accuracy: 0.8724\n",
      "Epoch 15/30\n",
      "428/428 [==============================] - 1s 3ms/step - loss: 0.2904 - accuracy: 0.8898 - val_loss: 0.3381 - val_accuracy: 0.8710\n",
      "Epoch 16/30\n",
      "428/428 [==============================] - 1s 3ms/step - loss: 0.2795 - accuracy: 0.8923 - val_loss: 0.3354 - val_accuracy: 0.8779\n",
      "Epoch 17/30\n",
      "428/428 [==============================] - 1s 3ms/step - loss: 0.2698 - accuracy: 0.8977 - val_loss: 0.3360 - val_accuracy: 0.8682\n",
      "Epoch 18/30\n",
      "428/428 [==============================] - 1s 3ms/step - loss: 0.2602 - accuracy: 0.9040 - val_loss: 0.3336 - val_accuracy: 0.8710\n",
      "Epoch 19/30\n",
      "428/428 [==============================] - 1s 3ms/step - loss: 0.2513 - accuracy: 0.9060 - val_loss: 0.3395 - val_accuracy: 0.8433\n",
      "Epoch 20/30\n",
      "428/428 [==============================] - 1s 3ms/step - loss: 0.2430 - accuracy: 0.9086 - val_loss: 0.3340 - val_accuracy: 0.8696\n",
      "Epoch 21/30\n",
      "428/428 [==============================] - 1s 3ms/step - loss: 0.2358 - accuracy: 0.9121 - val_loss: 0.3315 - val_accuracy: 0.8696\n",
      "Epoch 22/30\n",
      "428/428 [==============================] - 1s 3ms/step - loss: 0.2281 - accuracy: 0.9148 - val_loss: 0.3331 - val_accuracy: 0.8752\n",
      "Epoch 23/30\n",
      "428/428 [==============================] - 1s 3ms/step - loss: 0.2209 - accuracy: 0.9178 - val_loss: 0.3442 - val_accuracy: 0.8571\n",
      "Epoch 24/30\n",
      "428/428 [==============================] - 1s 3ms/step - loss: 0.2146 - accuracy: 0.9176 - val_loss: 0.3362 - val_accuracy: 0.8669\n",
      "Epoch 25/30\n",
      "428/428 [==============================] - 1s 3ms/step - loss: 0.2084 - accuracy: 0.9229 - val_loss: 0.3388 - val_accuracy: 0.8682\n",
      "Epoch 26/30\n",
      "428/428 [==============================] - 1s 3ms/step - loss: 0.2022 - accuracy: 0.9246 - val_loss: 0.3387 - val_accuracy: 0.8710\n",
      "Epoch 27/30\n",
      "428/428 [==============================] - 1s 3ms/step - loss: 0.1964 - accuracy: 0.9251 - val_loss: 0.3408 - val_accuracy: 0.8669\n",
      "Epoch 28/30\n",
      "428/428 [==============================] - 1s 3ms/step - loss: 0.1913 - accuracy: 0.9295 - val_loss: 0.3436 - val_accuracy: 0.8627\n",
      "Epoch 29/30\n",
      "428/428 [==============================] - 1s 3ms/step - loss: 0.1860 - accuracy: 0.9304 - val_loss: 0.3464 - val_accuracy: 0.8655\n",
      "Epoch 30/30\n",
      "428/428 [==============================] - 1s 3ms/step - loss: 0.1808 - accuracy: 0.9318 - val_loss: 0.3531 - val_accuracy: 0.8669\n"
     ]
    },
    {
     "data": {
      "text/plain": [
       "<keras.callbacks.History at 0x2eee6bd60>"
      ]
     },
     "execution_count": 123,
     "metadata": {},
     "output_type": "execute_result"
    }
   ],
   "source": [
    "model.fit(X_train, y_train, \n",
    "          validation_data=(X_valid, y_valid),\n",
    "          batch_size=32,\n",
    "         epochs=30)"
   ]
  },
  {
   "cell_type": "markdown",
   "id": "ba5d9d51",
   "metadata": {},
   "source": [
    "Качество получается хуже, но скорее всего это из-за того, что обучающих данных слишком мало для fastext'а"
   ]
  },
  {
   "cell_type": "code",
   "execution_count": 124,
   "id": "afaaac4c",
   "metadata": {},
   "outputs": [
    {
     "name": "stdout",
     "output_type": "stream",
     "text": [
      "dict_keys(['loss', 'accuracy', 'val_loss', 'val_accuracy'])\n"
     ]
    },
    {
     "data": {
      "image/png": "[encoded data removed]",
      "text/plain": [
       "<Figure size 640x480 with 1 Axes>"
      ]
     },
     "metadata": {},
     "output_type": "display_data"
    }
   ],
   "source": [
    "print(model.history.history.keys())\n",
    "# summarize history for accuracy\n",
    "plt.plot(model.history.history['accuracy'])\n",
    "plt.plot(model.history.history['val_accuracy'])\n",
    "plt.title('model accuracy')\n",
    "plt.ylabel('accuracy')\n",
    "plt.xlabel('epoch')\n",
    "plt.legend(['train', 'val'], loc='upper left')\n",
    "plt.show()"
   ]
  },
  {
   "cell_type": "code",
   "execution_count": null,
   "id": "5d437814",
   "metadata": {},
   "outputs": [],
   "source": []
  },
  {
   "cell_type": "code",
   "execution_count": null,
   "id": "a58b5876",
   "metadata": {},
   "outputs": [],
   "source": []
  },
  {
   "cell_type": "code",
   "execution_count": null,
   "id": "274fbc9d",
   "metadata": {},
   "outputs": [],
   "source": []
  }
 ],
 "metadata": {
  "kernelspec": {
   "display_name": "Python 3 (ipykernel)",
   "language": "python",
   "name": "python3"
  },
  "language_info": {
   "codemirror_mode": {
    "name": "ipython",
    "version": 3
   },
   "file_extension": ".py",
   "mimetype": "text/x-python",
   "name": "python",
   "nbconvert_exporter": "python",
   "pygments_lexer": "ipython3",
   "version": "3.9.16"
  }
 },
 "nbformat": 4,
 "nbformat_minor": 5
}
