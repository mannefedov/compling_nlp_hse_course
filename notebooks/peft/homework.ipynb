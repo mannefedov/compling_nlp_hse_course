{
 "cells": [
  {
   "cell_type": "markdown",
   "id": "e14be5b3",
   "metadata": {},
   "source": [
    "## Задание 1. (10 баллов)\n",
    "\n",
    "Дообучите языковую модель на датасете инструкций, используя LoRA. Проверьте, что дообученная модель отличается от изначальной - сгенерируйте продолжения для одних и тех же промптов и сравните результаты.\n",
    "\n",
    "Вы можете взять за основу код семинара PEFT, изменив датасет цитат на датасет инструкций (можно просто скопировать из семинара про General_instruct_fine-tuning). \n",
    "Можно использовать alpaca_dataset, датасет Dolly 2 или переведенный датасет (или все вместе). \n",
    "Важно использовать модель с большим количеством параметров (относительно семинара по General instruct fine-tuning). \n",
    "Размер модели должен быть как минимум 3 млрд параметров.  \n",
    "**Нужно использовать модель, которую мы не разбирали на семинаре (OPT-2.7b, OPT-6.7b). Найдите новую модель на huggingface hub.**\n",
    "\n"
   ]
  },
  {
   "cell_type": "code",
   "execution_count": null,
   "id": "14a624a4",
   "metadata": {},
   "outputs": [],
   "source": []
  }
 ],
 "metadata": {
  "kernelspec": {
   "display_name": "Python 3 (ipykernel)",
   "language": "python",
   "name": "python3"
  },
  "language_info": {
   "codemirror_mode": {
    "name": "ipython",
    "version": 3
   },
   "file_extension": ".py",
   "mimetype": "text/x-python",
   "name": "python",
   "nbconvert_exporter": "python",
   "pygments_lexer": "ipython3",
   "version": "3.9.16"
  }
 },
 "nbformat": 4,
 "nbformat_minor": 5
}
